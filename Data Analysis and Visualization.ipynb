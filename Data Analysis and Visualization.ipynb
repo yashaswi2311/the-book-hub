{
 "cells": [
  {
   "cell_type": "code",
   "execution_count": 8,
   "metadata": {},
   "outputs": [],
   "source": [
    "import numpy as np # linear algebra\n",
    "import pandas as pd # data processing, CSV file I/O (e.g. pd.read_csv)"
   ]
  },
  {
   "cell_type": "code",
   "execution_count": 2,
   "metadata": {},
   "outputs": [
    {
     "name": "stdout",
     "output_type": "stream",
     "text": [
      "Collecting chart_studio\n",
      "  Using cached https://files.pythonhosted.org/packages/ca/ce/330794a6b6ca4b9182c38fc69dd2a9cbff60fd49421cb8648ee5fee352dc/chart_studio-1.1.0-py3-none-any.whl\n",
      "Requirement already satisfied: requests in c:\\users\\yasha\\anaconda3\\lib\\site-packages (from chart_studio) (2.22.0)\n",
      "Requirement already satisfied: retrying>=1.3.3 in c:\\users\\yasha\\anaconda3\\lib\\site-packages (from chart_studio) (1.3.3)\n",
      "Requirement already satisfied: plotly in c:\\users\\yasha\\anaconda3\\lib\\site-packages (from chart_studio) (4.11.0)\n",
      "Requirement already satisfied: six in c:\\users\\yasha\\anaconda3\\lib\\site-packages (from chart_studio) (1.12.0)\n",
      "Requirement already satisfied: idna<2.9,>=2.5 in c:\\users\\yasha\\anaconda3\\lib\\site-packages (from requests->chart_studio) (2.8)\n",
      "Requirement already satisfied: chardet<3.1.0,>=3.0.2 in c:\\users\\yasha\\anaconda3\\lib\\site-packages (from requests->chart_studio) (3.0.4)\n",
      "Requirement already satisfied: certifi>=2017.4.17 in c:\\users\\yasha\\anaconda3\\lib\\site-packages (from requests->chart_studio) (2020.12.5)\n",
      "Requirement already satisfied: urllib3!=1.25.0,!=1.25.1,<1.26,>=1.21.1 in c:\\users\\yasha\\anaconda3\\lib\\site-packages (from requests->chart_studio) (1.24.2)\n",
      "Installing collected packages: chart-studio\n",
      "Successfully installed chart-studio-1.1.0\n",
      "Note: you may need to restart the kernel to use updated packages.\n"
     ]
    }
   ],
   "source": [
    "pip install chart_studio"
   ]
  },
  {
   "cell_type": "code",
   "execution_count": 3,
   "metadata": {},
   "outputs": [],
   "source": [
    "import chart_studio\n",
    "username = 'yashaswi2092'\n",
    "api_key = 'HLkkiB1rjck0XHn1KCyN'\n",
    "\n",
    "chart_studio.tools.set_credentials_file(username = username, api_key = api_key)"
   ]
  },
  {
   "cell_type": "code",
   "execution_count": 4,
   "metadata": {},
   "outputs": [],
   "source": [
    "import chart_studio.plotly as py\n",
    "import chart_studio.tools as tls"
   ]
  },
  {
   "cell_type": "code",
   "execution_count": 5,
   "metadata": {},
   "outputs": [
    {
     "data": {
      "text/html": [
       "        <script type=\"text/javascript\">\n",
       "        window.PlotlyConfig = {MathJaxConfig: 'local'};\n",
       "        if (window.MathJax) {MathJax.Hub.Config({SVG: {font: \"STIX-Web\"}});}\n",
       "        if (typeof require !== 'undefined') {\n",
       "        require.undef(\"plotly\");\n",
       "        requirejs.config({\n",
       "            paths: {\n",
       "                'plotly': ['https://cdn.plot.ly/plotly-latest.min']\n",
       "            }\n",
       "        });\n",
       "        require(['plotly'], function(Plotly) {\n",
       "            window._Plotly = Plotly;\n",
       "        });\n",
       "        }\n",
       "        </script>\n",
       "        "
      ]
     },
     "metadata": {},
     "output_type": "display_data"
    },
    {
     "data": {
      "text/html": [
       "        <script type=\"text/javascript\">\n",
       "        window.PlotlyConfig = {MathJaxConfig: 'local'};\n",
       "        if (window.MathJax) {MathJax.Hub.Config({SVG: {font: \"STIX-Web\"}});}\n",
       "        if (typeof require !== 'undefined') {\n",
       "        require.undef(\"plotly\");\n",
       "        requirejs.config({\n",
       "            paths: {\n",
       "                'plotly': ['https://cdn.plot.ly/plotly-latest.min']\n",
       "            }\n",
       "        });\n",
       "        require(['plotly'], function(Plotly) {\n",
       "            window._Plotly = Plotly;\n",
       "        });\n",
       "        }\n",
       "        </script>\n",
       "        "
      ]
     },
     "metadata": {},
     "output_type": "display_data"
    }
   ],
   "source": [
    "import plotly.graph_objs as go\n",
    "from plotly.offline import  init_notebook_mode, iplot\n",
    "init_notebook_mode(connected=True)\n",
    "import cufflinks as cf\n",
    "cf.go_offline()\n",
    "cf.set_config_file(offline=False, world_readable=True)\n",
    "import matplotlib.pyplot as plt\n",
    "from wordcloud import WordCloud,STOPWORDS\n",
    "import plotly_express as px\n",
    "%matplotlib inline"
   ]
  },
  {
   "cell_type": "code",
   "execution_count": 6,
   "metadata": {},
   "outputs": [],
   "source": [
    "import re\n",
    "import string\n",
    "from sklearn.metrics.pairwise import cosine_similarity\n",
    "from sklearn.feature_extraction.text import CountVectorizer, TfidfVectorizer\n",
    "from sklearn.metrics.pairwise import linear_kernel"
   ]
  },
  {
   "cell_type": "code",
   "execution_count": 9,
   "metadata": {},
   "outputs": [],
   "source": [
    "# Reading CSV Data\n",
    "\n",
    "\n",
    "# Goodreads Dataset\n",
    "books_data = pd.read_csv('data/books.csv',error_bad_lines = False)\n",
    "tags_data = pd.read_csv('data/book_tags.csv')\n",
    "ratings_data = pd.read_csv('data/ratings.csv')\n",
    "book_tags = pd.read_csv('data/tags.csv')\n",
    "\n",
    "# Bookcrossing Datasert\n",
    "user_cols = ['user_id', 'location', 'age']\n",
    "cross_users_data = pd.read_csv('data/BX-Users.csv', sep=';', names=user_cols, encoding='latin-1', low_memory=False, skiprows=1)\n",
    "book_cols = ['isbn', 'book_title' ,'book_author','year_of_publication', 'publisher', 'img_s', 'img_m', 'img_l']\n",
    "cross_books_data = pd.read_csv('data/BX_Books.csv', sep=';', names=book_cols, encoding='latin-1', low_memory=False, skiprows=1)\n",
    "rating_cols = ['user_id', 'isbn', 'rating']\n",
    "cross_ratings_data = pd.read_csv('data/BX-Book-Ratings.csv', sep=';', names=rating_cols, encoding='latin-1', low_memory=False, skiprows=1)"
   ]
  },
  {
   "cell_type": "code",
   "execution_count": 10,
   "metadata": {},
   "outputs": [
    {
     "data": {
      "text/html": [
       "<div>\n",
       "<style scoped>\n",
       "    .dataframe tbody tr th:only-of-type {\n",
       "        vertical-align: middle;\n",
       "    }\n",
       "\n",
       "    .dataframe tbody tr th {\n",
       "        vertical-align: top;\n",
       "    }\n",
       "\n",
       "    .dataframe thead th {\n",
       "        text-align: right;\n",
       "    }\n",
       "</style>\n",
       "<table border=\"1\" class=\"dataframe\">\n",
       "  <thead>\n",
       "    <tr style=\"text-align: right;\">\n",
       "      <th></th>\n",
       "      <th>book_id</th>\n",
       "      <th>goodreads_book_id</th>\n",
       "      <th>best_book_id</th>\n",
       "      <th>work_id</th>\n",
       "      <th>books_count</th>\n",
       "      <th>isbn</th>\n",
       "      <th>isbn13</th>\n",
       "      <th>authors</th>\n",
       "      <th>original_publication_year</th>\n",
       "      <th>original_title</th>\n",
       "      <th>...</th>\n",
       "      <th>ratings_count</th>\n",
       "      <th>work_ratings_count</th>\n",
       "      <th>work_text_reviews_count</th>\n",
       "      <th>ratings_1</th>\n",
       "      <th>ratings_2</th>\n",
       "      <th>ratings_3</th>\n",
       "      <th>ratings_4</th>\n",
       "      <th>ratings_5</th>\n",
       "      <th>image_url</th>\n",
       "      <th>small_image_url</th>\n",
       "    </tr>\n",
       "  </thead>\n",
       "  <tbody>\n",
       "    <tr>\n",
       "      <td>0</td>\n",
       "      <td>1</td>\n",
       "      <td>2767052</td>\n",
       "      <td>2767052</td>\n",
       "      <td>2792775</td>\n",
       "      <td>272</td>\n",
       "      <td>439023483</td>\n",
       "      <td>9.780439e+12</td>\n",
       "      <td>Suzanne Collins</td>\n",
       "      <td>2008.0</td>\n",
       "      <td>The Hunger Games</td>\n",
       "      <td>...</td>\n",
       "      <td>4780653</td>\n",
       "      <td>4942365</td>\n",
       "      <td>155254</td>\n",
       "      <td>66715</td>\n",
       "      <td>127936</td>\n",
       "      <td>560092</td>\n",
       "      <td>1481305</td>\n",
       "      <td>2706317</td>\n",
       "      <td>https://images.gr-assets.com/books/1447303603m...</td>\n",
       "      <td>https://images.gr-assets.com/books/1447303603s...</td>\n",
       "    </tr>\n",
       "    <tr>\n",
       "      <td>1</td>\n",
       "      <td>2</td>\n",
       "      <td>3</td>\n",
       "      <td>3</td>\n",
       "      <td>4640799</td>\n",
       "      <td>491</td>\n",
       "      <td>439554934</td>\n",
       "      <td>9.780440e+12</td>\n",
       "      <td>J.K. Rowling, Mary GrandPré</td>\n",
       "      <td>1997.0</td>\n",
       "      <td>Harry Potter and the Philosopher's Stone</td>\n",
       "      <td>...</td>\n",
       "      <td>4602479</td>\n",
       "      <td>4800065</td>\n",
       "      <td>75867</td>\n",
       "      <td>75504</td>\n",
       "      <td>101676</td>\n",
       "      <td>455024</td>\n",
       "      <td>1156318</td>\n",
       "      <td>3011543</td>\n",
       "      <td>https://images.gr-assets.com/books/1474154022m...</td>\n",
       "      <td>https://images.gr-assets.com/books/1474154022s...</td>\n",
       "    </tr>\n",
       "    <tr>\n",
       "      <td>2</td>\n",
       "      <td>3</td>\n",
       "      <td>41865</td>\n",
       "      <td>41865</td>\n",
       "      <td>3212258</td>\n",
       "      <td>226</td>\n",
       "      <td>316015849</td>\n",
       "      <td>9.780316e+12</td>\n",
       "      <td>Stephenie Meyer</td>\n",
       "      <td>2005.0</td>\n",
       "      <td>Twilight</td>\n",
       "      <td>...</td>\n",
       "      <td>3866839</td>\n",
       "      <td>3916824</td>\n",
       "      <td>95009</td>\n",
       "      <td>456191</td>\n",
       "      <td>436802</td>\n",
       "      <td>793319</td>\n",
       "      <td>875073</td>\n",
       "      <td>1355439</td>\n",
       "      <td>https://images.gr-assets.com/books/1361039443m...</td>\n",
       "      <td>https://images.gr-assets.com/books/1361039443s...</td>\n",
       "    </tr>\n",
       "    <tr>\n",
       "      <td>3</td>\n",
       "      <td>4</td>\n",
       "      <td>2657</td>\n",
       "      <td>2657</td>\n",
       "      <td>3275794</td>\n",
       "      <td>487</td>\n",
       "      <td>61120081</td>\n",
       "      <td>9.780061e+12</td>\n",
       "      <td>Harper Lee</td>\n",
       "      <td>1960.0</td>\n",
       "      <td>To Kill a Mockingbird</td>\n",
       "      <td>...</td>\n",
       "      <td>3198671</td>\n",
       "      <td>3340896</td>\n",
       "      <td>72586</td>\n",
       "      <td>60427</td>\n",
       "      <td>117415</td>\n",
       "      <td>446835</td>\n",
       "      <td>1001952</td>\n",
       "      <td>1714267</td>\n",
       "      <td>https://images.gr-assets.com/books/1361975680m...</td>\n",
       "      <td>https://images.gr-assets.com/books/1361975680s...</td>\n",
       "    </tr>\n",
       "    <tr>\n",
       "      <td>4</td>\n",
       "      <td>5</td>\n",
       "      <td>4671</td>\n",
       "      <td>4671</td>\n",
       "      <td>245494</td>\n",
       "      <td>1356</td>\n",
       "      <td>743273567</td>\n",
       "      <td>9.780743e+12</td>\n",
       "      <td>F. Scott Fitzgerald</td>\n",
       "      <td>1925.0</td>\n",
       "      <td>The Great Gatsby</td>\n",
       "      <td>...</td>\n",
       "      <td>2683664</td>\n",
       "      <td>2773745</td>\n",
       "      <td>51992</td>\n",
       "      <td>86236</td>\n",
       "      <td>197621</td>\n",
       "      <td>606158</td>\n",
       "      <td>936012</td>\n",
       "      <td>947718</td>\n",
       "      <td>https://images.gr-assets.com/books/1490528560m...</td>\n",
       "      <td>https://images.gr-assets.com/books/1490528560s...</td>\n",
       "    </tr>\n",
       "  </tbody>\n",
       "</table>\n",
       "<p>5 rows × 23 columns</p>\n",
       "</div>"
      ],
      "text/plain": [
       "   book_id  goodreads_book_id  best_book_id  work_id  books_count       isbn  \\\n",
       "0        1            2767052       2767052  2792775          272  439023483   \n",
       "1        2                  3             3  4640799          491  439554934   \n",
       "2        3              41865         41865  3212258          226  316015849   \n",
       "3        4               2657          2657  3275794          487   61120081   \n",
       "4        5               4671          4671   245494         1356  743273567   \n",
       "\n",
       "         isbn13                      authors  original_publication_year  \\\n",
       "0  9.780439e+12              Suzanne Collins                     2008.0   \n",
       "1  9.780440e+12  J.K. Rowling, Mary GrandPré                     1997.0   \n",
       "2  9.780316e+12              Stephenie Meyer                     2005.0   \n",
       "3  9.780061e+12                   Harper Lee                     1960.0   \n",
       "4  9.780743e+12          F. Scott Fitzgerald                     1925.0   \n",
       "\n",
       "                             original_title  ... ratings_count  \\\n",
       "0                          The Hunger Games  ...       4780653   \n",
       "1  Harry Potter and the Philosopher's Stone  ...       4602479   \n",
       "2                                  Twilight  ...       3866839   \n",
       "3                     To Kill a Mockingbird  ...       3198671   \n",
       "4                          The Great Gatsby  ...       2683664   \n",
       "\n",
       "  work_ratings_count  work_text_reviews_count  ratings_1  ratings_2  \\\n",
       "0            4942365                   155254      66715     127936   \n",
       "1            4800065                    75867      75504     101676   \n",
       "2            3916824                    95009     456191     436802   \n",
       "3            3340896                    72586      60427     117415   \n",
       "4            2773745                    51992      86236     197621   \n",
       "\n",
       "   ratings_3  ratings_4  ratings_5  \\\n",
       "0     560092    1481305    2706317   \n",
       "1     455024    1156318    3011543   \n",
       "2     793319     875073    1355439   \n",
       "3     446835    1001952    1714267   \n",
       "4     606158     936012     947718   \n",
       "\n",
       "                                           image_url  \\\n",
       "0  https://images.gr-assets.com/books/1447303603m...   \n",
       "1  https://images.gr-assets.com/books/1474154022m...   \n",
       "2  https://images.gr-assets.com/books/1361039443m...   \n",
       "3  https://images.gr-assets.com/books/1361975680m...   \n",
       "4  https://images.gr-assets.com/books/1490528560m...   \n",
       "\n",
       "                                     small_image_url  \n",
       "0  https://images.gr-assets.com/books/1447303603s...  \n",
       "1  https://images.gr-assets.com/books/1474154022s...  \n",
       "2  https://images.gr-assets.com/books/1361039443s...  \n",
       "3  https://images.gr-assets.com/books/1361975680s...  \n",
       "4  https://images.gr-assets.com/books/1490528560s...  \n",
       "\n",
       "[5 rows x 23 columns]"
      ]
     },
     "execution_count": 10,
     "metadata": {},
     "output_type": "execute_result"
    }
   ],
   "source": [
    "books_data.head()"
   ]
  },
  {
   "cell_type": "code",
   "execution_count": 11,
   "metadata": {},
   "outputs": [
    {
     "data": {
      "text/html": [
       "<div>\n",
       "<style scoped>\n",
       "    .dataframe tbody tr th:only-of-type {\n",
       "        vertical-align: middle;\n",
       "    }\n",
       "\n",
       "    .dataframe tbody tr th {\n",
       "        vertical-align: top;\n",
       "    }\n",
       "\n",
       "    .dataframe thead th {\n",
       "        text-align: right;\n",
       "    }\n",
       "</style>\n",
       "<table border=\"1\" class=\"dataframe\">\n",
       "  <thead>\n",
       "    <tr style=\"text-align: right;\">\n",
       "      <th></th>\n",
       "      <th>isbn</th>\n",
       "      <th>book_title</th>\n",
       "      <th>book_author</th>\n",
       "      <th>year_of_publication</th>\n",
       "      <th>publisher</th>\n",
       "      <th>img_s</th>\n",
       "      <th>img_m</th>\n",
       "      <th>img_l</th>\n",
       "    </tr>\n",
       "  </thead>\n",
       "  <tbody>\n",
       "    <tr>\n",
       "      <td>0</td>\n",
       "      <td>0195153448</td>\n",
       "      <td>Classical Mythology</td>\n",
       "      <td>Mark P. O. Morford</td>\n",
       "      <td>2002</td>\n",
       "      <td>Oxford University Press</td>\n",
       "      <td>http://images.amazon.com/images/P/0195153448.0...</td>\n",
       "      <td>http://images.amazon.com/images/P/0195153448.0...</td>\n",
       "      <td>http://images.amazon.com/images/P/0195153448.0...</td>\n",
       "    </tr>\n",
       "    <tr>\n",
       "      <td>1</td>\n",
       "      <td>0002005018</td>\n",
       "      <td>Clara Callan</td>\n",
       "      <td>Richard Bruce Wright</td>\n",
       "      <td>2001</td>\n",
       "      <td>HarperFlamingo Canada</td>\n",
       "      <td>http://images.amazon.com/images/P/0002005018.0...</td>\n",
       "      <td>http://images.amazon.com/images/P/0002005018.0...</td>\n",
       "      <td>http://images.amazon.com/images/P/0002005018.0...</td>\n",
       "    </tr>\n",
       "    <tr>\n",
       "      <td>2</td>\n",
       "      <td>0060973129</td>\n",
       "      <td>Decision in Normandy</td>\n",
       "      <td>Carlo D'Este</td>\n",
       "      <td>1991</td>\n",
       "      <td>HarperPerennial</td>\n",
       "      <td>http://images.amazon.com/images/P/0060973129.0...</td>\n",
       "      <td>http://images.amazon.com/images/P/0060973129.0...</td>\n",
       "      <td>http://images.amazon.com/images/P/0060973129.0...</td>\n",
       "    </tr>\n",
       "    <tr>\n",
       "      <td>3</td>\n",
       "      <td>0374157065</td>\n",
       "      <td>Flu: The Story of the Great Influenza Pandemic...</td>\n",
       "      <td>Gina Bari Kolata</td>\n",
       "      <td>1999</td>\n",
       "      <td>Farrar Straus Giroux</td>\n",
       "      <td>http://images.amazon.com/images/P/0374157065.0...</td>\n",
       "      <td>http://images.amazon.com/images/P/0374157065.0...</td>\n",
       "      <td>http://images.amazon.com/images/P/0374157065.0...</td>\n",
       "    </tr>\n",
       "    <tr>\n",
       "      <td>4</td>\n",
       "      <td>0393045218</td>\n",
       "      <td>The Mummies of Urumchi</td>\n",
       "      <td>E. J. W. Barber</td>\n",
       "      <td>1999</td>\n",
       "      <td>W. W. Norton &amp; Company</td>\n",
       "      <td>http://images.amazon.com/images/P/0393045218.0...</td>\n",
       "      <td>http://images.amazon.com/images/P/0393045218.0...</td>\n",
       "      <td>http://images.amazon.com/images/P/0393045218.0...</td>\n",
       "    </tr>\n",
       "  </tbody>\n",
       "</table>\n",
       "</div>"
      ],
      "text/plain": [
       "         isbn                                         book_title  \\\n",
       "0  0195153448                                Classical Mythology   \n",
       "1  0002005018                                       Clara Callan   \n",
       "2  0060973129                               Decision in Normandy   \n",
       "3  0374157065  Flu: The Story of the Great Influenza Pandemic...   \n",
       "4  0393045218                             The Mummies of Urumchi   \n",
       "\n",
       "            book_author  year_of_publication                publisher  \\\n",
       "0    Mark P. O. Morford                 2002  Oxford University Press   \n",
       "1  Richard Bruce Wright                 2001    HarperFlamingo Canada   \n",
       "2          Carlo D'Este                 1991          HarperPerennial   \n",
       "3      Gina Bari Kolata                 1999     Farrar Straus Giroux   \n",
       "4       E. J. W. Barber                 1999   W. W. Norton & Company   \n",
       "\n",
       "                                               img_s  \\\n",
       "0  http://images.amazon.com/images/P/0195153448.0...   \n",
       "1  http://images.amazon.com/images/P/0002005018.0...   \n",
       "2  http://images.amazon.com/images/P/0060973129.0...   \n",
       "3  http://images.amazon.com/images/P/0374157065.0...   \n",
       "4  http://images.amazon.com/images/P/0393045218.0...   \n",
       "\n",
       "                                               img_m  \\\n",
       "0  http://images.amazon.com/images/P/0195153448.0...   \n",
       "1  http://images.amazon.com/images/P/0002005018.0...   \n",
       "2  http://images.amazon.com/images/P/0060973129.0...   \n",
       "3  http://images.amazon.com/images/P/0374157065.0...   \n",
       "4  http://images.amazon.com/images/P/0393045218.0...   \n",
       "\n",
       "                                               img_l  \n",
       "0  http://images.amazon.com/images/P/0195153448.0...  \n",
       "1  http://images.amazon.com/images/P/0002005018.0...  \n",
       "2  http://images.amazon.com/images/P/0060973129.0...  \n",
       "3  http://images.amazon.com/images/P/0374157065.0...  \n",
       "4  http://images.amazon.com/images/P/0393045218.0...  "
      ]
     },
     "execution_count": 11,
     "metadata": {},
     "output_type": "execute_result"
    }
   ],
   "source": [
    "cross_books_data.head()"
   ]
  },
  {
   "cell_type": "code",
   "execution_count": 12,
   "metadata": {},
   "outputs": [],
   "source": [
    "books_data = books_data.dropna()\n",
    "cross_books_data = cross_books_data.drop(columns=['img_s', 'img_m', 'img_l'])"
   ]
  },
  {
   "cell_type": "code",
   "execution_count": 13,
   "metadata": {},
   "outputs": [],
   "source": [
    "ratings_data = ratings_data.sort_values(\"user_id\")\n",
    "ratings_data.drop_duplicates(subset =[\"user_id\",\"book_id\"], keep = False, inplace = True) \n",
    "books_data.drop_duplicates(subset='original_title',keep=False,inplace=True)\n",
    "book_tags.drop_duplicates(subset='tag_id',keep=False,inplace=True)\n",
    "tags_data.drop_duplicates(subset=['tag_id','goodreads_book_id'],keep=False,inplace=True)\n",
    "cross_ratings_data.drop_duplicates(subset =[\"user_id\",\"isbn\"], keep = False, inplace = True) \n",
    "cross_books_data.drop_duplicates(subset='book_title',keep=False,inplace=True)"
   ]
  },
  {
   "cell_type": "markdown",
   "metadata": {},
   "source": [
    "### Cleaning the text data"
   ]
  },
  {
   "cell_type": "code",
   "execution_count": 14,
   "metadata": {},
   "outputs": [],
   "source": [
    "def clean_text(text):\n",
    "    '''Make text lowercase, remove text in square brackets,remove links,remove punctuation\n",
    "    and remove words containing numbers.'''\n",
    "    text = str(text).lower()\n",
    "    text = re.sub('\\[.*?\\]', '', text)\n",
    "    text = re.sub('https?://\\S+|www\\.\\S+', '', text)\n",
    "    text = re.sub('<.*?>+', '', text)\n",
    "    text = re.sub('[%s]' % re.escape(string.punctuation), '', text)\n",
    "    text = re.sub('\\n', '', text)\n",
    "    text = re.sub('\\w*\\d\\w*', '', text)\n",
    "    return text"
   ]
  },
  {
   "cell_type": "code",
   "execution_count": 15,
   "metadata": {},
   "outputs": [
    {
     "data": {
      "text/html": [
       "<div>\n",
       "<style scoped>\n",
       "    .dataframe tbody tr th:only-of-type {\n",
       "        vertical-align: middle;\n",
       "    }\n",
       "\n",
       "    .dataframe tbody tr th {\n",
       "        vertical-align: top;\n",
       "    }\n",
       "\n",
       "    .dataframe thead th {\n",
       "        text-align: right;\n",
       "    }\n",
       "</style>\n",
       "<table border=\"1\" class=\"dataframe\">\n",
       "  <thead>\n",
       "    <tr style=\"text-align: right;\">\n",
       "      <th></th>\n",
       "      <th>isbn</th>\n",
       "      <th>book_title</th>\n",
       "      <th>book_author</th>\n",
       "      <th>year_of_publication</th>\n",
       "      <th>publisher</th>\n",
       "      <th>user_id</th>\n",
       "      <th>rating</th>\n",
       "    </tr>\n",
       "  </thead>\n",
       "  <tbody>\n",
       "    <tr>\n",
       "      <td>626418</td>\n",
       "      <td>0000913154</td>\n",
       "      <td>the way things work an illustrated encyclopedi...</td>\n",
       "      <td>C. van Amerongen (translator)</td>\n",
       "      <td>1967</td>\n",
       "      <td>Simon &amp; Schuster</td>\n",
       "      <td>171118</td>\n",
       "      <td>8</td>\n",
       "    </tr>\n",
       "    <tr>\n",
       "      <td>587195</td>\n",
       "      <td>0001010565</td>\n",
       "      <td>mogs christmas</td>\n",
       "      <td>Judith Kerr</td>\n",
       "      <td>1992</td>\n",
       "      <td>Collins</td>\n",
       "      <td>209516</td>\n",
       "      <td>0</td>\n",
       "    </tr>\n",
       "    <tr>\n",
       "      <td>587194</td>\n",
       "      <td>0001010565</td>\n",
       "      <td>mogs christmas</td>\n",
       "      <td>Judith Kerr</td>\n",
       "      <td>1992</td>\n",
       "      <td>Collins</td>\n",
       "      <td>86123</td>\n",
       "      <td>0</td>\n",
       "    </tr>\n",
       "    <tr>\n",
       "      <td>441049</td>\n",
       "      <td>0001046713</td>\n",
       "      <td>twopence to cross the mersey</td>\n",
       "      <td>Helen Forrester</td>\n",
       "      <td>1992</td>\n",
       "      <td>HarperCollins Publishers</td>\n",
       "      <td>196149</td>\n",
       "      <td>0</td>\n",
       "    </tr>\n",
       "    <tr>\n",
       "      <td>263949</td>\n",
       "      <td>000104687X</td>\n",
       "      <td>ts eliot reading the wasteland and other poems</td>\n",
       "      <td>T.S. Eliot</td>\n",
       "      <td>1993</td>\n",
       "      <td>HarperCollins Publishers</td>\n",
       "      <td>23902</td>\n",
       "      <td>6</td>\n",
       "    </tr>\n",
       "  </tbody>\n",
       "</table>\n",
       "</div>"
      ],
      "text/plain": [
       "              isbn                                         book_title  \\\n",
       "626418  0000913154  the way things work an illustrated encyclopedi...   \n",
       "587195  0001010565                                     mogs christmas   \n",
       "587194  0001010565                                     mogs christmas   \n",
       "441049  0001046713                       twopence to cross the mersey   \n",
       "263949  000104687X     ts eliot reading the wasteland and other poems   \n",
       "\n",
       "                          book_author  year_of_publication  \\\n",
       "626418  C. van Amerongen (translator)                 1967   \n",
       "587195                    Judith Kerr                 1992   \n",
       "587194                    Judith Kerr                 1992   \n",
       "441049                Helen Forrester                 1992   \n",
       "263949                     T.S. Eliot                 1993   \n",
       "\n",
       "                       publisher  user_id  rating  \n",
       "626418          Simon & Schuster   171118       8  \n",
       "587195                   Collins   209516       0  \n",
       "587194                   Collins    86123       0  \n",
       "441049  HarperCollins Publishers   196149       0  \n",
       "263949  HarperCollins Publishers    23902       6  "
      ]
     },
     "execution_count": 15,
     "metadata": {},
     "output_type": "execute_result"
    }
   ],
   "source": [
    "cross_books_data['book_title'] = cross_books_data['book_title'].apply(lambda x:clean_text(x))\n",
    "merge_data = pd.merge(cross_books_data, cross_ratings_data, on='isbn')\n",
    "merge_data =  merge_data.sort_values('isbn', ascending=True)\n",
    "merge_data.head()"
   ]
  },
  {
   "cell_type": "markdown",
   "metadata": {},
   "source": [
    "## Top Rated Books"
   ]
  },
  {
   "cell_type": "code",
   "execution_count": 28,
   "metadata": {},
   "outputs": [
    {
     "data": {
      "application/vnd.plotly.v1+json": {
       "config": {
        "plotlyServerURL": "https://plotly.com"
       },
       "data": [
        {
         "alignmentgroup": "True",
         "hovertemplate": "original_title=%{y}<br>average_rating=%{x}<extra></extra>",
         "legendgroup": "The Complete Calvin and Hobbes",
         "marker": {
          "color": "#636efa"
         },
         "name": "The Complete Calvin and Hobbes",
         "offsetgroup": "The Complete Calvin and Hobbes",
         "orientation": "h",
         "showlegend": true,
         "textposition": "auto",
         "type": "bar",
         "x": [
          4.82
         ],
         "xaxis": "x",
         "y": [
          "The Complete Calvin and Hobbes"
         ],
         "yaxis": "y"
        },
        {
         "alignmentgroup": "True",
         "hovertemplate": "original_title=%{y}<br>average_rating=%{x}<extra></extra>",
         "legendgroup": "Words of Radiance",
         "marker": {
          "color": "#EF553B"
         },
         "name": "Words of Radiance",
         "offsetgroup": "Words of Radiance",
         "orientation": "h",
         "showlegend": true,
         "textposition": "auto",
         "type": "bar",
         "x": [
          4.77
         ],
         "xaxis": "x",
         "y": [
          "Words of Radiance"
         ],
         "yaxis": "y"
        },
        {
         "alignmentgroup": "True",
         "hovertemplate": "original_title=%{y}<br>average_rating=%{x}<extra></extra>",
         "legendgroup": "Mark of the Lion Trilogy",
         "marker": {
          "color": "#00cc96"
         },
         "name": "Mark of the Lion Trilogy",
         "offsetgroup": "Mark of the Lion Trilogy",
         "orientation": "h",
         "showlegend": true,
         "textposition": "auto",
         "type": "bar",
         "x": [
          4.76
         ],
         "xaxis": "x",
         "y": [
          "Mark of the Lion Trilogy"
         ],
         "yaxis": "y"
        },
        {
         "alignmentgroup": "True",
         "hovertemplate": "original_title=%{y}<br>average_rating=%{x}<extra></extra>",
         "legendgroup": "It's a Magical World: A Calvin and Hobbes Collection",
         "marker": {
          "color": "#ab63fa"
         },
         "name": "It's a Magical World: A Calvin and Hobbes Collection",
         "offsetgroup": "It's a Magical World: A Calvin and Hobbes Collection",
         "orientation": "h",
         "showlegend": true,
         "textposition": "auto",
         "type": "bar",
         "x": [
          4.75
         ],
         "xaxis": "x",
         "y": [
          "It's a Magical World: A Calvin and Hobbes Collection"
         ],
         "yaxis": "y"
        },
        {
         "alignmentgroup": "True",
         "hovertemplate": "original_title=%{y}<br>average_rating=%{x}<extra></extra>",
         "legendgroup": "Complete Harry Potter Boxed Set",
         "marker": {
          "color": "#FFA15A"
         },
         "name": "Complete Harry Potter Boxed Set",
         "offsetgroup": "Complete Harry Potter Boxed Set",
         "orientation": "h",
         "showlegend": true,
         "textposition": "auto",
         "type": "bar",
         "x": [
          4.74
         ],
         "xaxis": "x",
         "y": [
          "Complete Harry Potter Boxed Set"
         ],
         "yaxis": "y"
        },
        {
         "alignmentgroup": "True",
         "hovertemplate": "original_title=%{y}<br>average_rating=%{x}<extra></extra>",
         "legendgroup": "There's Treasure Everywhere: A Calvin and Hobbes Collection",
         "marker": {
          "color": "#19d3f3"
         },
         "name": "There's Treasure Everywhere: A Calvin and Hobbes Collection",
         "offsetgroup": "There's Treasure Everywhere: A Calvin and Hobbes Collection",
         "orientation": "h",
         "showlegend": true,
         "textposition": "auto",
         "type": "bar",
         "x": [
          4.74
         ],
         "xaxis": "x",
         "y": [
          "There's Treasure Everywhere: A Calvin and Hobbes Collection"
         ],
         "yaxis": "y"
        },
        {
         "alignmentgroup": "True",
         "hovertemplate": "original_title=%{y}<br>average_rating=%{x}<extra></extra>",
         "legendgroup": "Harry Potter Collection (Harry Potter, #1-6)",
         "marker": {
          "color": "#FF6692"
         },
         "name": "Harry Potter Collection (Harry Potter, #1-6)",
         "offsetgroup": "Harry Potter Collection (Harry Potter, #1-6)",
         "orientation": "h",
         "showlegend": true,
         "textposition": "auto",
         "type": "bar",
         "x": [
          4.73
         ],
         "xaxis": "x",
         "y": [
          "Harry Potter Collection (Harry Potter, #1-6)"
         ],
         "yaxis": "y"
        },
        {
         "alignmentgroup": "True",
         "hovertemplate": "original_title=%{y}<br>average_rating=%{x}<extra></extra>",
         "legendgroup": "The Authoritative Calvin and Hobbes",
         "marker": {
          "color": "#B6E880"
         },
         "name": "The Authoritative Calvin and Hobbes",
         "offsetgroup": "The Authoritative Calvin and Hobbes",
         "orientation": "h",
         "showlegend": true,
         "textposition": "auto",
         "type": "bar",
         "x": [
          4.73
         ],
         "xaxis": "x",
         "y": [
          "The Authoritative Calvin and Hobbes"
         ],
         "yaxis": "y"
        },
        {
         "alignmentgroup": "True",
         "hovertemplate": "original_title=%{y}<br>average_rating=%{x}<extra></extra>",
         "legendgroup": "The Indispensable Calvin and Hobbes: A Calvin and Hobbes Treasury",
         "marker": {
          "color": "#FF97FF"
         },
         "name": "The Indispensable Calvin and Hobbes: A Calvin and Hobbes Treasury",
         "offsetgroup": "The Indispensable Calvin and Hobbes: A Calvin and Hobbes Treasury",
         "orientation": "h",
         "showlegend": true,
         "textposition": "auto",
         "type": "bar",
         "x": [
          4.73
         ],
         "xaxis": "x",
         "y": [
          "The Indispensable Calvin and Hobbes: A Calvin and Hobbes Treasury"
         ],
         "yaxis": "y"
        },
        {
         "alignmentgroup": "True",
         "hovertemplate": "original_title=%{y}<br>average_rating=%{x}<extra></extra>",
         "legendgroup": "Attack of the Deranged Mutant Killer Monster Snow Goons: A Calvin and Hobbes Collection",
         "marker": {
          "color": "#FECB52"
         },
         "name": "Attack of the Deranged Mutant Killer Monster Snow Goons: A Calvin and Hobbes Collection",
         "offsetgroup": "Attack of the Deranged Mutant Killer Monster Snow Goons: A Calvin and Hobbes Collection",
         "orientation": "h",
         "showlegend": true,
         "textposition": "auto",
         "type": "bar",
         "x": [
          4.72
         ],
         "xaxis": "x",
         "y": [
          "Attack of the Deranged Mutant Killer Monster Snow Goons: A Calvin and Hobbes Collection"
         ],
         "yaxis": "y"
        },
        {
         "alignmentgroup": "True",
         "hovertemplate": "original_title=%{y}<br>average_rating=%{x}<extra></extra>",
         "legendgroup": "Homicidal Psycho Jungle Cat: A Calvin and Hobbes Collection",
         "marker": {
          "color": "#636efa"
         },
         "name": "Homicidal Psycho Jungle Cat: A Calvin and Hobbes Collection",
         "offsetgroup": "Homicidal Psycho Jungle Cat: A Calvin and Hobbes Collection",
         "orientation": "h",
         "showlegend": true,
         "textposition": "auto",
         "type": "bar",
         "x": [
          4.71
         ],
         "xaxis": "x",
         "y": [
          "Homicidal Psycho Jungle Cat: A Calvin and Hobbes Collection"
         ],
         "yaxis": "y"
        },
        {
         "alignmentgroup": "True",
         "hovertemplate": "original_title=%{y}<br>average_rating=%{x}<extra></extra>",
         "legendgroup": "The Days Are Just Packed: A Calvin and Hobbes Collection",
         "marker": {
          "color": "#EF553B"
         },
         "name": "The Days Are Just Packed: A Calvin and Hobbes Collection",
         "offsetgroup": "The Days Are Just Packed: A Calvin and Hobbes Collection",
         "orientation": "h",
         "showlegend": true,
         "textposition": "auto",
         "type": "bar",
         "x": [
          4.68
         ],
         "xaxis": "x",
         "y": [
          "The Days Are Just Packed: A Calvin and Hobbes Collection"
         ],
         "yaxis": "y"
        },
        {
         "alignmentgroup": "True",
         "hovertemplate": "original_title=%{y}<br>average_rating=%{x}<extra></extra>",
         "legendgroup": "The Way of Kings, Part 1",
         "marker": {
          "color": "#00cc96"
         },
         "name": "The Way of Kings, Part 1",
         "offsetgroup": "The Way of Kings, Part 1",
         "orientation": "h",
         "showlegend": true,
         "textposition": "auto",
         "type": "bar",
         "x": [
          4.67
         ],
         "xaxis": "x",
         "y": [
          "The Way of Kings, Part 1"
         ],
         "yaxis": "y"
        },
        {
         "alignmentgroup": "True",
         "hovertemplate": "original_title=%{y}<br>average_rating=%{x}<extra></extra>",
         "legendgroup": "Harry Potter Boxed Set Books 1-4",
         "marker": {
          "color": "#ab63fa"
         },
         "name": "Harry Potter Boxed Set Books 1-4",
         "offsetgroup": "Harry Potter Boxed Set Books 1-4",
         "orientation": "h",
         "showlegend": true,
         "textposition": "auto",
         "type": "bar",
         "x": [
          4.66
         ],
         "xaxis": "x",
         "y": [
          "Harry Potter Boxed Set Books 1-4"
         ],
         "yaxis": "y"
        },
        {
         "alignmentgroup": "True",
         "hovertemplate": "original_title=%{y}<br>average_rating=%{x}<extra></extra>",
         "legendgroup": "The Calvin and Hobbes Lazy Sunday Book",
         "marker": {
          "color": "#FFA15A"
         },
         "name": "The Calvin and Hobbes Lazy Sunday Book",
         "offsetgroup": "The Calvin and Hobbes Lazy Sunday Book",
         "orientation": "h",
         "showlegend": true,
         "textposition": "auto",
         "type": "bar",
         "x": [
          4.66
         ],
         "xaxis": "x",
         "y": [
          "The Calvin and Hobbes Lazy Sunday Book"
         ],
         "yaxis": "y"
        },
        {
         "alignmentgroup": "True",
         "hovertemplate": "original_title=%{y}<br>average_rating=%{x}<extra></extra>",
         "legendgroup": "The Essential Calvin and Hobbes: A Calvin and Hobbes Treasury",
         "marker": {
          "color": "#19d3f3"
         },
         "name": "The Essential Calvin and Hobbes: A Calvin and Hobbes Treasury",
         "offsetgroup": "The Essential Calvin and Hobbes: A Calvin and Hobbes Treasury",
         "orientation": "h",
         "showlegend": true,
         "textposition": "auto",
         "type": "bar",
         "x": [
          4.65
         ],
         "xaxis": "x",
         "y": [
          "The Essential Calvin and Hobbes: A Calvin and Hobbes Treasury"
         ],
         "yaxis": "y"
        },
        {
         "alignmentgroup": "True",
         "hovertemplate": "original_title=%{y}<br>average_rating=%{x}<extra></extra>",
         "legendgroup": "The Absolute Sandman, Volume One",
         "marker": {
          "color": "#FF6692"
         },
         "name": "The Absolute Sandman, Volume One",
         "offsetgroup": "The Absolute Sandman, Volume One",
         "orientation": "h",
         "showlegend": true,
         "textposition": "auto",
         "type": "bar",
         "x": [
          4.65
         ],
         "xaxis": "x",
         "y": [
          "The Absolute Sandman, Volume One"
         ],
         "yaxis": "y"
        },
        {
         "alignmentgroup": "True",
         "hovertemplate": "original_title=%{y}<br>average_rating=%{x}<extra></extra>",
         "legendgroup": "The Way of Kings",
         "marker": {
          "color": "#B6E880"
         },
         "name": "The Way of Kings",
         "offsetgroup": "The Way of Kings",
         "orientation": "h",
         "showlegend": true,
         "textposition": "auto",
         "type": "bar",
         "x": [
          4.64
         ],
         "xaxis": "x",
         "y": [
          "The Way of Kings"
         ],
         "yaxis": "y"
        },
        {
         "alignmentgroup": "True",
         "hovertemplate": "original_title=%{y}<br>average_rating=%{x}<extra></extra>",
         "legendgroup": "A Song of Ice and Fire",
         "marker": {
          "color": "#FF97FF"
         },
         "name": "A Song of Ice and Fire",
         "offsetgroup": "A Song of Ice and Fire",
         "orientation": "h",
         "showlegend": true,
         "textposition": "auto",
         "type": "bar",
         "x": [
          4.63
         ],
         "xaxis": "x",
         "y": [
          "A Song of Ice and Fire"
         ],
         "yaxis": "y"
        },
        {
         "alignmentgroup": "True",
         "hovertemplate": "original_title=%{y}<br>average_rating=%{x}<extra></extra>",
         "legendgroup": "دیوان‎‎ [Dīvān]",
         "marker": {
          "color": "#FECB52"
         },
         "name": "دیوان‎‎ [Dīvān]",
         "offsetgroup": "دیوان‎‎ [Dīvān]",
         "orientation": "h",
         "showlegend": true,
         "textposition": "auto",
         "type": "bar",
         "x": [
          4.63
         ],
         "xaxis": "x",
         "y": [
          "دیوان‎‎ [Dīvān]"
         ],
         "yaxis": "y"
        },
        {
         "alignmentgroup": "True",
         "hovertemplate": "original_title=%{y}<br>average_rating=%{x}<extra></extra>",
         "legendgroup": "The Calvin and Hobbes Tenth Anniversary Book",
         "marker": {
          "color": "#636efa"
         },
         "name": "The Calvin and Hobbes Tenth Anniversary Book",
         "offsetgroup": "The Calvin and Hobbes Tenth Anniversary Book",
         "orientation": "h",
         "showlegend": true,
         "textposition": "auto",
         "type": "bar",
         "x": [
          4.63
         ],
         "xaxis": "x",
         "y": [
          "The Calvin and Hobbes Tenth Anniversary Book"
         ],
         "yaxis": "y"
        },
        {
         "alignmentgroup": "True",
         "hovertemplate": "original_title=%{y}<br>average_rating=%{x}<extra></extra>",
         "legendgroup": "The Hate U Give",
         "marker": {
          "color": "#EF553B"
         },
         "name": "The Hate U Give",
         "offsetgroup": "The Hate U Give",
         "orientation": "h",
         "showlegend": true,
         "textposition": "auto",
         "type": "bar",
         "x": [
          4.62
         ],
         "xaxis": "x",
         "y": [
          "The Hate U Give"
         ],
         "yaxis": "y"
        },
        {
         "alignmentgroup": "True",
         "hovertemplate": "original_title=%{y}<br>average_rating=%{x}<extra></extra>",
         "legendgroup": "The Sandman: King of Dreams",
         "marker": {
          "color": "#00cc96"
         },
         "name": "The Sandman: King of Dreams",
         "offsetgroup": "The Sandman: King of Dreams",
         "orientation": "h",
         "showlegend": true,
         "textposition": "auto",
         "type": "bar",
         "x": [
          4.61
         ],
         "xaxis": "x",
         "y": [
          "The Sandman: King of Dreams"
         ],
         "yaxis": "y"
        },
        {
         "alignmentgroup": "True",
         "hovertemplate": "original_title=%{y}<br>average_rating=%{x}<extra></extra>",
         "legendgroup": "Calvin and Hobbes",
         "marker": {
          "color": "#ab63fa"
         },
         "name": "Calvin and Hobbes",
         "offsetgroup": "Calvin and Hobbes",
         "orientation": "h",
         "showlegend": true,
         "textposition": "auto",
         "type": "bar",
         "x": [
          4.61
         ],
         "xaxis": "x",
         "y": [
          "Calvin and Hobbes"
         ],
         "yaxis": "y"
        },
        {
         "alignmentgroup": "True",
         "hovertemplate": "original_title=%{y}<br>average_rating=%{x}<extra></extra>",
         "legendgroup": "Harry Potter and the Deathly Hallows",
         "marker": {
          "color": "#FFA15A"
         },
         "name": "Harry Potter and the Deathly Hallows",
         "offsetgroup": "Harry Potter and the Deathly Hallows",
         "orientation": "h",
         "showlegend": true,
         "textposition": "auto",
         "type": "bar",
         "x": [
          4.61
         ],
         "xaxis": "x",
         "y": [
          "Harry Potter and the Deathly Hallows"
         ],
         "yaxis": "y"
        }
       ],
       "layout": {
        "barmode": "relative",
        "height": 700,
        "legend": {
         "title": {
          "text": "original_title"
         },
         "tracegroupgap": 0
        },
        "template": {
         "data": {
          "bar": [
           {
            "error_x": {
             "color": "#2a3f5f"
            },
            "error_y": {
             "color": "#2a3f5f"
            },
            "marker": {
             "line": {
              "color": "#E5ECF6",
              "width": 0.5
             }
            },
            "type": "bar"
           }
          ],
          "barpolar": [
           {
            "marker": {
             "line": {
              "color": "#E5ECF6",
              "width": 0.5
             }
            },
            "type": "barpolar"
           }
          ],
          "carpet": [
           {
            "aaxis": {
             "endlinecolor": "#2a3f5f",
             "gridcolor": "white",
             "linecolor": "white",
             "minorgridcolor": "white",
             "startlinecolor": "#2a3f5f"
            },
            "baxis": {
             "endlinecolor": "#2a3f5f",
             "gridcolor": "white",
             "linecolor": "white",
             "minorgridcolor": "white",
             "startlinecolor": "#2a3f5f"
            },
            "type": "carpet"
           }
          ],
          "choropleth": [
           {
            "colorbar": {
             "outlinewidth": 0,
             "ticks": ""
            },
            "type": "choropleth"
           }
          ],
          "contour": [
           {
            "colorbar": {
             "outlinewidth": 0,
             "ticks": ""
            },
            "colorscale": [
             [
              0,
              "#0d0887"
             ],
             [
              0.1111111111111111,
              "#46039f"
             ],
             [
              0.2222222222222222,
              "#7201a8"
             ],
             [
              0.3333333333333333,
              "#9c179e"
             ],
             [
              0.4444444444444444,
              "#bd3786"
             ],
             [
              0.5555555555555556,
              "#d8576b"
             ],
             [
              0.6666666666666666,
              "#ed7953"
             ],
             [
              0.7777777777777778,
              "#fb9f3a"
             ],
             [
              0.8888888888888888,
              "#fdca26"
             ],
             [
              1,
              "#f0f921"
             ]
            ],
            "type": "contour"
           }
          ],
          "contourcarpet": [
           {
            "colorbar": {
             "outlinewidth": 0,
             "ticks": ""
            },
            "type": "contourcarpet"
           }
          ],
          "heatmap": [
           {
            "colorbar": {
             "outlinewidth": 0,
             "ticks": ""
            },
            "colorscale": [
             [
              0,
              "#0d0887"
             ],
             [
              0.1111111111111111,
              "#46039f"
             ],
             [
              0.2222222222222222,
              "#7201a8"
             ],
             [
              0.3333333333333333,
              "#9c179e"
             ],
             [
              0.4444444444444444,
              "#bd3786"
             ],
             [
              0.5555555555555556,
              "#d8576b"
             ],
             [
              0.6666666666666666,
              "#ed7953"
             ],
             [
              0.7777777777777778,
              "#fb9f3a"
             ],
             [
              0.8888888888888888,
              "#fdca26"
             ],
             [
              1,
              "#f0f921"
             ]
            ],
            "type": "heatmap"
           }
          ],
          "heatmapgl": [
           {
            "colorbar": {
             "outlinewidth": 0,
             "ticks": ""
            },
            "colorscale": [
             [
              0,
              "#0d0887"
             ],
             [
              0.1111111111111111,
              "#46039f"
             ],
             [
              0.2222222222222222,
              "#7201a8"
             ],
             [
              0.3333333333333333,
              "#9c179e"
             ],
             [
              0.4444444444444444,
              "#bd3786"
             ],
             [
              0.5555555555555556,
              "#d8576b"
             ],
             [
              0.6666666666666666,
              "#ed7953"
             ],
             [
              0.7777777777777778,
              "#fb9f3a"
             ],
             [
              0.8888888888888888,
              "#fdca26"
             ],
             [
              1,
              "#f0f921"
             ]
            ],
            "type": "heatmapgl"
           }
          ],
          "histogram": [
           {
            "marker": {
             "colorbar": {
              "outlinewidth": 0,
              "ticks": ""
             }
            },
            "type": "histogram"
           }
          ],
          "histogram2d": [
           {
            "colorbar": {
             "outlinewidth": 0,
             "ticks": ""
            },
            "colorscale": [
             [
              0,
              "#0d0887"
             ],
             [
              0.1111111111111111,
              "#46039f"
             ],
             [
              0.2222222222222222,
              "#7201a8"
             ],
             [
              0.3333333333333333,
              "#9c179e"
             ],
             [
              0.4444444444444444,
              "#bd3786"
             ],
             [
              0.5555555555555556,
              "#d8576b"
             ],
             [
              0.6666666666666666,
              "#ed7953"
             ],
             [
              0.7777777777777778,
              "#fb9f3a"
             ],
             [
              0.8888888888888888,
              "#fdca26"
             ],
             [
              1,
              "#f0f921"
             ]
            ],
            "type": "histogram2d"
           }
          ],
          "histogram2dcontour": [
           {
            "colorbar": {
             "outlinewidth": 0,
             "ticks": ""
            },
            "colorscale": [
             [
              0,
              "#0d0887"
             ],
             [
              0.1111111111111111,
              "#46039f"
             ],
             [
              0.2222222222222222,
              "#7201a8"
             ],
             [
              0.3333333333333333,
              "#9c179e"
             ],
             [
              0.4444444444444444,
              "#bd3786"
             ],
             [
              0.5555555555555556,
              "#d8576b"
             ],
             [
              0.6666666666666666,
              "#ed7953"
             ],
             [
              0.7777777777777778,
              "#fb9f3a"
             ],
             [
              0.8888888888888888,
              "#fdca26"
             ],
             [
              1,
              "#f0f921"
             ]
            ],
            "type": "histogram2dcontour"
           }
          ],
          "mesh3d": [
           {
            "colorbar": {
             "outlinewidth": 0,
             "ticks": ""
            },
            "type": "mesh3d"
           }
          ],
          "parcoords": [
           {
            "line": {
             "colorbar": {
              "outlinewidth": 0,
              "ticks": ""
             }
            },
            "type": "parcoords"
           }
          ],
          "pie": [
           {
            "automargin": true,
            "type": "pie"
           }
          ],
          "scatter": [
           {
            "marker": {
             "colorbar": {
              "outlinewidth": 0,
              "ticks": ""
             }
            },
            "type": "scatter"
           }
          ],
          "scatter3d": [
           {
            "line": {
             "colorbar": {
              "outlinewidth": 0,
              "ticks": ""
             }
            },
            "marker": {
             "colorbar": {
              "outlinewidth": 0,
              "ticks": ""
             }
            },
            "type": "scatter3d"
           }
          ],
          "scattercarpet": [
           {
            "marker": {
             "colorbar": {
              "outlinewidth": 0,
              "ticks": ""
             }
            },
            "type": "scattercarpet"
           }
          ],
          "scattergeo": [
           {
            "marker": {
             "colorbar": {
              "outlinewidth": 0,
              "ticks": ""
             }
            },
            "type": "scattergeo"
           }
          ],
          "scattergl": [
           {
            "marker": {
             "colorbar": {
              "outlinewidth": 0,
              "ticks": ""
             }
            },
            "type": "scattergl"
           }
          ],
          "scattermapbox": [
           {
            "marker": {
             "colorbar": {
              "outlinewidth": 0,
              "ticks": ""
             }
            },
            "type": "scattermapbox"
           }
          ],
          "scatterpolar": [
           {
            "marker": {
             "colorbar": {
              "outlinewidth": 0,
              "ticks": ""
             }
            },
            "type": "scatterpolar"
           }
          ],
          "scatterpolargl": [
           {
            "marker": {
             "colorbar": {
              "outlinewidth": 0,
              "ticks": ""
             }
            },
            "type": "scatterpolargl"
           }
          ],
          "scatterternary": [
           {
            "marker": {
             "colorbar": {
              "outlinewidth": 0,
              "ticks": ""
             }
            },
            "type": "scatterternary"
           }
          ],
          "surface": [
           {
            "colorbar": {
             "outlinewidth": 0,
             "ticks": ""
            },
            "colorscale": [
             [
              0,
              "#0d0887"
             ],
             [
              0.1111111111111111,
              "#46039f"
             ],
             [
              0.2222222222222222,
              "#7201a8"
             ],
             [
              0.3333333333333333,
              "#9c179e"
             ],
             [
              0.4444444444444444,
              "#bd3786"
             ],
             [
              0.5555555555555556,
              "#d8576b"
             ],
             [
              0.6666666666666666,
              "#ed7953"
             ],
             [
              0.7777777777777778,
              "#fb9f3a"
             ],
             [
              0.8888888888888888,
              "#fdca26"
             ],
             [
              1,
              "#f0f921"
             ]
            ],
            "type": "surface"
           }
          ],
          "table": [
           {
            "cells": {
             "fill": {
              "color": "#EBF0F8"
             },
             "line": {
              "color": "white"
             }
            },
            "header": {
             "fill": {
              "color": "#C8D4E3"
             },
             "line": {
              "color": "white"
             }
            },
            "type": "table"
           }
          ]
         },
         "layout": {
          "annotationdefaults": {
           "arrowcolor": "#2a3f5f",
           "arrowhead": 0,
           "arrowwidth": 1
          },
          "coloraxis": {
           "colorbar": {
            "outlinewidth": 0,
            "ticks": ""
           }
          },
          "colorscale": {
           "diverging": [
            [
             0,
             "#8e0152"
            ],
            [
             0.1,
             "#c51b7d"
            ],
            [
             0.2,
             "#de77ae"
            ],
            [
             0.3,
             "#f1b6da"
            ],
            [
             0.4,
             "#fde0ef"
            ],
            [
             0.5,
             "#f7f7f7"
            ],
            [
             0.6,
             "#e6f5d0"
            ],
            [
             0.7,
             "#b8e186"
            ],
            [
             0.8,
             "#7fbc41"
            ],
            [
             0.9,
             "#4d9221"
            ],
            [
             1,
             "#276419"
            ]
           ],
           "sequential": [
            [
             0,
             "#0d0887"
            ],
            [
             0.1111111111111111,
             "#46039f"
            ],
            [
             0.2222222222222222,
             "#7201a8"
            ],
            [
             0.3333333333333333,
             "#9c179e"
            ],
            [
             0.4444444444444444,
             "#bd3786"
            ],
            [
             0.5555555555555556,
             "#d8576b"
            ],
            [
             0.6666666666666666,
             "#ed7953"
            ],
            [
             0.7777777777777778,
             "#fb9f3a"
            ],
            [
             0.8888888888888888,
             "#fdca26"
            ],
            [
             1,
             "#f0f921"
            ]
           ],
           "sequentialminus": [
            [
             0,
             "#0d0887"
            ],
            [
             0.1111111111111111,
             "#46039f"
            ],
            [
             0.2222222222222222,
             "#7201a8"
            ],
            [
             0.3333333333333333,
             "#9c179e"
            ],
            [
             0.4444444444444444,
             "#bd3786"
            ],
            [
             0.5555555555555556,
             "#d8576b"
            ],
            [
             0.6666666666666666,
             "#ed7953"
            ],
            [
             0.7777777777777778,
             "#fb9f3a"
            ],
            [
             0.8888888888888888,
             "#fdca26"
            ],
            [
             1,
             "#f0f921"
            ]
           ]
          },
          "colorway": [
           "#636efa",
           "#EF553B",
           "#00cc96",
           "#ab63fa",
           "#FFA15A",
           "#19d3f3",
           "#FF6692",
           "#B6E880",
           "#FF97FF",
           "#FECB52"
          ],
          "font": {
           "color": "#2a3f5f"
          },
          "geo": {
           "bgcolor": "white",
           "lakecolor": "white",
           "landcolor": "#E5ECF6",
           "showlakes": true,
           "showland": true,
           "subunitcolor": "white"
          },
          "hoverlabel": {
           "align": "left"
          },
          "hovermode": "closest",
          "mapbox": {
           "style": "light"
          },
          "paper_bgcolor": "white",
          "plot_bgcolor": "#E5ECF6",
          "polar": {
           "angularaxis": {
            "gridcolor": "white",
            "linecolor": "white",
            "ticks": ""
           },
           "bgcolor": "#E5ECF6",
           "radialaxis": {
            "gridcolor": "white",
            "linecolor": "white",
            "ticks": ""
           }
          },
          "scene": {
           "xaxis": {
            "backgroundcolor": "#E5ECF6",
            "gridcolor": "white",
            "gridwidth": 2,
            "linecolor": "white",
            "showbackground": true,
            "ticks": "",
            "zerolinecolor": "white"
           },
           "yaxis": {
            "backgroundcolor": "#E5ECF6",
            "gridcolor": "white",
            "gridwidth": 2,
            "linecolor": "white",
            "showbackground": true,
            "ticks": "",
            "zerolinecolor": "white"
           },
           "zaxis": {
            "backgroundcolor": "#E5ECF6",
            "gridcolor": "white",
            "gridwidth": 2,
            "linecolor": "white",
            "showbackground": true,
            "ticks": "",
            "zerolinecolor": "white"
           }
          },
          "shapedefaults": {
           "line": {
            "color": "#2a3f5f"
           }
          },
          "ternary": {
           "aaxis": {
            "gridcolor": "white",
            "linecolor": "white",
            "ticks": ""
           },
           "baxis": {
            "gridcolor": "white",
            "linecolor": "white",
            "ticks": ""
           },
           "bgcolor": "#E5ECF6",
           "caxis": {
            "gridcolor": "white",
            "linecolor": "white",
            "ticks": ""
           }
          },
          "title": {
           "x": 0.05
          },
          "xaxis": {
           "automargin": true,
           "gridcolor": "white",
           "linecolor": "white",
           "ticks": "",
           "title": {
            "standoff": 15
           },
           "zerolinecolor": "white",
           "zerolinewidth": 2
          },
          "yaxis": {
           "automargin": true,
           "gridcolor": "white",
           "linecolor": "white",
           "ticks": "",
           "title": {
            "standoff": 15
           },
           "zerolinecolor": "white",
           "zerolinewidth": 2
          }
         }
        },
        "title": {
         "text": "Top Rated Books and Their Ratings"
        },
        "width": 1500,
        "xaxis": {
         "anchor": "y",
         "domain": [
          0,
          1
         ],
         "title": {
          "text": "average_rating"
         }
        },
        "yaxis": {
         "anchor": "x",
         "categoryarray": [
          "Harry Potter and the Deathly Hallows",
          "Calvin and Hobbes",
          "The Sandman: King of Dreams",
          "The Hate U Give",
          "The Calvin and Hobbes Tenth Anniversary Book",
          "دیوان‎‎ [Dīvān]",
          "A Song of Ice and Fire",
          "The Way of Kings",
          "The Absolute Sandman, Volume One",
          "The Essential Calvin and Hobbes: A Calvin and Hobbes Treasury",
          "The Calvin and Hobbes Lazy Sunday Book",
          "Harry Potter Boxed Set Books 1-4",
          "The Way of Kings, Part 1",
          "The Days Are Just Packed: A Calvin and Hobbes Collection",
          "Homicidal Psycho Jungle Cat: A Calvin and Hobbes Collection",
          "Attack of the Deranged Mutant Killer Monster Snow Goons: A Calvin and Hobbes Collection",
          "The Indispensable Calvin and Hobbes: A Calvin and Hobbes Treasury",
          "The Authoritative Calvin and Hobbes",
          "Harry Potter Collection (Harry Potter, #1-6)",
          "There's Treasure Everywhere: A Calvin and Hobbes Collection",
          "Complete Harry Potter Boxed Set",
          "It's a Magical World: A Calvin and Hobbes Collection",
          "Mark of the Lion Trilogy",
          "Words of Radiance",
          "The Complete Calvin and Hobbes"
         ],
         "categoryorder": "array",
         "domain": [
          0,
          1
         ],
         "title": {
          "text": "original_title"
         }
        }
       }
      },
      "text/html": [
       "<div>                            <div id=\"154e02c0-b5c3-45e7-8040-a3a27b54ffd3\" class=\"plotly-graph-div\" style=\"height:700px; width:1500px;\"></div>            <script type=\"text/javascript\">                require([\"plotly\"], function(Plotly) {                    window.PLOTLYENV=window.PLOTLYENV || {};                                    if (document.getElementById(\"154e02c0-b5c3-45e7-8040-a3a27b54ffd3\")) {                    Plotly.newPlot(                        \"154e02c0-b5c3-45e7-8040-a3a27b54ffd3\",                        [{\"alignmentgroup\": \"True\", \"hovertemplate\": \"original_title=%{y}<br>average_rating=%{x}<extra></extra>\", \"legendgroup\": \"The Complete Calvin and Hobbes\", \"marker\": {\"color\": \"#636efa\"}, \"name\": \"The Complete Calvin and Hobbes\", \"offsetgroup\": \"The Complete Calvin and Hobbes\", \"orientation\": \"h\", \"showlegend\": true, \"textposition\": \"auto\", \"type\": \"bar\", \"x\": [4.82], \"xaxis\": \"x\", \"y\": [\"The Complete Calvin and Hobbes\"], \"yaxis\": \"y\"}, {\"alignmentgroup\": \"True\", \"hovertemplate\": \"original_title=%{y}<br>average_rating=%{x}<extra></extra>\", \"legendgroup\": \"Words of Radiance\", \"marker\": {\"color\": \"#EF553B\"}, \"name\": \"Words of Radiance\", \"offsetgroup\": \"Words of Radiance\", \"orientation\": \"h\", \"showlegend\": true, \"textposition\": \"auto\", \"type\": \"bar\", \"x\": [4.77], \"xaxis\": \"x\", \"y\": [\"Words of Radiance\"], \"yaxis\": \"y\"}, {\"alignmentgroup\": \"True\", \"hovertemplate\": \"original_title=%{y}<br>average_rating=%{x}<extra></extra>\", \"legendgroup\": \"Mark of the Lion Trilogy\", \"marker\": {\"color\": \"#00cc96\"}, \"name\": \"Mark of the Lion Trilogy\", \"offsetgroup\": \"Mark of the Lion Trilogy\", \"orientation\": \"h\", \"showlegend\": true, \"textposition\": \"auto\", \"type\": \"bar\", \"x\": [4.76], \"xaxis\": \"x\", \"y\": [\"Mark of the Lion Trilogy\"], \"yaxis\": \"y\"}, {\"alignmentgroup\": \"True\", \"hovertemplate\": \"original_title=%{y}<br>average_rating=%{x}<extra></extra>\", \"legendgroup\": \"It's a Magical World: A Calvin and Hobbes Collection\", \"marker\": {\"color\": \"#ab63fa\"}, \"name\": \"It's a Magical World: A Calvin and Hobbes Collection\", \"offsetgroup\": \"It's a Magical World: A Calvin and Hobbes Collection\", \"orientation\": \"h\", \"showlegend\": true, \"textposition\": \"auto\", \"type\": \"bar\", \"x\": [4.75], \"xaxis\": \"x\", \"y\": [\"It's a Magical World: A Calvin and Hobbes Collection\"], \"yaxis\": \"y\"}, {\"alignmentgroup\": \"True\", \"hovertemplate\": \"original_title=%{y}<br>average_rating=%{x}<extra></extra>\", \"legendgroup\": \"Complete Harry Potter Boxed Set\", \"marker\": {\"color\": \"#FFA15A\"}, \"name\": \"Complete Harry Potter Boxed Set\", \"offsetgroup\": \"Complete Harry Potter Boxed Set\", \"orientation\": \"h\", \"showlegend\": true, \"textposition\": \"auto\", \"type\": \"bar\", \"x\": [4.74], \"xaxis\": \"x\", \"y\": [\"Complete Harry Potter Boxed Set\"], \"yaxis\": \"y\"}, {\"alignmentgroup\": \"True\", \"hovertemplate\": \"original_title=%{y}<br>average_rating=%{x}<extra></extra>\", \"legendgroup\": \"There's Treasure Everywhere: A Calvin and Hobbes Collection\", \"marker\": {\"color\": \"#19d3f3\"}, \"name\": \"There's Treasure Everywhere: A Calvin and Hobbes Collection\", \"offsetgroup\": \"There's Treasure Everywhere: A Calvin and Hobbes Collection\", \"orientation\": \"h\", \"showlegend\": true, \"textposition\": \"auto\", \"type\": \"bar\", \"x\": [4.74], \"xaxis\": \"x\", \"y\": [\"There's Treasure Everywhere: A Calvin and Hobbes Collection\"], \"yaxis\": \"y\"}, {\"alignmentgroup\": \"True\", \"hovertemplate\": \"original_title=%{y}<br>average_rating=%{x}<extra></extra>\", \"legendgroup\": \"Harry Potter Collection (Harry Potter, #1-6)\", \"marker\": {\"color\": \"#FF6692\"}, \"name\": \"Harry Potter Collection (Harry Potter, #1-6)\", \"offsetgroup\": \"Harry Potter Collection (Harry Potter, #1-6)\", \"orientation\": \"h\", \"showlegend\": true, \"textposition\": \"auto\", \"type\": \"bar\", \"x\": [4.73], \"xaxis\": \"x\", \"y\": [\"Harry Potter Collection (Harry Potter, #1-6)\"], \"yaxis\": \"y\"}, {\"alignmentgroup\": \"True\", \"hovertemplate\": \"original_title=%{y}<br>average_rating=%{x}<extra></extra>\", \"legendgroup\": \"The Authoritative Calvin and Hobbes\", \"marker\": {\"color\": \"#B6E880\"}, \"name\": \"The Authoritative Calvin and Hobbes\", \"offsetgroup\": \"The Authoritative Calvin and Hobbes\", \"orientation\": \"h\", \"showlegend\": true, \"textposition\": \"auto\", \"type\": \"bar\", \"x\": [4.73], \"xaxis\": \"x\", \"y\": [\"The Authoritative Calvin and Hobbes\"], \"yaxis\": \"y\"}, {\"alignmentgroup\": \"True\", \"hovertemplate\": \"original_title=%{y}<br>average_rating=%{x}<extra></extra>\", \"legendgroup\": \"The Indispensable Calvin and Hobbes: A Calvin and Hobbes Treasury\", \"marker\": {\"color\": \"#FF97FF\"}, \"name\": \"The Indispensable Calvin and Hobbes: A Calvin and Hobbes Treasury\", \"offsetgroup\": \"The Indispensable Calvin and Hobbes: A Calvin and Hobbes Treasury\", \"orientation\": \"h\", \"showlegend\": true, \"textposition\": \"auto\", \"type\": \"bar\", \"x\": [4.73], \"xaxis\": \"x\", \"y\": [\"The Indispensable Calvin and Hobbes: A Calvin and Hobbes Treasury\"], \"yaxis\": \"y\"}, {\"alignmentgroup\": \"True\", \"hovertemplate\": \"original_title=%{y}<br>average_rating=%{x}<extra></extra>\", \"legendgroup\": \"Attack of the Deranged Mutant Killer Monster Snow Goons: A Calvin and Hobbes Collection\", \"marker\": {\"color\": \"#FECB52\"}, \"name\": \"Attack of the Deranged Mutant Killer Monster Snow Goons: A Calvin and Hobbes Collection\", \"offsetgroup\": \"Attack of the Deranged Mutant Killer Monster Snow Goons: A Calvin and Hobbes Collection\", \"orientation\": \"h\", \"showlegend\": true, \"textposition\": \"auto\", \"type\": \"bar\", \"x\": [4.72], \"xaxis\": \"x\", \"y\": [\"Attack of the Deranged Mutant Killer Monster Snow Goons: A Calvin and Hobbes Collection\"], \"yaxis\": \"y\"}, {\"alignmentgroup\": \"True\", \"hovertemplate\": \"original_title=%{y}<br>average_rating=%{x}<extra></extra>\", \"legendgroup\": \"Homicidal Psycho Jungle Cat: A Calvin and Hobbes Collection\", \"marker\": {\"color\": \"#636efa\"}, \"name\": \"Homicidal Psycho Jungle Cat: A Calvin and Hobbes Collection\", \"offsetgroup\": \"Homicidal Psycho Jungle Cat: A Calvin and Hobbes Collection\", \"orientation\": \"h\", \"showlegend\": true, \"textposition\": \"auto\", \"type\": \"bar\", \"x\": [4.71], \"xaxis\": \"x\", \"y\": [\"Homicidal Psycho Jungle Cat: A Calvin and Hobbes Collection\"], \"yaxis\": \"y\"}, {\"alignmentgroup\": \"True\", \"hovertemplate\": \"original_title=%{y}<br>average_rating=%{x}<extra></extra>\", \"legendgroup\": \"The Days Are Just Packed: A Calvin and Hobbes Collection\", \"marker\": {\"color\": \"#EF553B\"}, \"name\": \"The Days Are Just Packed: A Calvin and Hobbes Collection\", \"offsetgroup\": \"The Days Are Just Packed: A Calvin and Hobbes Collection\", \"orientation\": \"h\", \"showlegend\": true, \"textposition\": \"auto\", \"type\": \"bar\", \"x\": [4.68], \"xaxis\": \"x\", \"y\": [\"The Days Are Just Packed: A Calvin and Hobbes Collection\"], \"yaxis\": \"y\"}, {\"alignmentgroup\": \"True\", \"hovertemplate\": \"original_title=%{y}<br>average_rating=%{x}<extra></extra>\", \"legendgroup\": \"The Way of Kings, Part 1\", \"marker\": {\"color\": \"#00cc96\"}, \"name\": \"The Way of Kings, Part 1\", \"offsetgroup\": \"The Way of Kings, Part 1\", \"orientation\": \"h\", \"showlegend\": true, \"textposition\": \"auto\", \"type\": \"bar\", \"x\": [4.67], \"xaxis\": \"x\", \"y\": [\"The Way of Kings, Part 1\"], \"yaxis\": \"y\"}, {\"alignmentgroup\": \"True\", \"hovertemplate\": \"original_title=%{y}<br>average_rating=%{x}<extra></extra>\", \"legendgroup\": \"Harry Potter Boxed Set Books 1-4\", \"marker\": {\"color\": \"#ab63fa\"}, \"name\": \"Harry Potter Boxed Set Books 1-4\", \"offsetgroup\": \"Harry Potter Boxed Set Books 1-4\", \"orientation\": \"h\", \"showlegend\": true, \"textposition\": \"auto\", \"type\": \"bar\", \"x\": [4.66], \"xaxis\": \"x\", \"y\": [\"Harry Potter Boxed Set Books 1-4\"], \"yaxis\": \"y\"}, {\"alignmentgroup\": \"True\", \"hovertemplate\": \"original_title=%{y}<br>average_rating=%{x}<extra></extra>\", \"legendgroup\": \"The Calvin and Hobbes Lazy Sunday Book\", \"marker\": {\"color\": \"#FFA15A\"}, \"name\": \"The Calvin and Hobbes Lazy Sunday Book\", \"offsetgroup\": \"The Calvin and Hobbes Lazy Sunday Book\", \"orientation\": \"h\", \"showlegend\": true, \"textposition\": \"auto\", \"type\": \"bar\", \"x\": [4.66], \"xaxis\": \"x\", \"y\": [\"The Calvin and Hobbes Lazy Sunday Book\"], \"yaxis\": \"y\"}, {\"alignmentgroup\": \"True\", \"hovertemplate\": \"original_title=%{y}<br>average_rating=%{x}<extra></extra>\", \"legendgroup\": \"The Essential Calvin and Hobbes: A Calvin and Hobbes Treasury\", \"marker\": {\"color\": \"#19d3f3\"}, \"name\": \"The Essential Calvin and Hobbes: A Calvin and Hobbes Treasury\", \"offsetgroup\": \"The Essential Calvin and Hobbes: A Calvin and Hobbes Treasury\", \"orientation\": \"h\", \"showlegend\": true, \"textposition\": \"auto\", \"type\": \"bar\", \"x\": [4.65], \"xaxis\": \"x\", \"y\": [\"The Essential Calvin and Hobbes: A Calvin and Hobbes Treasury\"], \"yaxis\": \"y\"}, {\"alignmentgroup\": \"True\", \"hovertemplate\": \"original_title=%{y}<br>average_rating=%{x}<extra></extra>\", \"legendgroup\": \"The Absolute Sandman, Volume One\", \"marker\": {\"color\": \"#FF6692\"}, \"name\": \"The Absolute Sandman, Volume One\", \"offsetgroup\": \"The Absolute Sandman, Volume One\", \"orientation\": \"h\", \"showlegend\": true, \"textposition\": \"auto\", \"type\": \"bar\", \"x\": [4.65], \"xaxis\": \"x\", \"y\": [\"The Absolute Sandman, Volume One\"], \"yaxis\": \"y\"}, {\"alignmentgroup\": \"True\", \"hovertemplate\": \"original_title=%{y}<br>average_rating=%{x}<extra></extra>\", \"legendgroup\": \"The Way of Kings\", \"marker\": {\"color\": \"#B6E880\"}, \"name\": \"The Way of Kings\", \"offsetgroup\": \"The Way of Kings\", \"orientation\": \"h\", \"showlegend\": true, \"textposition\": \"auto\", \"type\": \"bar\", \"x\": [4.64], \"xaxis\": \"x\", \"y\": [\"The Way of Kings\"], \"yaxis\": \"y\"}, {\"alignmentgroup\": \"True\", \"hovertemplate\": \"original_title=%{y}<br>average_rating=%{x}<extra></extra>\", \"legendgroup\": \"A Song of Ice and Fire\", \"marker\": {\"color\": \"#FF97FF\"}, \"name\": \"A Song of Ice and Fire\", \"offsetgroup\": \"A Song of Ice and Fire\", \"orientation\": \"h\", \"showlegend\": true, \"textposition\": \"auto\", \"type\": \"bar\", \"x\": [4.63], \"xaxis\": \"x\", \"y\": [\"A Song of Ice and Fire\"], \"yaxis\": \"y\"}, {\"alignmentgroup\": \"True\", \"hovertemplate\": \"original_title=%{y}<br>average_rating=%{x}<extra></extra>\", \"legendgroup\": \"\\u062f\\u06cc\\u0648\\u0627\\u0646\\u200e\\u200e [D\\u012bv\\u0101n]\", \"marker\": {\"color\": \"#FECB52\"}, \"name\": \"\\u062f\\u06cc\\u0648\\u0627\\u0646\\u200e\\u200e [D\\u012bv\\u0101n]\", \"offsetgroup\": \"\\u062f\\u06cc\\u0648\\u0627\\u0646\\u200e\\u200e [D\\u012bv\\u0101n]\", \"orientation\": \"h\", \"showlegend\": true, \"textposition\": \"auto\", \"type\": \"bar\", \"x\": [4.63], \"xaxis\": \"x\", \"y\": [\"\\u062f\\u06cc\\u0648\\u0627\\u0646\\u200e\\u200e [D\\u012bv\\u0101n]\"], \"yaxis\": \"y\"}, {\"alignmentgroup\": \"True\", \"hovertemplate\": \"original_title=%{y}<br>average_rating=%{x}<extra></extra>\", \"legendgroup\": \"The Calvin and Hobbes Tenth Anniversary Book\", \"marker\": {\"color\": \"#636efa\"}, \"name\": \"The Calvin and Hobbes Tenth Anniversary Book\", \"offsetgroup\": \"The Calvin and Hobbes Tenth Anniversary Book\", \"orientation\": \"h\", \"showlegend\": true, \"textposition\": \"auto\", \"type\": \"bar\", \"x\": [4.63], \"xaxis\": \"x\", \"y\": [\"The Calvin and Hobbes Tenth Anniversary Book\"], \"yaxis\": \"y\"}, {\"alignmentgroup\": \"True\", \"hovertemplate\": \"original_title=%{y}<br>average_rating=%{x}<extra></extra>\", \"legendgroup\": \"The Hate U Give\", \"marker\": {\"color\": \"#EF553B\"}, \"name\": \"The Hate U Give\", \"offsetgroup\": \"The Hate U Give\", \"orientation\": \"h\", \"showlegend\": true, \"textposition\": \"auto\", \"type\": \"bar\", \"x\": [4.62], \"xaxis\": \"x\", \"y\": [\"The Hate U Give\"], \"yaxis\": \"y\"}, {\"alignmentgroup\": \"True\", \"hovertemplate\": \"original_title=%{y}<br>average_rating=%{x}<extra></extra>\", \"legendgroup\": \"The Sandman: King of Dreams\", \"marker\": {\"color\": \"#00cc96\"}, \"name\": \"The Sandman: King of Dreams\", \"offsetgroup\": \"The Sandman: King of Dreams\", \"orientation\": \"h\", \"showlegend\": true, \"textposition\": \"auto\", \"type\": \"bar\", \"x\": [4.61], \"xaxis\": \"x\", \"y\": [\"The Sandman: King of Dreams\"], \"yaxis\": \"y\"}, {\"alignmentgroup\": \"True\", \"hovertemplate\": \"original_title=%{y}<br>average_rating=%{x}<extra></extra>\", \"legendgroup\": \"Calvin and Hobbes\", \"marker\": {\"color\": \"#ab63fa\"}, \"name\": \"Calvin and Hobbes\", \"offsetgroup\": \"Calvin and Hobbes\", \"orientation\": \"h\", \"showlegend\": true, \"textposition\": \"auto\", \"type\": \"bar\", \"x\": [4.61], \"xaxis\": \"x\", \"y\": [\"Calvin and Hobbes\"], \"yaxis\": \"y\"}, {\"alignmentgroup\": \"True\", \"hovertemplate\": \"original_title=%{y}<br>average_rating=%{x}<extra></extra>\", \"legendgroup\": \"Harry Potter and the Deathly Hallows\", \"marker\": {\"color\": \"#FFA15A\"}, \"name\": \"Harry Potter and the Deathly Hallows\", \"offsetgroup\": \"Harry Potter and the Deathly Hallows\", \"orientation\": \"h\", \"showlegend\": true, \"textposition\": \"auto\", \"type\": \"bar\", \"x\": [4.61], \"xaxis\": \"x\", \"y\": [\"Harry Potter and the Deathly Hallows\"], \"yaxis\": \"y\"}],                        {\"barmode\": \"relative\", \"height\": 700, \"legend\": {\"title\": {\"text\": \"original_title\"}, \"tracegroupgap\": 0}, \"template\": {\"data\": {\"bar\": [{\"error_x\": {\"color\": \"#2a3f5f\"}, \"error_y\": {\"color\": \"#2a3f5f\"}, \"marker\": {\"line\": {\"color\": \"#E5ECF6\", \"width\": 0.5}}, \"type\": \"bar\"}], \"barpolar\": [{\"marker\": {\"line\": {\"color\": \"#E5ECF6\", \"width\": 0.5}}, \"type\": \"barpolar\"}], \"carpet\": [{\"aaxis\": {\"endlinecolor\": \"#2a3f5f\", \"gridcolor\": \"white\", \"linecolor\": \"white\", \"minorgridcolor\": \"white\", \"startlinecolor\": \"#2a3f5f\"}, \"baxis\": {\"endlinecolor\": \"#2a3f5f\", \"gridcolor\": \"white\", \"linecolor\": \"white\", \"minorgridcolor\": \"white\", \"startlinecolor\": \"#2a3f5f\"}, \"type\": \"carpet\"}], \"choropleth\": [{\"colorbar\": {\"outlinewidth\": 0, \"ticks\": \"\"}, \"type\": \"choropleth\"}], \"contour\": [{\"colorbar\": {\"outlinewidth\": 0, \"ticks\": \"\"}, \"colorscale\": [[0.0, \"#0d0887\"], [0.1111111111111111, \"#46039f\"], [0.2222222222222222, \"#7201a8\"], [0.3333333333333333, \"#9c179e\"], [0.4444444444444444, \"#bd3786\"], [0.5555555555555556, \"#d8576b\"], [0.6666666666666666, \"#ed7953\"], [0.7777777777777778, \"#fb9f3a\"], [0.8888888888888888, \"#fdca26\"], [1.0, \"#f0f921\"]], \"type\": \"contour\"}], \"contourcarpet\": [{\"colorbar\": {\"outlinewidth\": 0, \"ticks\": \"\"}, \"type\": \"contourcarpet\"}], \"heatmap\": [{\"colorbar\": {\"outlinewidth\": 0, \"ticks\": \"\"}, \"colorscale\": [[0.0, \"#0d0887\"], [0.1111111111111111, \"#46039f\"], [0.2222222222222222, \"#7201a8\"], [0.3333333333333333, \"#9c179e\"], [0.4444444444444444, \"#bd3786\"], [0.5555555555555556, \"#d8576b\"], [0.6666666666666666, \"#ed7953\"], [0.7777777777777778, \"#fb9f3a\"], [0.8888888888888888, \"#fdca26\"], [1.0, \"#f0f921\"]], \"type\": \"heatmap\"}], \"heatmapgl\": [{\"colorbar\": {\"outlinewidth\": 0, \"ticks\": \"\"}, \"colorscale\": [[0.0, \"#0d0887\"], [0.1111111111111111, \"#46039f\"], [0.2222222222222222, \"#7201a8\"], [0.3333333333333333, \"#9c179e\"], [0.4444444444444444, \"#bd3786\"], [0.5555555555555556, \"#d8576b\"], [0.6666666666666666, \"#ed7953\"], [0.7777777777777778, \"#fb9f3a\"], [0.8888888888888888, \"#fdca26\"], [1.0, \"#f0f921\"]], \"type\": \"heatmapgl\"}], \"histogram\": [{\"marker\": {\"colorbar\": {\"outlinewidth\": 0, \"ticks\": \"\"}}, \"type\": \"histogram\"}], \"histogram2d\": [{\"colorbar\": {\"outlinewidth\": 0, \"ticks\": \"\"}, \"colorscale\": [[0.0, \"#0d0887\"], [0.1111111111111111, \"#46039f\"], [0.2222222222222222, \"#7201a8\"], [0.3333333333333333, \"#9c179e\"], [0.4444444444444444, \"#bd3786\"], [0.5555555555555556, \"#d8576b\"], [0.6666666666666666, \"#ed7953\"], [0.7777777777777778, \"#fb9f3a\"], [0.8888888888888888, \"#fdca26\"], [1.0, \"#f0f921\"]], \"type\": \"histogram2d\"}], \"histogram2dcontour\": [{\"colorbar\": {\"outlinewidth\": 0, \"ticks\": \"\"}, \"colorscale\": [[0.0, \"#0d0887\"], [0.1111111111111111, \"#46039f\"], [0.2222222222222222, \"#7201a8\"], [0.3333333333333333, \"#9c179e\"], [0.4444444444444444, \"#bd3786\"], [0.5555555555555556, \"#d8576b\"], [0.6666666666666666, \"#ed7953\"], [0.7777777777777778, \"#fb9f3a\"], [0.8888888888888888, \"#fdca26\"], [1.0, \"#f0f921\"]], \"type\": \"histogram2dcontour\"}], \"mesh3d\": [{\"colorbar\": {\"outlinewidth\": 0, \"ticks\": \"\"}, \"type\": \"mesh3d\"}], \"parcoords\": [{\"line\": {\"colorbar\": {\"outlinewidth\": 0, \"ticks\": \"\"}}, \"type\": \"parcoords\"}], \"pie\": [{\"automargin\": true, \"type\": \"pie\"}], \"scatter\": [{\"marker\": {\"colorbar\": {\"outlinewidth\": 0, \"ticks\": \"\"}}, \"type\": \"scatter\"}], \"scatter3d\": [{\"line\": {\"colorbar\": {\"outlinewidth\": 0, \"ticks\": \"\"}}, \"marker\": {\"colorbar\": {\"outlinewidth\": 0, \"ticks\": \"\"}}, \"type\": \"scatter3d\"}], \"scattercarpet\": [{\"marker\": {\"colorbar\": {\"outlinewidth\": 0, \"ticks\": \"\"}}, \"type\": \"scattercarpet\"}], \"scattergeo\": [{\"marker\": {\"colorbar\": {\"outlinewidth\": 0, \"ticks\": \"\"}}, \"type\": \"scattergeo\"}], \"scattergl\": [{\"marker\": {\"colorbar\": {\"outlinewidth\": 0, \"ticks\": \"\"}}, \"type\": \"scattergl\"}], \"scattermapbox\": [{\"marker\": {\"colorbar\": {\"outlinewidth\": 0, \"ticks\": \"\"}}, \"type\": \"scattermapbox\"}], \"scatterpolar\": [{\"marker\": {\"colorbar\": {\"outlinewidth\": 0, \"ticks\": \"\"}}, \"type\": \"scatterpolar\"}], \"scatterpolargl\": [{\"marker\": {\"colorbar\": {\"outlinewidth\": 0, \"ticks\": \"\"}}, \"type\": \"scatterpolargl\"}], \"scatterternary\": [{\"marker\": {\"colorbar\": {\"outlinewidth\": 0, \"ticks\": \"\"}}, \"type\": \"scatterternary\"}], \"surface\": [{\"colorbar\": {\"outlinewidth\": 0, \"ticks\": \"\"}, \"colorscale\": [[0.0, \"#0d0887\"], [0.1111111111111111, \"#46039f\"], [0.2222222222222222, \"#7201a8\"], [0.3333333333333333, \"#9c179e\"], [0.4444444444444444, \"#bd3786\"], [0.5555555555555556, \"#d8576b\"], [0.6666666666666666, \"#ed7953\"], [0.7777777777777778, \"#fb9f3a\"], [0.8888888888888888, \"#fdca26\"], [1.0, \"#f0f921\"]], \"type\": \"surface\"}], \"table\": [{\"cells\": {\"fill\": {\"color\": \"#EBF0F8\"}, \"line\": {\"color\": \"white\"}}, \"header\": {\"fill\": {\"color\": \"#C8D4E3\"}, \"line\": {\"color\": \"white\"}}, \"type\": \"table\"}]}, \"layout\": {\"annotationdefaults\": {\"arrowcolor\": \"#2a3f5f\", \"arrowhead\": 0, \"arrowwidth\": 1}, \"coloraxis\": {\"colorbar\": {\"outlinewidth\": 0, \"ticks\": \"\"}}, \"colorscale\": {\"diverging\": [[0, \"#8e0152\"], [0.1, \"#c51b7d\"], [0.2, \"#de77ae\"], [0.3, \"#f1b6da\"], [0.4, \"#fde0ef\"], [0.5, \"#f7f7f7\"], [0.6, \"#e6f5d0\"], [0.7, \"#b8e186\"], [0.8, \"#7fbc41\"], [0.9, \"#4d9221\"], [1, \"#276419\"]], \"sequential\": [[0.0, \"#0d0887\"], [0.1111111111111111, \"#46039f\"], [0.2222222222222222, \"#7201a8\"], [0.3333333333333333, \"#9c179e\"], [0.4444444444444444, \"#bd3786\"], [0.5555555555555556, \"#d8576b\"], [0.6666666666666666, \"#ed7953\"], [0.7777777777777778, \"#fb9f3a\"], [0.8888888888888888, \"#fdca26\"], [1.0, \"#f0f921\"]], \"sequentialminus\": [[0.0, \"#0d0887\"], [0.1111111111111111, \"#46039f\"], [0.2222222222222222, \"#7201a8\"], [0.3333333333333333, \"#9c179e\"], [0.4444444444444444, \"#bd3786\"], [0.5555555555555556, \"#d8576b\"], [0.6666666666666666, \"#ed7953\"], [0.7777777777777778, \"#fb9f3a\"], [0.8888888888888888, \"#fdca26\"], [1.0, \"#f0f921\"]]}, \"colorway\": [\"#636efa\", \"#EF553B\", \"#00cc96\", \"#ab63fa\", \"#FFA15A\", \"#19d3f3\", \"#FF6692\", \"#B6E880\", \"#FF97FF\", \"#FECB52\"], \"font\": {\"color\": \"#2a3f5f\"}, \"geo\": {\"bgcolor\": \"white\", \"lakecolor\": \"white\", \"landcolor\": \"#E5ECF6\", \"showlakes\": true, \"showland\": true, \"subunitcolor\": \"white\"}, \"hoverlabel\": {\"align\": \"left\"}, \"hovermode\": \"closest\", \"mapbox\": {\"style\": \"light\"}, \"paper_bgcolor\": \"white\", \"plot_bgcolor\": \"#E5ECF6\", \"polar\": {\"angularaxis\": {\"gridcolor\": \"white\", \"linecolor\": \"white\", \"ticks\": \"\"}, \"bgcolor\": \"#E5ECF6\", \"radialaxis\": {\"gridcolor\": \"white\", \"linecolor\": \"white\", \"ticks\": \"\"}}, \"scene\": {\"xaxis\": {\"backgroundcolor\": \"#E5ECF6\", \"gridcolor\": \"white\", \"gridwidth\": 2, \"linecolor\": \"white\", \"showbackground\": true, \"ticks\": \"\", \"zerolinecolor\": \"white\"}, \"yaxis\": {\"backgroundcolor\": \"#E5ECF6\", \"gridcolor\": \"white\", \"gridwidth\": 2, \"linecolor\": \"white\", \"showbackground\": true, \"ticks\": \"\", \"zerolinecolor\": \"white\"}, \"zaxis\": {\"backgroundcolor\": \"#E5ECF6\", \"gridcolor\": \"white\", \"gridwidth\": 2, \"linecolor\": \"white\", \"showbackground\": true, \"ticks\": \"\", \"zerolinecolor\": \"white\"}}, \"shapedefaults\": {\"line\": {\"color\": \"#2a3f5f\"}}, \"ternary\": {\"aaxis\": {\"gridcolor\": \"white\", \"linecolor\": \"white\", \"ticks\": \"\"}, \"baxis\": {\"gridcolor\": \"white\", \"linecolor\": \"white\", \"ticks\": \"\"}, \"bgcolor\": \"#E5ECF6\", \"caxis\": {\"gridcolor\": \"white\", \"linecolor\": \"white\", \"ticks\": \"\"}}, \"title\": {\"x\": 0.05}, \"xaxis\": {\"automargin\": true, \"gridcolor\": \"white\", \"linecolor\": \"white\", \"ticks\": \"\", \"title\": {\"standoff\": 15}, \"zerolinecolor\": \"white\", \"zerolinewidth\": 2}, \"yaxis\": {\"automargin\": true, \"gridcolor\": \"white\", \"linecolor\": \"white\", \"ticks\": \"\", \"title\": {\"standoff\": 15}, \"zerolinecolor\": \"white\", \"zerolinewidth\": 2}}}, \"title\": {\"text\": \"Top Rated Books and Their Ratings\"}, \"width\": 1500, \"xaxis\": {\"anchor\": \"y\", \"domain\": [0.0, 1.0], \"title\": {\"text\": \"average_rating\"}}, \"yaxis\": {\"anchor\": \"x\", \"categoryarray\": [\"Harry Potter and the Deathly Hallows\", \"Calvin and Hobbes\", \"The Sandman: King of Dreams\", \"The Hate U Give\", \"The Calvin and Hobbes Tenth Anniversary Book\", \"\\u062f\\u06cc\\u0648\\u0627\\u0646\\u200e\\u200e [D\\u012bv\\u0101n]\", \"A Song of Ice and Fire\", \"The Way of Kings\", \"The Absolute Sandman, Volume One\", \"The Essential Calvin and Hobbes: A Calvin and Hobbes Treasury\", \"The Calvin and Hobbes Lazy Sunday Book\", \"Harry Potter Boxed Set Books 1-4\", \"The Way of Kings, Part 1\", \"The Days Are Just Packed: A Calvin and Hobbes Collection\", \"Homicidal Psycho Jungle Cat: A Calvin and Hobbes Collection\", \"Attack of the Deranged Mutant Killer Monster Snow Goons: A Calvin and Hobbes Collection\", \"The Indispensable Calvin and Hobbes: A Calvin and Hobbes Treasury\", \"The Authoritative Calvin and Hobbes\", \"Harry Potter Collection (Harry Potter, #1-6)\", \"There's Treasure Everywhere: A Calvin and Hobbes Collection\", \"Complete Harry Potter Boxed Set\", \"It's a Magical World: A Calvin and Hobbes Collection\", \"Mark of the Lion Trilogy\", \"Words of Radiance\", \"The Complete Calvin and Hobbes\"], \"categoryorder\": \"array\", \"domain\": [0.0, 1.0], \"title\": {\"text\": \"original_title\"}}},                        {\"responsive\": true}                    ).then(function(){\n",
       "                            \n",
       "var gd = document.getElementById('154e02c0-b5c3-45e7-8040-a3a27b54ffd3');\n",
       "var x = new MutationObserver(function (mutations, observer) {{\n",
       "        var display = window.getComputedStyle(gd).display;\n",
       "        if (!display || display === 'none') {{\n",
       "            console.log([gd, 'removed!']);\n",
       "            Plotly.purge(gd);\n",
       "            observer.disconnect();\n",
       "        }}\n",
       "}});\n",
       "\n",
       "// Listen for the removal of the full notebook cells\n",
       "var notebookContainer = gd.closest('#notebook-container');\n",
       "if (notebookContainer) {{\n",
       "    x.observe(notebookContainer, {childList: true});\n",
       "}}\n",
       "\n",
       "// Listen for the clearing of the current output cell\n",
       "var outputEl = gd.closest('.output');\n",
       "if (outputEl) {{\n",
       "    x.observe(outputEl, {childList: true});\n",
       "}}\n",
       "\n",
       "                        })                };                });            </script>        </div>"
      ]
     },
     "metadata": {},
     "output_type": "display_data"
    }
   ],
   "source": [
    "top_rated = books_data.sort_values('average_rating', ascending=False)\n",
    "tf_top_rated = top_rated[:25]\n",
    "fig1 = px.bar(tf_top_rated, x=\"average_rating\", y=\"original_title\", title='Top Rated Books and Their Ratings',\n",
    "             orientation='h', color='original_title', width=1500, height=700)\n",
    "fig1.show()"
   ]
  },
  {
   "cell_type": "code",
   "execution_count": 29,
   "metadata": {},
   "outputs": [
    {
     "data": {
      "text/plain": [
       "'https://plotly.com/~yashaswi2092/7/'"
      ]
     },
     "execution_count": 29,
     "metadata": {},
     "output_type": "execute_result"
    }
   ],
   "source": [
    "#Importing the graph in plotly dashboard\n",
    "py.plot(fig1, filename = 'top_rated_books', auto_open = True)"
   ]
  },
  {
   "cell_type": "code",
   "execution_count": 30,
   "metadata": {},
   "outputs": [
    {
     "data": {
      "text/plain": [
       "'<iframe id=\"igraph\" scrolling=\"no\" style=\"border:none;\" seamless=\"seamless\" src=\"https://plotly.com/~yashaswi2092/7.embed\" height=\"525\" width=\"100%\"></iframe>'"
      ]
     },
     "execution_count": 30,
     "metadata": {},
     "output_type": "execute_result"
    }
   ],
   "source": [
    "tls.get_embed('https://plotly.com/~yashaswi2092/7/#/')"
   ]
  },
  {
   "cell_type": "code",
   "execution_count": 23,
   "metadata": {},
   "outputs": [
    {
     "data": {
      "application/vnd.plotly.v1+json": {
       "config": {
        "plotlyServerURL": "https://plotly.com"
       },
       "data": [
        {
         "branchvalues": "total",
         "domain": {
          "x": [
           0,
           1
          ],
          "y": [
           0,
           1
          ]
         },
         "hovertemplate": "labels=%{label}<br>average_rating=%{value}<br>parent=%{parent}<br>id=%{id}<extra></extra>",
         "ids": [
          "A Song of Ice and Fire",
          "Attack of the Deranged Mutant Killer Monster Snow Goons: A Calvin and Hobbes Collection",
          "Calvin and Hobbes",
          "Complete Harry Potter Boxed Set",
          "Harry Potter Boxed Set Books 1-4",
          "Harry Potter Collection (Harry Potter, #1-6)",
          "Harry Potter and the Deathly Hallows",
          "Homicidal Psycho Jungle Cat: A Calvin and Hobbes Collection",
          "It's a Magical World: A Calvin and Hobbes Collection",
          "Mark of the Lion Trilogy",
          "The Absolute Sandman, Volume One",
          "The Authoritative Calvin and Hobbes",
          "The Calvin and Hobbes Lazy Sunday Book",
          "The Calvin and Hobbes Tenth Anniversary Book",
          "The Complete Calvin and Hobbes",
          "The Days Are Just Packed: A Calvin and Hobbes Collection",
          "The Essential Calvin and Hobbes: A Calvin and Hobbes Treasury",
          "The Hate U Give",
          "The Indispensable Calvin and Hobbes: A Calvin and Hobbes Treasury",
          "The Sandman: King of Dreams",
          "The Way of Kings",
          "The Way of Kings, Part 1",
          "There's Treasure Everywhere: A Calvin and Hobbes Collection",
          "Words of Radiance",
          "دیوان‎‎ [Dīvān]"
         ],
         "labels": [
          "A Song of Ice and Fire",
          "Attack of the Deranged Mutant Killer Monster Snow Goons: A Calvin and Hobbes Collection",
          "Calvin and Hobbes",
          "Complete Harry Potter Boxed Set",
          "Harry Potter Boxed Set Books 1-4",
          "Harry Potter Collection (Harry Potter, #1-6)",
          "Harry Potter and the Deathly Hallows",
          "Homicidal Psycho Jungle Cat: A Calvin and Hobbes Collection",
          "It's a Magical World: A Calvin and Hobbes Collection",
          "Mark of the Lion Trilogy",
          "The Absolute Sandman, Volume One",
          "The Authoritative Calvin and Hobbes",
          "The Calvin and Hobbes Lazy Sunday Book",
          "The Calvin and Hobbes Tenth Anniversary Book",
          "The Complete Calvin and Hobbes",
          "The Days Are Just Packed: A Calvin and Hobbes Collection",
          "The Essential Calvin and Hobbes: A Calvin and Hobbes Treasury",
          "The Hate U Give",
          "The Indispensable Calvin and Hobbes: A Calvin and Hobbes Treasury",
          "The Sandman: King of Dreams",
          "The Way of Kings",
          "The Way of Kings, Part 1",
          "There's Treasure Everywhere: A Calvin and Hobbes Collection",
          "Words of Radiance",
          "دیوان‎‎ [Dīvān]"
         ],
         "name": "",
         "parents": [
          "",
          "",
          "",
          "",
          "",
          "",
          "",
          "",
          "",
          "",
          "",
          "",
          "",
          "",
          "",
          "",
          "",
          "",
          "",
          "",
          "",
          "",
          "",
          "",
          ""
         ],
         "type": "treemap",
         "values": [
          4.63,
          4.72,
          4.61,
          4.74,
          4.66,
          4.73,
          4.61,
          4.71,
          4.75,
          4.76,
          4.65,
          4.73,
          4.66,
          4.63,
          4.82,
          4.68,
          4.65,
          4.62,
          4.73,
          4.61,
          4.64,
          4.67,
          4.74,
          4.77,
          4.63
         ]
        }
       ],
       "layout": {
        "height": 700,
        "legend": {
         "tracegroupgap": 0
        },
        "template": {
         "data": {
          "bar": [
           {
            "error_x": {
             "color": "#2a3f5f"
            },
            "error_y": {
             "color": "#2a3f5f"
            },
            "marker": {
             "line": {
              "color": "#E5ECF6",
              "width": 0.5
             }
            },
            "type": "bar"
           }
          ],
          "barpolar": [
           {
            "marker": {
             "line": {
              "color": "#E5ECF6",
              "width": 0.5
             }
            },
            "type": "barpolar"
           }
          ],
          "carpet": [
           {
            "aaxis": {
             "endlinecolor": "#2a3f5f",
             "gridcolor": "white",
             "linecolor": "white",
             "minorgridcolor": "white",
             "startlinecolor": "#2a3f5f"
            },
            "baxis": {
             "endlinecolor": "#2a3f5f",
             "gridcolor": "white",
             "linecolor": "white",
             "minorgridcolor": "white",
             "startlinecolor": "#2a3f5f"
            },
            "type": "carpet"
           }
          ],
          "choropleth": [
           {
            "colorbar": {
             "outlinewidth": 0,
             "ticks": ""
            },
            "type": "choropleth"
           }
          ],
          "contour": [
           {
            "colorbar": {
             "outlinewidth": 0,
             "ticks": ""
            },
            "colorscale": [
             [
              0,
              "#0d0887"
             ],
             [
              0.1111111111111111,
              "#46039f"
             ],
             [
              0.2222222222222222,
              "#7201a8"
             ],
             [
              0.3333333333333333,
              "#9c179e"
             ],
             [
              0.4444444444444444,
              "#bd3786"
             ],
             [
              0.5555555555555556,
              "#d8576b"
             ],
             [
              0.6666666666666666,
              "#ed7953"
             ],
             [
              0.7777777777777778,
              "#fb9f3a"
             ],
             [
              0.8888888888888888,
              "#fdca26"
             ],
             [
              1,
              "#f0f921"
             ]
            ],
            "type": "contour"
           }
          ],
          "contourcarpet": [
           {
            "colorbar": {
             "outlinewidth": 0,
             "ticks": ""
            },
            "type": "contourcarpet"
           }
          ],
          "heatmap": [
           {
            "colorbar": {
             "outlinewidth": 0,
             "ticks": ""
            },
            "colorscale": [
             [
              0,
              "#0d0887"
             ],
             [
              0.1111111111111111,
              "#46039f"
             ],
             [
              0.2222222222222222,
              "#7201a8"
             ],
             [
              0.3333333333333333,
              "#9c179e"
             ],
             [
              0.4444444444444444,
              "#bd3786"
             ],
             [
              0.5555555555555556,
              "#d8576b"
             ],
             [
              0.6666666666666666,
              "#ed7953"
             ],
             [
              0.7777777777777778,
              "#fb9f3a"
             ],
             [
              0.8888888888888888,
              "#fdca26"
             ],
             [
              1,
              "#f0f921"
             ]
            ],
            "type": "heatmap"
           }
          ],
          "heatmapgl": [
           {
            "colorbar": {
             "outlinewidth": 0,
             "ticks": ""
            },
            "colorscale": [
             [
              0,
              "#0d0887"
             ],
             [
              0.1111111111111111,
              "#46039f"
             ],
             [
              0.2222222222222222,
              "#7201a8"
             ],
             [
              0.3333333333333333,
              "#9c179e"
             ],
             [
              0.4444444444444444,
              "#bd3786"
             ],
             [
              0.5555555555555556,
              "#d8576b"
             ],
             [
              0.6666666666666666,
              "#ed7953"
             ],
             [
              0.7777777777777778,
              "#fb9f3a"
             ],
             [
              0.8888888888888888,
              "#fdca26"
             ],
             [
              1,
              "#f0f921"
             ]
            ],
            "type": "heatmapgl"
           }
          ],
          "histogram": [
           {
            "marker": {
             "colorbar": {
              "outlinewidth": 0,
              "ticks": ""
             }
            },
            "type": "histogram"
           }
          ],
          "histogram2d": [
           {
            "colorbar": {
             "outlinewidth": 0,
             "ticks": ""
            },
            "colorscale": [
             [
              0,
              "#0d0887"
             ],
             [
              0.1111111111111111,
              "#46039f"
             ],
             [
              0.2222222222222222,
              "#7201a8"
             ],
             [
              0.3333333333333333,
              "#9c179e"
             ],
             [
              0.4444444444444444,
              "#bd3786"
             ],
             [
              0.5555555555555556,
              "#d8576b"
             ],
             [
              0.6666666666666666,
              "#ed7953"
             ],
             [
              0.7777777777777778,
              "#fb9f3a"
             ],
             [
              0.8888888888888888,
              "#fdca26"
             ],
             [
              1,
              "#f0f921"
             ]
            ],
            "type": "histogram2d"
           }
          ],
          "histogram2dcontour": [
           {
            "colorbar": {
             "outlinewidth": 0,
             "ticks": ""
            },
            "colorscale": [
             [
              0,
              "#0d0887"
             ],
             [
              0.1111111111111111,
              "#46039f"
             ],
             [
              0.2222222222222222,
              "#7201a8"
             ],
             [
              0.3333333333333333,
              "#9c179e"
             ],
             [
              0.4444444444444444,
              "#bd3786"
             ],
             [
              0.5555555555555556,
              "#d8576b"
             ],
             [
              0.6666666666666666,
              "#ed7953"
             ],
             [
              0.7777777777777778,
              "#fb9f3a"
             ],
             [
              0.8888888888888888,
              "#fdca26"
             ],
             [
              1,
              "#f0f921"
             ]
            ],
            "type": "histogram2dcontour"
           }
          ],
          "mesh3d": [
           {
            "colorbar": {
             "outlinewidth": 0,
             "ticks": ""
            },
            "type": "mesh3d"
           }
          ],
          "parcoords": [
           {
            "line": {
             "colorbar": {
              "outlinewidth": 0,
              "ticks": ""
             }
            },
            "type": "parcoords"
           }
          ],
          "pie": [
           {
            "automargin": true,
            "type": "pie"
           }
          ],
          "scatter": [
           {
            "marker": {
             "colorbar": {
              "outlinewidth": 0,
              "ticks": ""
             }
            },
            "type": "scatter"
           }
          ],
          "scatter3d": [
           {
            "line": {
             "colorbar": {
              "outlinewidth": 0,
              "ticks": ""
             }
            },
            "marker": {
             "colorbar": {
              "outlinewidth": 0,
              "ticks": ""
             }
            },
            "type": "scatter3d"
           }
          ],
          "scattercarpet": [
           {
            "marker": {
             "colorbar": {
              "outlinewidth": 0,
              "ticks": ""
             }
            },
            "type": "scattercarpet"
           }
          ],
          "scattergeo": [
           {
            "marker": {
             "colorbar": {
              "outlinewidth": 0,
              "ticks": ""
             }
            },
            "type": "scattergeo"
           }
          ],
          "scattergl": [
           {
            "marker": {
             "colorbar": {
              "outlinewidth": 0,
              "ticks": ""
             }
            },
            "type": "scattergl"
           }
          ],
          "scattermapbox": [
           {
            "marker": {
             "colorbar": {
              "outlinewidth": 0,
              "ticks": ""
             }
            },
            "type": "scattermapbox"
           }
          ],
          "scatterpolar": [
           {
            "marker": {
             "colorbar": {
              "outlinewidth": 0,
              "ticks": ""
             }
            },
            "type": "scatterpolar"
           }
          ],
          "scatterpolargl": [
           {
            "marker": {
             "colorbar": {
              "outlinewidth": 0,
              "ticks": ""
             }
            },
            "type": "scatterpolargl"
           }
          ],
          "scatterternary": [
           {
            "marker": {
             "colorbar": {
              "outlinewidth": 0,
              "ticks": ""
             }
            },
            "type": "scatterternary"
           }
          ],
          "surface": [
           {
            "colorbar": {
             "outlinewidth": 0,
             "ticks": ""
            },
            "colorscale": [
             [
              0,
              "#0d0887"
             ],
             [
              0.1111111111111111,
              "#46039f"
             ],
             [
              0.2222222222222222,
              "#7201a8"
             ],
             [
              0.3333333333333333,
              "#9c179e"
             ],
             [
              0.4444444444444444,
              "#bd3786"
             ],
             [
              0.5555555555555556,
              "#d8576b"
             ],
             [
              0.6666666666666666,
              "#ed7953"
             ],
             [
              0.7777777777777778,
              "#fb9f3a"
             ],
             [
              0.8888888888888888,
              "#fdca26"
             ],
             [
              1,
              "#f0f921"
             ]
            ],
            "type": "surface"
           }
          ],
          "table": [
           {
            "cells": {
             "fill": {
              "color": "#EBF0F8"
             },
             "line": {
              "color": "white"
             }
            },
            "header": {
             "fill": {
              "color": "#C8D4E3"
             },
             "line": {
              "color": "white"
             }
            },
            "type": "table"
           }
          ]
         },
         "layout": {
          "annotationdefaults": {
           "arrowcolor": "#2a3f5f",
           "arrowhead": 0,
           "arrowwidth": 1
          },
          "coloraxis": {
           "colorbar": {
            "outlinewidth": 0,
            "ticks": ""
           }
          },
          "colorscale": {
           "diverging": [
            [
             0,
             "#8e0152"
            ],
            [
             0.1,
             "#c51b7d"
            ],
            [
             0.2,
             "#de77ae"
            ],
            [
             0.3,
             "#f1b6da"
            ],
            [
             0.4,
             "#fde0ef"
            ],
            [
             0.5,
             "#f7f7f7"
            ],
            [
             0.6,
             "#e6f5d0"
            ],
            [
             0.7,
             "#b8e186"
            ],
            [
             0.8,
             "#7fbc41"
            ],
            [
             0.9,
             "#4d9221"
            ],
            [
             1,
             "#276419"
            ]
           ],
           "sequential": [
            [
             0,
             "#0d0887"
            ],
            [
             0.1111111111111111,
             "#46039f"
            ],
            [
             0.2222222222222222,
             "#7201a8"
            ],
            [
             0.3333333333333333,
             "#9c179e"
            ],
            [
             0.4444444444444444,
             "#bd3786"
            ],
            [
             0.5555555555555556,
             "#d8576b"
            ],
            [
             0.6666666666666666,
             "#ed7953"
            ],
            [
             0.7777777777777778,
             "#fb9f3a"
            ],
            [
             0.8888888888888888,
             "#fdca26"
            ],
            [
             1,
             "#f0f921"
            ]
           ],
           "sequentialminus": [
            [
             0,
             "#0d0887"
            ],
            [
             0.1111111111111111,
             "#46039f"
            ],
            [
             0.2222222222222222,
             "#7201a8"
            ],
            [
             0.3333333333333333,
             "#9c179e"
            ],
            [
             0.4444444444444444,
             "#bd3786"
            ],
            [
             0.5555555555555556,
             "#d8576b"
            ],
            [
             0.6666666666666666,
             "#ed7953"
            ],
            [
             0.7777777777777778,
             "#fb9f3a"
            ],
            [
             0.8888888888888888,
             "#fdca26"
            ],
            [
             1,
             "#f0f921"
            ]
           ]
          },
          "colorway": [
           "#636efa",
           "#EF553B",
           "#00cc96",
           "#ab63fa",
           "#FFA15A",
           "#19d3f3",
           "#FF6692",
           "#B6E880",
           "#FF97FF",
           "#FECB52"
          ],
          "font": {
           "color": "#2a3f5f"
          },
          "geo": {
           "bgcolor": "white",
           "lakecolor": "white",
           "landcolor": "#E5ECF6",
           "showlakes": true,
           "showland": true,
           "subunitcolor": "white"
          },
          "hoverlabel": {
           "align": "left"
          },
          "hovermode": "closest",
          "mapbox": {
           "style": "light"
          },
          "paper_bgcolor": "white",
          "plot_bgcolor": "#E5ECF6",
          "polar": {
           "angularaxis": {
            "gridcolor": "white",
            "linecolor": "white",
            "ticks": ""
           },
           "bgcolor": "#E5ECF6",
           "radialaxis": {
            "gridcolor": "white",
            "linecolor": "white",
            "ticks": ""
           }
          },
          "scene": {
           "xaxis": {
            "backgroundcolor": "#E5ECF6",
            "gridcolor": "white",
            "gridwidth": 2,
            "linecolor": "white",
            "showbackground": true,
            "ticks": "",
            "zerolinecolor": "white"
           },
           "yaxis": {
            "backgroundcolor": "#E5ECF6",
            "gridcolor": "white",
            "gridwidth": 2,
            "linecolor": "white",
            "showbackground": true,
            "ticks": "",
            "zerolinecolor": "white"
           },
           "zaxis": {
            "backgroundcolor": "#E5ECF6",
            "gridcolor": "white",
            "gridwidth": 2,
            "linecolor": "white",
            "showbackground": true,
            "ticks": "",
            "zerolinecolor": "white"
           }
          },
          "shapedefaults": {
           "line": {
            "color": "#2a3f5f"
           }
          },
          "ternary": {
           "aaxis": {
            "gridcolor": "white",
            "linecolor": "white",
            "ticks": ""
           },
           "baxis": {
            "gridcolor": "white",
            "linecolor": "white",
            "ticks": ""
           },
           "bgcolor": "#E5ECF6",
           "caxis": {
            "gridcolor": "white",
            "linecolor": "white",
            "ticks": ""
           }
          },
          "title": {
           "x": 0.05
          },
          "xaxis": {
           "automargin": true,
           "gridcolor": "white",
           "linecolor": "white",
           "ticks": "",
           "title": {
            "standoff": 15
           },
           "zerolinecolor": "white",
           "zerolinewidth": 2
          },
          "yaxis": {
           "automargin": true,
           "gridcolor": "white",
           "linecolor": "white",
           "ticks": "",
           "title": {
            "standoff": 15
           },
           "zerolinecolor": "white",
           "zerolinewidth": 2
          }
         }
        },
        "title": {
         "text": "Top Rated Books"
        },
        "width": 1000
       }
      },
      "text/html": [
       "<div>                            <div id=\"60f630d0-e851-4de6-99cc-880be93164d1\" class=\"plotly-graph-div\" style=\"height:700px; width:1000px;\"></div>            <script type=\"text/javascript\">                require([\"plotly\"], function(Plotly) {                    window.PLOTLYENV=window.PLOTLYENV || {};                                    if (document.getElementById(\"60f630d0-e851-4de6-99cc-880be93164d1\")) {                    Plotly.newPlot(                        \"60f630d0-e851-4de6-99cc-880be93164d1\",                        [{\"branchvalues\": \"total\", \"domain\": {\"x\": [0.0, 1.0], \"y\": [0.0, 1.0]}, \"hovertemplate\": \"labels=%{label}<br>average_rating=%{value}<br>parent=%{parent}<br>id=%{id}<extra></extra>\", \"ids\": [\"A Song of Ice and Fire\", \"Attack of the Deranged Mutant Killer Monster Snow Goons: A Calvin and Hobbes Collection\", \"Calvin and Hobbes\", \"Complete Harry Potter Boxed Set\", \"Harry Potter Boxed Set Books 1-4\", \"Harry Potter Collection (Harry Potter, #1-6)\", \"Harry Potter and the Deathly Hallows\", \"Homicidal Psycho Jungle Cat: A Calvin and Hobbes Collection\", \"It's a Magical World: A Calvin and Hobbes Collection\", \"Mark of the Lion Trilogy\", \"The Absolute Sandman, Volume One\", \"The Authoritative Calvin and Hobbes\", \"The Calvin and Hobbes Lazy Sunday Book\", \"The Calvin and Hobbes Tenth Anniversary Book\", \"The Complete Calvin and Hobbes\", \"The Days Are Just Packed: A Calvin and Hobbes Collection\", \"The Essential Calvin and Hobbes: A Calvin and Hobbes Treasury\", \"The Hate U Give\", \"The Indispensable Calvin and Hobbes: A Calvin and Hobbes Treasury\", \"The Sandman: King of Dreams\", \"The Way of Kings\", \"The Way of Kings, Part 1\", \"There's Treasure Everywhere: A Calvin and Hobbes Collection\", \"Words of Radiance\", \"\\u062f\\u06cc\\u0648\\u0627\\u0646\\u200e\\u200e [D\\u012bv\\u0101n]\"], \"labels\": [\"A Song of Ice and Fire\", \"Attack of the Deranged Mutant Killer Monster Snow Goons: A Calvin and Hobbes Collection\", \"Calvin and Hobbes\", \"Complete Harry Potter Boxed Set\", \"Harry Potter Boxed Set Books 1-4\", \"Harry Potter Collection (Harry Potter, #1-6)\", \"Harry Potter and the Deathly Hallows\", \"Homicidal Psycho Jungle Cat: A Calvin and Hobbes Collection\", \"It's a Magical World: A Calvin and Hobbes Collection\", \"Mark of the Lion Trilogy\", \"The Absolute Sandman, Volume One\", \"The Authoritative Calvin and Hobbes\", \"The Calvin and Hobbes Lazy Sunday Book\", \"The Calvin and Hobbes Tenth Anniversary Book\", \"The Complete Calvin and Hobbes\", \"The Days Are Just Packed: A Calvin and Hobbes Collection\", \"The Essential Calvin and Hobbes: A Calvin and Hobbes Treasury\", \"The Hate U Give\", \"The Indispensable Calvin and Hobbes: A Calvin and Hobbes Treasury\", \"The Sandman: King of Dreams\", \"The Way of Kings\", \"The Way of Kings, Part 1\", \"There's Treasure Everywhere: A Calvin and Hobbes Collection\", \"Words of Radiance\", \"\\u062f\\u06cc\\u0648\\u0627\\u0646\\u200e\\u200e [D\\u012bv\\u0101n]\"], \"name\": \"\", \"parents\": [\"\", \"\", \"\", \"\", \"\", \"\", \"\", \"\", \"\", \"\", \"\", \"\", \"\", \"\", \"\", \"\", \"\", \"\", \"\", \"\", \"\", \"\", \"\", \"\", \"\"], \"type\": \"treemap\", \"values\": [4.63, 4.72, 4.61, 4.74, 4.66, 4.73, 4.61, 4.71, 4.75, 4.76, 4.65, 4.73, 4.66, 4.63, 4.82, 4.68, 4.65, 4.62, 4.73, 4.61, 4.64, 4.67, 4.74, 4.77, 4.63]}],                        {\"height\": 700, \"legend\": {\"tracegroupgap\": 0}, \"template\": {\"data\": {\"bar\": [{\"error_x\": {\"color\": \"#2a3f5f\"}, \"error_y\": {\"color\": \"#2a3f5f\"}, \"marker\": {\"line\": {\"color\": \"#E5ECF6\", \"width\": 0.5}}, \"type\": \"bar\"}], \"barpolar\": [{\"marker\": {\"line\": {\"color\": \"#E5ECF6\", \"width\": 0.5}}, \"type\": \"barpolar\"}], \"carpet\": [{\"aaxis\": {\"endlinecolor\": \"#2a3f5f\", \"gridcolor\": \"white\", \"linecolor\": \"white\", \"minorgridcolor\": \"white\", \"startlinecolor\": \"#2a3f5f\"}, \"baxis\": {\"endlinecolor\": \"#2a3f5f\", \"gridcolor\": \"white\", \"linecolor\": \"white\", \"minorgridcolor\": \"white\", \"startlinecolor\": \"#2a3f5f\"}, \"type\": \"carpet\"}], \"choropleth\": [{\"colorbar\": {\"outlinewidth\": 0, \"ticks\": \"\"}, \"type\": \"choropleth\"}], \"contour\": [{\"colorbar\": {\"outlinewidth\": 0, \"ticks\": \"\"}, \"colorscale\": [[0.0, \"#0d0887\"], [0.1111111111111111, \"#46039f\"], [0.2222222222222222, \"#7201a8\"], [0.3333333333333333, \"#9c179e\"], [0.4444444444444444, \"#bd3786\"], [0.5555555555555556, \"#d8576b\"], [0.6666666666666666, \"#ed7953\"], [0.7777777777777778, \"#fb9f3a\"], [0.8888888888888888, \"#fdca26\"], [1.0, \"#f0f921\"]], \"type\": \"contour\"}], \"contourcarpet\": [{\"colorbar\": {\"outlinewidth\": 0, \"ticks\": \"\"}, \"type\": \"contourcarpet\"}], \"heatmap\": [{\"colorbar\": {\"outlinewidth\": 0, \"ticks\": \"\"}, \"colorscale\": [[0.0, \"#0d0887\"], [0.1111111111111111, \"#46039f\"], [0.2222222222222222, \"#7201a8\"], [0.3333333333333333, \"#9c179e\"], [0.4444444444444444, \"#bd3786\"], [0.5555555555555556, \"#d8576b\"], [0.6666666666666666, \"#ed7953\"], [0.7777777777777778, \"#fb9f3a\"], [0.8888888888888888, \"#fdca26\"], [1.0, \"#f0f921\"]], \"type\": \"heatmap\"}], \"heatmapgl\": [{\"colorbar\": {\"outlinewidth\": 0, \"ticks\": \"\"}, \"colorscale\": [[0.0, \"#0d0887\"], [0.1111111111111111, \"#46039f\"], [0.2222222222222222, \"#7201a8\"], [0.3333333333333333, \"#9c179e\"], [0.4444444444444444, \"#bd3786\"], [0.5555555555555556, \"#d8576b\"], [0.6666666666666666, \"#ed7953\"], [0.7777777777777778, \"#fb9f3a\"], [0.8888888888888888, \"#fdca26\"], [1.0, \"#f0f921\"]], \"type\": \"heatmapgl\"}], \"histogram\": [{\"marker\": {\"colorbar\": {\"outlinewidth\": 0, \"ticks\": \"\"}}, \"type\": \"histogram\"}], \"histogram2d\": [{\"colorbar\": {\"outlinewidth\": 0, \"ticks\": \"\"}, \"colorscale\": [[0.0, \"#0d0887\"], [0.1111111111111111, \"#46039f\"], [0.2222222222222222, \"#7201a8\"], [0.3333333333333333, \"#9c179e\"], [0.4444444444444444, \"#bd3786\"], [0.5555555555555556, \"#d8576b\"], [0.6666666666666666, \"#ed7953\"], [0.7777777777777778, \"#fb9f3a\"], [0.8888888888888888, \"#fdca26\"], [1.0, \"#f0f921\"]], \"type\": \"histogram2d\"}], \"histogram2dcontour\": [{\"colorbar\": {\"outlinewidth\": 0, \"ticks\": \"\"}, \"colorscale\": [[0.0, \"#0d0887\"], [0.1111111111111111, \"#46039f\"], [0.2222222222222222, \"#7201a8\"], [0.3333333333333333, \"#9c179e\"], [0.4444444444444444, \"#bd3786\"], [0.5555555555555556, \"#d8576b\"], [0.6666666666666666, \"#ed7953\"], [0.7777777777777778, \"#fb9f3a\"], [0.8888888888888888, \"#fdca26\"], [1.0, \"#f0f921\"]], \"type\": \"histogram2dcontour\"}], \"mesh3d\": [{\"colorbar\": {\"outlinewidth\": 0, \"ticks\": \"\"}, \"type\": \"mesh3d\"}], \"parcoords\": [{\"line\": {\"colorbar\": {\"outlinewidth\": 0, \"ticks\": \"\"}}, \"type\": \"parcoords\"}], \"pie\": [{\"automargin\": true, \"type\": \"pie\"}], \"scatter\": [{\"marker\": {\"colorbar\": {\"outlinewidth\": 0, \"ticks\": \"\"}}, \"type\": \"scatter\"}], \"scatter3d\": [{\"line\": {\"colorbar\": {\"outlinewidth\": 0, \"ticks\": \"\"}}, \"marker\": {\"colorbar\": {\"outlinewidth\": 0, \"ticks\": \"\"}}, \"type\": \"scatter3d\"}], \"scattercarpet\": [{\"marker\": {\"colorbar\": {\"outlinewidth\": 0, \"ticks\": \"\"}}, \"type\": \"scattercarpet\"}], \"scattergeo\": [{\"marker\": {\"colorbar\": {\"outlinewidth\": 0, \"ticks\": \"\"}}, \"type\": \"scattergeo\"}], \"scattergl\": [{\"marker\": {\"colorbar\": {\"outlinewidth\": 0, \"ticks\": \"\"}}, \"type\": \"scattergl\"}], \"scattermapbox\": [{\"marker\": {\"colorbar\": {\"outlinewidth\": 0, \"ticks\": \"\"}}, \"type\": \"scattermapbox\"}], \"scatterpolar\": [{\"marker\": {\"colorbar\": {\"outlinewidth\": 0, \"ticks\": \"\"}}, \"type\": \"scatterpolar\"}], \"scatterpolargl\": [{\"marker\": {\"colorbar\": {\"outlinewidth\": 0, \"ticks\": \"\"}}, \"type\": \"scatterpolargl\"}], \"scatterternary\": [{\"marker\": {\"colorbar\": {\"outlinewidth\": 0, \"ticks\": \"\"}}, \"type\": \"scatterternary\"}], \"surface\": [{\"colorbar\": {\"outlinewidth\": 0, \"ticks\": \"\"}, \"colorscale\": [[0.0, \"#0d0887\"], [0.1111111111111111, \"#46039f\"], [0.2222222222222222, \"#7201a8\"], [0.3333333333333333, \"#9c179e\"], [0.4444444444444444, \"#bd3786\"], [0.5555555555555556, \"#d8576b\"], [0.6666666666666666, \"#ed7953\"], [0.7777777777777778, \"#fb9f3a\"], [0.8888888888888888, \"#fdca26\"], [1.0, \"#f0f921\"]], \"type\": \"surface\"}], \"table\": [{\"cells\": {\"fill\": {\"color\": \"#EBF0F8\"}, \"line\": {\"color\": \"white\"}}, \"header\": {\"fill\": {\"color\": \"#C8D4E3\"}, \"line\": {\"color\": \"white\"}}, \"type\": \"table\"}]}, \"layout\": {\"annotationdefaults\": {\"arrowcolor\": \"#2a3f5f\", \"arrowhead\": 0, \"arrowwidth\": 1}, \"coloraxis\": {\"colorbar\": {\"outlinewidth\": 0, \"ticks\": \"\"}}, \"colorscale\": {\"diverging\": [[0, \"#8e0152\"], [0.1, \"#c51b7d\"], [0.2, \"#de77ae\"], [0.3, \"#f1b6da\"], [0.4, \"#fde0ef\"], [0.5, \"#f7f7f7\"], [0.6, \"#e6f5d0\"], [0.7, \"#b8e186\"], [0.8, \"#7fbc41\"], [0.9, \"#4d9221\"], [1, \"#276419\"]], \"sequential\": [[0.0, \"#0d0887\"], [0.1111111111111111, \"#46039f\"], [0.2222222222222222, \"#7201a8\"], [0.3333333333333333, \"#9c179e\"], [0.4444444444444444, \"#bd3786\"], [0.5555555555555556, \"#d8576b\"], [0.6666666666666666, \"#ed7953\"], [0.7777777777777778, \"#fb9f3a\"], [0.8888888888888888, \"#fdca26\"], [1.0, \"#f0f921\"]], \"sequentialminus\": [[0.0, \"#0d0887\"], [0.1111111111111111, \"#46039f\"], [0.2222222222222222, \"#7201a8\"], [0.3333333333333333, \"#9c179e\"], [0.4444444444444444, \"#bd3786\"], [0.5555555555555556, \"#d8576b\"], [0.6666666666666666, \"#ed7953\"], [0.7777777777777778, \"#fb9f3a\"], [0.8888888888888888, \"#fdca26\"], [1.0, \"#f0f921\"]]}, \"colorway\": [\"#636efa\", \"#EF553B\", \"#00cc96\", \"#ab63fa\", \"#FFA15A\", \"#19d3f3\", \"#FF6692\", \"#B6E880\", \"#FF97FF\", \"#FECB52\"], \"font\": {\"color\": \"#2a3f5f\"}, \"geo\": {\"bgcolor\": \"white\", \"lakecolor\": \"white\", \"landcolor\": \"#E5ECF6\", \"showlakes\": true, \"showland\": true, \"subunitcolor\": \"white\"}, \"hoverlabel\": {\"align\": \"left\"}, \"hovermode\": \"closest\", \"mapbox\": {\"style\": \"light\"}, \"paper_bgcolor\": \"white\", \"plot_bgcolor\": \"#E5ECF6\", \"polar\": {\"angularaxis\": {\"gridcolor\": \"white\", \"linecolor\": \"white\", \"ticks\": \"\"}, \"bgcolor\": \"#E5ECF6\", \"radialaxis\": {\"gridcolor\": \"white\", \"linecolor\": \"white\", \"ticks\": \"\"}}, \"scene\": {\"xaxis\": {\"backgroundcolor\": \"#E5ECF6\", \"gridcolor\": \"white\", \"gridwidth\": 2, \"linecolor\": \"white\", \"showbackground\": true, \"ticks\": \"\", \"zerolinecolor\": \"white\"}, \"yaxis\": {\"backgroundcolor\": \"#E5ECF6\", \"gridcolor\": \"white\", \"gridwidth\": 2, \"linecolor\": \"white\", \"showbackground\": true, \"ticks\": \"\", \"zerolinecolor\": \"white\"}, \"zaxis\": {\"backgroundcolor\": \"#E5ECF6\", \"gridcolor\": \"white\", \"gridwidth\": 2, \"linecolor\": \"white\", \"showbackground\": true, \"ticks\": \"\", \"zerolinecolor\": \"white\"}}, \"shapedefaults\": {\"line\": {\"color\": \"#2a3f5f\"}}, \"ternary\": {\"aaxis\": {\"gridcolor\": \"white\", \"linecolor\": \"white\", \"ticks\": \"\"}, \"baxis\": {\"gridcolor\": \"white\", \"linecolor\": \"white\", \"ticks\": \"\"}, \"bgcolor\": \"#E5ECF6\", \"caxis\": {\"gridcolor\": \"white\", \"linecolor\": \"white\", \"ticks\": \"\"}}, \"title\": {\"x\": 0.05}, \"xaxis\": {\"automargin\": true, \"gridcolor\": \"white\", \"linecolor\": \"white\", \"ticks\": \"\", \"title\": {\"standoff\": 15}, \"zerolinecolor\": \"white\", \"zerolinewidth\": 2}, \"yaxis\": {\"automargin\": true, \"gridcolor\": \"white\", \"linecolor\": \"white\", \"ticks\": \"\", \"title\": {\"standoff\": 15}, \"zerolinecolor\": \"white\", \"zerolinewidth\": 2}}}, \"title\": {\"text\": \"Top Rated Books\"}, \"width\": 1000},                        {\"responsive\": true}                    ).then(function(){\n",
       "                            \n",
       "var gd = document.getElementById('60f630d0-e851-4de6-99cc-880be93164d1');\n",
       "var x = new MutationObserver(function (mutations, observer) {{\n",
       "        var display = window.getComputedStyle(gd).display;\n",
       "        if (!display || display === 'none') {{\n",
       "            console.log([gd, 'removed!']);\n",
       "            Plotly.purge(gd);\n",
       "            observer.disconnect();\n",
       "        }}\n",
       "}});\n",
       "\n",
       "// Listen for the removal of the full notebook cells\n",
       "var notebookContainer = gd.closest('#notebook-container');\n",
       "if (notebookContainer) {{\n",
       "    x.observe(notebookContainer, {childList: true});\n",
       "}}\n",
       "\n",
       "// Listen for the clearing of the current output cell\n",
       "var outputEl = gd.closest('.output');\n",
       "if (outputEl) {{\n",
       "    x.observe(outputEl, {childList: true});\n",
       "}}\n",
       "\n",
       "                        })                };                });            </script>        </div>"
      ]
     },
     "metadata": {},
     "output_type": "display_data"
    }
   ],
   "source": [
    "fig2 = px.treemap(tf_top_rated, path=['original_title'], values='average_rating',title='Top Rated Books', width=1000, height=700)\n",
    "fig2.show()"
   ]
  },
  {
   "cell_type": "code",
   "execution_count": 25,
   "metadata": {},
   "outputs": [
    {
     "data": {
      "text/plain": [
       "'https://plotly.com/~yashaswi2092/5/'"
      ]
     },
     "execution_count": 25,
     "metadata": {},
     "output_type": "execute_result"
    }
   ],
   "source": [
    "#Importing the graph in plotly dashboard\n",
    "py.plot(fig2, filename = 'top_rated_books_tree', auto_open = True)"
   ]
  },
  {
   "cell_type": "code",
   "execution_count": 27,
   "metadata": {},
   "outputs": [
    {
     "data": {
      "text/plain": [
       "'<iframe id=\"igraph\" scrolling=\"no\" style=\"border:none;\" seamless=\"seamless\" src=\"https://plotly.com/~yashaswi2092/5.embed\" height=\"525\" width=\"100%\"></iframe>'"
      ]
     },
     "execution_count": 27,
     "metadata": {},
     "output_type": "execute_result"
    }
   ],
   "source": [
    "tls.get_embed('https://plotly.com/~yashaswi2092/5/')"
   ]
  },
  {
   "cell_type": "markdown",
   "metadata": {},
   "source": [
    "## Most Popular Books"
   ]
  },
  {
   "cell_type": "code",
   "execution_count": 31,
   "metadata": {},
   "outputs": [
    {
     "data": {
      "application/vnd.plotly.v1+json": {
       "config": {
        "plotlyServerURL": "https://plot.ly"
       },
       "data": [
        {
         "alignmentgroup": "True",
         "hovertemplate": "original_title=%{y}<br>ratings_count=%{x}<extra></extra>",
         "legendgroup": "The Hunger Games",
         "marker": {
          "color": "#636efa"
         },
         "name": "The Hunger Games",
         "offsetgroup": "The Hunger Games",
         "orientation": "h",
         "showlegend": true,
         "textposition": "auto",
         "type": "bar",
         "x": [
          4780653
         ],
         "xaxis": "x",
         "y": [
          "The Hunger Games"
         ],
         "yaxis": "y"
        },
        {
         "alignmentgroup": "True",
         "hovertemplate": "original_title=%{y}<br>ratings_count=%{x}<extra></extra>",
         "legendgroup": "Harry Potter and the Philosopher's Stone",
         "marker": {
          "color": "#EF553B"
         },
         "name": "Harry Potter and the Philosopher's Stone",
         "offsetgroup": "Harry Potter and the Philosopher's Stone",
         "orientation": "h",
         "showlegend": true,
         "textposition": "auto",
         "type": "bar",
         "x": [
          4602479
         ],
         "xaxis": "x",
         "y": [
          "Harry Potter and the Philosopher's Stone"
         ],
         "yaxis": "y"
        },
        {
         "alignmentgroup": "True",
         "hovertemplate": "original_title=%{y}<br>ratings_count=%{x}<extra></extra>",
         "legendgroup": "To Kill a Mockingbird",
         "marker": {
          "color": "#00cc96"
         },
         "name": "To Kill a Mockingbird",
         "offsetgroup": "To Kill a Mockingbird",
         "orientation": "h",
         "showlegend": true,
         "textposition": "auto",
         "type": "bar",
         "x": [
          3198671
         ],
         "xaxis": "x",
         "y": [
          "To Kill a Mockingbird"
         ],
         "yaxis": "y"
        },
        {
         "alignmentgroup": "True",
         "hovertemplate": "original_title=%{y}<br>ratings_count=%{x}<extra></extra>",
         "legendgroup": "The Great Gatsby",
         "marker": {
          "color": "#ab63fa"
         },
         "name": "The Great Gatsby",
         "offsetgroup": "The Great Gatsby",
         "orientation": "h",
         "showlegend": true,
         "textposition": "auto",
         "type": "bar",
         "x": [
          2683664
         ],
         "xaxis": "x",
         "y": [
          "The Great Gatsby"
         ],
         "yaxis": "y"
        },
        {
         "alignmentgroup": "True",
         "hovertemplate": "original_title=%{y}<br>ratings_count=%{x}<extra></extra>",
         "legendgroup": "The Fault in Our Stars",
         "marker": {
          "color": "#FFA15A"
         },
         "name": "The Fault in Our Stars",
         "offsetgroup": "The Fault in Our Stars",
         "orientation": "h",
         "showlegend": true,
         "textposition": "auto",
         "type": "bar",
         "x": [
          2346404
         ],
         "xaxis": "x",
         "y": [
          "The Fault in Our Stars"
         ],
         "yaxis": "y"
        },
        {
         "alignmentgroup": "True",
         "hovertemplate": "original_title=%{y}<br>ratings_count=%{x}<extra></extra>",
         "legendgroup": "The Hobbit or There and Back Again",
         "marker": {
          "color": "#19d3f3"
         },
         "name": "The Hobbit or There and Back Again",
         "offsetgroup": "The Hobbit or There and Back Again",
         "orientation": "h",
         "showlegend": true,
         "textposition": "auto",
         "type": "bar",
         "x": [
          2071616
         ],
         "xaxis": "x",
         "y": [
          "The Hobbit or There and Back Again"
         ],
         "yaxis": "y"
        },
        {
         "alignmentgroup": "True",
         "hovertemplate": "original_title=%{y}<br>ratings_count=%{x}<extra></extra>",
         "legendgroup": "The Catcher in the Rye",
         "marker": {
          "color": "#FF6692"
         },
         "name": "The Catcher in the Rye",
         "offsetgroup": "The Catcher in the Rye",
         "orientation": "h",
         "showlegend": true,
         "textposition": "auto",
         "type": "bar",
         "x": [
          2044241
         ],
         "xaxis": "x",
         "y": [
          "The Catcher in the Rye"
         ],
         "yaxis": "y"
        },
        {
         "alignmentgroup": "True",
         "hovertemplate": "original_title=%{y}<br>ratings_count=%{x}<extra></extra>",
         "legendgroup": "Pride and Prejudice",
         "marker": {
          "color": "#B6E880"
         },
         "name": "Pride and Prejudice",
         "offsetgroup": "Pride and Prejudice",
         "orientation": "h",
         "showlegend": true,
         "textposition": "auto",
         "type": "bar",
         "x": [
          2035490
         ],
         "xaxis": "x",
         "y": [
          "Pride and Prejudice"
         ],
         "yaxis": "y"
        },
        {
         "alignmentgroup": "True",
         "hovertemplate": "original_title=%{y}<br>ratings_count=%{x}<extra></extra>",
         "legendgroup": "Angels & Demons ",
         "marker": {
          "color": "#FF97FF"
         },
         "name": "Angels & Demons ",
         "offsetgroup": "Angels & Demons ",
         "orientation": "h",
         "showlegend": true,
         "textposition": "auto",
         "type": "bar",
         "x": [
          2001311
         ],
         "xaxis": "x",
         "y": [
          "Angels & Demons "
         ],
         "yaxis": "y"
        },
        {
         "alignmentgroup": "True",
         "hovertemplate": "original_title=%{y}<br>ratings_count=%{x}<extra></extra>",
         "legendgroup": "Het Achterhuis: Dagboekbrieven 14 juni 1942 - 1 augustus 1944",
         "marker": {
          "color": "#FECB52"
         },
         "name": "Het Achterhuis: Dagboekbrieven 14 juni 1942 - 1 augustus 1944",
         "offsetgroup": "Het Achterhuis: Dagboekbrieven 14 juni 1942 - 1 augustus 1944",
         "orientation": "h",
         "showlegend": true,
         "textposition": "auto",
         "type": "bar",
         "x": [
          1972666
         ],
         "xaxis": "x",
         "y": [
          "Het Achterhuis: Dagboekbrieven 14 juni 1942 - 1 augustus 1944"
         ],
         "yaxis": "y"
        },
        {
         "alignmentgroup": "True",
         "hovertemplate": "original_title=%{y}<br>ratings_count=%{x}<extra></extra>",
         "legendgroup": "Nineteen Eighty-Four",
         "marker": {
          "color": "#636efa"
         },
         "name": "Nineteen Eighty-Four",
         "offsetgroup": "Nineteen Eighty-Four",
         "orientation": "h",
         "showlegend": true,
         "textposition": "auto",
         "type": "bar",
         "x": [
          1956832
         ],
         "xaxis": "x",
         "y": [
          "Nineteen Eighty-Four"
         ],
         "yaxis": "y"
        },
        {
         "alignmentgroup": "True",
         "hovertemplate": "original_title=%{y}<br>ratings_count=%{x}<extra></extra>",
         "legendgroup": "Divergent",
         "marker": {
          "color": "#EF553B"
         },
         "name": "Divergent",
         "offsetgroup": "Divergent",
         "orientation": "h",
         "showlegend": true,
         "textposition": "auto",
         "type": "bar",
         "x": [
          1903563
         ],
         "xaxis": "x",
         "y": [
          "Divergent"
         ],
         "yaxis": "y"
        },
        {
         "alignmentgroup": "True",
         "hovertemplate": "original_title=%{y}<br>ratings_count=%{x}<extra></extra>",
         "legendgroup": "Animal Farm: A Fairy Story",
         "marker": {
          "color": "#00cc96"
         },
         "name": "Animal Farm: A Fairy Story",
         "offsetgroup": "Animal Farm: A Fairy Story",
         "orientation": "h",
         "showlegend": true,
         "textposition": "auto",
         "type": "bar",
         "x": [
          1881700
         ],
         "xaxis": "x",
         "y": [
          "Animal Farm: A Fairy Story"
         ],
         "yaxis": "y"
        },
        {
         "alignmentgroup": "True",
         "hovertemplate": "original_title=%{y}<br>ratings_count=%{x}<extra></extra>",
         "legendgroup": "Harry Potter and the Prisoner of Azkaban",
         "marker": {
          "color": "#ab63fa"
         },
         "name": "Harry Potter and the Prisoner of Azkaban",
         "offsetgroup": "Harry Potter and the Prisoner of Azkaban",
         "orientation": "h",
         "showlegend": true,
         "textposition": "auto",
         "type": "bar",
         "x": [
          1832823
         ],
         "xaxis": "x",
         "y": [
          "Harry Potter and the Prisoner of Azkaban"
         ],
         "yaxis": "y"
        },
        {
         "alignmentgroup": "True",
         "hovertemplate": "original_title=%{y}<br>ratings_count=%{x}<extra></extra>",
         "legendgroup": "Catching Fire",
         "marker": {
          "color": "#FFA15A"
         },
         "name": "Catching Fire",
         "offsetgroup": "Catching Fire",
         "orientation": "h",
         "showlegend": true,
         "textposition": "auto",
         "type": "bar",
         "x": [
          1831039
         ],
         "xaxis": "x",
         "y": [
          "Catching Fire"
         ],
         "yaxis": "y"
        },
        {
         "alignmentgroup": "True",
         "hovertemplate": "original_title=%{y}<br>ratings_count=%{x}<extra></extra>",
         "legendgroup": "The Kite Runner ",
         "marker": {
          "color": "#19d3f3"
         },
         "name": "The Kite Runner ",
         "offsetgroup": "The Kite Runner ",
         "orientation": "h",
         "showlegend": true,
         "textposition": "auto",
         "type": "bar",
         "x": [
          1813044
         ],
         "xaxis": "x",
         "y": [
          "The Kite Runner "
         ],
         "yaxis": "y"
        },
        {
         "alignmentgroup": "True",
         "hovertemplate": "original_title=%{y}<br>ratings_count=%{x}<extra></extra>",
         "legendgroup": "Män som hatar kvinnor",
         "marker": {
          "color": "#FF6692"
         },
         "name": "Män som hatar kvinnor",
         "offsetgroup": "Män som hatar kvinnor",
         "orientation": "h",
         "showlegend": true,
         "textposition": "auto",
         "type": "bar",
         "x": [
          1808403
         ],
         "xaxis": "x",
         "y": [
          "Män som hatar kvinnor"
         ],
         "yaxis": "y"
        },
        {
         "alignmentgroup": "True",
         "hovertemplate": "original_title=%{y}<br>ratings_count=%{x}<extra></extra>",
         "legendgroup": "Harry Potter and the Chamber of Secrets",
         "marker": {
          "color": "#B6E880"
         },
         "name": "Harry Potter and the Chamber of Secrets",
         "offsetgroup": "Harry Potter and the Chamber of Secrets",
         "orientation": "h",
         "showlegend": true,
         "textposition": "auto",
         "type": "bar",
         "x": [
          1779331
         ],
         "xaxis": "x",
         "y": [
          "Harry Potter and the Chamber of Secrets"
         ],
         "yaxis": "y"
        },
        {
         "alignmentgroup": "True",
         "hovertemplate": "original_title=%{y}<br>ratings_count=%{x}<extra></extra>",
         "legendgroup": " The Fellowship of the Ring",
         "marker": {
          "color": "#FF97FF"
         },
         "name": " The Fellowship of the Ring",
         "offsetgroup": " The Fellowship of the Ring",
         "orientation": "h",
         "showlegend": true,
         "textposition": "auto",
         "type": "bar",
         "x": [
          1766803
         ],
         "xaxis": "x",
         "y": [
          " The Fellowship of the Ring"
         ],
         "yaxis": "y"
        },
        {
         "alignmentgroup": "True",
         "hovertemplate": "original_title=%{y}<br>ratings_count=%{x}<extra></extra>",
         "legendgroup": "Harry Potter and the Goblet of Fire",
         "marker": {
          "color": "#FECB52"
         },
         "name": "Harry Potter and the Goblet of Fire",
         "offsetgroup": "Harry Potter and the Goblet of Fire",
         "orientation": "h",
         "showlegend": true,
         "textposition": "auto",
         "type": "bar",
         "x": [
          1753043
         ],
         "xaxis": "x",
         "y": [
          "Harry Potter and the Goblet of Fire"
         ],
         "yaxis": "y"
        },
        {
         "alignmentgroup": "True",
         "hovertemplate": "original_title=%{y}<br>ratings_count=%{x}<extra></extra>",
         "legendgroup": "Harry Potter and the Deathly Hallows",
         "marker": {
          "color": "#636efa"
         },
         "name": "Harry Potter and the Deathly Hallows",
         "offsetgroup": "Harry Potter and the Deathly Hallows",
         "orientation": "h",
         "showlegend": true,
         "textposition": "auto",
         "type": "bar",
         "x": [
          1746574
         ],
         "xaxis": "x",
         "y": [
          "Harry Potter and the Deathly Hallows"
         ],
         "yaxis": "y"
        },
        {
         "alignmentgroup": "True",
         "hovertemplate": "original_title=%{y}<br>ratings_count=%{x}<extra></extra>",
         "legendgroup": "Harry Potter and the Order of the Phoenix",
         "marker": {
          "color": "#EF553B"
         },
         "name": "Harry Potter and the Order of the Phoenix",
         "offsetgroup": "Harry Potter and the Order of the Phoenix",
         "orientation": "h",
         "showlegend": true,
         "textposition": "auto",
         "type": "bar",
         "x": [
          1735368
         ],
         "xaxis": "x",
         "y": [
          "Harry Potter and the Order of the Phoenix"
         ],
         "yaxis": "y"
        },
        {
         "alignmentgroup": "True",
         "hovertemplate": "original_title=%{y}<br>ratings_count=%{x}<extra></extra>",
         "legendgroup": "Mockingjay",
         "marker": {
          "color": "#00cc96"
         },
         "name": "Mockingjay",
         "offsetgroup": "Mockingjay",
         "orientation": "h",
         "showlegend": true,
         "textposition": "auto",
         "type": "bar",
         "x": [
          1719760
         ],
         "xaxis": "x",
         "y": [
          "Mockingjay"
         ],
         "yaxis": "y"
        },
        {
         "alignmentgroup": "True",
         "hovertemplate": "original_title=%{y}<br>ratings_count=%{x}<extra></extra>",
         "legendgroup": "Harry Potter and the Half-Blood Prince",
         "marker": {
          "color": "#ab63fa"
         },
         "name": "Harry Potter and the Half-Blood Prince",
         "offsetgroup": "Harry Potter and the Half-Blood Prince",
         "orientation": "h",
         "showlegend": true,
         "textposition": "auto",
         "type": "bar",
         "x": [
          1678823
         ],
         "xaxis": "x",
         "y": [
          "Harry Potter and the Half-Blood Prince"
         ],
         "yaxis": "y"
        },
        {
         "alignmentgroup": "True",
         "hovertemplate": "original_title=%{y}<br>ratings_count=%{x}<extra></extra>",
         "legendgroup": "An Excellent conceited Tragedie of Romeo and Juliet",
         "marker": {
          "color": "#FFA15A"
         },
         "name": "An Excellent conceited Tragedie of Romeo and Juliet",
         "offsetgroup": "An Excellent conceited Tragedie of Romeo and Juliet",
         "orientation": "h",
         "showlegend": true,
         "textposition": "auto",
         "type": "bar",
         "x": [
          1628519
         ],
         "xaxis": "x",
         "y": [
          "An Excellent conceited Tragedie of Romeo and Juliet"
         ],
         "yaxis": "y"
        },
        {
         "alignmentgroup": "True",
         "hovertemplate": "original_title=%{y}<br>ratings_count=%{x}<extra></extra>",
         "legendgroup": "The Lovely Bones",
         "marker": {
          "color": "#19d3f3"
         },
         "name": "The Lovely Bones",
         "offsetgroup": "The Lovely Bones",
         "orientation": "h",
         "showlegend": true,
         "textposition": "auto",
         "type": "bar",
         "x": [
          1605173
         ],
         "xaxis": "x",
         "y": [
          "The Lovely Bones"
         ],
         "yaxis": "y"
        },
        {
         "alignmentgroup": "True",
         "hovertemplate": "original_title=%{y}<br>ratings_count=%{x}<extra></extra>",
         "legendgroup": "Lord of the Flies ",
         "marker": {
          "color": "#FF6692"
         },
         "name": "Lord of the Flies ",
         "offsetgroup": "Lord of the Flies ",
         "orientation": "h",
         "showlegend": true,
         "textposition": "auto",
         "type": "bar",
         "x": [
          1605019
         ],
         "xaxis": "x",
         "y": [
          "Lord of the Flies "
         ],
         "yaxis": "y"
        },
        {
         "alignmentgroup": "True",
         "hovertemplate": "original_title=%{y}<br>ratings_count=%{x}<extra></extra>",
         "legendgroup": "The Lion, the Witch and the Wardrobe",
         "marker": {
          "color": "#B6E880"
         },
         "name": "The Lion, the Witch and the Wardrobe",
         "offsetgroup": "The Lion, the Witch and the Wardrobe",
         "orientation": "h",
         "showlegend": true,
         "textposition": "auto",
         "type": "bar",
         "x": [
          1531800
         ],
         "xaxis": "x",
         "y": [
          "The Lion, the Witch and the Wardrobe"
         ],
         "yaxis": "y"
        },
        {
         "alignmentgroup": "True",
         "hovertemplate": "original_title=%{y}<br>ratings_count=%{x}<extra></extra>",
         "legendgroup": "The Help",
         "marker": {
          "color": "#FF97FF"
         },
         "name": "The Help",
         "offsetgroup": "The Help",
         "orientation": "h",
         "showlegend": true,
         "textposition": "auto",
         "type": "bar",
         "x": [
          1531753
         ],
         "xaxis": "x",
         "y": [
          "The Help"
         ],
         "yaxis": "y"
        },
        {
         "alignmentgroup": "True",
         "hovertemplate": "original_title=%{y}<br>ratings_count=%{x}<extra></extra>",
         "legendgroup": "Of Mice and Men ",
         "marker": {
          "color": "#FECB52"
         },
         "name": "Of Mice and Men ",
         "offsetgroup": "Of Mice and Men ",
         "orientation": "h",
         "showlegend": true,
         "textposition": "auto",
         "type": "bar",
         "x": [
          1467496
         ],
         "xaxis": "x",
         "y": [
          "Of Mice and Men "
         ],
         "yaxis": "y"
        },
        {
         "alignmentgroup": "True",
         "hovertemplate": "original_title=%{y}<br>ratings_count=%{x}<extra></extra>",
         "legendgroup": "The Da Vinci Code",
         "marker": {
          "color": "#636efa"
         },
         "name": "The Da Vinci Code",
         "offsetgroup": "The Da Vinci Code",
         "orientation": "h",
         "showlegend": true,
         "textposition": "auto",
         "type": "bar",
         "x": [
          1447148
         ],
         "xaxis": "x",
         "y": [
          "The Da Vinci Code"
         ],
         "yaxis": "y"
        },
        {
         "alignmentgroup": "True",
         "hovertemplate": "original_title=%{y}<br>ratings_count=%{x}<extra></extra>",
         "legendgroup": "The Lightning Thief",
         "marker": {
          "color": "#EF553B"
         },
         "name": "The Lightning Thief",
         "offsetgroup": "The Lightning Thief",
         "orientation": "h",
         "showlegend": true,
         "textposition": "auto",
         "type": "bar",
         "x": [
          1366265
         ],
         "xaxis": "x",
         "y": [
          "The Lightning Thief"
         ],
         "yaxis": "y"
        },
        {
         "alignmentgroup": "True",
         "hovertemplate": "original_title=%{y}<br>ratings_count=%{x}<extra></extra>",
         "legendgroup": "Fifty Shades of Grey",
         "marker": {
          "color": "#00cc96"
         },
         "name": "Fifty Shades of Grey",
         "offsetgroup": "Fifty Shades of Grey",
         "orientation": "h",
         "showlegend": true,
         "textposition": "auto",
         "type": "bar",
         "x": [
          1338493
         ],
         "xaxis": "x",
         "y": [
          "Fifty Shades of Grey"
         ],
         "yaxis": "y"
        },
        {
         "alignmentgroup": "True",
         "hovertemplate": "original_title=%{y}<br>ratings_count=%{x}<extra></extra>",
         "legendgroup": "A Game of Thrones",
         "marker": {
          "color": "#ab63fa"
         },
         "name": "A Game of Thrones",
         "offsetgroup": "A Game of Thrones",
         "orientation": "h",
         "showlegend": true,
         "textposition": "auto",
         "type": "bar",
         "x": [
          1319204
         ],
         "xaxis": "x",
         "y": [
          "A Game of Thrones"
         ],
         "yaxis": "y"
        },
        {
         "alignmentgroup": "True",
         "hovertemplate": "original_title=%{y}<br>ratings_count=%{x}<extra></extra>",
         "legendgroup": "Memoirs of a Geisha",
         "marker": {
          "color": "#FFA15A"
         },
         "name": "Memoirs of a Geisha",
         "offsetgroup": "Memoirs of a Geisha",
         "orientation": "h",
         "showlegend": true,
         "textposition": "auto",
         "type": "bar",
         "x": [
          1300209
         ],
         "xaxis": "x",
         "y": [
          "Memoirs of a Geisha"
         ],
         "yaxis": "y"
        },
        {
         "alignmentgroup": "True",
         "hovertemplate": "original_title=%{y}<br>ratings_count=%{x}<extra></extra>",
         "legendgroup": "O Alquimista",
         "marker": {
          "color": "#19d3f3"
         },
         "name": "O Alquimista",
         "offsetgroup": "O Alquimista",
         "orientation": "h",
         "showlegend": true,
         "textposition": "auto",
         "type": "bar",
         "x": [
          1299566
         ],
         "xaxis": "x",
         "y": [
          "O Alquimista"
         ],
         "yaxis": "y"
        },
        {
         "alignmentgroup": "True",
         "hovertemplate": "original_title=%{y}<br>ratings_count=%{x}<extra></extra>",
         "legendgroup": "The Giver",
         "marker": {
          "color": "#FF6692"
         },
         "name": "The Giver",
         "offsetgroup": "The Giver",
         "orientation": "h",
         "showlegend": true,
         "textposition": "auto",
         "type": "bar",
         "x": [
          1296825
         ],
         "xaxis": "x",
         "y": [
          "The Giver"
         ],
         "yaxis": "y"
        },
        {
         "alignmentgroup": "True",
         "hovertemplate": "original_title=%{y}<br>ratings_count=%{x}<extra></extra>",
         "legendgroup": "Little Women",
         "marker": {
          "color": "#B6E880"
         },
         "name": "Little Women",
         "offsetgroup": "Little Women",
         "orientation": "h",
         "showlegend": true,
         "textposition": "auto",
         "type": "bar",
         "x": [
          1257121
         ],
         "xaxis": "x",
         "y": [
          "Little Women"
         ],
         "yaxis": "y"
        },
        {
         "alignmentgroup": "True",
         "hovertemplate": "original_title=%{y}<br>ratings_count=%{x}<extra></extra>",
         "legendgroup": "Jane Eyre",
         "marker": {
          "color": "#FF97FF"
         },
         "name": "Jane Eyre",
         "offsetgroup": "Jane Eyre",
         "orientation": "h",
         "showlegend": true,
         "textposition": "auto",
         "type": "bar",
         "x": [
          1198557
         ],
         "xaxis": "x",
         "y": [
          "Jane Eyre"
         ],
         "yaxis": "y"
        },
        {
         "alignmentgroup": "True",
         "hovertemplate": "original_title=%{y}<br>ratings_count=%{x}<extra></extra>",
         "legendgroup": "Eat, pray, love: one woman's search for everything across Italy, India and Indonesia",
         "marker": {
          "color": "#FECB52"
         },
         "name": "Eat, pray, love: one woman's search for everything across Italy, India and Indonesia",
         "offsetgroup": "Eat, pray, love: one woman's search for everything across Italy, India and Indonesia",
         "orientation": "h",
         "showlegend": true,
         "textposition": "auto",
         "type": "bar",
         "x": [
          1181647
         ],
         "xaxis": "x",
         "y": [
          "Eat, pray, love: one woman's search for everything across Italy, India and Indonesia"
         ],
         "yaxis": "y"
        },
        {
         "alignmentgroup": "True",
         "hovertemplate": "original_title=%{y}<br>ratings_count=%{x}<extra></extra>",
         "legendgroup": "The Book Thief",
         "marker": {
          "color": "#636efa"
         },
         "name": "The Book Thief",
         "offsetgroup": "The Book Thief",
         "orientation": "h",
         "showlegend": true,
         "textposition": "auto",
         "type": "bar",
         "x": [
          1159741
         ],
         "xaxis": "x",
         "y": [
          "The Book Thief"
         ],
         "yaxis": "y"
        },
        {
         "alignmentgroup": "True",
         "hovertemplate": "original_title=%{y}<br>ratings_count=%{x}<extra></extra>",
         "legendgroup": "New Moon (Twilight, #2)",
         "marker": {
          "color": "#EF553B"
         },
         "name": "New Moon (Twilight, #2)",
         "offsetgroup": "New Moon (Twilight, #2)",
         "orientation": "h",
         "showlegend": true,
         "textposition": "auto",
         "type": "bar",
         "x": [
          1149630
         ],
         "xaxis": "x",
         "y": [
          "New Moon (Twilight, #2)"
         ],
         "yaxis": "y"
        },
        {
         "alignmentgroup": "True",
         "hovertemplate": "original_title=%{y}<br>ratings_count=%{x}<extra></extra>",
         "legendgroup": "Eclipse",
         "marker": {
          "color": "#00cc96"
         },
         "name": "Eclipse",
         "offsetgroup": "Eclipse",
         "orientation": "h",
         "showlegend": true,
         "textposition": "auto",
         "type": "bar",
         "x": [
          1134511
         ],
         "xaxis": "x",
         "y": [
          "Eclipse"
         ],
         "yaxis": "y"
        },
        {
         "alignmentgroup": "True",
         "hovertemplate": "original_title=%{y}<br>ratings_count=%{x}<extra></extra>",
         "legendgroup": "Eragon",
         "marker": {
          "color": "#ab63fa"
         },
         "name": "Eragon",
         "offsetgroup": "Eragon",
         "orientation": "h",
         "showlegend": true,
         "textposition": "auto",
         "type": "bar",
         "x": [
          1104021
         ],
         "xaxis": "x",
         "y": [
          "Eragon"
         ],
         "yaxis": "y"
        },
        {
         "alignmentgroup": "True",
         "hovertemplate": "original_title=%{y}<br>ratings_count=%{x}<extra></extra>",
         "legendgroup": "Breaking Dawn",
         "marker": {
          "color": "#FFA15A"
         },
         "name": "Breaking Dawn",
         "offsetgroup": "Breaking Dawn",
         "orientation": "h",
         "showlegend": true,
         "textposition": "auto",
         "type": "bar",
         "x": [
          1070245
         ],
         "xaxis": "x",
         "y": [
          "Breaking Dawn"
         ],
         "yaxis": "y"
        },
        {
         "alignmentgroup": "True",
         "hovertemplate": "original_title=%{y}<br>ratings_count=%{x}<extra></extra>",
         "legendgroup": "Water for Elephants",
         "marker": {
          "color": "#19d3f3"
         },
         "name": "Water for Elephants",
         "offsetgroup": "Water for Elephants",
         "orientation": "h",
         "showlegend": true,
         "textposition": "auto",
         "type": "bar",
         "x": [
          1068146
         ],
         "xaxis": "x",
         "y": [
          "Water for Elephants"
         ],
         "yaxis": "y"
        },
        {
         "alignmentgroup": "True",
         "hovertemplate": "original_title=%{y}<br>ratings_count=%{x}<extra></extra>",
         "legendgroup": "Charlotte's Web",
         "marker": {
          "color": "#FF6692"
         },
         "name": "Charlotte's Web",
         "offsetgroup": "Charlotte's Web",
         "orientation": "h",
         "showlegend": true,
         "textposition": "auto",
         "type": "bar",
         "x": [
          1064521
         ],
         "xaxis": "x",
         "y": [
          "Charlotte's Web"
         ],
         "yaxis": "y"
        },
        {
         "alignmentgroup": "True",
         "hovertemplate": "original_title=%{y}<br>ratings_count=%{x}<extra></extra>",
         "legendgroup": "The Notebook",
         "marker": {
          "color": "#B6E880"
         },
         "name": "The Notebook",
         "offsetgroup": "The Notebook",
         "orientation": "h",
         "showlegend": true,
         "textposition": "auto",
         "type": "bar",
         "x": [
          1053403
         ],
         "xaxis": "x",
         "y": [
          "The Notebook"
         ],
         "yaxis": "y"
        },
        {
         "alignmentgroup": "True",
         "hovertemplate": "original_title=%{y}<br>ratings_count=%{x}<extra></extra>",
         "legendgroup": "Brave New World",
         "marker": {
          "color": "#FF97FF"
         },
         "name": "Brave New World",
         "offsetgroup": "Brave New World",
         "orientation": "h",
         "showlegend": true,
         "textposition": "auto",
         "type": "bar",
         "x": [
          1022601
         ],
         "xaxis": "x",
         "y": [
          "Brave New World"
         ],
         "yaxis": "y"
        },
        {
         "alignmentgroup": "True",
         "hovertemplate": "original_title=%{y}<br>ratings_count=%{x}<extra></extra>",
         "legendgroup": "Where the Sidewalk Ends: The Poems and Drawings of Shel Silverstein",
         "marker": {
          "color": "#FECB52"
         },
         "name": "Where the Sidewalk Ends: The Poems and Drawings of Shel Silverstein",
         "offsetgroup": "Where the Sidewalk Ends: The Poems and Drawings of Shel Silverstein",
         "orientation": "h",
         "showlegend": true,
         "textposition": "auto",
         "type": "bar",
         "x": [
          1016888
         ],
         "xaxis": "x",
         "y": [
          "Where the Sidewalk Ends: The Poems and Drawings of Shel Silverstein"
         ],
         "yaxis": "y"
        }
       ],
       "layout": {
        "barmode": "relative",
        "height": 700,
        "legend": {
         "title": {
          "text": "original_title"
         },
         "tracegroupgap": 0
        },
        "template": {
         "data": {
          "bar": [
           {
            "error_x": {
             "color": "#2a3f5f"
            },
            "error_y": {
             "color": "#2a3f5f"
            },
            "marker": {
             "line": {
              "color": "#E5ECF6",
              "width": 0.5
             }
            },
            "type": "bar"
           }
          ],
          "barpolar": [
           {
            "marker": {
             "line": {
              "color": "#E5ECF6",
              "width": 0.5
             }
            },
            "type": "barpolar"
           }
          ],
          "carpet": [
           {
            "aaxis": {
             "endlinecolor": "#2a3f5f",
             "gridcolor": "white",
             "linecolor": "white",
             "minorgridcolor": "white",
             "startlinecolor": "#2a3f5f"
            },
            "baxis": {
             "endlinecolor": "#2a3f5f",
             "gridcolor": "white",
             "linecolor": "white",
             "minorgridcolor": "white",
             "startlinecolor": "#2a3f5f"
            },
            "type": "carpet"
           }
          ],
          "choropleth": [
           {
            "colorbar": {
             "outlinewidth": 0,
             "ticks": ""
            },
            "type": "choropleth"
           }
          ],
          "contour": [
           {
            "colorbar": {
             "outlinewidth": 0,
             "ticks": ""
            },
            "colorscale": [
             [
              0,
              "#0d0887"
             ],
             [
              0.1111111111111111,
              "#46039f"
             ],
             [
              0.2222222222222222,
              "#7201a8"
             ],
             [
              0.3333333333333333,
              "#9c179e"
             ],
             [
              0.4444444444444444,
              "#bd3786"
             ],
             [
              0.5555555555555556,
              "#d8576b"
             ],
             [
              0.6666666666666666,
              "#ed7953"
             ],
             [
              0.7777777777777778,
              "#fb9f3a"
             ],
             [
              0.8888888888888888,
              "#fdca26"
             ],
             [
              1,
              "#f0f921"
             ]
            ],
            "type": "contour"
           }
          ],
          "contourcarpet": [
           {
            "colorbar": {
             "outlinewidth": 0,
             "ticks": ""
            },
            "type": "contourcarpet"
           }
          ],
          "heatmap": [
           {
            "colorbar": {
             "outlinewidth": 0,
             "ticks": ""
            },
            "colorscale": [
             [
              0,
              "#0d0887"
             ],
             [
              0.1111111111111111,
              "#46039f"
             ],
             [
              0.2222222222222222,
              "#7201a8"
             ],
             [
              0.3333333333333333,
              "#9c179e"
             ],
             [
              0.4444444444444444,
              "#bd3786"
             ],
             [
              0.5555555555555556,
              "#d8576b"
             ],
             [
              0.6666666666666666,
              "#ed7953"
             ],
             [
              0.7777777777777778,
              "#fb9f3a"
             ],
             [
              0.8888888888888888,
              "#fdca26"
             ],
             [
              1,
              "#f0f921"
             ]
            ],
            "type": "heatmap"
           }
          ],
          "heatmapgl": [
           {
            "colorbar": {
             "outlinewidth": 0,
             "ticks": ""
            },
            "colorscale": [
             [
              0,
              "#0d0887"
             ],
             [
              0.1111111111111111,
              "#46039f"
             ],
             [
              0.2222222222222222,
              "#7201a8"
             ],
             [
              0.3333333333333333,
              "#9c179e"
             ],
             [
              0.4444444444444444,
              "#bd3786"
             ],
             [
              0.5555555555555556,
              "#d8576b"
             ],
             [
              0.6666666666666666,
              "#ed7953"
             ],
             [
              0.7777777777777778,
              "#fb9f3a"
             ],
             [
              0.8888888888888888,
              "#fdca26"
             ],
             [
              1,
              "#f0f921"
             ]
            ],
            "type": "heatmapgl"
           }
          ],
          "histogram": [
           {
            "marker": {
             "colorbar": {
              "outlinewidth": 0,
              "ticks": ""
             }
            },
            "type": "histogram"
           }
          ],
          "histogram2d": [
           {
            "colorbar": {
             "outlinewidth": 0,
             "ticks": ""
            },
            "colorscale": [
             [
              0,
              "#0d0887"
             ],
             [
              0.1111111111111111,
              "#46039f"
             ],
             [
              0.2222222222222222,
              "#7201a8"
             ],
             [
              0.3333333333333333,
              "#9c179e"
             ],
             [
              0.4444444444444444,
              "#bd3786"
             ],
             [
              0.5555555555555556,
              "#d8576b"
             ],
             [
              0.6666666666666666,
              "#ed7953"
             ],
             [
              0.7777777777777778,
              "#fb9f3a"
             ],
             [
              0.8888888888888888,
              "#fdca26"
             ],
             [
              1,
              "#f0f921"
             ]
            ],
            "type": "histogram2d"
           }
          ],
          "histogram2dcontour": [
           {
            "colorbar": {
             "outlinewidth": 0,
             "ticks": ""
            },
            "colorscale": [
             [
              0,
              "#0d0887"
             ],
             [
              0.1111111111111111,
              "#46039f"
             ],
             [
              0.2222222222222222,
              "#7201a8"
             ],
             [
              0.3333333333333333,
              "#9c179e"
             ],
             [
              0.4444444444444444,
              "#bd3786"
             ],
             [
              0.5555555555555556,
              "#d8576b"
             ],
             [
              0.6666666666666666,
              "#ed7953"
             ],
             [
              0.7777777777777778,
              "#fb9f3a"
             ],
             [
              0.8888888888888888,
              "#fdca26"
             ],
             [
              1,
              "#f0f921"
             ]
            ],
            "type": "histogram2dcontour"
           }
          ],
          "mesh3d": [
           {
            "colorbar": {
             "outlinewidth": 0,
             "ticks": ""
            },
            "type": "mesh3d"
           }
          ],
          "parcoords": [
           {
            "line": {
             "colorbar": {
              "outlinewidth": 0,
              "ticks": ""
             }
            },
            "type": "parcoords"
           }
          ],
          "pie": [
           {
            "automargin": true,
            "type": "pie"
           }
          ],
          "scatter": [
           {
            "marker": {
             "colorbar": {
              "outlinewidth": 0,
              "ticks": ""
             }
            },
            "type": "scatter"
           }
          ],
          "scatter3d": [
           {
            "line": {
             "colorbar": {
              "outlinewidth": 0,
              "ticks": ""
             }
            },
            "marker": {
             "colorbar": {
              "outlinewidth": 0,
              "ticks": ""
             }
            },
            "type": "scatter3d"
           }
          ],
          "scattercarpet": [
           {
            "marker": {
             "colorbar": {
              "outlinewidth": 0,
              "ticks": ""
             }
            },
            "type": "scattercarpet"
           }
          ],
          "scattergeo": [
           {
            "marker": {
             "colorbar": {
              "outlinewidth": 0,
              "ticks": ""
             }
            },
            "type": "scattergeo"
           }
          ],
          "scattergl": [
           {
            "marker": {
             "colorbar": {
              "outlinewidth": 0,
              "ticks": ""
             }
            },
            "type": "scattergl"
           }
          ],
          "scattermapbox": [
           {
            "marker": {
             "colorbar": {
              "outlinewidth": 0,
              "ticks": ""
             }
            },
            "type": "scattermapbox"
           }
          ],
          "scatterpolar": [
           {
            "marker": {
             "colorbar": {
              "outlinewidth": 0,
              "ticks": ""
             }
            },
            "type": "scatterpolar"
           }
          ],
          "scatterpolargl": [
           {
            "marker": {
             "colorbar": {
              "outlinewidth": 0,
              "ticks": ""
             }
            },
            "type": "scatterpolargl"
           }
          ],
          "scatterternary": [
           {
            "marker": {
             "colorbar": {
              "outlinewidth": 0,
              "ticks": ""
             }
            },
            "type": "scatterternary"
           }
          ],
          "surface": [
           {
            "colorbar": {
             "outlinewidth": 0,
             "ticks": ""
            },
            "colorscale": [
             [
              0,
              "#0d0887"
             ],
             [
              0.1111111111111111,
              "#46039f"
             ],
             [
              0.2222222222222222,
              "#7201a8"
             ],
             [
              0.3333333333333333,
              "#9c179e"
             ],
             [
              0.4444444444444444,
              "#bd3786"
             ],
             [
              0.5555555555555556,
              "#d8576b"
             ],
             [
              0.6666666666666666,
              "#ed7953"
             ],
             [
              0.7777777777777778,
              "#fb9f3a"
             ],
             [
              0.8888888888888888,
              "#fdca26"
             ],
             [
              1,
              "#f0f921"
             ]
            ],
            "type": "surface"
           }
          ],
          "table": [
           {
            "cells": {
             "fill": {
              "color": "#EBF0F8"
             },
             "line": {
              "color": "white"
             }
            },
            "header": {
             "fill": {
              "color": "#C8D4E3"
             },
             "line": {
              "color": "white"
             }
            },
            "type": "table"
           }
          ]
         },
         "layout": {
          "annotationdefaults": {
           "arrowcolor": "#2a3f5f",
           "arrowhead": 0,
           "arrowwidth": 1
          },
          "coloraxis": {
           "colorbar": {
            "outlinewidth": 0,
            "ticks": ""
           }
          },
          "colorscale": {
           "diverging": [
            [
             0,
             "#8e0152"
            ],
            [
             0.1,
             "#c51b7d"
            ],
            [
             0.2,
             "#de77ae"
            ],
            [
             0.3,
             "#f1b6da"
            ],
            [
             0.4,
             "#fde0ef"
            ],
            [
             0.5,
             "#f7f7f7"
            ],
            [
             0.6,
             "#e6f5d0"
            ],
            [
             0.7,
             "#b8e186"
            ],
            [
             0.8,
             "#7fbc41"
            ],
            [
             0.9,
             "#4d9221"
            ],
            [
             1,
             "#276419"
            ]
           ],
           "sequential": [
            [
             0,
             "#0d0887"
            ],
            [
             0.1111111111111111,
             "#46039f"
            ],
            [
             0.2222222222222222,
             "#7201a8"
            ],
            [
             0.3333333333333333,
             "#9c179e"
            ],
            [
             0.4444444444444444,
             "#bd3786"
            ],
            [
             0.5555555555555556,
             "#d8576b"
            ],
            [
             0.6666666666666666,
             "#ed7953"
            ],
            [
             0.7777777777777778,
             "#fb9f3a"
            ],
            [
             0.8888888888888888,
             "#fdca26"
            ],
            [
             1,
             "#f0f921"
            ]
           ],
           "sequentialminus": [
            [
             0,
             "#0d0887"
            ],
            [
             0.1111111111111111,
             "#46039f"
            ],
            [
             0.2222222222222222,
             "#7201a8"
            ],
            [
             0.3333333333333333,
             "#9c179e"
            ],
            [
             0.4444444444444444,
             "#bd3786"
            ],
            [
             0.5555555555555556,
             "#d8576b"
            ],
            [
             0.6666666666666666,
             "#ed7953"
            ],
            [
             0.7777777777777778,
             "#fb9f3a"
            ],
            [
             0.8888888888888888,
             "#fdca26"
            ],
            [
             1,
             "#f0f921"
            ]
           ]
          },
          "colorway": [
           "#636efa",
           "#EF553B",
           "#00cc96",
           "#ab63fa",
           "#FFA15A",
           "#19d3f3",
           "#FF6692",
           "#B6E880",
           "#FF97FF",
           "#FECB52"
          ],
          "font": {
           "color": "#2a3f5f"
          },
          "geo": {
           "bgcolor": "white",
           "lakecolor": "white",
           "landcolor": "#E5ECF6",
           "showlakes": true,
           "showland": true,
           "subunitcolor": "white"
          },
          "hoverlabel": {
           "align": "left"
          },
          "hovermode": "closest",
          "mapbox": {
           "style": "light"
          },
          "paper_bgcolor": "white",
          "plot_bgcolor": "#E5ECF6",
          "polar": {
           "angularaxis": {
            "gridcolor": "white",
            "linecolor": "white",
            "ticks": ""
           },
           "bgcolor": "#E5ECF6",
           "radialaxis": {
            "gridcolor": "white",
            "linecolor": "white",
            "ticks": ""
           }
          },
          "scene": {
           "xaxis": {
            "backgroundcolor": "#E5ECF6",
            "gridcolor": "white",
            "gridwidth": 2,
            "linecolor": "white",
            "showbackground": true,
            "ticks": "",
            "zerolinecolor": "white"
           },
           "yaxis": {
            "backgroundcolor": "#E5ECF6",
            "gridcolor": "white",
            "gridwidth": 2,
            "linecolor": "white",
            "showbackground": true,
            "ticks": "",
            "zerolinecolor": "white"
           },
           "zaxis": {
            "backgroundcolor": "#E5ECF6",
            "gridcolor": "white",
            "gridwidth": 2,
            "linecolor": "white",
            "showbackground": true,
            "ticks": "",
            "zerolinecolor": "white"
           }
          },
          "shapedefaults": {
           "line": {
            "color": "#2a3f5f"
           }
          },
          "ternary": {
           "aaxis": {
            "gridcolor": "white",
            "linecolor": "white",
            "ticks": ""
           },
           "baxis": {
            "gridcolor": "white",
            "linecolor": "white",
            "ticks": ""
           },
           "bgcolor": "#E5ECF6",
           "caxis": {
            "gridcolor": "white",
            "linecolor": "white",
            "ticks": ""
           }
          },
          "title": {
           "x": 0.05
          },
          "xaxis": {
           "automargin": true,
           "gridcolor": "white",
           "linecolor": "white",
           "ticks": "",
           "title": {
            "standoff": 15
           },
           "zerolinecolor": "white",
           "zerolinewidth": 2
          },
          "yaxis": {
           "automargin": true,
           "gridcolor": "white",
           "linecolor": "white",
           "ticks": "",
           "title": {
            "standoff": 15
           },
           "zerolinecolor": "white",
           "zerolinewidth": 2
          }
         }
        },
        "title": {
         "text": "Top Popular Books"
        },
        "width": 1500,
        "xaxis": {
         "anchor": "y",
         "domain": [
          0,
          1
         ],
         "title": {
          "text": "ratings_count"
         }
        },
        "yaxis": {
         "anchor": "x",
         "categoryarray": [
          "Where the Sidewalk Ends: The Poems and Drawings of Shel Silverstein",
          "Brave New World",
          "The Notebook",
          "Charlotte's Web",
          "Water for Elephants",
          "Breaking Dawn",
          "Eragon",
          "Eclipse",
          "New Moon (Twilight, #2)",
          "The Book Thief",
          "Eat, pray, love: one woman's search for everything across Italy, India and Indonesia",
          "Jane Eyre",
          "Little Women",
          "The Giver",
          "O Alquimista",
          "Memoirs of a Geisha",
          "A Game of Thrones",
          "Fifty Shades of Grey",
          "The Lightning Thief",
          "The Da Vinci Code",
          "Of Mice and Men ",
          "The Help",
          "The Lion, the Witch and the Wardrobe",
          "Lord of the Flies ",
          "The Lovely Bones",
          "An Excellent conceited Tragedie of Romeo and Juliet",
          "Harry Potter and the Half-Blood Prince",
          "Mockingjay",
          "Harry Potter and the Order of the Phoenix",
          "Harry Potter and the Deathly Hallows",
          "Harry Potter and the Goblet of Fire",
          " The Fellowship of the Ring",
          "Harry Potter and the Chamber of Secrets",
          "Män som hatar kvinnor",
          "The Kite Runner ",
          "Catching Fire",
          "Harry Potter and the Prisoner of Azkaban",
          "Animal Farm: A Fairy Story",
          "Divergent",
          "Nineteen Eighty-Four",
          "Het Achterhuis: Dagboekbrieven 14 juni 1942 - 1 augustus 1944",
          "Angels & Demons ",
          "Pride and Prejudice",
          "The Catcher in the Rye",
          "The Hobbit or There and Back Again",
          "The Fault in Our Stars",
          "The Great Gatsby",
          "To Kill a Mockingbird",
          "Harry Potter and the Philosopher's Stone",
          "The Hunger Games"
         ],
         "categoryorder": "array",
         "domain": [
          0,
          1
         ],
         "title": {
          "text": "original_title"
         }
        }
       }
      },
      "text/html": [
       "<div>                            <div id=\"f3493dea-3a62-4b96-a8ca-c773482e9ffd\" class=\"plotly-graph-div\" style=\"height:700px; width:1500px;\"></div>            <script type=\"text/javascript\">                require([\"plotly\"], function(Plotly) {                    window.PLOTLYENV=window.PLOTLYENV || {};                                    if (document.getElementById(\"f3493dea-3a62-4b96-a8ca-c773482e9ffd\")) {                    Plotly.newPlot(                        \"f3493dea-3a62-4b96-a8ca-c773482e9ffd\",                        [{\"alignmentgroup\": \"True\", \"hovertemplate\": \"original_title=%{y}<br>ratings_count=%{x}<extra></extra>\", \"legendgroup\": \"The Hunger Games\", \"marker\": {\"color\": \"#636efa\"}, \"name\": \"The Hunger Games\", \"offsetgroup\": \"The Hunger Games\", \"orientation\": \"h\", \"showlegend\": true, \"textposition\": \"auto\", \"type\": \"bar\", \"x\": [4780653], \"xaxis\": \"x\", \"y\": [\"The Hunger Games\"], \"yaxis\": \"y\"}, {\"alignmentgroup\": \"True\", \"hovertemplate\": \"original_title=%{y}<br>ratings_count=%{x}<extra></extra>\", \"legendgroup\": \"Harry Potter and the Philosopher's Stone\", \"marker\": {\"color\": \"#EF553B\"}, \"name\": \"Harry Potter and the Philosopher's Stone\", \"offsetgroup\": \"Harry Potter and the Philosopher's Stone\", \"orientation\": \"h\", \"showlegend\": true, \"textposition\": \"auto\", \"type\": \"bar\", \"x\": [4602479], \"xaxis\": \"x\", \"y\": [\"Harry Potter and the Philosopher's Stone\"], \"yaxis\": \"y\"}, {\"alignmentgroup\": \"True\", \"hovertemplate\": \"original_title=%{y}<br>ratings_count=%{x}<extra></extra>\", \"legendgroup\": \"To Kill a Mockingbird\", \"marker\": {\"color\": \"#00cc96\"}, \"name\": \"To Kill a Mockingbird\", \"offsetgroup\": \"To Kill a Mockingbird\", \"orientation\": \"h\", \"showlegend\": true, \"textposition\": \"auto\", \"type\": \"bar\", \"x\": [3198671], \"xaxis\": \"x\", \"y\": [\"To Kill a Mockingbird\"], \"yaxis\": \"y\"}, {\"alignmentgroup\": \"True\", \"hovertemplate\": \"original_title=%{y}<br>ratings_count=%{x}<extra></extra>\", \"legendgroup\": \"The Great Gatsby\", \"marker\": {\"color\": \"#ab63fa\"}, \"name\": \"The Great Gatsby\", \"offsetgroup\": \"The Great Gatsby\", \"orientation\": \"h\", \"showlegend\": true, \"textposition\": \"auto\", \"type\": \"bar\", \"x\": [2683664], \"xaxis\": \"x\", \"y\": [\"The Great Gatsby\"], \"yaxis\": \"y\"}, {\"alignmentgroup\": \"True\", \"hovertemplate\": \"original_title=%{y}<br>ratings_count=%{x}<extra></extra>\", \"legendgroup\": \"The Fault in Our Stars\", \"marker\": {\"color\": \"#FFA15A\"}, \"name\": \"The Fault in Our Stars\", \"offsetgroup\": \"The Fault in Our Stars\", \"orientation\": \"h\", \"showlegend\": true, \"textposition\": \"auto\", \"type\": \"bar\", \"x\": [2346404], \"xaxis\": \"x\", \"y\": [\"The Fault in Our Stars\"], \"yaxis\": \"y\"}, {\"alignmentgroup\": \"True\", \"hovertemplate\": \"original_title=%{y}<br>ratings_count=%{x}<extra></extra>\", \"legendgroup\": \"The Hobbit or There and Back Again\", \"marker\": {\"color\": \"#19d3f3\"}, \"name\": \"The Hobbit or There and Back Again\", \"offsetgroup\": \"The Hobbit or There and Back Again\", \"orientation\": \"h\", \"showlegend\": true, \"textposition\": \"auto\", \"type\": \"bar\", \"x\": [2071616], \"xaxis\": \"x\", \"y\": [\"The Hobbit or There and Back Again\"], \"yaxis\": \"y\"}, {\"alignmentgroup\": \"True\", \"hovertemplate\": \"original_title=%{y}<br>ratings_count=%{x}<extra></extra>\", \"legendgroup\": \"The Catcher in the Rye\", \"marker\": {\"color\": \"#FF6692\"}, \"name\": \"The Catcher in the Rye\", \"offsetgroup\": \"The Catcher in the Rye\", \"orientation\": \"h\", \"showlegend\": true, \"textposition\": \"auto\", \"type\": \"bar\", \"x\": [2044241], \"xaxis\": \"x\", \"y\": [\"The Catcher in the Rye\"], \"yaxis\": \"y\"}, {\"alignmentgroup\": \"True\", \"hovertemplate\": \"original_title=%{y}<br>ratings_count=%{x}<extra></extra>\", \"legendgroup\": \"Pride and Prejudice\", \"marker\": {\"color\": \"#B6E880\"}, \"name\": \"Pride and Prejudice\", \"offsetgroup\": \"Pride and Prejudice\", \"orientation\": \"h\", \"showlegend\": true, \"textposition\": \"auto\", \"type\": \"bar\", \"x\": [2035490], \"xaxis\": \"x\", \"y\": [\"Pride and Prejudice\"], \"yaxis\": \"y\"}, {\"alignmentgroup\": \"True\", \"hovertemplate\": \"original_title=%{y}<br>ratings_count=%{x}<extra></extra>\", \"legendgroup\": \"Angels & Demons \", \"marker\": {\"color\": \"#FF97FF\"}, \"name\": \"Angels & Demons \", \"offsetgroup\": \"Angels & Demons \", \"orientation\": \"h\", \"showlegend\": true, \"textposition\": \"auto\", \"type\": \"bar\", \"x\": [2001311], \"xaxis\": \"x\", \"y\": [\"Angels & Demons \"], \"yaxis\": \"y\"}, {\"alignmentgroup\": \"True\", \"hovertemplate\": \"original_title=%{y}<br>ratings_count=%{x}<extra></extra>\", \"legendgroup\": \"Het Achterhuis: Dagboekbrieven 14 juni 1942 - 1 augustus 1944\", \"marker\": {\"color\": \"#FECB52\"}, \"name\": \"Het Achterhuis: Dagboekbrieven 14 juni 1942 - 1 augustus 1944\", \"offsetgroup\": \"Het Achterhuis: Dagboekbrieven 14 juni 1942 - 1 augustus 1944\", \"orientation\": \"h\", \"showlegend\": true, \"textposition\": \"auto\", \"type\": \"bar\", \"x\": [1972666], \"xaxis\": \"x\", \"y\": [\"Het Achterhuis: Dagboekbrieven 14 juni 1942 - 1 augustus 1944\"], \"yaxis\": \"y\"}, {\"alignmentgroup\": \"True\", \"hovertemplate\": \"original_title=%{y}<br>ratings_count=%{x}<extra></extra>\", \"legendgroup\": \"Nineteen Eighty-Four\", \"marker\": {\"color\": \"#636efa\"}, \"name\": \"Nineteen Eighty-Four\", \"offsetgroup\": \"Nineteen Eighty-Four\", \"orientation\": \"h\", \"showlegend\": true, \"textposition\": \"auto\", \"type\": \"bar\", \"x\": [1956832], \"xaxis\": \"x\", \"y\": [\"Nineteen Eighty-Four\"], \"yaxis\": \"y\"}, {\"alignmentgroup\": \"True\", \"hovertemplate\": \"original_title=%{y}<br>ratings_count=%{x}<extra></extra>\", \"legendgroup\": \"Divergent\", \"marker\": {\"color\": \"#EF553B\"}, \"name\": \"Divergent\", \"offsetgroup\": \"Divergent\", \"orientation\": \"h\", \"showlegend\": true, \"textposition\": \"auto\", \"type\": \"bar\", \"x\": [1903563], \"xaxis\": \"x\", \"y\": [\"Divergent\"], \"yaxis\": \"y\"}, {\"alignmentgroup\": \"True\", \"hovertemplate\": \"original_title=%{y}<br>ratings_count=%{x}<extra></extra>\", \"legendgroup\": \"Animal Farm: A Fairy Story\", \"marker\": {\"color\": \"#00cc96\"}, \"name\": \"Animal Farm: A Fairy Story\", \"offsetgroup\": \"Animal Farm: A Fairy Story\", \"orientation\": \"h\", \"showlegend\": true, \"textposition\": \"auto\", \"type\": \"bar\", \"x\": [1881700], \"xaxis\": \"x\", \"y\": [\"Animal Farm: A Fairy Story\"], \"yaxis\": \"y\"}, {\"alignmentgroup\": \"True\", \"hovertemplate\": \"original_title=%{y}<br>ratings_count=%{x}<extra></extra>\", \"legendgroup\": \"Harry Potter and the Prisoner of Azkaban\", \"marker\": {\"color\": \"#ab63fa\"}, \"name\": \"Harry Potter and the Prisoner of Azkaban\", \"offsetgroup\": \"Harry Potter and the Prisoner of Azkaban\", \"orientation\": \"h\", \"showlegend\": true, \"textposition\": \"auto\", \"type\": \"bar\", \"x\": [1832823], \"xaxis\": \"x\", \"y\": [\"Harry Potter and the Prisoner of Azkaban\"], \"yaxis\": \"y\"}, {\"alignmentgroup\": \"True\", \"hovertemplate\": \"original_title=%{y}<br>ratings_count=%{x}<extra></extra>\", \"legendgroup\": \"Catching Fire\", \"marker\": {\"color\": \"#FFA15A\"}, \"name\": \"Catching Fire\", \"offsetgroup\": \"Catching Fire\", \"orientation\": \"h\", \"showlegend\": true, \"textposition\": \"auto\", \"type\": \"bar\", \"x\": [1831039], \"xaxis\": \"x\", \"y\": [\"Catching Fire\"], \"yaxis\": \"y\"}, {\"alignmentgroup\": \"True\", \"hovertemplate\": \"original_title=%{y}<br>ratings_count=%{x}<extra></extra>\", \"legendgroup\": \"The Kite Runner \", \"marker\": {\"color\": \"#19d3f3\"}, \"name\": \"The Kite Runner \", \"offsetgroup\": \"The Kite Runner \", \"orientation\": \"h\", \"showlegend\": true, \"textposition\": \"auto\", \"type\": \"bar\", \"x\": [1813044], \"xaxis\": \"x\", \"y\": [\"The Kite Runner \"], \"yaxis\": \"y\"}, {\"alignmentgroup\": \"True\", \"hovertemplate\": \"original_title=%{y}<br>ratings_count=%{x}<extra></extra>\", \"legendgroup\": \"M\\u00e4n som hatar kvinnor\", \"marker\": {\"color\": \"#FF6692\"}, \"name\": \"M\\u00e4n som hatar kvinnor\", \"offsetgroup\": \"M\\u00e4n som hatar kvinnor\", \"orientation\": \"h\", \"showlegend\": true, \"textposition\": \"auto\", \"type\": \"bar\", \"x\": [1808403], \"xaxis\": \"x\", \"y\": [\"M\\u00e4n som hatar kvinnor\"], \"yaxis\": \"y\"}, {\"alignmentgroup\": \"True\", \"hovertemplate\": \"original_title=%{y}<br>ratings_count=%{x}<extra></extra>\", \"legendgroup\": \"Harry Potter and the Chamber of Secrets\", \"marker\": {\"color\": \"#B6E880\"}, \"name\": \"Harry Potter and the Chamber of Secrets\", \"offsetgroup\": \"Harry Potter and the Chamber of Secrets\", \"orientation\": \"h\", \"showlegend\": true, \"textposition\": \"auto\", \"type\": \"bar\", \"x\": [1779331], \"xaxis\": \"x\", \"y\": [\"Harry Potter and the Chamber of Secrets\"], \"yaxis\": \"y\"}, {\"alignmentgroup\": \"True\", \"hovertemplate\": \"original_title=%{y}<br>ratings_count=%{x}<extra></extra>\", \"legendgroup\": \" The Fellowship of the Ring\", \"marker\": {\"color\": \"#FF97FF\"}, \"name\": \" The Fellowship of the Ring\", \"offsetgroup\": \" The Fellowship of the Ring\", \"orientation\": \"h\", \"showlegend\": true, \"textposition\": \"auto\", \"type\": \"bar\", \"x\": [1766803], \"xaxis\": \"x\", \"y\": [\" The Fellowship of the Ring\"], \"yaxis\": \"y\"}, {\"alignmentgroup\": \"True\", \"hovertemplate\": \"original_title=%{y}<br>ratings_count=%{x}<extra></extra>\", \"legendgroup\": \"Harry Potter and the Goblet of Fire\", \"marker\": {\"color\": \"#FECB52\"}, \"name\": \"Harry Potter and the Goblet of Fire\", \"offsetgroup\": \"Harry Potter and the Goblet of Fire\", \"orientation\": \"h\", \"showlegend\": true, \"textposition\": \"auto\", \"type\": \"bar\", \"x\": [1753043], \"xaxis\": \"x\", \"y\": [\"Harry Potter and the Goblet of Fire\"], \"yaxis\": \"y\"}, {\"alignmentgroup\": \"True\", \"hovertemplate\": \"original_title=%{y}<br>ratings_count=%{x}<extra></extra>\", \"legendgroup\": \"Harry Potter and the Deathly Hallows\", \"marker\": {\"color\": \"#636efa\"}, \"name\": \"Harry Potter and the Deathly Hallows\", \"offsetgroup\": \"Harry Potter and the Deathly Hallows\", \"orientation\": \"h\", \"showlegend\": true, \"textposition\": \"auto\", \"type\": \"bar\", \"x\": [1746574], \"xaxis\": \"x\", \"y\": [\"Harry Potter and the Deathly Hallows\"], \"yaxis\": \"y\"}, {\"alignmentgroup\": \"True\", \"hovertemplate\": \"original_title=%{y}<br>ratings_count=%{x}<extra></extra>\", \"legendgroup\": \"Harry Potter and the Order of the Phoenix\", \"marker\": {\"color\": \"#EF553B\"}, \"name\": \"Harry Potter and the Order of the Phoenix\", \"offsetgroup\": \"Harry Potter and the Order of the Phoenix\", \"orientation\": \"h\", \"showlegend\": true, \"textposition\": \"auto\", \"type\": \"bar\", \"x\": [1735368], \"xaxis\": \"x\", \"y\": [\"Harry Potter and the Order of the Phoenix\"], \"yaxis\": \"y\"}, {\"alignmentgroup\": \"True\", \"hovertemplate\": \"original_title=%{y}<br>ratings_count=%{x}<extra></extra>\", \"legendgroup\": \"Mockingjay\", \"marker\": {\"color\": \"#00cc96\"}, \"name\": \"Mockingjay\", \"offsetgroup\": \"Mockingjay\", \"orientation\": \"h\", \"showlegend\": true, \"textposition\": \"auto\", \"type\": \"bar\", \"x\": [1719760], \"xaxis\": \"x\", \"y\": [\"Mockingjay\"], \"yaxis\": \"y\"}, {\"alignmentgroup\": \"True\", \"hovertemplate\": \"original_title=%{y}<br>ratings_count=%{x}<extra></extra>\", \"legendgroup\": \"Harry Potter and the Half-Blood Prince\", \"marker\": {\"color\": \"#ab63fa\"}, \"name\": \"Harry Potter and the Half-Blood Prince\", \"offsetgroup\": \"Harry Potter and the Half-Blood Prince\", \"orientation\": \"h\", \"showlegend\": true, \"textposition\": \"auto\", \"type\": \"bar\", \"x\": [1678823], \"xaxis\": \"x\", \"y\": [\"Harry Potter and the Half-Blood Prince\"], \"yaxis\": \"y\"}, {\"alignmentgroup\": \"True\", \"hovertemplate\": \"original_title=%{y}<br>ratings_count=%{x}<extra></extra>\", \"legendgroup\": \"An Excellent conceited Tragedie of Romeo and Juliet\", \"marker\": {\"color\": \"#FFA15A\"}, \"name\": \"An Excellent conceited Tragedie of Romeo and Juliet\", \"offsetgroup\": \"An Excellent conceited Tragedie of Romeo and Juliet\", \"orientation\": \"h\", \"showlegend\": true, \"textposition\": \"auto\", \"type\": \"bar\", \"x\": [1628519], \"xaxis\": \"x\", \"y\": [\"An Excellent conceited Tragedie of Romeo and Juliet\"], \"yaxis\": \"y\"}, {\"alignmentgroup\": \"True\", \"hovertemplate\": \"original_title=%{y}<br>ratings_count=%{x}<extra></extra>\", \"legendgroup\": \"The Lovely Bones\", \"marker\": {\"color\": \"#19d3f3\"}, \"name\": \"The Lovely Bones\", \"offsetgroup\": \"The Lovely Bones\", \"orientation\": \"h\", \"showlegend\": true, \"textposition\": \"auto\", \"type\": \"bar\", \"x\": [1605173], \"xaxis\": \"x\", \"y\": [\"The Lovely Bones\"], \"yaxis\": \"y\"}, {\"alignmentgroup\": \"True\", \"hovertemplate\": \"original_title=%{y}<br>ratings_count=%{x}<extra></extra>\", \"legendgroup\": \"Lord of the Flies \", \"marker\": {\"color\": \"#FF6692\"}, \"name\": \"Lord of the Flies \", \"offsetgroup\": \"Lord of the Flies \", \"orientation\": \"h\", \"showlegend\": true, \"textposition\": \"auto\", \"type\": \"bar\", \"x\": [1605019], \"xaxis\": \"x\", \"y\": [\"Lord of the Flies \"], \"yaxis\": \"y\"}, {\"alignmentgroup\": \"True\", \"hovertemplate\": \"original_title=%{y}<br>ratings_count=%{x}<extra></extra>\", \"legendgroup\": \"The Lion, the Witch and the Wardrobe\", \"marker\": {\"color\": \"#B6E880\"}, \"name\": \"The Lion, the Witch and the Wardrobe\", \"offsetgroup\": \"The Lion, the Witch and the Wardrobe\", \"orientation\": \"h\", \"showlegend\": true, \"textposition\": \"auto\", \"type\": \"bar\", \"x\": [1531800], \"xaxis\": \"x\", \"y\": [\"The Lion, the Witch and the Wardrobe\"], \"yaxis\": \"y\"}, {\"alignmentgroup\": \"True\", \"hovertemplate\": \"original_title=%{y}<br>ratings_count=%{x}<extra></extra>\", \"legendgroup\": \"The Help\", \"marker\": {\"color\": \"#FF97FF\"}, \"name\": \"The Help\", \"offsetgroup\": \"The Help\", \"orientation\": \"h\", \"showlegend\": true, \"textposition\": \"auto\", \"type\": \"bar\", \"x\": [1531753], \"xaxis\": \"x\", \"y\": [\"The Help\"], \"yaxis\": \"y\"}, {\"alignmentgroup\": \"True\", \"hovertemplate\": \"original_title=%{y}<br>ratings_count=%{x}<extra></extra>\", \"legendgroup\": \"Of Mice and Men \", \"marker\": {\"color\": \"#FECB52\"}, \"name\": \"Of Mice and Men \", \"offsetgroup\": \"Of Mice and Men \", \"orientation\": \"h\", \"showlegend\": true, \"textposition\": \"auto\", \"type\": \"bar\", \"x\": [1467496], \"xaxis\": \"x\", \"y\": [\"Of Mice and Men \"], \"yaxis\": \"y\"}, {\"alignmentgroup\": \"True\", \"hovertemplate\": \"original_title=%{y}<br>ratings_count=%{x}<extra></extra>\", \"legendgroup\": \"The Da Vinci Code\", \"marker\": {\"color\": \"#636efa\"}, \"name\": \"The Da Vinci Code\", \"offsetgroup\": \"The Da Vinci Code\", \"orientation\": \"h\", \"showlegend\": true, \"textposition\": \"auto\", \"type\": \"bar\", \"x\": [1447148], \"xaxis\": \"x\", \"y\": [\"The Da Vinci Code\"], \"yaxis\": \"y\"}, {\"alignmentgroup\": \"True\", \"hovertemplate\": \"original_title=%{y}<br>ratings_count=%{x}<extra></extra>\", \"legendgroup\": \"The Lightning Thief\", \"marker\": {\"color\": \"#EF553B\"}, \"name\": \"The Lightning Thief\", \"offsetgroup\": \"The Lightning Thief\", \"orientation\": \"h\", \"showlegend\": true, \"textposition\": \"auto\", \"type\": \"bar\", \"x\": [1366265], \"xaxis\": \"x\", \"y\": [\"The Lightning Thief\"], \"yaxis\": \"y\"}, {\"alignmentgroup\": \"True\", \"hovertemplate\": \"original_title=%{y}<br>ratings_count=%{x}<extra></extra>\", \"legendgroup\": \"Fifty Shades of Grey\", \"marker\": {\"color\": \"#00cc96\"}, \"name\": \"Fifty Shades of Grey\", \"offsetgroup\": \"Fifty Shades of Grey\", \"orientation\": \"h\", \"showlegend\": true, \"textposition\": \"auto\", \"type\": \"bar\", \"x\": [1338493], \"xaxis\": \"x\", \"y\": [\"Fifty Shades of Grey\"], \"yaxis\": \"y\"}, {\"alignmentgroup\": \"True\", \"hovertemplate\": \"original_title=%{y}<br>ratings_count=%{x}<extra></extra>\", \"legendgroup\": \"A Game of Thrones\", \"marker\": {\"color\": \"#ab63fa\"}, \"name\": \"A Game of Thrones\", \"offsetgroup\": \"A Game of Thrones\", \"orientation\": \"h\", \"showlegend\": true, \"textposition\": \"auto\", \"type\": \"bar\", \"x\": [1319204], \"xaxis\": \"x\", \"y\": [\"A Game of Thrones\"], \"yaxis\": \"y\"}, {\"alignmentgroup\": \"True\", \"hovertemplate\": \"original_title=%{y}<br>ratings_count=%{x}<extra></extra>\", \"legendgroup\": \"Memoirs of a Geisha\", \"marker\": {\"color\": \"#FFA15A\"}, \"name\": \"Memoirs of a Geisha\", \"offsetgroup\": \"Memoirs of a Geisha\", \"orientation\": \"h\", \"showlegend\": true, \"textposition\": \"auto\", \"type\": \"bar\", \"x\": [1300209], \"xaxis\": \"x\", \"y\": [\"Memoirs of a Geisha\"], \"yaxis\": \"y\"}, {\"alignmentgroup\": \"True\", \"hovertemplate\": \"original_title=%{y}<br>ratings_count=%{x}<extra></extra>\", \"legendgroup\": \"O Alquimista\", \"marker\": {\"color\": \"#19d3f3\"}, \"name\": \"O Alquimista\", \"offsetgroup\": \"O Alquimista\", \"orientation\": \"h\", \"showlegend\": true, \"textposition\": \"auto\", \"type\": \"bar\", \"x\": [1299566], \"xaxis\": \"x\", \"y\": [\"O Alquimista\"], \"yaxis\": \"y\"}, {\"alignmentgroup\": \"True\", \"hovertemplate\": \"original_title=%{y}<br>ratings_count=%{x}<extra></extra>\", \"legendgroup\": \"The Giver\", \"marker\": {\"color\": \"#FF6692\"}, \"name\": \"The Giver\", \"offsetgroup\": \"The Giver\", \"orientation\": \"h\", \"showlegend\": true, \"textposition\": \"auto\", \"type\": \"bar\", \"x\": [1296825], \"xaxis\": \"x\", \"y\": [\"The Giver\"], \"yaxis\": \"y\"}, {\"alignmentgroup\": \"True\", \"hovertemplate\": \"original_title=%{y}<br>ratings_count=%{x}<extra></extra>\", \"legendgroup\": \"Little Women\", \"marker\": {\"color\": \"#B6E880\"}, \"name\": \"Little Women\", \"offsetgroup\": \"Little Women\", \"orientation\": \"h\", \"showlegend\": true, \"textposition\": \"auto\", \"type\": \"bar\", \"x\": [1257121], \"xaxis\": \"x\", \"y\": [\"Little Women\"], \"yaxis\": \"y\"}, {\"alignmentgroup\": \"True\", \"hovertemplate\": \"original_title=%{y}<br>ratings_count=%{x}<extra></extra>\", \"legendgroup\": \"Jane Eyre\", \"marker\": {\"color\": \"#FF97FF\"}, \"name\": \"Jane Eyre\", \"offsetgroup\": \"Jane Eyre\", \"orientation\": \"h\", \"showlegend\": true, \"textposition\": \"auto\", \"type\": \"bar\", \"x\": [1198557], \"xaxis\": \"x\", \"y\": [\"Jane Eyre\"], \"yaxis\": \"y\"}, {\"alignmentgroup\": \"True\", \"hovertemplate\": \"original_title=%{y}<br>ratings_count=%{x}<extra></extra>\", \"legendgroup\": \"Eat, pray, love: one woman's search for everything across Italy, India and Indonesia\", \"marker\": {\"color\": \"#FECB52\"}, \"name\": \"Eat, pray, love: one woman's search for everything across Italy, India and Indonesia\", \"offsetgroup\": \"Eat, pray, love: one woman's search for everything across Italy, India and Indonesia\", \"orientation\": \"h\", \"showlegend\": true, \"textposition\": \"auto\", \"type\": \"bar\", \"x\": [1181647], \"xaxis\": \"x\", \"y\": [\"Eat, pray, love: one woman's search for everything across Italy, India and Indonesia\"], \"yaxis\": \"y\"}, {\"alignmentgroup\": \"True\", \"hovertemplate\": \"original_title=%{y}<br>ratings_count=%{x}<extra></extra>\", \"legendgroup\": \"The Book Thief\", \"marker\": {\"color\": \"#636efa\"}, \"name\": \"The Book Thief\", \"offsetgroup\": \"The Book Thief\", \"orientation\": \"h\", \"showlegend\": true, \"textposition\": \"auto\", \"type\": \"bar\", \"x\": [1159741], \"xaxis\": \"x\", \"y\": [\"The Book Thief\"], \"yaxis\": \"y\"}, {\"alignmentgroup\": \"True\", \"hovertemplate\": \"original_title=%{y}<br>ratings_count=%{x}<extra></extra>\", \"legendgroup\": \"New Moon (Twilight, #2)\", \"marker\": {\"color\": \"#EF553B\"}, \"name\": \"New Moon (Twilight, #2)\", \"offsetgroup\": \"New Moon (Twilight, #2)\", \"orientation\": \"h\", \"showlegend\": true, \"textposition\": \"auto\", \"type\": \"bar\", \"x\": [1149630], \"xaxis\": \"x\", \"y\": [\"New Moon (Twilight, #2)\"], \"yaxis\": \"y\"}, {\"alignmentgroup\": \"True\", \"hovertemplate\": \"original_title=%{y}<br>ratings_count=%{x}<extra></extra>\", \"legendgroup\": \"Eclipse\", \"marker\": {\"color\": \"#00cc96\"}, \"name\": \"Eclipse\", \"offsetgroup\": \"Eclipse\", \"orientation\": \"h\", \"showlegend\": true, \"textposition\": \"auto\", \"type\": \"bar\", \"x\": [1134511], \"xaxis\": \"x\", \"y\": [\"Eclipse\"], \"yaxis\": \"y\"}, {\"alignmentgroup\": \"True\", \"hovertemplate\": \"original_title=%{y}<br>ratings_count=%{x}<extra></extra>\", \"legendgroup\": \"Eragon\", \"marker\": {\"color\": \"#ab63fa\"}, \"name\": \"Eragon\", \"offsetgroup\": \"Eragon\", \"orientation\": \"h\", \"showlegend\": true, \"textposition\": \"auto\", \"type\": \"bar\", \"x\": [1104021], \"xaxis\": \"x\", \"y\": [\"Eragon\"], \"yaxis\": \"y\"}, {\"alignmentgroup\": \"True\", \"hovertemplate\": \"original_title=%{y}<br>ratings_count=%{x}<extra></extra>\", \"legendgroup\": \"Breaking Dawn\", \"marker\": {\"color\": \"#FFA15A\"}, \"name\": \"Breaking Dawn\", \"offsetgroup\": \"Breaking Dawn\", \"orientation\": \"h\", \"showlegend\": true, \"textposition\": \"auto\", \"type\": \"bar\", \"x\": [1070245], \"xaxis\": \"x\", \"y\": [\"Breaking Dawn\"], \"yaxis\": \"y\"}, {\"alignmentgroup\": \"True\", \"hovertemplate\": \"original_title=%{y}<br>ratings_count=%{x}<extra></extra>\", \"legendgroup\": \"Water for Elephants\", \"marker\": {\"color\": \"#19d3f3\"}, \"name\": \"Water for Elephants\", \"offsetgroup\": \"Water for Elephants\", \"orientation\": \"h\", \"showlegend\": true, \"textposition\": \"auto\", \"type\": \"bar\", \"x\": [1068146], \"xaxis\": \"x\", \"y\": [\"Water for Elephants\"], \"yaxis\": \"y\"}, {\"alignmentgroup\": \"True\", \"hovertemplate\": \"original_title=%{y}<br>ratings_count=%{x}<extra></extra>\", \"legendgroup\": \"Charlotte's Web\", \"marker\": {\"color\": \"#FF6692\"}, \"name\": \"Charlotte's Web\", \"offsetgroup\": \"Charlotte's Web\", \"orientation\": \"h\", \"showlegend\": true, \"textposition\": \"auto\", \"type\": \"bar\", \"x\": [1064521], \"xaxis\": \"x\", \"y\": [\"Charlotte's Web\"], \"yaxis\": \"y\"}, {\"alignmentgroup\": \"True\", \"hovertemplate\": \"original_title=%{y}<br>ratings_count=%{x}<extra></extra>\", \"legendgroup\": \"The Notebook\", \"marker\": {\"color\": \"#B6E880\"}, \"name\": \"The Notebook\", \"offsetgroup\": \"The Notebook\", \"orientation\": \"h\", \"showlegend\": true, \"textposition\": \"auto\", \"type\": \"bar\", \"x\": [1053403], \"xaxis\": \"x\", \"y\": [\"The Notebook\"], \"yaxis\": \"y\"}, {\"alignmentgroup\": \"True\", \"hovertemplate\": \"original_title=%{y}<br>ratings_count=%{x}<extra></extra>\", \"legendgroup\": \"Brave New World\", \"marker\": {\"color\": \"#FF97FF\"}, \"name\": \"Brave New World\", \"offsetgroup\": \"Brave New World\", \"orientation\": \"h\", \"showlegend\": true, \"textposition\": \"auto\", \"type\": \"bar\", \"x\": [1022601], \"xaxis\": \"x\", \"y\": [\"Brave New World\"], \"yaxis\": \"y\"}, {\"alignmentgroup\": \"True\", \"hovertemplate\": \"original_title=%{y}<br>ratings_count=%{x}<extra></extra>\", \"legendgroup\": \"Where the Sidewalk Ends: The Poems and Drawings of Shel Silverstein\", \"marker\": {\"color\": \"#FECB52\"}, \"name\": \"Where the Sidewalk Ends: The Poems and Drawings of Shel Silverstein\", \"offsetgroup\": \"Where the Sidewalk Ends: The Poems and Drawings of Shel Silverstein\", \"orientation\": \"h\", \"showlegend\": true, \"textposition\": \"auto\", \"type\": \"bar\", \"x\": [1016888], \"xaxis\": \"x\", \"y\": [\"Where the Sidewalk Ends: The Poems and Drawings of Shel Silverstein\"], \"yaxis\": \"y\"}],                        {\"barmode\": \"relative\", \"height\": 700, \"legend\": {\"title\": {\"text\": \"original_title\"}, \"tracegroupgap\": 0}, \"template\": {\"data\": {\"bar\": [{\"error_x\": {\"color\": \"#2a3f5f\"}, \"error_y\": {\"color\": \"#2a3f5f\"}, \"marker\": {\"line\": {\"color\": \"#E5ECF6\", \"width\": 0.5}}, \"type\": \"bar\"}], \"barpolar\": [{\"marker\": {\"line\": {\"color\": \"#E5ECF6\", \"width\": 0.5}}, \"type\": \"barpolar\"}], \"carpet\": [{\"aaxis\": {\"endlinecolor\": \"#2a3f5f\", \"gridcolor\": \"white\", \"linecolor\": \"white\", \"minorgridcolor\": \"white\", \"startlinecolor\": \"#2a3f5f\"}, \"baxis\": {\"endlinecolor\": \"#2a3f5f\", \"gridcolor\": \"white\", \"linecolor\": \"white\", \"minorgridcolor\": \"white\", \"startlinecolor\": \"#2a3f5f\"}, \"type\": \"carpet\"}], \"choropleth\": [{\"colorbar\": {\"outlinewidth\": 0, \"ticks\": \"\"}, \"type\": \"choropleth\"}], \"contour\": [{\"colorbar\": {\"outlinewidth\": 0, \"ticks\": \"\"}, \"colorscale\": [[0.0, \"#0d0887\"], [0.1111111111111111, \"#46039f\"], [0.2222222222222222, \"#7201a8\"], [0.3333333333333333, \"#9c179e\"], [0.4444444444444444, \"#bd3786\"], [0.5555555555555556, \"#d8576b\"], [0.6666666666666666, \"#ed7953\"], [0.7777777777777778, \"#fb9f3a\"], [0.8888888888888888, \"#fdca26\"], [1.0, \"#f0f921\"]], \"type\": \"contour\"}], \"contourcarpet\": [{\"colorbar\": {\"outlinewidth\": 0, \"ticks\": \"\"}, \"type\": \"contourcarpet\"}], \"heatmap\": [{\"colorbar\": {\"outlinewidth\": 0, \"ticks\": \"\"}, \"colorscale\": [[0.0, \"#0d0887\"], [0.1111111111111111, \"#46039f\"], [0.2222222222222222, \"#7201a8\"], [0.3333333333333333, \"#9c179e\"], [0.4444444444444444, \"#bd3786\"], [0.5555555555555556, \"#d8576b\"], [0.6666666666666666, \"#ed7953\"], [0.7777777777777778, \"#fb9f3a\"], [0.8888888888888888, \"#fdca26\"], [1.0, \"#f0f921\"]], \"type\": \"heatmap\"}], \"heatmapgl\": [{\"colorbar\": {\"outlinewidth\": 0, \"ticks\": \"\"}, \"colorscale\": [[0.0, \"#0d0887\"], [0.1111111111111111, \"#46039f\"], [0.2222222222222222, \"#7201a8\"], [0.3333333333333333, \"#9c179e\"], [0.4444444444444444, \"#bd3786\"], [0.5555555555555556, \"#d8576b\"], [0.6666666666666666, \"#ed7953\"], [0.7777777777777778, \"#fb9f3a\"], [0.8888888888888888, \"#fdca26\"], [1.0, \"#f0f921\"]], \"type\": \"heatmapgl\"}], \"histogram\": [{\"marker\": {\"colorbar\": {\"outlinewidth\": 0, \"ticks\": \"\"}}, \"type\": \"histogram\"}], \"histogram2d\": [{\"colorbar\": {\"outlinewidth\": 0, \"ticks\": \"\"}, \"colorscale\": [[0.0, \"#0d0887\"], [0.1111111111111111, \"#46039f\"], [0.2222222222222222, \"#7201a8\"], [0.3333333333333333, \"#9c179e\"], [0.4444444444444444, \"#bd3786\"], [0.5555555555555556, \"#d8576b\"], [0.6666666666666666, \"#ed7953\"], [0.7777777777777778, \"#fb9f3a\"], [0.8888888888888888, \"#fdca26\"], [1.0, \"#f0f921\"]], \"type\": \"histogram2d\"}], \"histogram2dcontour\": [{\"colorbar\": {\"outlinewidth\": 0, \"ticks\": \"\"}, \"colorscale\": [[0.0, \"#0d0887\"], [0.1111111111111111, \"#46039f\"], [0.2222222222222222, \"#7201a8\"], [0.3333333333333333, \"#9c179e\"], [0.4444444444444444, \"#bd3786\"], [0.5555555555555556, \"#d8576b\"], [0.6666666666666666, \"#ed7953\"], [0.7777777777777778, \"#fb9f3a\"], [0.8888888888888888, \"#fdca26\"], [1.0, \"#f0f921\"]], \"type\": \"histogram2dcontour\"}], \"mesh3d\": [{\"colorbar\": {\"outlinewidth\": 0, \"ticks\": \"\"}, \"type\": \"mesh3d\"}], \"parcoords\": [{\"line\": {\"colorbar\": {\"outlinewidth\": 0, \"ticks\": \"\"}}, \"type\": \"parcoords\"}], \"pie\": [{\"automargin\": true, \"type\": \"pie\"}], \"scatter\": [{\"marker\": {\"colorbar\": {\"outlinewidth\": 0, \"ticks\": \"\"}}, \"type\": \"scatter\"}], \"scatter3d\": [{\"line\": {\"colorbar\": {\"outlinewidth\": 0, \"ticks\": \"\"}}, \"marker\": {\"colorbar\": {\"outlinewidth\": 0, \"ticks\": \"\"}}, \"type\": \"scatter3d\"}], \"scattercarpet\": [{\"marker\": {\"colorbar\": {\"outlinewidth\": 0, \"ticks\": \"\"}}, \"type\": \"scattercarpet\"}], \"scattergeo\": [{\"marker\": {\"colorbar\": {\"outlinewidth\": 0, \"ticks\": \"\"}}, \"type\": \"scattergeo\"}], \"scattergl\": [{\"marker\": {\"colorbar\": {\"outlinewidth\": 0, \"ticks\": \"\"}}, \"type\": \"scattergl\"}], \"scattermapbox\": [{\"marker\": {\"colorbar\": {\"outlinewidth\": 0, \"ticks\": \"\"}}, \"type\": \"scattermapbox\"}], \"scatterpolar\": [{\"marker\": {\"colorbar\": {\"outlinewidth\": 0, \"ticks\": \"\"}}, \"type\": \"scatterpolar\"}], \"scatterpolargl\": [{\"marker\": {\"colorbar\": {\"outlinewidth\": 0, \"ticks\": \"\"}}, \"type\": \"scatterpolargl\"}], \"scatterternary\": [{\"marker\": {\"colorbar\": {\"outlinewidth\": 0, \"ticks\": \"\"}}, \"type\": \"scatterternary\"}], \"surface\": [{\"colorbar\": {\"outlinewidth\": 0, \"ticks\": \"\"}, \"colorscale\": [[0.0, \"#0d0887\"], [0.1111111111111111, \"#46039f\"], [0.2222222222222222, \"#7201a8\"], [0.3333333333333333, \"#9c179e\"], [0.4444444444444444, \"#bd3786\"], [0.5555555555555556, \"#d8576b\"], [0.6666666666666666, \"#ed7953\"], [0.7777777777777778, \"#fb9f3a\"], [0.8888888888888888, \"#fdca26\"], [1.0, \"#f0f921\"]], \"type\": \"surface\"}], \"table\": [{\"cells\": {\"fill\": {\"color\": \"#EBF0F8\"}, \"line\": {\"color\": \"white\"}}, \"header\": {\"fill\": {\"color\": \"#C8D4E3\"}, \"line\": {\"color\": \"white\"}}, \"type\": \"table\"}]}, \"layout\": {\"annotationdefaults\": {\"arrowcolor\": \"#2a3f5f\", \"arrowhead\": 0, \"arrowwidth\": 1}, \"coloraxis\": {\"colorbar\": {\"outlinewidth\": 0, \"ticks\": \"\"}}, \"colorscale\": {\"diverging\": [[0, \"#8e0152\"], [0.1, \"#c51b7d\"], [0.2, \"#de77ae\"], [0.3, \"#f1b6da\"], [0.4, \"#fde0ef\"], [0.5, \"#f7f7f7\"], [0.6, \"#e6f5d0\"], [0.7, \"#b8e186\"], [0.8, \"#7fbc41\"], [0.9, \"#4d9221\"], [1, \"#276419\"]], \"sequential\": [[0.0, \"#0d0887\"], [0.1111111111111111, \"#46039f\"], [0.2222222222222222, \"#7201a8\"], [0.3333333333333333, \"#9c179e\"], [0.4444444444444444, \"#bd3786\"], [0.5555555555555556, \"#d8576b\"], [0.6666666666666666, \"#ed7953\"], [0.7777777777777778, \"#fb9f3a\"], [0.8888888888888888, \"#fdca26\"], [1.0, \"#f0f921\"]], \"sequentialminus\": [[0.0, \"#0d0887\"], [0.1111111111111111, \"#46039f\"], [0.2222222222222222, \"#7201a8\"], [0.3333333333333333, \"#9c179e\"], [0.4444444444444444, \"#bd3786\"], [0.5555555555555556, \"#d8576b\"], [0.6666666666666666, \"#ed7953\"], [0.7777777777777778, \"#fb9f3a\"], [0.8888888888888888, \"#fdca26\"], [1.0, \"#f0f921\"]]}, \"colorway\": [\"#636efa\", \"#EF553B\", \"#00cc96\", \"#ab63fa\", \"#FFA15A\", \"#19d3f3\", \"#FF6692\", \"#B6E880\", \"#FF97FF\", \"#FECB52\"], \"font\": {\"color\": \"#2a3f5f\"}, \"geo\": {\"bgcolor\": \"white\", \"lakecolor\": \"white\", \"landcolor\": \"#E5ECF6\", \"showlakes\": true, \"showland\": true, \"subunitcolor\": \"white\"}, \"hoverlabel\": {\"align\": \"left\"}, \"hovermode\": \"closest\", \"mapbox\": {\"style\": \"light\"}, \"paper_bgcolor\": \"white\", \"plot_bgcolor\": \"#E5ECF6\", \"polar\": {\"angularaxis\": {\"gridcolor\": \"white\", \"linecolor\": \"white\", \"ticks\": \"\"}, \"bgcolor\": \"#E5ECF6\", \"radialaxis\": {\"gridcolor\": \"white\", \"linecolor\": \"white\", \"ticks\": \"\"}}, \"scene\": {\"xaxis\": {\"backgroundcolor\": \"#E5ECF6\", \"gridcolor\": \"white\", \"gridwidth\": 2, \"linecolor\": \"white\", \"showbackground\": true, \"ticks\": \"\", \"zerolinecolor\": \"white\"}, \"yaxis\": {\"backgroundcolor\": \"#E5ECF6\", \"gridcolor\": \"white\", \"gridwidth\": 2, \"linecolor\": \"white\", \"showbackground\": true, \"ticks\": \"\", \"zerolinecolor\": \"white\"}, \"zaxis\": {\"backgroundcolor\": \"#E5ECF6\", \"gridcolor\": \"white\", \"gridwidth\": 2, \"linecolor\": \"white\", \"showbackground\": true, \"ticks\": \"\", \"zerolinecolor\": \"white\"}}, \"shapedefaults\": {\"line\": {\"color\": \"#2a3f5f\"}}, \"ternary\": {\"aaxis\": {\"gridcolor\": \"white\", \"linecolor\": \"white\", \"ticks\": \"\"}, \"baxis\": {\"gridcolor\": \"white\", \"linecolor\": \"white\", \"ticks\": \"\"}, \"bgcolor\": \"#E5ECF6\", \"caxis\": {\"gridcolor\": \"white\", \"linecolor\": \"white\", \"ticks\": \"\"}}, \"title\": {\"x\": 0.05}, \"xaxis\": {\"automargin\": true, \"gridcolor\": \"white\", \"linecolor\": \"white\", \"ticks\": \"\", \"title\": {\"standoff\": 15}, \"zerolinecolor\": \"white\", \"zerolinewidth\": 2}, \"yaxis\": {\"automargin\": true, \"gridcolor\": \"white\", \"linecolor\": \"white\", \"ticks\": \"\", \"title\": {\"standoff\": 15}, \"zerolinecolor\": \"white\", \"zerolinewidth\": 2}}}, \"title\": {\"text\": \"Top Popular Books\"}, \"width\": 1500, \"xaxis\": {\"anchor\": \"y\", \"domain\": [0.0, 1.0], \"title\": {\"text\": \"ratings_count\"}}, \"yaxis\": {\"anchor\": \"x\", \"categoryarray\": [\"Where the Sidewalk Ends: The Poems and Drawings of Shel Silverstein\", \"Brave New World\", \"The Notebook\", \"Charlotte's Web\", \"Water for Elephants\", \"Breaking Dawn\", \"Eragon\", \"Eclipse\", \"New Moon (Twilight, #2)\", \"The Book Thief\", \"Eat, pray, love: one woman's search for everything across Italy, India and Indonesia\", \"Jane Eyre\", \"Little Women\", \"The Giver\", \"O Alquimista\", \"Memoirs of a Geisha\", \"A Game of Thrones\", \"Fifty Shades of Grey\", \"The Lightning Thief\", \"The Da Vinci Code\", \"Of Mice and Men \", \"The Help\", \"The Lion, the Witch and the Wardrobe\", \"Lord of the Flies \", \"The Lovely Bones\", \"An Excellent conceited Tragedie of Romeo and Juliet\", \"Harry Potter and the Half-Blood Prince\", \"Mockingjay\", \"Harry Potter and the Order of the Phoenix\", \"Harry Potter and the Deathly Hallows\", \"Harry Potter and the Goblet of Fire\", \" The Fellowship of the Ring\", \"Harry Potter and the Chamber of Secrets\", \"M\\u00e4n som hatar kvinnor\", \"The Kite Runner \", \"Catching Fire\", \"Harry Potter and the Prisoner of Azkaban\", \"Animal Farm: A Fairy Story\", \"Divergent\", \"Nineteen Eighty-Four\", \"Het Achterhuis: Dagboekbrieven 14 juni 1942 - 1 augustus 1944\", \"Angels & Demons \", \"Pride and Prejudice\", \"The Catcher in the Rye\", \"The Hobbit or There and Back Again\", \"The Fault in Our Stars\", \"The Great Gatsby\", \"To Kill a Mockingbird\", \"Harry Potter and the Philosopher's Stone\", \"The Hunger Games\"], \"categoryorder\": \"array\", \"domain\": [0.0, 1.0], \"title\": {\"text\": \"original_title\"}}},                        {\"responsive\": true}                    ).then(function(){\n",
       "                            \n",
       "var gd = document.getElementById('f3493dea-3a62-4b96-a8ca-c773482e9ffd');\n",
       "var x = new MutationObserver(function (mutations, observer) {{\n",
       "        var display = window.getComputedStyle(gd).display;\n",
       "        if (!display || display === 'none') {{\n",
       "            console.log([gd, 'removed!']);\n",
       "            Plotly.purge(gd);\n",
       "            observer.disconnect();\n",
       "        }}\n",
       "}});\n",
       "\n",
       "// Listen for the removal of the full notebook cells\n",
       "var notebookContainer = gd.closest('#notebook-container');\n",
       "if (notebookContainer) {{\n",
       "    x.observe(notebookContainer, {childList: true});\n",
       "}}\n",
       "\n",
       "// Listen for the clearing of the current output cell\n",
       "var outputEl = gd.closest('.output');\n",
       "if (outputEl) {{\n",
       "    x.observe(outputEl, {childList: true});\n",
       "}}\n",
       "\n",
       "                        })                };                });            </script>        </div>"
      ]
     },
     "metadata": {},
     "output_type": "display_data"
    }
   ],
   "source": [
    "top_popular = books_data.sort_values('ratings_count', ascending=False)\n",
    "fifty_top_popular = top_popular[:50]\n",
    "fig = px.bar(fifty_top_popular, x=\"ratings_count\", y=\"original_title\", title='Top Popular Books', orientation='h', color='original_title',\n",
    "             width=1500, height=700)\n",
    "fig.show()"
   ]
  },
  {
   "cell_type": "code",
   "execution_count": 34,
   "metadata": {
    "scrolled": false
   },
   "outputs": [
    {
     "data": {
      "application/vnd.plotly.v1+json": {
       "config": {
        "plotlyServerURL": "https://plot.ly"
       },
       "data": [
        {
         "branchvalues": "total",
         "domain": {
          "x": [
           0,
           1
          ],
          "y": [
           0,
           1
          ]
         },
         "hovertemplate": "labels=%{label}<br>ratings_count=%{value}<br>parent=%{parent}<br>id=%{id}<extra></extra>",
         "ids": [
          " The Fellowship of the Ring",
          "A Game of Thrones",
          "An Excellent conceited Tragedie of Romeo and Juliet",
          "Angels & Demons ",
          "Animal Farm: A Fairy Story",
          "Brave New World",
          "Breaking Dawn",
          "Catching Fire",
          "Charlotte's Web",
          "Divergent",
          "Eat, pray, love: one woman's search for everything across Italy, India and Indonesia",
          "Eclipse",
          "Eragon",
          "Fifty Shades of Grey",
          "Harry Potter and the Chamber of Secrets",
          "Harry Potter and the Deathly Hallows",
          "Harry Potter and the Goblet of Fire",
          "Harry Potter and the Half-Blood Prince",
          "Harry Potter and the Order of the Phoenix",
          "Harry Potter and the Philosopher's Stone",
          "Harry Potter and the Prisoner of Azkaban",
          "Het Achterhuis: Dagboekbrieven 14 juni 1942 - 1 augustus 1944",
          "Jane Eyre",
          "Little Women",
          "Lord of the Flies ",
          "Memoirs of a Geisha",
          "Mockingjay",
          "Män som hatar kvinnor",
          "New Moon (Twilight, #2)",
          "Nineteen Eighty-Four",
          "O Alquimista",
          "Of Mice and Men ",
          "Pride and Prejudice",
          "The Book Thief",
          "The Catcher in the Rye",
          "The Da Vinci Code",
          "The Fault in Our Stars",
          "The Giver",
          "The Great Gatsby",
          "The Help",
          "The Hobbit or There and Back Again",
          "The Hunger Games",
          "The Kite Runner ",
          "The Lightning Thief",
          "The Lion, the Witch and the Wardrobe",
          "The Lovely Bones",
          "The Notebook",
          "To Kill a Mockingbird",
          "Water for Elephants",
          "Where the Sidewalk Ends: The Poems and Drawings of Shel Silverstein"
         ],
         "labels": [
          " The Fellowship of the Ring",
          "A Game of Thrones",
          "An Excellent conceited Tragedie of Romeo and Juliet",
          "Angels & Demons ",
          "Animal Farm: A Fairy Story",
          "Brave New World",
          "Breaking Dawn",
          "Catching Fire",
          "Charlotte's Web",
          "Divergent",
          "Eat, pray, love: one woman's search for everything across Italy, India and Indonesia",
          "Eclipse",
          "Eragon",
          "Fifty Shades of Grey",
          "Harry Potter and the Chamber of Secrets",
          "Harry Potter and the Deathly Hallows",
          "Harry Potter and the Goblet of Fire",
          "Harry Potter and the Half-Blood Prince",
          "Harry Potter and the Order of the Phoenix",
          "Harry Potter and the Philosopher's Stone",
          "Harry Potter and the Prisoner of Azkaban",
          "Het Achterhuis: Dagboekbrieven 14 juni 1942 - 1 augustus 1944",
          "Jane Eyre",
          "Little Women",
          "Lord of the Flies ",
          "Memoirs of a Geisha",
          "Mockingjay",
          "Män som hatar kvinnor",
          "New Moon (Twilight, #2)",
          "Nineteen Eighty-Four",
          "O Alquimista",
          "Of Mice and Men ",
          "Pride and Prejudice",
          "The Book Thief",
          "The Catcher in the Rye",
          "The Da Vinci Code",
          "The Fault in Our Stars",
          "The Giver",
          "The Great Gatsby",
          "The Help",
          "The Hobbit or There and Back Again",
          "The Hunger Games",
          "The Kite Runner ",
          "The Lightning Thief",
          "The Lion, the Witch and the Wardrobe",
          "The Lovely Bones",
          "The Notebook",
          "To Kill a Mockingbird",
          "Water for Elephants",
          "Where the Sidewalk Ends: The Poems and Drawings of Shel Silverstein"
         ],
         "name": "",
         "parents": [
          "",
          "",
          "",
          "",
          "",
          "",
          "",
          "",
          "",
          "",
          "",
          "",
          "",
          "",
          "",
          "",
          "",
          "",
          "",
          "",
          "",
          "",
          "",
          "",
          "",
          "",
          "",
          "",
          "",
          "",
          "",
          "",
          "",
          "",
          "",
          "",
          "",
          "",
          "",
          "",
          "",
          "",
          "",
          "",
          "",
          "",
          "",
          "",
          "",
          ""
         ],
         "type": "treemap",
         "values": [
          1766803,
          1319204,
          1628519,
          2001311,
          1881700,
          1022601,
          1070245,
          1831039,
          1064521,
          1903563,
          1181647,
          1134511,
          1104021,
          1338493,
          1779331,
          1746574,
          1753043,
          1678823,
          1735368,
          4602479,
          1832823,
          1972666,
          1198557,
          1257121,
          1605019,
          1300209,
          1719760,
          1808403,
          1149630,
          1956832,
          1299566,
          1467496,
          2035490,
          1159741,
          2044241,
          1447148,
          2346404,
          1296825,
          2683664,
          1531753,
          2071616,
          4780653,
          1813044,
          1366265,
          1531800,
          1605173,
          1053403,
          3198671,
          1068146,
          1016888
         ]
        }
       ],
       "layout": {
        "height": 700,
        "legend": {
         "tracegroupgap": 0
        },
        "template": {
         "data": {
          "bar": [
           {
            "error_x": {
             "color": "#2a3f5f"
            },
            "error_y": {
             "color": "#2a3f5f"
            },
            "marker": {
             "line": {
              "color": "#E5ECF6",
              "width": 0.5
             }
            },
            "type": "bar"
           }
          ],
          "barpolar": [
           {
            "marker": {
             "line": {
              "color": "#E5ECF6",
              "width": 0.5
             }
            },
            "type": "barpolar"
           }
          ],
          "carpet": [
           {
            "aaxis": {
             "endlinecolor": "#2a3f5f",
             "gridcolor": "white",
             "linecolor": "white",
             "minorgridcolor": "white",
             "startlinecolor": "#2a3f5f"
            },
            "baxis": {
             "endlinecolor": "#2a3f5f",
             "gridcolor": "white",
             "linecolor": "white",
             "minorgridcolor": "white",
             "startlinecolor": "#2a3f5f"
            },
            "type": "carpet"
           }
          ],
          "choropleth": [
           {
            "colorbar": {
             "outlinewidth": 0,
             "ticks": ""
            },
            "type": "choropleth"
           }
          ],
          "contour": [
           {
            "colorbar": {
             "outlinewidth": 0,
             "ticks": ""
            },
            "colorscale": [
             [
              0,
              "#0d0887"
             ],
             [
              0.1111111111111111,
              "#46039f"
             ],
             [
              0.2222222222222222,
              "#7201a8"
             ],
             [
              0.3333333333333333,
              "#9c179e"
             ],
             [
              0.4444444444444444,
              "#bd3786"
             ],
             [
              0.5555555555555556,
              "#d8576b"
             ],
             [
              0.6666666666666666,
              "#ed7953"
             ],
             [
              0.7777777777777778,
              "#fb9f3a"
             ],
             [
              0.8888888888888888,
              "#fdca26"
             ],
             [
              1,
              "#f0f921"
             ]
            ],
            "type": "contour"
           }
          ],
          "contourcarpet": [
           {
            "colorbar": {
             "outlinewidth": 0,
             "ticks": ""
            },
            "type": "contourcarpet"
           }
          ],
          "heatmap": [
           {
            "colorbar": {
             "outlinewidth": 0,
             "ticks": ""
            },
            "colorscale": [
             [
              0,
              "#0d0887"
             ],
             [
              0.1111111111111111,
              "#46039f"
             ],
             [
              0.2222222222222222,
              "#7201a8"
             ],
             [
              0.3333333333333333,
              "#9c179e"
             ],
             [
              0.4444444444444444,
              "#bd3786"
             ],
             [
              0.5555555555555556,
              "#d8576b"
             ],
             [
              0.6666666666666666,
              "#ed7953"
             ],
             [
              0.7777777777777778,
              "#fb9f3a"
             ],
             [
              0.8888888888888888,
              "#fdca26"
             ],
             [
              1,
              "#f0f921"
             ]
            ],
            "type": "heatmap"
           }
          ],
          "heatmapgl": [
           {
            "colorbar": {
             "outlinewidth": 0,
             "ticks": ""
            },
            "colorscale": [
             [
              0,
              "#0d0887"
             ],
             [
              0.1111111111111111,
              "#46039f"
             ],
             [
              0.2222222222222222,
              "#7201a8"
             ],
             [
              0.3333333333333333,
              "#9c179e"
             ],
             [
              0.4444444444444444,
              "#bd3786"
             ],
             [
              0.5555555555555556,
              "#d8576b"
             ],
             [
              0.6666666666666666,
              "#ed7953"
             ],
             [
              0.7777777777777778,
              "#fb9f3a"
             ],
             [
              0.8888888888888888,
              "#fdca26"
             ],
             [
              1,
              "#f0f921"
             ]
            ],
            "type": "heatmapgl"
           }
          ],
          "histogram": [
           {
            "marker": {
             "colorbar": {
              "outlinewidth": 0,
              "ticks": ""
             }
            },
            "type": "histogram"
           }
          ],
          "histogram2d": [
           {
            "colorbar": {
             "outlinewidth": 0,
             "ticks": ""
            },
            "colorscale": [
             [
              0,
              "#0d0887"
             ],
             [
              0.1111111111111111,
              "#46039f"
             ],
             [
              0.2222222222222222,
              "#7201a8"
             ],
             [
              0.3333333333333333,
              "#9c179e"
             ],
             [
              0.4444444444444444,
              "#bd3786"
             ],
             [
              0.5555555555555556,
              "#d8576b"
             ],
             [
              0.6666666666666666,
              "#ed7953"
             ],
             [
              0.7777777777777778,
              "#fb9f3a"
             ],
             [
              0.8888888888888888,
              "#fdca26"
             ],
             [
              1,
              "#f0f921"
             ]
            ],
            "type": "histogram2d"
           }
          ],
          "histogram2dcontour": [
           {
            "colorbar": {
             "outlinewidth": 0,
             "ticks": ""
            },
            "colorscale": [
             [
              0,
              "#0d0887"
             ],
             [
              0.1111111111111111,
              "#46039f"
             ],
             [
              0.2222222222222222,
              "#7201a8"
             ],
             [
              0.3333333333333333,
              "#9c179e"
             ],
             [
              0.4444444444444444,
              "#bd3786"
             ],
             [
              0.5555555555555556,
              "#d8576b"
             ],
             [
              0.6666666666666666,
              "#ed7953"
             ],
             [
              0.7777777777777778,
              "#fb9f3a"
             ],
             [
              0.8888888888888888,
              "#fdca26"
             ],
             [
              1,
              "#f0f921"
             ]
            ],
            "type": "histogram2dcontour"
           }
          ],
          "mesh3d": [
           {
            "colorbar": {
             "outlinewidth": 0,
             "ticks": ""
            },
            "type": "mesh3d"
           }
          ],
          "parcoords": [
           {
            "line": {
             "colorbar": {
              "outlinewidth": 0,
              "ticks": ""
             }
            },
            "type": "parcoords"
           }
          ],
          "pie": [
           {
            "automargin": true,
            "type": "pie"
           }
          ],
          "scatter": [
           {
            "marker": {
             "colorbar": {
              "outlinewidth": 0,
              "ticks": ""
             }
            },
            "type": "scatter"
           }
          ],
          "scatter3d": [
           {
            "line": {
             "colorbar": {
              "outlinewidth": 0,
              "ticks": ""
             }
            },
            "marker": {
             "colorbar": {
              "outlinewidth": 0,
              "ticks": ""
             }
            },
            "type": "scatter3d"
           }
          ],
          "scattercarpet": [
           {
            "marker": {
             "colorbar": {
              "outlinewidth": 0,
              "ticks": ""
             }
            },
            "type": "scattercarpet"
           }
          ],
          "scattergeo": [
           {
            "marker": {
             "colorbar": {
              "outlinewidth": 0,
              "ticks": ""
             }
            },
            "type": "scattergeo"
           }
          ],
          "scattergl": [
           {
            "marker": {
             "colorbar": {
              "outlinewidth": 0,
              "ticks": ""
             }
            },
            "type": "scattergl"
           }
          ],
          "scattermapbox": [
           {
            "marker": {
             "colorbar": {
              "outlinewidth": 0,
              "ticks": ""
             }
            },
            "type": "scattermapbox"
           }
          ],
          "scatterpolar": [
           {
            "marker": {
             "colorbar": {
              "outlinewidth": 0,
              "ticks": ""
             }
            },
            "type": "scatterpolar"
           }
          ],
          "scatterpolargl": [
           {
            "marker": {
             "colorbar": {
              "outlinewidth": 0,
              "ticks": ""
             }
            },
            "type": "scatterpolargl"
           }
          ],
          "scatterternary": [
           {
            "marker": {
             "colorbar": {
              "outlinewidth": 0,
              "ticks": ""
             }
            },
            "type": "scatterternary"
           }
          ],
          "surface": [
           {
            "colorbar": {
             "outlinewidth": 0,
             "ticks": ""
            },
            "colorscale": [
             [
              0,
              "#0d0887"
             ],
             [
              0.1111111111111111,
              "#46039f"
             ],
             [
              0.2222222222222222,
              "#7201a8"
             ],
             [
              0.3333333333333333,
              "#9c179e"
             ],
             [
              0.4444444444444444,
              "#bd3786"
             ],
             [
              0.5555555555555556,
              "#d8576b"
             ],
             [
              0.6666666666666666,
              "#ed7953"
             ],
             [
              0.7777777777777778,
              "#fb9f3a"
             ],
             [
              0.8888888888888888,
              "#fdca26"
             ],
             [
              1,
              "#f0f921"
             ]
            ],
            "type": "surface"
           }
          ],
          "table": [
           {
            "cells": {
             "fill": {
              "color": "#EBF0F8"
             },
             "line": {
              "color": "white"
             }
            },
            "header": {
             "fill": {
              "color": "#C8D4E3"
             },
             "line": {
              "color": "white"
             }
            },
            "type": "table"
           }
          ]
         },
         "layout": {
          "annotationdefaults": {
           "arrowcolor": "#2a3f5f",
           "arrowhead": 0,
           "arrowwidth": 1
          },
          "coloraxis": {
           "colorbar": {
            "outlinewidth": 0,
            "ticks": ""
           }
          },
          "colorscale": {
           "diverging": [
            [
             0,
             "#8e0152"
            ],
            [
             0.1,
             "#c51b7d"
            ],
            [
             0.2,
             "#de77ae"
            ],
            [
             0.3,
             "#f1b6da"
            ],
            [
             0.4,
             "#fde0ef"
            ],
            [
             0.5,
             "#f7f7f7"
            ],
            [
             0.6,
             "#e6f5d0"
            ],
            [
             0.7,
             "#b8e186"
            ],
            [
             0.8,
             "#7fbc41"
            ],
            [
             0.9,
             "#4d9221"
            ],
            [
             1,
             "#276419"
            ]
           ],
           "sequential": [
            [
             0,
             "#0d0887"
            ],
            [
             0.1111111111111111,
             "#46039f"
            ],
            [
             0.2222222222222222,
             "#7201a8"
            ],
            [
             0.3333333333333333,
             "#9c179e"
            ],
            [
             0.4444444444444444,
             "#bd3786"
            ],
            [
             0.5555555555555556,
             "#d8576b"
            ],
            [
             0.6666666666666666,
             "#ed7953"
            ],
            [
             0.7777777777777778,
             "#fb9f3a"
            ],
            [
             0.8888888888888888,
             "#fdca26"
            ],
            [
             1,
             "#f0f921"
            ]
           ],
           "sequentialminus": [
            [
             0,
             "#0d0887"
            ],
            [
             0.1111111111111111,
             "#46039f"
            ],
            [
             0.2222222222222222,
             "#7201a8"
            ],
            [
             0.3333333333333333,
             "#9c179e"
            ],
            [
             0.4444444444444444,
             "#bd3786"
            ],
            [
             0.5555555555555556,
             "#d8576b"
            ],
            [
             0.6666666666666666,
             "#ed7953"
            ],
            [
             0.7777777777777778,
             "#fb9f3a"
            ],
            [
             0.8888888888888888,
             "#fdca26"
            ],
            [
             1,
             "#f0f921"
            ]
           ]
          },
          "colorway": [
           "#636efa",
           "#EF553B",
           "#00cc96",
           "#ab63fa",
           "#FFA15A",
           "#19d3f3",
           "#FF6692",
           "#B6E880",
           "#FF97FF",
           "#FECB52"
          ],
          "font": {
           "color": "#2a3f5f"
          },
          "geo": {
           "bgcolor": "white",
           "lakecolor": "white",
           "landcolor": "#E5ECF6",
           "showlakes": true,
           "showland": true,
           "subunitcolor": "white"
          },
          "hoverlabel": {
           "align": "left"
          },
          "hovermode": "closest",
          "mapbox": {
           "style": "light"
          },
          "paper_bgcolor": "white",
          "plot_bgcolor": "#E5ECF6",
          "polar": {
           "angularaxis": {
            "gridcolor": "white",
            "linecolor": "white",
            "ticks": ""
           },
           "bgcolor": "#E5ECF6",
           "radialaxis": {
            "gridcolor": "white",
            "linecolor": "white",
            "ticks": ""
           }
          },
          "scene": {
           "xaxis": {
            "backgroundcolor": "#E5ECF6",
            "gridcolor": "white",
            "gridwidth": 2,
            "linecolor": "white",
            "showbackground": true,
            "ticks": "",
            "zerolinecolor": "white"
           },
           "yaxis": {
            "backgroundcolor": "#E5ECF6",
            "gridcolor": "white",
            "gridwidth": 2,
            "linecolor": "white",
            "showbackground": true,
            "ticks": "",
            "zerolinecolor": "white"
           },
           "zaxis": {
            "backgroundcolor": "#E5ECF6",
            "gridcolor": "white",
            "gridwidth": 2,
            "linecolor": "white",
            "showbackground": true,
            "ticks": "",
            "zerolinecolor": "white"
           }
          },
          "shapedefaults": {
           "line": {
            "color": "#2a3f5f"
           }
          },
          "ternary": {
           "aaxis": {
            "gridcolor": "white",
            "linecolor": "white",
            "ticks": ""
           },
           "baxis": {
            "gridcolor": "white",
            "linecolor": "white",
            "ticks": ""
           },
           "bgcolor": "#E5ECF6",
           "caxis": {
            "gridcolor": "white",
            "linecolor": "white",
            "ticks": ""
           }
          },
          "title": {
           "x": 0.05
          },
          "xaxis": {
           "automargin": true,
           "gridcolor": "white",
           "linecolor": "white",
           "ticks": "",
           "title": {
            "standoff": 15
           },
           "zerolinecolor": "white",
           "zerolinewidth": 2
          },
          "yaxis": {
           "automargin": true,
           "gridcolor": "white",
           "linecolor": "white",
           "ticks": "",
           "title": {
            "standoff": 15
           },
           "zerolinecolor": "white",
           "zerolinewidth": 2
          }
         }
        },
        "title": {
         "text": "Popular Books"
        },
        "width": 1000
       }
      },
      "text/html": [
       "<div>                            <div id=\"4a4edc8c-5b57-4293-a2e6-9c884862e70e\" class=\"plotly-graph-div\" style=\"height:700px; width:1000px;\"></div>            <script type=\"text/javascript\">                require([\"plotly\"], function(Plotly) {                    window.PLOTLYENV=window.PLOTLYENV || {};                                    if (document.getElementById(\"4a4edc8c-5b57-4293-a2e6-9c884862e70e\")) {                    Plotly.newPlot(                        \"4a4edc8c-5b57-4293-a2e6-9c884862e70e\",                        [{\"branchvalues\": \"total\", \"domain\": {\"x\": [0.0, 1.0], \"y\": [0.0, 1.0]}, \"hovertemplate\": \"labels=%{label}<br>ratings_count=%{value}<br>parent=%{parent}<br>id=%{id}<extra></extra>\", \"ids\": [\" The Fellowship of the Ring\", \"A Game of Thrones\", \"An Excellent conceited Tragedie of Romeo and Juliet\", \"Angels & Demons \", \"Animal Farm: A Fairy Story\", \"Brave New World\", \"Breaking Dawn\", \"Catching Fire\", \"Charlotte's Web\", \"Divergent\", \"Eat, pray, love: one woman's search for everything across Italy, India and Indonesia\", \"Eclipse\", \"Eragon\", \"Fifty Shades of Grey\", \"Harry Potter and the Chamber of Secrets\", \"Harry Potter and the Deathly Hallows\", \"Harry Potter and the Goblet of Fire\", \"Harry Potter and the Half-Blood Prince\", \"Harry Potter and the Order of the Phoenix\", \"Harry Potter and the Philosopher's Stone\", \"Harry Potter and the Prisoner of Azkaban\", \"Het Achterhuis: Dagboekbrieven 14 juni 1942 - 1 augustus 1944\", \"Jane Eyre\", \"Little Women\", \"Lord of the Flies \", \"Memoirs of a Geisha\", \"Mockingjay\", \"M\\u00e4n som hatar kvinnor\", \"New Moon (Twilight, #2)\", \"Nineteen Eighty-Four\", \"O Alquimista\", \"Of Mice and Men \", \"Pride and Prejudice\", \"The Book Thief\", \"The Catcher in the Rye\", \"The Da Vinci Code\", \"The Fault in Our Stars\", \"The Giver\", \"The Great Gatsby\", \"The Help\", \"The Hobbit or There and Back Again\", \"The Hunger Games\", \"The Kite Runner \", \"The Lightning Thief\", \"The Lion, the Witch and the Wardrobe\", \"The Lovely Bones\", \"The Notebook\", \"To Kill a Mockingbird\", \"Water for Elephants\", \"Where the Sidewalk Ends: The Poems and Drawings of Shel Silverstein\"], \"labels\": [\" The Fellowship of the Ring\", \"A Game of Thrones\", \"An Excellent conceited Tragedie of Romeo and Juliet\", \"Angels & Demons \", \"Animal Farm: A Fairy Story\", \"Brave New World\", \"Breaking Dawn\", \"Catching Fire\", \"Charlotte's Web\", \"Divergent\", \"Eat, pray, love: one woman's search for everything across Italy, India and Indonesia\", \"Eclipse\", \"Eragon\", \"Fifty Shades of Grey\", \"Harry Potter and the Chamber of Secrets\", \"Harry Potter and the Deathly Hallows\", \"Harry Potter and the Goblet of Fire\", \"Harry Potter and the Half-Blood Prince\", \"Harry Potter and the Order of the Phoenix\", \"Harry Potter and the Philosopher's Stone\", \"Harry Potter and the Prisoner of Azkaban\", \"Het Achterhuis: Dagboekbrieven 14 juni 1942 - 1 augustus 1944\", \"Jane Eyre\", \"Little Women\", \"Lord of the Flies \", \"Memoirs of a Geisha\", \"Mockingjay\", \"M\\u00e4n som hatar kvinnor\", \"New Moon (Twilight, #2)\", \"Nineteen Eighty-Four\", \"O Alquimista\", \"Of Mice and Men \", \"Pride and Prejudice\", \"The Book Thief\", \"The Catcher in the Rye\", \"The Da Vinci Code\", \"The Fault in Our Stars\", \"The Giver\", \"The Great Gatsby\", \"The Help\", \"The Hobbit or There and Back Again\", \"The Hunger Games\", \"The Kite Runner \", \"The Lightning Thief\", \"The Lion, the Witch and the Wardrobe\", \"The Lovely Bones\", \"The Notebook\", \"To Kill a Mockingbird\", \"Water for Elephants\", \"Where the Sidewalk Ends: The Poems and Drawings of Shel Silverstein\"], \"name\": \"\", \"parents\": [\"\", \"\", \"\", \"\", \"\", \"\", \"\", \"\", \"\", \"\", \"\", \"\", \"\", \"\", \"\", \"\", \"\", \"\", \"\", \"\", \"\", \"\", \"\", \"\", \"\", \"\", \"\", \"\", \"\", \"\", \"\", \"\", \"\", \"\", \"\", \"\", \"\", \"\", \"\", \"\", \"\", \"\", \"\", \"\", \"\", \"\", \"\", \"\", \"\", \"\"], \"type\": \"treemap\", \"values\": [1766803, 1319204, 1628519, 2001311, 1881700, 1022601, 1070245, 1831039, 1064521, 1903563, 1181647, 1134511, 1104021, 1338493, 1779331, 1746574, 1753043, 1678823, 1735368, 4602479, 1832823, 1972666, 1198557, 1257121, 1605019, 1300209, 1719760, 1808403, 1149630, 1956832, 1299566, 1467496, 2035490, 1159741, 2044241, 1447148, 2346404, 1296825, 2683664, 1531753, 2071616, 4780653, 1813044, 1366265, 1531800, 1605173, 1053403, 3198671, 1068146, 1016888]}],                        {\"height\": 700, \"legend\": {\"tracegroupgap\": 0}, \"template\": {\"data\": {\"bar\": [{\"error_x\": {\"color\": \"#2a3f5f\"}, \"error_y\": {\"color\": \"#2a3f5f\"}, \"marker\": {\"line\": {\"color\": \"#E5ECF6\", \"width\": 0.5}}, \"type\": \"bar\"}], \"barpolar\": [{\"marker\": {\"line\": {\"color\": \"#E5ECF6\", \"width\": 0.5}}, \"type\": \"barpolar\"}], \"carpet\": [{\"aaxis\": {\"endlinecolor\": \"#2a3f5f\", \"gridcolor\": \"white\", \"linecolor\": \"white\", \"minorgridcolor\": \"white\", \"startlinecolor\": \"#2a3f5f\"}, \"baxis\": {\"endlinecolor\": \"#2a3f5f\", \"gridcolor\": \"white\", \"linecolor\": \"white\", \"minorgridcolor\": \"white\", \"startlinecolor\": \"#2a3f5f\"}, \"type\": \"carpet\"}], \"choropleth\": [{\"colorbar\": {\"outlinewidth\": 0, \"ticks\": \"\"}, \"type\": \"choropleth\"}], \"contour\": [{\"colorbar\": {\"outlinewidth\": 0, \"ticks\": \"\"}, \"colorscale\": [[0.0, \"#0d0887\"], [0.1111111111111111, \"#46039f\"], [0.2222222222222222, \"#7201a8\"], [0.3333333333333333, \"#9c179e\"], [0.4444444444444444, \"#bd3786\"], [0.5555555555555556, \"#d8576b\"], [0.6666666666666666, \"#ed7953\"], [0.7777777777777778, \"#fb9f3a\"], [0.8888888888888888, \"#fdca26\"], [1.0, \"#f0f921\"]], \"type\": \"contour\"}], \"contourcarpet\": [{\"colorbar\": {\"outlinewidth\": 0, \"ticks\": \"\"}, \"type\": \"contourcarpet\"}], \"heatmap\": [{\"colorbar\": {\"outlinewidth\": 0, \"ticks\": \"\"}, \"colorscale\": [[0.0, \"#0d0887\"], [0.1111111111111111, \"#46039f\"], [0.2222222222222222, \"#7201a8\"], [0.3333333333333333, \"#9c179e\"], [0.4444444444444444, \"#bd3786\"], [0.5555555555555556, \"#d8576b\"], [0.6666666666666666, \"#ed7953\"], [0.7777777777777778, \"#fb9f3a\"], [0.8888888888888888, \"#fdca26\"], [1.0, \"#f0f921\"]], \"type\": \"heatmap\"}], \"heatmapgl\": [{\"colorbar\": {\"outlinewidth\": 0, \"ticks\": \"\"}, \"colorscale\": [[0.0, \"#0d0887\"], [0.1111111111111111, \"#46039f\"], [0.2222222222222222, \"#7201a8\"], [0.3333333333333333, \"#9c179e\"], [0.4444444444444444, \"#bd3786\"], [0.5555555555555556, \"#d8576b\"], [0.6666666666666666, \"#ed7953\"], [0.7777777777777778, \"#fb9f3a\"], [0.8888888888888888, \"#fdca26\"], [1.0, \"#f0f921\"]], \"type\": \"heatmapgl\"}], \"histogram\": [{\"marker\": {\"colorbar\": {\"outlinewidth\": 0, \"ticks\": \"\"}}, \"type\": \"histogram\"}], \"histogram2d\": [{\"colorbar\": {\"outlinewidth\": 0, \"ticks\": \"\"}, \"colorscale\": [[0.0, \"#0d0887\"], [0.1111111111111111, \"#46039f\"], [0.2222222222222222, \"#7201a8\"], [0.3333333333333333, \"#9c179e\"], [0.4444444444444444, \"#bd3786\"], [0.5555555555555556, \"#d8576b\"], [0.6666666666666666, \"#ed7953\"], [0.7777777777777778, \"#fb9f3a\"], [0.8888888888888888, \"#fdca26\"], [1.0, \"#f0f921\"]], \"type\": \"histogram2d\"}], \"histogram2dcontour\": [{\"colorbar\": {\"outlinewidth\": 0, \"ticks\": \"\"}, \"colorscale\": [[0.0, \"#0d0887\"], [0.1111111111111111, \"#46039f\"], [0.2222222222222222, \"#7201a8\"], [0.3333333333333333, \"#9c179e\"], [0.4444444444444444, \"#bd3786\"], [0.5555555555555556, \"#d8576b\"], [0.6666666666666666, \"#ed7953\"], [0.7777777777777778, \"#fb9f3a\"], [0.8888888888888888, \"#fdca26\"], [1.0, \"#f0f921\"]], \"type\": \"histogram2dcontour\"}], \"mesh3d\": [{\"colorbar\": {\"outlinewidth\": 0, \"ticks\": \"\"}, \"type\": \"mesh3d\"}], \"parcoords\": [{\"line\": {\"colorbar\": {\"outlinewidth\": 0, \"ticks\": \"\"}}, \"type\": \"parcoords\"}], \"pie\": [{\"automargin\": true, \"type\": \"pie\"}], \"scatter\": [{\"marker\": {\"colorbar\": {\"outlinewidth\": 0, \"ticks\": \"\"}}, \"type\": \"scatter\"}], \"scatter3d\": [{\"line\": {\"colorbar\": {\"outlinewidth\": 0, \"ticks\": \"\"}}, \"marker\": {\"colorbar\": {\"outlinewidth\": 0, \"ticks\": \"\"}}, \"type\": \"scatter3d\"}], \"scattercarpet\": [{\"marker\": {\"colorbar\": {\"outlinewidth\": 0, \"ticks\": \"\"}}, \"type\": \"scattercarpet\"}], \"scattergeo\": [{\"marker\": {\"colorbar\": {\"outlinewidth\": 0, \"ticks\": \"\"}}, \"type\": \"scattergeo\"}], \"scattergl\": [{\"marker\": {\"colorbar\": {\"outlinewidth\": 0, \"ticks\": \"\"}}, \"type\": \"scattergl\"}], \"scattermapbox\": [{\"marker\": {\"colorbar\": {\"outlinewidth\": 0, \"ticks\": \"\"}}, \"type\": \"scattermapbox\"}], \"scatterpolar\": [{\"marker\": {\"colorbar\": {\"outlinewidth\": 0, \"ticks\": \"\"}}, \"type\": \"scatterpolar\"}], \"scatterpolargl\": [{\"marker\": {\"colorbar\": {\"outlinewidth\": 0, \"ticks\": \"\"}}, \"type\": \"scatterpolargl\"}], \"scatterternary\": [{\"marker\": {\"colorbar\": {\"outlinewidth\": 0, \"ticks\": \"\"}}, \"type\": \"scatterternary\"}], \"surface\": [{\"colorbar\": {\"outlinewidth\": 0, \"ticks\": \"\"}, \"colorscale\": [[0.0, \"#0d0887\"], [0.1111111111111111, \"#46039f\"], [0.2222222222222222, \"#7201a8\"], [0.3333333333333333, \"#9c179e\"], [0.4444444444444444, \"#bd3786\"], [0.5555555555555556, \"#d8576b\"], [0.6666666666666666, \"#ed7953\"], [0.7777777777777778, \"#fb9f3a\"], [0.8888888888888888, \"#fdca26\"], [1.0, \"#f0f921\"]], \"type\": \"surface\"}], \"table\": [{\"cells\": {\"fill\": {\"color\": \"#EBF0F8\"}, \"line\": {\"color\": \"white\"}}, \"header\": {\"fill\": {\"color\": \"#C8D4E3\"}, \"line\": {\"color\": \"white\"}}, \"type\": \"table\"}]}, \"layout\": {\"annotationdefaults\": {\"arrowcolor\": \"#2a3f5f\", \"arrowhead\": 0, \"arrowwidth\": 1}, \"coloraxis\": {\"colorbar\": {\"outlinewidth\": 0, \"ticks\": \"\"}}, \"colorscale\": {\"diverging\": [[0, \"#8e0152\"], [0.1, \"#c51b7d\"], [0.2, \"#de77ae\"], [0.3, \"#f1b6da\"], [0.4, \"#fde0ef\"], [0.5, \"#f7f7f7\"], [0.6, \"#e6f5d0\"], [0.7, \"#b8e186\"], [0.8, \"#7fbc41\"], [0.9, \"#4d9221\"], [1, \"#276419\"]], \"sequential\": [[0.0, \"#0d0887\"], [0.1111111111111111, \"#46039f\"], [0.2222222222222222, \"#7201a8\"], [0.3333333333333333, \"#9c179e\"], [0.4444444444444444, \"#bd3786\"], [0.5555555555555556, \"#d8576b\"], [0.6666666666666666, \"#ed7953\"], [0.7777777777777778, \"#fb9f3a\"], [0.8888888888888888, \"#fdca26\"], [1.0, \"#f0f921\"]], \"sequentialminus\": [[0.0, \"#0d0887\"], [0.1111111111111111, \"#46039f\"], [0.2222222222222222, \"#7201a8\"], [0.3333333333333333, \"#9c179e\"], [0.4444444444444444, \"#bd3786\"], [0.5555555555555556, \"#d8576b\"], [0.6666666666666666, \"#ed7953\"], [0.7777777777777778, \"#fb9f3a\"], [0.8888888888888888, \"#fdca26\"], [1.0, \"#f0f921\"]]}, \"colorway\": [\"#636efa\", \"#EF553B\", \"#00cc96\", \"#ab63fa\", \"#FFA15A\", \"#19d3f3\", \"#FF6692\", \"#B6E880\", \"#FF97FF\", \"#FECB52\"], \"font\": {\"color\": \"#2a3f5f\"}, \"geo\": {\"bgcolor\": \"white\", \"lakecolor\": \"white\", \"landcolor\": \"#E5ECF6\", \"showlakes\": true, \"showland\": true, \"subunitcolor\": \"white\"}, \"hoverlabel\": {\"align\": \"left\"}, \"hovermode\": \"closest\", \"mapbox\": {\"style\": \"light\"}, \"paper_bgcolor\": \"white\", \"plot_bgcolor\": \"#E5ECF6\", \"polar\": {\"angularaxis\": {\"gridcolor\": \"white\", \"linecolor\": \"white\", \"ticks\": \"\"}, \"bgcolor\": \"#E5ECF6\", \"radialaxis\": {\"gridcolor\": \"white\", \"linecolor\": \"white\", \"ticks\": \"\"}}, \"scene\": {\"xaxis\": {\"backgroundcolor\": \"#E5ECF6\", \"gridcolor\": \"white\", \"gridwidth\": 2, \"linecolor\": \"white\", \"showbackground\": true, \"ticks\": \"\", \"zerolinecolor\": \"white\"}, \"yaxis\": {\"backgroundcolor\": \"#E5ECF6\", \"gridcolor\": \"white\", \"gridwidth\": 2, \"linecolor\": \"white\", \"showbackground\": true, \"ticks\": \"\", \"zerolinecolor\": \"white\"}, \"zaxis\": {\"backgroundcolor\": \"#E5ECF6\", \"gridcolor\": \"white\", \"gridwidth\": 2, \"linecolor\": \"white\", \"showbackground\": true, \"ticks\": \"\", \"zerolinecolor\": \"white\"}}, \"shapedefaults\": {\"line\": {\"color\": \"#2a3f5f\"}}, \"ternary\": {\"aaxis\": {\"gridcolor\": \"white\", \"linecolor\": \"white\", \"ticks\": \"\"}, \"baxis\": {\"gridcolor\": \"white\", \"linecolor\": \"white\", \"ticks\": \"\"}, \"bgcolor\": \"#E5ECF6\", \"caxis\": {\"gridcolor\": \"white\", \"linecolor\": \"white\", \"ticks\": \"\"}}, \"title\": {\"x\": 0.05}, \"xaxis\": {\"automargin\": true, \"gridcolor\": \"white\", \"linecolor\": \"white\", \"ticks\": \"\", \"title\": {\"standoff\": 15}, \"zerolinecolor\": \"white\", \"zerolinewidth\": 2}, \"yaxis\": {\"automargin\": true, \"gridcolor\": \"white\", \"linecolor\": \"white\", \"ticks\": \"\", \"title\": {\"standoff\": 15}, \"zerolinecolor\": \"white\", \"zerolinewidth\": 2}}}, \"title\": {\"text\": \"Popular Books\"}, \"width\": 1000},                        {\"responsive\": true}                    ).then(function(){\n",
       "                            \n",
       "var gd = document.getElementById('4a4edc8c-5b57-4293-a2e6-9c884862e70e');\n",
       "var x = new MutationObserver(function (mutations, observer) {{\n",
       "        var display = window.getComputedStyle(gd).display;\n",
       "        if (!display || display === 'none') {{\n",
       "            console.log([gd, 'removed!']);\n",
       "            Plotly.purge(gd);\n",
       "            observer.disconnect();\n",
       "        }}\n",
       "}});\n",
       "\n",
       "// Listen for the removal of the full notebook cells\n",
       "var notebookContainer = gd.closest('#notebook-container');\n",
       "if (notebookContainer) {{\n",
       "    x.observe(notebookContainer, {childList: true});\n",
       "}}\n",
       "\n",
       "// Listen for the clearing of the current output cell\n",
       "var outputEl = gd.closest('.output');\n",
       "if (outputEl) {{\n",
       "    x.observe(outputEl, {childList: true});\n",
       "}}\n",
       "\n",
       "                        })                };                });            </script>        </div>"
      ]
     },
     "metadata": {},
     "output_type": "display_data"
    }
   ],
   "source": [
    "fig = px.treemap(fifty_top_popular, path=['original_title'], values='ratings_count',title='Popular Books', width=1000, height=700)\n",
    "fig.show()\n"
   ]
  },
  {
   "cell_type": "markdown",
   "metadata": {},
   "source": [
    "## Top Authors"
   ]
  },
  {
   "cell_type": "code",
   "execution_count": 34,
   "metadata": {
    "scrolled": false
   },
   "outputs": [
    {
     "data": {
      "application/vnd.plotly.v1+json": {
       "config": {
        "plotlyServerURL": "https://plotly.com"
       },
       "data": [
        {
         "branchvalues": "total",
         "domain": {
          "x": [
           0,
           1
          ],
          "y": [
           0,
           1
          ]
         },
         "hovertemplate": "labels=%{label}<br>average_rating=%{value}<br>parent=%{parent}<br>id=%{id}<extra></extra>",
         "ids": [
          "Alisa Kwitney, Neil Gaiman",
          "Amie Kaufman, Jay Kristoff, Marie Lu",
          "Angie Thomas",
          "Anonymous",
          "Bill Watterson",
          "Bill Watterson, G.B. Trudeau",
          "Brandon Sanderson",
          "Brian K. Vaughan, Fiona Staples",
          "Bryan Stevenson",
          "Cassandra Clare",
          "Francine Rivers",
          "Francine Rivers, Richard Ferrone",
          "Gary Russell",
          "George R.R. Martin",
          "Hafez",
          "Ilona Andrews",
          "Isaac Asimov, Bob E. Flick, Jim Gallant",
          "J.K. Rowling",
          "J.K. Rowling, Mary GrandPré",
          "J.R.R. Tolkien",
          "Jorge Luis Borges, Andrew Hurley",
          "Neil Gaiman, Jill Thompson, Vince Locke, Peter Straub",
          "Neil Gaiman, Marc Hempel, Richard Case, D'Israeli, Teddy Kristiansen, Glyn Dillon, Charles Vess, Dean Ormston, Kevin Nowlan, Todd Klein, Frank McConnell",
          "Neil Gaiman, Mike Dringenberg, Chris Bachalo, Michael Zulli, Kelly Jones, Charles Vess, Colleen Doran, Malcolm Jones III, Steve Parkhouse, Daniel Vozzo, Lee Loughridge, Steve Oliff, Todd Klein, Dave McKean, Sam Kieth",
          "Patrick Rothfuss",
          "Rick Riordan",
          "Sarah J. Maas",
          "Sherrilyn Kenyon"
         ],
         "labels": [
          "Alisa Kwitney, Neil Gaiman",
          "Amie Kaufman, Jay Kristoff, Marie Lu",
          "Angie Thomas",
          "Anonymous",
          "Bill Watterson",
          "Bill Watterson, G.B. Trudeau",
          "Brandon Sanderson",
          "Brian K. Vaughan, Fiona Staples",
          "Bryan Stevenson",
          "Cassandra Clare",
          "Francine Rivers",
          "Francine Rivers, Richard Ferrone",
          "Gary Russell",
          "George R.R. Martin",
          "Hafez",
          "Ilona Andrews",
          "Isaac Asimov, Bob E. Flick, Jim Gallant",
          "J.K. Rowling",
          "J.K. Rowling, Mary GrandPré",
          "J.R.R. Tolkien",
          "Jorge Luis Borges, Andrew Hurley",
          "Neil Gaiman, Jill Thompson, Vince Locke, Peter Straub",
          "Neil Gaiman, Marc Hempel, Richard Case, D'Israeli, Teddy Kristiansen, Glyn Dillon, Charles Vess, Dean Ormston, Kevin Nowlan, Todd Klein, Frank McConnell",
          "Neil Gaiman, Mike Dringenberg, Chris Bachalo, Michael Zulli, Kelly Jones, Charles Vess, Colleen Doran, Malcolm Jones III, Steve Parkhouse, Daniel Vozzo, Lee Loughridge, Steve Oliff, Todd Klein, Dave McKean, Sam Kieth",
          "Patrick Rothfuss",
          "Rick Riordan",
          "Sarah J. Maas",
          "Sherrilyn Kenyon"
         ],
         "name": "",
         "parents": [
          "",
          "",
          "",
          "",
          "",
          "",
          "",
          "",
          "",
          "",
          "",
          "",
          "",
          "",
          "",
          "",
          "",
          "",
          "",
          "",
          "",
          "",
          "",
          "",
          "",
          "",
          "",
          ""
         ],
         "type": "treemap",
         "values": [
          4.61,
          4.56,
          4.62,
          4.61,
          51.81999999999999,
          4.61,
          14.079999999999998,
          9.129999999999999,
          4.58,
          13.75,
          9.36,
          4.6,
          4.59,
          9.19,
          4.63,
          4.57,
          4.58,
          9.47,
          9.27,
          4.59,
          4.58,
          4.55,
          4.59,
          4.65,
          9.120000000000001,
          4.58,
          9.18,
          9.17
         ]
        }
       ],
       "layout": {
        "height": 700,
        "legend": {
         "tracegroupgap": 0
        },
        "template": {
         "data": {
          "bar": [
           {
            "error_x": {
             "color": "#2a3f5f"
            },
            "error_y": {
             "color": "#2a3f5f"
            },
            "marker": {
             "line": {
              "color": "#E5ECF6",
              "width": 0.5
             }
            },
            "type": "bar"
           }
          ],
          "barpolar": [
           {
            "marker": {
             "line": {
              "color": "#E5ECF6",
              "width": 0.5
             }
            },
            "type": "barpolar"
           }
          ],
          "carpet": [
           {
            "aaxis": {
             "endlinecolor": "#2a3f5f",
             "gridcolor": "white",
             "linecolor": "white",
             "minorgridcolor": "white",
             "startlinecolor": "#2a3f5f"
            },
            "baxis": {
             "endlinecolor": "#2a3f5f",
             "gridcolor": "white",
             "linecolor": "white",
             "minorgridcolor": "white",
             "startlinecolor": "#2a3f5f"
            },
            "type": "carpet"
           }
          ],
          "choropleth": [
           {
            "colorbar": {
             "outlinewidth": 0,
             "ticks": ""
            },
            "type": "choropleth"
           }
          ],
          "contour": [
           {
            "colorbar": {
             "outlinewidth": 0,
             "ticks": ""
            },
            "colorscale": [
             [
              0,
              "#0d0887"
             ],
             [
              0.1111111111111111,
              "#46039f"
             ],
             [
              0.2222222222222222,
              "#7201a8"
             ],
             [
              0.3333333333333333,
              "#9c179e"
             ],
             [
              0.4444444444444444,
              "#bd3786"
             ],
             [
              0.5555555555555556,
              "#d8576b"
             ],
             [
              0.6666666666666666,
              "#ed7953"
             ],
             [
              0.7777777777777778,
              "#fb9f3a"
             ],
             [
              0.8888888888888888,
              "#fdca26"
             ],
             [
              1,
              "#f0f921"
             ]
            ],
            "type": "contour"
           }
          ],
          "contourcarpet": [
           {
            "colorbar": {
             "outlinewidth": 0,
             "ticks": ""
            },
            "type": "contourcarpet"
           }
          ],
          "heatmap": [
           {
            "colorbar": {
             "outlinewidth": 0,
             "ticks": ""
            },
            "colorscale": [
             [
              0,
              "#0d0887"
             ],
             [
              0.1111111111111111,
              "#46039f"
             ],
             [
              0.2222222222222222,
              "#7201a8"
             ],
             [
              0.3333333333333333,
              "#9c179e"
             ],
             [
              0.4444444444444444,
              "#bd3786"
             ],
             [
              0.5555555555555556,
              "#d8576b"
             ],
             [
              0.6666666666666666,
              "#ed7953"
             ],
             [
              0.7777777777777778,
              "#fb9f3a"
             ],
             [
              0.8888888888888888,
              "#fdca26"
             ],
             [
              1,
              "#f0f921"
             ]
            ],
            "type": "heatmap"
           }
          ],
          "heatmapgl": [
           {
            "colorbar": {
             "outlinewidth": 0,
             "ticks": ""
            },
            "colorscale": [
             [
              0,
              "#0d0887"
             ],
             [
              0.1111111111111111,
              "#46039f"
             ],
             [
              0.2222222222222222,
              "#7201a8"
             ],
             [
              0.3333333333333333,
              "#9c179e"
             ],
             [
              0.4444444444444444,
              "#bd3786"
             ],
             [
              0.5555555555555556,
              "#d8576b"
             ],
             [
              0.6666666666666666,
              "#ed7953"
             ],
             [
              0.7777777777777778,
              "#fb9f3a"
             ],
             [
              0.8888888888888888,
              "#fdca26"
             ],
             [
              1,
              "#f0f921"
             ]
            ],
            "type": "heatmapgl"
           }
          ],
          "histogram": [
           {
            "marker": {
             "colorbar": {
              "outlinewidth": 0,
              "ticks": ""
             }
            },
            "type": "histogram"
           }
          ],
          "histogram2d": [
           {
            "colorbar": {
             "outlinewidth": 0,
             "ticks": ""
            },
            "colorscale": [
             [
              0,
              "#0d0887"
             ],
             [
              0.1111111111111111,
              "#46039f"
             ],
             [
              0.2222222222222222,
              "#7201a8"
             ],
             [
              0.3333333333333333,
              "#9c179e"
             ],
             [
              0.4444444444444444,
              "#bd3786"
             ],
             [
              0.5555555555555556,
              "#d8576b"
             ],
             [
              0.6666666666666666,
              "#ed7953"
             ],
             [
              0.7777777777777778,
              "#fb9f3a"
             ],
             [
              0.8888888888888888,
              "#fdca26"
             ],
             [
              1,
              "#f0f921"
             ]
            ],
            "type": "histogram2d"
           }
          ],
          "histogram2dcontour": [
           {
            "colorbar": {
             "outlinewidth": 0,
             "ticks": ""
            },
            "colorscale": [
             [
              0,
              "#0d0887"
             ],
             [
              0.1111111111111111,
              "#46039f"
             ],
             [
              0.2222222222222222,
              "#7201a8"
             ],
             [
              0.3333333333333333,
              "#9c179e"
             ],
             [
              0.4444444444444444,
              "#bd3786"
             ],
             [
              0.5555555555555556,
              "#d8576b"
             ],
             [
              0.6666666666666666,
              "#ed7953"
             ],
             [
              0.7777777777777778,
              "#fb9f3a"
             ],
             [
              0.8888888888888888,
              "#fdca26"
             ],
             [
              1,
              "#f0f921"
             ]
            ],
            "type": "histogram2dcontour"
           }
          ],
          "mesh3d": [
           {
            "colorbar": {
             "outlinewidth": 0,
             "ticks": ""
            },
            "type": "mesh3d"
           }
          ],
          "parcoords": [
           {
            "line": {
             "colorbar": {
              "outlinewidth": 0,
              "ticks": ""
             }
            },
            "type": "parcoords"
           }
          ],
          "pie": [
           {
            "automargin": true,
            "type": "pie"
           }
          ],
          "scatter": [
           {
            "marker": {
             "colorbar": {
              "outlinewidth": 0,
              "ticks": ""
             }
            },
            "type": "scatter"
           }
          ],
          "scatter3d": [
           {
            "line": {
             "colorbar": {
              "outlinewidth": 0,
              "ticks": ""
             }
            },
            "marker": {
             "colorbar": {
              "outlinewidth": 0,
              "ticks": ""
             }
            },
            "type": "scatter3d"
           }
          ],
          "scattercarpet": [
           {
            "marker": {
             "colorbar": {
              "outlinewidth": 0,
              "ticks": ""
             }
            },
            "type": "scattercarpet"
           }
          ],
          "scattergeo": [
           {
            "marker": {
             "colorbar": {
              "outlinewidth": 0,
              "ticks": ""
             }
            },
            "type": "scattergeo"
           }
          ],
          "scattergl": [
           {
            "marker": {
             "colorbar": {
              "outlinewidth": 0,
              "ticks": ""
             }
            },
            "type": "scattergl"
           }
          ],
          "scattermapbox": [
           {
            "marker": {
             "colorbar": {
              "outlinewidth": 0,
              "ticks": ""
             }
            },
            "type": "scattermapbox"
           }
          ],
          "scatterpolar": [
           {
            "marker": {
             "colorbar": {
              "outlinewidth": 0,
              "ticks": ""
             }
            },
            "type": "scatterpolar"
           }
          ],
          "scatterpolargl": [
           {
            "marker": {
             "colorbar": {
              "outlinewidth": 0,
              "ticks": ""
             }
            },
            "type": "scatterpolargl"
           }
          ],
          "scatterternary": [
           {
            "marker": {
             "colorbar": {
              "outlinewidth": 0,
              "ticks": ""
             }
            },
            "type": "scatterternary"
           }
          ],
          "surface": [
           {
            "colorbar": {
             "outlinewidth": 0,
             "ticks": ""
            },
            "colorscale": [
             [
              0,
              "#0d0887"
             ],
             [
              0.1111111111111111,
              "#46039f"
             ],
             [
              0.2222222222222222,
              "#7201a8"
             ],
             [
              0.3333333333333333,
              "#9c179e"
             ],
             [
              0.4444444444444444,
              "#bd3786"
             ],
             [
              0.5555555555555556,
              "#d8576b"
             ],
             [
              0.6666666666666666,
              "#ed7953"
             ],
             [
              0.7777777777777778,
              "#fb9f3a"
             ],
             [
              0.8888888888888888,
              "#fdca26"
             ],
             [
              1,
              "#f0f921"
             ]
            ],
            "type": "surface"
           }
          ],
          "table": [
           {
            "cells": {
             "fill": {
              "color": "#EBF0F8"
             },
             "line": {
              "color": "white"
             }
            },
            "header": {
             "fill": {
              "color": "#C8D4E3"
             },
             "line": {
              "color": "white"
             }
            },
            "type": "table"
           }
          ]
         },
         "layout": {
          "annotationdefaults": {
           "arrowcolor": "#2a3f5f",
           "arrowhead": 0,
           "arrowwidth": 1
          },
          "coloraxis": {
           "colorbar": {
            "outlinewidth": 0,
            "ticks": ""
           }
          },
          "colorscale": {
           "diverging": [
            [
             0,
             "#8e0152"
            ],
            [
             0.1,
             "#c51b7d"
            ],
            [
             0.2,
             "#de77ae"
            ],
            [
             0.3,
             "#f1b6da"
            ],
            [
             0.4,
             "#fde0ef"
            ],
            [
             0.5,
             "#f7f7f7"
            ],
            [
             0.6,
             "#e6f5d0"
            ],
            [
             0.7,
             "#b8e186"
            ],
            [
             0.8,
             "#7fbc41"
            ],
            [
             0.9,
             "#4d9221"
            ],
            [
             1,
             "#276419"
            ]
           ],
           "sequential": [
            [
             0,
             "#0d0887"
            ],
            [
             0.1111111111111111,
             "#46039f"
            ],
            [
             0.2222222222222222,
             "#7201a8"
            ],
            [
             0.3333333333333333,
             "#9c179e"
            ],
            [
             0.4444444444444444,
             "#bd3786"
            ],
            [
             0.5555555555555556,
             "#d8576b"
            ],
            [
             0.6666666666666666,
             "#ed7953"
            ],
            [
             0.7777777777777778,
             "#fb9f3a"
            ],
            [
             0.8888888888888888,
             "#fdca26"
            ],
            [
             1,
             "#f0f921"
            ]
           ],
           "sequentialminus": [
            [
             0,
             "#0d0887"
            ],
            [
             0.1111111111111111,
             "#46039f"
            ],
            [
             0.2222222222222222,
             "#7201a8"
            ],
            [
             0.3333333333333333,
             "#9c179e"
            ],
            [
             0.4444444444444444,
             "#bd3786"
            ],
            [
             0.5555555555555556,
             "#d8576b"
            ],
            [
             0.6666666666666666,
             "#ed7953"
            ],
            [
             0.7777777777777778,
             "#fb9f3a"
            ],
            [
             0.8888888888888888,
             "#fdca26"
            ],
            [
             1,
             "#f0f921"
            ]
           ]
          },
          "colorway": [
           "#636efa",
           "#EF553B",
           "#00cc96",
           "#ab63fa",
           "#FFA15A",
           "#19d3f3",
           "#FF6692",
           "#B6E880",
           "#FF97FF",
           "#FECB52"
          ],
          "font": {
           "color": "#2a3f5f"
          },
          "geo": {
           "bgcolor": "white",
           "lakecolor": "white",
           "landcolor": "#E5ECF6",
           "showlakes": true,
           "showland": true,
           "subunitcolor": "white"
          },
          "hoverlabel": {
           "align": "left"
          },
          "hovermode": "closest",
          "mapbox": {
           "style": "light"
          },
          "paper_bgcolor": "white",
          "plot_bgcolor": "#E5ECF6",
          "polar": {
           "angularaxis": {
            "gridcolor": "white",
            "linecolor": "white",
            "ticks": ""
           },
           "bgcolor": "#E5ECF6",
           "radialaxis": {
            "gridcolor": "white",
            "linecolor": "white",
            "ticks": ""
           }
          },
          "scene": {
           "xaxis": {
            "backgroundcolor": "#E5ECF6",
            "gridcolor": "white",
            "gridwidth": 2,
            "linecolor": "white",
            "showbackground": true,
            "ticks": "",
            "zerolinecolor": "white"
           },
           "yaxis": {
            "backgroundcolor": "#E5ECF6",
            "gridcolor": "white",
            "gridwidth": 2,
            "linecolor": "white",
            "showbackground": true,
            "ticks": "",
            "zerolinecolor": "white"
           },
           "zaxis": {
            "backgroundcolor": "#E5ECF6",
            "gridcolor": "white",
            "gridwidth": 2,
            "linecolor": "white",
            "showbackground": true,
            "ticks": "",
            "zerolinecolor": "white"
           }
          },
          "shapedefaults": {
           "line": {
            "color": "#2a3f5f"
           }
          },
          "ternary": {
           "aaxis": {
            "gridcolor": "white",
            "linecolor": "white",
            "ticks": ""
           },
           "baxis": {
            "gridcolor": "white",
            "linecolor": "white",
            "ticks": ""
           },
           "bgcolor": "#E5ECF6",
           "caxis": {
            "gridcolor": "white",
            "linecolor": "white",
            "ticks": ""
           }
          },
          "title": {
           "x": 0.05
          },
          "xaxis": {
           "automargin": true,
           "gridcolor": "white",
           "linecolor": "white",
           "ticks": "",
           "title": {
            "standoff": 15
           },
           "zerolinecolor": "white",
           "zerolinewidth": 2
          },
          "yaxis": {
           "automargin": true,
           "gridcolor": "white",
           "linecolor": "white",
           "ticks": "",
           "title": {
            "standoff": 15
           },
           "zerolinecolor": "white",
           "zerolinewidth": 2
          }
         }
        },
        "title": {
         "text": "Popular Authors"
        },
        "width": 1000
       }
      },
      "text/html": [
       "<div>                            <div id=\"5a2cf8f2-b516-477f-816c-5891bc5e3e3f\" class=\"plotly-graph-div\" style=\"height:700px; width:1000px;\"></div>            <script type=\"text/javascript\">                require([\"plotly\"], function(Plotly) {                    window.PLOTLYENV=window.PLOTLYENV || {};                                    if (document.getElementById(\"5a2cf8f2-b516-477f-816c-5891bc5e3e3f\")) {                    Plotly.newPlot(                        \"5a2cf8f2-b516-477f-816c-5891bc5e3e3f\",                        [{\"branchvalues\": \"total\", \"domain\": {\"x\": [0.0, 1.0], \"y\": [0.0, 1.0]}, \"hovertemplate\": \"labels=%{label}<br>average_rating=%{value}<br>parent=%{parent}<br>id=%{id}<extra></extra>\", \"ids\": [\"Alisa Kwitney, Neil Gaiman\", \"Amie Kaufman, Jay Kristoff, Marie Lu\", \"Angie Thomas\", \"Anonymous\", \"Bill Watterson\", \"Bill Watterson, G.B. Trudeau\", \"Brandon Sanderson\", \"Brian K. Vaughan, Fiona Staples\", \"Bryan Stevenson\", \"Cassandra Clare\", \"Francine Rivers\", \"Francine Rivers, Richard Ferrone\", \"Gary Russell\", \"George R.R. Martin\", \"Hafez\", \"Ilona Andrews\", \"Isaac Asimov, Bob E. Flick, Jim Gallant\", \"J.K. Rowling\", \"J.K. Rowling, Mary GrandPr\\u00e9\", \"J.R.R. Tolkien\", \"Jorge Luis Borges, Andrew Hurley\", \"Neil Gaiman, Jill Thompson, Vince Locke, Peter Straub\", \"Neil Gaiman, Marc Hempel, Richard Case, D'Israeli, Teddy Kristiansen, Glyn Dillon, Charles Vess, Dean Ormston, Kevin Nowlan, Todd Klein, Frank McConnell\", \"Neil Gaiman, Mike Dringenberg, Chris Bachalo, Michael Zulli, Kelly Jones, Charles Vess, Colleen Doran, Malcolm Jones III, Steve Parkhouse, Daniel Vozzo, Lee Loughridge, Steve Oliff, Todd Klein, Dave McKean, Sam Kieth\", \"Patrick Rothfuss\", \"Rick Riordan\", \"Sarah J. Maas\", \"Sherrilyn Kenyon\"], \"labels\": [\"Alisa Kwitney, Neil Gaiman\", \"Amie Kaufman, Jay Kristoff, Marie Lu\", \"Angie Thomas\", \"Anonymous\", \"Bill Watterson\", \"Bill Watterson, G.B. Trudeau\", \"Brandon Sanderson\", \"Brian K. Vaughan, Fiona Staples\", \"Bryan Stevenson\", \"Cassandra Clare\", \"Francine Rivers\", \"Francine Rivers, Richard Ferrone\", \"Gary Russell\", \"George R.R. Martin\", \"Hafez\", \"Ilona Andrews\", \"Isaac Asimov, Bob E. Flick, Jim Gallant\", \"J.K. Rowling\", \"J.K. Rowling, Mary GrandPr\\u00e9\", \"J.R.R. Tolkien\", \"Jorge Luis Borges, Andrew Hurley\", \"Neil Gaiman, Jill Thompson, Vince Locke, Peter Straub\", \"Neil Gaiman, Marc Hempel, Richard Case, D'Israeli, Teddy Kristiansen, Glyn Dillon, Charles Vess, Dean Ormston, Kevin Nowlan, Todd Klein, Frank McConnell\", \"Neil Gaiman, Mike Dringenberg, Chris Bachalo, Michael Zulli, Kelly Jones, Charles Vess, Colleen Doran, Malcolm Jones III, Steve Parkhouse, Daniel Vozzo, Lee Loughridge, Steve Oliff, Todd Klein, Dave McKean, Sam Kieth\", \"Patrick Rothfuss\", \"Rick Riordan\", \"Sarah J. Maas\", \"Sherrilyn Kenyon\"], \"name\": \"\", \"parents\": [\"\", \"\", \"\", \"\", \"\", \"\", \"\", \"\", \"\", \"\", \"\", \"\", \"\", \"\", \"\", \"\", \"\", \"\", \"\", \"\", \"\", \"\", \"\", \"\", \"\", \"\", \"\", \"\"], \"type\": \"treemap\", \"values\": [4.61, 4.56, 4.62, 4.61, 51.81999999999999, 4.61, 14.079999999999998, 9.129999999999999, 4.58, 13.75, 9.36, 4.6, 4.59, 9.19, 4.63, 4.57, 4.58, 9.47, 9.27, 4.59, 4.58, 4.55, 4.59, 4.65, 9.120000000000001, 4.58, 9.18, 9.17]}],                        {\"height\": 700, \"legend\": {\"tracegroupgap\": 0}, \"template\": {\"data\": {\"bar\": [{\"error_x\": {\"color\": \"#2a3f5f\"}, \"error_y\": {\"color\": \"#2a3f5f\"}, \"marker\": {\"line\": {\"color\": \"#E5ECF6\", \"width\": 0.5}}, \"type\": \"bar\"}], \"barpolar\": [{\"marker\": {\"line\": {\"color\": \"#E5ECF6\", \"width\": 0.5}}, \"type\": \"barpolar\"}], \"carpet\": [{\"aaxis\": {\"endlinecolor\": \"#2a3f5f\", \"gridcolor\": \"white\", \"linecolor\": \"white\", \"minorgridcolor\": \"white\", \"startlinecolor\": \"#2a3f5f\"}, \"baxis\": {\"endlinecolor\": \"#2a3f5f\", \"gridcolor\": \"white\", \"linecolor\": \"white\", \"minorgridcolor\": \"white\", \"startlinecolor\": \"#2a3f5f\"}, \"type\": \"carpet\"}], \"choropleth\": [{\"colorbar\": {\"outlinewidth\": 0, \"ticks\": \"\"}, \"type\": \"choropleth\"}], \"contour\": [{\"colorbar\": {\"outlinewidth\": 0, \"ticks\": \"\"}, \"colorscale\": [[0.0, \"#0d0887\"], [0.1111111111111111, \"#46039f\"], [0.2222222222222222, \"#7201a8\"], [0.3333333333333333, \"#9c179e\"], [0.4444444444444444, \"#bd3786\"], [0.5555555555555556, \"#d8576b\"], [0.6666666666666666, \"#ed7953\"], [0.7777777777777778, \"#fb9f3a\"], [0.8888888888888888, \"#fdca26\"], [1.0, \"#f0f921\"]], \"type\": \"contour\"}], \"contourcarpet\": [{\"colorbar\": {\"outlinewidth\": 0, \"ticks\": \"\"}, \"type\": \"contourcarpet\"}], \"heatmap\": [{\"colorbar\": {\"outlinewidth\": 0, \"ticks\": \"\"}, \"colorscale\": [[0.0, \"#0d0887\"], [0.1111111111111111, \"#46039f\"], [0.2222222222222222, \"#7201a8\"], [0.3333333333333333, \"#9c179e\"], [0.4444444444444444, \"#bd3786\"], [0.5555555555555556, \"#d8576b\"], [0.6666666666666666, \"#ed7953\"], [0.7777777777777778, \"#fb9f3a\"], [0.8888888888888888, \"#fdca26\"], [1.0, \"#f0f921\"]], \"type\": \"heatmap\"}], \"heatmapgl\": [{\"colorbar\": {\"outlinewidth\": 0, \"ticks\": \"\"}, \"colorscale\": [[0.0, \"#0d0887\"], [0.1111111111111111, \"#46039f\"], [0.2222222222222222, \"#7201a8\"], [0.3333333333333333, \"#9c179e\"], [0.4444444444444444, \"#bd3786\"], [0.5555555555555556, \"#d8576b\"], [0.6666666666666666, \"#ed7953\"], [0.7777777777777778, \"#fb9f3a\"], [0.8888888888888888, \"#fdca26\"], [1.0, \"#f0f921\"]], \"type\": \"heatmapgl\"}], \"histogram\": [{\"marker\": {\"colorbar\": {\"outlinewidth\": 0, \"ticks\": \"\"}}, \"type\": \"histogram\"}], \"histogram2d\": [{\"colorbar\": {\"outlinewidth\": 0, \"ticks\": \"\"}, \"colorscale\": [[0.0, \"#0d0887\"], [0.1111111111111111, \"#46039f\"], [0.2222222222222222, \"#7201a8\"], [0.3333333333333333, \"#9c179e\"], [0.4444444444444444, \"#bd3786\"], [0.5555555555555556, \"#d8576b\"], [0.6666666666666666, \"#ed7953\"], [0.7777777777777778, \"#fb9f3a\"], [0.8888888888888888, \"#fdca26\"], [1.0, \"#f0f921\"]], \"type\": \"histogram2d\"}], \"histogram2dcontour\": [{\"colorbar\": {\"outlinewidth\": 0, \"ticks\": \"\"}, \"colorscale\": [[0.0, \"#0d0887\"], [0.1111111111111111, \"#46039f\"], [0.2222222222222222, \"#7201a8\"], [0.3333333333333333, \"#9c179e\"], [0.4444444444444444, \"#bd3786\"], [0.5555555555555556, \"#d8576b\"], [0.6666666666666666, \"#ed7953\"], [0.7777777777777778, \"#fb9f3a\"], [0.8888888888888888, \"#fdca26\"], [1.0, \"#f0f921\"]], \"type\": \"histogram2dcontour\"}], \"mesh3d\": [{\"colorbar\": {\"outlinewidth\": 0, \"ticks\": \"\"}, \"type\": \"mesh3d\"}], \"parcoords\": [{\"line\": {\"colorbar\": {\"outlinewidth\": 0, \"ticks\": \"\"}}, \"type\": \"parcoords\"}], \"pie\": [{\"automargin\": true, \"type\": \"pie\"}], \"scatter\": [{\"marker\": {\"colorbar\": {\"outlinewidth\": 0, \"ticks\": \"\"}}, \"type\": \"scatter\"}], \"scatter3d\": [{\"line\": {\"colorbar\": {\"outlinewidth\": 0, \"ticks\": \"\"}}, \"marker\": {\"colorbar\": {\"outlinewidth\": 0, \"ticks\": \"\"}}, \"type\": \"scatter3d\"}], \"scattercarpet\": [{\"marker\": {\"colorbar\": {\"outlinewidth\": 0, \"ticks\": \"\"}}, \"type\": \"scattercarpet\"}], \"scattergeo\": [{\"marker\": {\"colorbar\": {\"outlinewidth\": 0, \"ticks\": \"\"}}, \"type\": \"scattergeo\"}], \"scattergl\": [{\"marker\": {\"colorbar\": {\"outlinewidth\": 0, \"ticks\": \"\"}}, \"type\": \"scattergl\"}], \"scattermapbox\": [{\"marker\": {\"colorbar\": {\"outlinewidth\": 0, \"ticks\": \"\"}}, \"type\": \"scattermapbox\"}], \"scatterpolar\": [{\"marker\": {\"colorbar\": {\"outlinewidth\": 0, \"ticks\": \"\"}}, \"type\": \"scatterpolar\"}], \"scatterpolargl\": [{\"marker\": {\"colorbar\": {\"outlinewidth\": 0, \"ticks\": \"\"}}, \"type\": \"scatterpolargl\"}], \"scatterternary\": [{\"marker\": {\"colorbar\": {\"outlinewidth\": 0, \"ticks\": \"\"}}, \"type\": \"scatterternary\"}], \"surface\": [{\"colorbar\": {\"outlinewidth\": 0, \"ticks\": \"\"}, \"colorscale\": [[0.0, \"#0d0887\"], [0.1111111111111111, \"#46039f\"], [0.2222222222222222, \"#7201a8\"], [0.3333333333333333, \"#9c179e\"], [0.4444444444444444, \"#bd3786\"], [0.5555555555555556, \"#d8576b\"], [0.6666666666666666, \"#ed7953\"], [0.7777777777777778, \"#fb9f3a\"], [0.8888888888888888, \"#fdca26\"], [1.0, \"#f0f921\"]], \"type\": \"surface\"}], \"table\": [{\"cells\": {\"fill\": {\"color\": \"#EBF0F8\"}, \"line\": {\"color\": \"white\"}}, \"header\": {\"fill\": {\"color\": \"#C8D4E3\"}, \"line\": {\"color\": \"white\"}}, \"type\": \"table\"}]}, \"layout\": {\"annotationdefaults\": {\"arrowcolor\": \"#2a3f5f\", \"arrowhead\": 0, \"arrowwidth\": 1}, \"coloraxis\": {\"colorbar\": {\"outlinewidth\": 0, \"ticks\": \"\"}}, \"colorscale\": {\"diverging\": [[0, \"#8e0152\"], [0.1, \"#c51b7d\"], [0.2, \"#de77ae\"], [0.3, \"#f1b6da\"], [0.4, \"#fde0ef\"], [0.5, \"#f7f7f7\"], [0.6, \"#e6f5d0\"], [0.7, \"#b8e186\"], [0.8, \"#7fbc41\"], [0.9, \"#4d9221\"], [1, \"#276419\"]], \"sequential\": [[0.0, \"#0d0887\"], [0.1111111111111111, \"#46039f\"], [0.2222222222222222, \"#7201a8\"], [0.3333333333333333, \"#9c179e\"], [0.4444444444444444, \"#bd3786\"], [0.5555555555555556, \"#d8576b\"], [0.6666666666666666, \"#ed7953\"], [0.7777777777777778, \"#fb9f3a\"], [0.8888888888888888, \"#fdca26\"], [1.0, \"#f0f921\"]], \"sequentialminus\": [[0.0, \"#0d0887\"], [0.1111111111111111, \"#46039f\"], [0.2222222222222222, \"#7201a8\"], [0.3333333333333333, \"#9c179e\"], [0.4444444444444444, \"#bd3786\"], [0.5555555555555556, \"#d8576b\"], [0.6666666666666666, \"#ed7953\"], [0.7777777777777778, \"#fb9f3a\"], [0.8888888888888888, \"#fdca26\"], [1.0, \"#f0f921\"]]}, \"colorway\": [\"#636efa\", \"#EF553B\", \"#00cc96\", \"#ab63fa\", \"#FFA15A\", \"#19d3f3\", \"#FF6692\", \"#B6E880\", \"#FF97FF\", \"#FECB52\"], \"font\": {\"color\": \"#2a3f5f\"}, \"geo\": {\"bgcolor\": \"white\", \"lakecolor\": \"white\", \"landcolor\": \"#E5ECF6\", \"showlakes\": true, \"showland\": true, \"subunitcolor\": \"white\"}, \"hoverlabel\": {\"align\": \"left\"}, \"hovermode\": \"closest\", \"mapbox\": {\"style\": \"light\"}, \"paper_bgcolor\": \"white\", \"plot_bgcolor\": \"#E5ECF6\", \"polar\": {\"angularaxis\": {\"gridcolor\": \"white\", \"linecolor\": \"white\", \"ticks\": \"\"}, \"bgcolor\": \"#E5ECF6\", \"radialaxis\": {\"gridcolor\": \"white\", \"linecolor\": \"white\", \"ticks\": \"\"}}, \"scene\": {\"xaxis\": {\"backgroundcolor\": \"#E5ECF6\", \"gridcolor\": \"white\", \"gridwidth\": 2, \"linecolor\": \"white\", \"showbackground\": true, \"ticks\": \"\", \"zerolinecolor\": \"white\"}, \"yaxis\": {\"backgroundcolor\": \"#E5ECF6\", \"gridcolor\": \"white\", \"gridwidth\": 2, \"linecolor\": \"white\", \"showbackground\": true, \"ticks\": \"\", \"zerolinecolor\": \"white\"}, \"zaxis\": {\"backgroundcolor\": \"#E5ECF6\", \"gridcolor\": \"white\", \"gridwidth\": 2, \"linecolor\": \"white\", \"showbackground\": true, \"ticks\": \"\", \"zerolinecolor\": \"white\"}}, \"shapedefaults\": {\"line\": {\"color\": \"#2a3f5f\"}}, \"ternary\": {\"aaxis\": {\"gridcolor\": \"white\", \"linecolor\": \"white\", \"ticks\": \"\"}, \"baxis\": {\"gridcolor\": \"white\", \"linecolor\": \"white\", \"ticks\": \"\"}, \"bgcolor\": \"#E5ECF6\", \"caxis\": {\"gridcolor\": \"white\", \"linecolor\": \"white\", \"ticks\": \"\"}}, \"title\": {\"x\": 0.05}, \"xaxis\": {\"automargin\": true, \"gridcolor\": \"white\", \"linecolor\": \"white\", \"ticks\": \"\", \"title\": {\"standoff\": 15}, \"zerolinecolor\": \"white\", \"zerolinewidth\": 2}, \"yaxis\": {\"automargin\": true, \"gridcolor\": \"white\", \"linecolor\": \"white\", \"ticks\": \"\", \"title\": {\"standoff\": 15}, \"zerolinecolor\": \"white\", \"zerolinewidth\": 2}}}, \"title\": {\"text\": \"Popular Authors\"}, \"width\": 1000},                        {\"responsive\": true}                    ).then(function(){\n",
       "                            \n",
       "var gd = document.getElementById('5a2cf8f2-b516-477f-816c-5891bc5e3e3f');\n",
       "var x = new MutationObserver(function (mutations, observer) {{\n",
       "        var display = window.getComputedStyle(gd).display;\n",
       "        if (!display || display === 'none') {{\n",
       "            console.log([gd, 'removed!']);\n",
       "            Plotly.purge(gd);\n",
       "            observer.disconnect();\n",
       "        }}\n",
       "}});\n",
       "\n",
       "// Listen for the removal of the full notebook cells\n",
       "var notebookContainer = gd.closest('#notebook-container');\n",
       "if (notebookContainer) {{\n",
       "    x.observe(notebookContainer, {childList: true});\n",
       "}}\n",
       "\n",
       "// Listen for the clearing of the current output cell\n",
       "var outputEl = gd.closest('.output');\n",
       "if (outputEl) {{\n",
       "    x.observe(outputEl, {childList: true});\n",
       "}}\n",
       "\n",
       "                        })                };                });            </script>        </div>"
      ]
     },
     "metadata": {},
     "output_type": "display_data"
    }
   ],
   "source": [
    "fifty_top_authors = top_rated[:50]\n",
    "fig4 = px.treemap(fifty_top_authors, path=['authors'], values='average_rating',title='Popular Authors', width=1000, height=700)\n",
    "fig4.show()"
   ]
  },
  {
   "cell_type": "code",
   "execution_count": 35,
   "metadata": {},
   "outputs": [
    {
     "data": {
      "text/plain": [
       "'https://plotly.com/~yashaswi2092/11/'"
      ]
     },
     "execution_count": 35,
     "metadata": {},
     "output_type": "execute_result"
    }
   ],
   "source": [
    "#Importing the graph in plotly dashboard\n",
    "py.plot(fig4, filename = 'top_authors_tree', auto_open = True)"
   ]
  },
  {
   "cell_type": "code",
   "execution_count": 36,
   "metadata": {},
   "outputs": [
    {
     "data": {
      "text/plain": [
       "'<iframe id=\"igraph\" scrolling=\"no\" style=\"border:none;\" seamless=\"seamless\" src=\"https://plotly.com/~yashaswi2092/11.embed\" height=\"525\" width=\"100%\"></iframe>'"
      ]
     },
     "execution_count": 36,
     "metadata": {},
     "output_type": "execute_result"
    }
   ],
   "source": [
    "tls.get_embed('https://plotly.com/~yashaswi2092/11/')"
   ]
  },
  {
   "cell_type": "code",
   "execution_count": 31,
   "metadata": {},
   "outputs": [
    {
     "data": {
      "application/vnd.plotly.v1+json": {
       "config": {
        "plotlyServerURL": "https://plotly.com"
       },
       "data": [
        {
         "alignmentgroup": "True",
         "hovertemplate": "value=%{y}<br>count=%{x}<extra></extra>",
         "legendgroup": "Bernard Cornwell",
         "marker": {
          "color": "#636efa"
         },
         "name": "Bernard Cornwell",
         "offsetgroup": "Bernard Cornwell",
         "orientation": "h",
         "showlegend": true,
         "textposition": "auto",
         "type": "bar",
         "x": [
          14
         ],
         "xaxis": "x",
         "y": [
          "Bernard Cornwell"
         ],
         "yaxis": "y"
        },
        {
         "alignmentgroup": "True",
         "hovertemplate": "value=%{y}<br>count=%{x}<extra></extra>",
         "legendgroup": "Vince Flynn",
         "marker": {
          "color": "#EF553B"
         },
         "name": "Vince Flynn",
         "offsetgroup": "Vince Flynn",
         "orientation": "h",
         "showlegend": true,
         "textposition": "auto",
         "type": "bar",
         "x": [
          14
         ],
         "xaxis": "x",
         "y": [
          "Vince Flynn"
         ],
         "yaxis": "y"
        },
        {
         "alignmentgroup": "True",
         "hovertemplate": "value=%{y}<br>count=%{x}<extra></extra>",
         "legendgroup": "Christopher Moore",
         "marker": {
          "color": "#00cc96"
         },
         "name": "Christopher Moore",
         "offsetgroup": "Christopher Moore",
         "orientation": "h",
         "showlegend": true,
         "textposition": "auto",
         "type": "bar",
         "x": [
          14
         ],
         "xaxis": "x",
         "y": [
          "Christopher Moore"
         ],
         "yaxis": "y"
        },
        {
         "alignmentgroup": "True",
         "hovertemplate": "value=%{y}<br>count=%{x}<extra></extra>",
         "legendgroup": "Lemony Snicket, Brett Helquist",
         "marker": {
          "color": "#ab63fa"
         },
         "name": "Lemony Snicket, Brett Helquist",
         "offsetgroup": "Lemony Snicket, Brett Helquist",
         "orientation": "h",
         "showlegend": true,
         "textposition": "auto",
         "type": "bar",
         "x": [
          14
         ],
         "xaxis": "x",
         "y": [
          "Lemony Snicket, Brett Helquist"
         ],
         "yaxis": "y"
        },
        {
         "alignmentgroup": "True",
         "hovertemplate": "value=%{y}<br>count=%{x}<extra></extra>",
         "legendgroup": "James Rollins",
         "marker": {
          "color": "#FFA15A"
         },
         "name": "James Rollins",
         "offsetgroup": "James Rollins",
         "orientation": "h",
         "showlegend": true,
         "textposition": "auto",
         "type": "bar",
         "x": [
          14
         ],
         "xaxis": "x",
         "y": [
          "James Rollins"
         ],
         "yaxis": "y"
        },
        {
         "alignmentgroup": "True",
         "hovertemplate": "value=%{y}<br>count=%{x}<extra></extra>",
         "legendgroup": "Sidney Sheldon",
         "marker": {
          "color": "#19d3f3"
         },
         "name": "Sidney Sheldon",
         "offsetgroup": "Sidney Sheldon",
         "orientation": "h",
         "showlegend": true,
         "textposition": "auto",
         "type": "bar",
         "x": [
          14
         ],
         "xaxis": "x",
         "y": [
          "Sidney Sheldon"
         ],
         "yaxis": "y"
        },
        {
         "alignmentgroup": "True",
         "hovertemplate": "value=%{y}<br>count=%{x}<extra></extra>",
         "legendgroup": "Lisa Gardner",
         "marker": {
          "color": "#FF6692"
         },
         "name": "Lisa Gardner",
         "offsetgroup": "Lisa Gardner",
         "orientation": "h",
         "showlegend": true,
         "textposition": "auto",
         "type": "bar",
         "x": [
          14
         ],
         "xaxis": "x",
         "y": [
          "Lisa Gardner"
         ],
         "yaxis": "y"
        },
        {
         "alignmentgroup": "True",
         "hovertemplate": "value=%{y}<br>count=%{x}<extra></extra>",
         "legendgroup": "Carl Hiaasen",
         "marker": {
          "color": "#B6E880"
         },
         "name": "Carl Hiaasen",
         "offsetgroup": "Carl Hiaasen",
         "orientation": "h",
         "showlegend": true,
         "textposition": "auto",
         "type": "bar",
         "x": [
          15
         ],
         "xaxis": "x",
         "y": [
          "Carl Hiaasen"
         ],
         "yaxis": "y"
        },
        {
         "alignmentgroup": "True",
         "hovertemplate": "value=%{y}<br>count=%{x}<extra></extra>",
         "legendgroup": "Ken Follett",
         "marker": {
          "color": "#FF97FF"
         },
         "name": "Ken Follett",
         "offsetgroup": "Ken Follett",
         "orientation": "h",
         "showlegend": true,
         "textposition": "auto",
         "type": "bar",
         "x": [
          15
         ],
         "xaxis": "x",
         "y": [
          "Ken Follett"
         ],
         "yaxis": "y"
        },
        {
         "alignmentgroup": "True",
         "hovertemplate": "value=%{y}<br>count=%{x}<extra></extra>",
         "legendgroup": "Jeffrey Archer",
         "marker": {
          "color": "#FECB52"
         },
         "name": "Jeffrey Archer",
         "offsetgroup": "Jeffrey Archer",
         "orientation": "h",
         "showlegend": true,
         "textposition": "auto",
         "type": "bar",
         "x": [
          15
         ],
         "xaxis": "x",
         "y": [
          "Jeffrey Archer"
         ],
         "yaxis": "y"
        },
        {
         "alignmentgroup": "True",
         "hovertemplate": "value=%{y}<br>count=%{x}<extra></extra>",
         "legendgroup": "Sophie Kinsella",
         "marker": {
          "color": "#636efa"
         },
         "name": "Sophie Kinsella",
         "offsetgroup": "Sophie Kinsella",
         "orientation": "h",
         "showlegend": true,
         "textposition": "auto",
         "type": "bar",
         "x": [
          15
         ],
         "xaxis": "x",
         "y": [
          "Sophie Kinsella"
         ],
         "yaxis": "y"
        },
        {
         "alignmentgroup": "True",
         "hovertemplate": "value=%{y}<br>count=%{x}<extra></extra>",
         "legendgroup": "Karen Marie Moning",
         "marker": {
          "color": "#EF553B"
         },
         "name": "Karen Marie Moning",
         "offsetgroup": "Karen Marie Moning",
         "orientation": "h",
         "showlegend": true,
         "textposition": "auto",
         "type": "bar",
         "x": [
          15
         ],
         "xaxis": "x",
         "y": [
          "Karen Marie Moning"
         ],
         "yaxis": "y"
        },
        {
         "alignmentgroup": "True",
         "hovertemplate": "value=%{y}<br>count=%{x}<extra></extra>",
         "legendgroup": "Isaac Asimov",
         "marker": {
          "color": "#00cc96"
         },
         "name": "Isaac Asimov",
         "offsetgroup": "Isaac Asimov",
         "orientation": "h",
         "showlegend": true,
         "textposition": "auto",
         "type": "bar",
         "x": [
          15
         ],
         "xaxis": "x",
         "y": [
          "Isaac Asimov"
         ],
         "yaxis": "y"
        },
        {
         "alignmentgroup": "True",
         "hovertemplate": "value=%{y}<br>count=%{x}<extra></extra>",
         "legendgroup": "Douglas Preston, Lincoln Child",
         "marker": {
          "color": "#ab63fa"
         },
         "name": "Douglas Preston, Lincoln Child",
         "offsetgroup": "Douglas Preston, Lincoln Child",
         "orientation": "h",
         "showlegend": true,
         "textposition": "auto",
         "type": "bar",
         "x": [
          16
         ],
         "xaxis": "x",
         "y": [
          "Douglas Preston, Lincoln Child"
         ],
         "yaxis": "y"
        },
        {
         "alignmentgroup": "True",
         "hovertemplate": "value=%{y}<br>count=%{x}<extra></extra>",
         "legendgroup": "Kurt Vonnegut Jr.",
         "marker": {
          "color": "#FFA15A"
         },
         "name": "Kurt Vonnegut Jr.",
         "offsetgroup": "Kurt Vonnegut Jr.",
         "orientation": "h",
         "showlegend": true,
         "textposition": "auto",
         "type": "bar",
         "x": [
          16
         ],
         "xaxis": "x",
         "y": [
          "Kurt Vonnegut Jr."
         ],
         "yaxis": "y"
        },
        {
         "alignmentgroup": "True",
         "hovertemplate": "value=%{y}<br>count=%{x}<extra></extra>",
         "legendgroup": "Robin Hobb",
         "marker": {
          "color": "#19d3f3"
         },
         "name": "Robin Hobb",
         "offsetgroup": "Robin Hobb",
         "orientation": "h",
         "showlegend": true,
         "textposition": "auto",
         "type": "bar",
         "x": [
          16
         ],
         "xaxis": "x",
         "y": [
          "Robin Hobb"
         ],
         "yaxis": "y"
        },
        {
         "alignmentgroup": "True",
         "hovertemplate": "value=%{y}<br>count=%{x}<extra></extra>",
         "legendgroup": "Terry Brooks",
         "marker": {
          "color": "#FF6692"
         },
         "name": "Terry Brooks",
         "offsetgroup": "Terry Brooks",
         "orientation": "h",
         "showlegend": true,
         "textposition": "auto",
         "type": "bar",
         "x": [
          16
         ],
         "xaxis": "x",
         "y": [
          "Terry Brooks"
         ],
         "yaxis": "y"
        },
        {
         "alignmentgroup": "True",
         "hovertemplate": "value=%{y}<br>count=%{x}<extra></extra>",
         "legendgroup": "Nicholas Sparks",
         "marker": {
          "color": "#B6E880"
         },
         "name": "Nicholas Sparks",
         "offsetgroup": "Nicholas Sparks",
         "orientation": "h",
         "showlegend": true,
         "textposition": "auto",
         "type": "bar",
         "x": [
          16
         ],
         "xaxis": "x",
         "y": [
          "Nicholas Sparks"
         ],
         "yaxis": "y"
        },
        {
         "alignmentgroup": "True",
         "hovertemplate": "value=%{y}<br>count=%{x}<extra></extra>",
         "legendgroup": "Dr. Seuss",
         "marker": {
          "color": "#FF97FF"
         },
         "name": "Dr. Seuss",
         "offsetgroup": "Dr. Seuss",
         "orientation": "h",
         "showlegend": true,
         "textposition": "auto",
         "type": "bar",
         "x": [
          16
         ],
         "xaxis": "x",
         "y": [
          "Dr. Seuss"
         ],
         "yaxis": "y"
        },
        {
         "alignmentgroup": "True",
         "hovertemplate": "value=%{y}<br>count=%{x}<extra></extra>",
         "legendgroup": "Brandon Sanderson",
         "marker": {
          "color": "#FECB52"
         },
         "name": "Brandon Sanderson",
         "offsetgroup": "Brandon Sanderson",
         "orientation": "h",
         "showlegend": true,
         "textposition": "auto",
         "type": "bar",
         "x": [
          16
         ],
         "xaxis": "x",
         "y": [
          "Brandon Sanderson"
         ],
         "yaxis": "y"
        },
        {
         "alignmentgroup": "True",
         "hovertemplate": "value=%{y}<br>count=%{x}<extra></extra>",
         "legendgroup": "C.S. Lewis",
         "marker": {
          "color": "#636efa"
         },
         "name": "C.S. Lewis",
         "offsetgroup": "C.S. Lewis",
         "orientation": "h",
         "showlegend": true,
         "textposition": "auto",
         "type": "bar",
         "x": [
          17
         ],
         "xaxis": "x",
         "y": [
          "C.S. Lewis"
         ],
         "yaxis": "y"
        },
        {
         "alignmentgroup": "True",
         "hovertemplate": "value=%{y}<br>count=%{x}<extra></extra>",
         "legendgroup": "J.R. Ward",
         "marker": {
          "color": "#EF553B"
         },
         "name": "J.R. Ward",
         "offsetgroup": "J.R. Ward",
         "orientation": "h",
         "showlegend": true,
         "textposition": "auto",
         "type": "bar",
         "x": [
          17
         ],
         "xaxis": "x",
         "y": [
          "J.R. Ward"
         ],
         "yaxis": "y"
        },
        {
         "alignmentgroup": "True",
         "hovertemplate": "value=%{y}<br>count=%{x}<extra></extra>",
         "legendgroup": "Lee Child",
         "marker": {
          "color": "#00cc96"
         },
         "name": "Lee Child",
         "offsetgroup": "Lee Child",
         "orientation": "h",
         "showlegend": true,
         "textposition": "auto",
         "type": "bar",
         "x": [
          17
         ],
         "xaxis": "x",
         "y": [
          "Lee Child"
         ],
         "yaxis": "y"
        },
        {
         "alignmentgroup": "True",
         "hovertemplate": "value=%{y}<br>count=%{x}<extra></extra>",
         "legendgroup": "Charlaine Harris",
         "marker": {
          "color": "#ab63fa"
         },
         "name": "Charlaine Harris",
         "offsetgroup": "Charlaine Harris",
         "orientation": "h",
         "showlegend": true,
         "textposition": "auto",
         "type": "bar",
         "x": [
          18
         ],
         "xaxis": "x",
         "y": [
          "Charlaine Harris"
         ],
         "yaxis": "y"
        },
        {
         "alignmentgroup": "True",
         "hovertemplate": "value=%{y}<br>count=%{x}<extra></extra>",
         "legendgroup": "Richelle Mead",
         "marker": {
          "color": "#FFA15A"
         },
         "name": "Richelle Mead",
         "offsetgroup": "Richelle Mead",
         "orientation": "h",
         "showlegend": true,
         "textposition": "auto",
         "type": "bar",
         "x": [
          18
         ],
         "xaxis": "x",
         "y": [
          "Richelle Mead"
         ],
         "yaxis": "y"
        },
        {
         "alignmentgroup": "True",
         "hovertemplate": "value=%{y}<br>count=%{x}<extra></extra>",
         "legendgroup": "Orson Scott Card",
         "marker": {
          "color": "#19d3f3"
         },
         "name": "Orson Scott Card",
         "offsetgroup": "Orson Scott Card",
         "orientation": "h",
         "showlegend": true,
         "textposition": "auto",
         "type": "bar",
         "x": [
          19
         ],
         "xaxis": "x",
         "y": [
          "Orson Scott Card"
         ],
         "yaxis": "y"
        },
        {
         "alignmentgroup": "True",
         "hovertemplate": "value=%{y}<br>count=%{x}<extra></extra>",
         "legendgroup": "Jodi Picoult",
         "marker": {
          "color": "#FF6692"
         },
         "name": "Jodi Picoult",
         "offsetgroup": "Jodi Picoult",
         "orientation": "h",
         "showlegend": true,
         "textposition": "auto",
         "type": "bar",
         "x": [
          19
         ],
         "xaxis": "x",
         "y": [
          "Jodi Picoult"
         ],
         "yaxis": "y"
        },
        {
         "alignmentgroup": "True",
         "hovertemplate": "value=%{y}<br>count=%{x}<extra></extra>",
         "legendgroup": "R.A. Salvatore",
         "marker": {
          "color": "#B6E880"
         },
         "name": "R.A. Salvatore",
         "offsetgroup": "R.A. Salvatore",
         "orientation": "h",
         "showlegend": true,
         "textposition": "auto",
         "type": "bar",
         "x": [
          19
         ],
         "xaxis": "x",
         "y": [
          "R.A. Salvatore"
         ],
         "yaxis": "y"
        },
        {
         "alignmentgroup": "True",
         "hovertemplate": "value=%{y}<br>count=%{x}<extra></extra>",
         "legendgroup": "Rick Riordan",
         "marker": {
          "color": "#FF97FF"
         },
         "name": "Rick Riordan",
         "offsetgroup": "Rick Riordan",
         "orientation": "h",
         "showlegend": true,
         "textposition": "auto",
         "type": "bar",
         "x": [
          19
         ],
         "xaxis": "x",
         "y": [
          "Rick Riordan"
         ],
         "yaxis": "y"
        },
        {
         "alignmentgroup": "True",
         "hovertemplate": "value=%{y}<br>count=%{x}<extra></extra>",
         "legendgroup": "Sue Grafton",
         "marker": {
          "color": "#FECB52"
         },
         "name": "Sue Grafton",
         "offsetgroup": "Sue Grafton",
         "orientation": "h",
         "showlegend": true,
         "textposition": "auto",
         "type": "bar",
         "x": [
          20
         ],
         "xaxis": "x",
         "y": [
          "Sue Grafton"
         ],
         "yaxis": "y"
        },
        {
         "alignmentgroup": "True",
         "hovertemplate": "value=%{y}<br>count=%{x}<extra></extra>",
         "legendgroup": "John Sandford",
         "marker": {
          "color": "#636efa"
         },
         "name": "John Sandford",
         "offsetgroup": "John Sandford",
         "orientation": "h",
         "showlegend": true,
         "textposition": "auto",
         "type": "bar",
         "x": [
          20
         ],
         "xaxis": "x",
         "y": [
          "John Sandford"
         ],
         "yaxis": "y"
        },
        {
         "alignmentgroup": "True",
         "hovertemplate": "value=%{y}<br>count=%{x}<extra></extra>",
         "legendgroup": "Anne Rice",
         "marker": {
          "color": "#EF553B"
         },
         "name": "Anne Rice",
         "offsetgroup": "Anne Rice",
         "orientation": "h",
         "showlegend": true,
         "textposition": "auto",
         "type": "bar",
         "x": [
          21
         ],
         "xaxis": "x",
         "y": [
          "Anne Rice"
         ],
         "yaxis": "y"
        },
        {
         "alignmentgroup": "True",
         "hovertemplate": "value=%{y}<br>count=%{x}<extra></extra>",
         "legendgroup": "Tamora Pierce",
         "marker": {
          "color": "#00cc96"
         },
         "name": "Tamora Pierce",
         "offsetgroup": "Tamora Pierce",
         "orientation": "h",
         "showlegend": true,
         "textposition": "auto",
         "type": "bar",
         "x": [
          21
         ],
         "xaxis": "x",
         "y": [
          "Tamora Pierce"
         ],
         "yaxis": "y"
        },
        {
         "alignmentgroup": "True",
         "hovertemplate": "value=%{y}<br>count=%{x}<extra></extra>",
         "legendgroup": "Harlan Coben",
         "marker": {
          "color": "#ab63fa"
         },
         "name": "Harlan Coben",
         "offsetgroup": "Harlan Coben",
         "orientation": "h",
         "showlegend": true,
         "textposition": "auto",
         "type": "bar",
         "x": [
          23
         ],
         "xaxis": "x",
         "y": [
          "Harlan Coben"
         ],
         "yaxis": "y"
        },
        {
         "alignmentgroup": "True",
         "hovertemplate": "value=%{y}<br>count=%{x}<extra></extra>",
         "legendgroup": "Sherrilyn Kenyon",
         "marker": {
          "color": "#FFA15A"
         },
         "name": "Sherrilyn Kenyon",
         "offsetgroup": "Sherrilyn Kenyon",
         "orientation": "h",
         "showlegend": true,
         "textposition": "auto",
         "type": "bar",
         "x": [
          23
         ],
         "xaxis": "x",
         "y": [
          "Sherrilyn Kenyon"
         ],
         "yaxis": "y"
        },
        {
         "alignmentgroup": "True",
         "hovertemplate": "value=%{y}<br>count=%{x}<extra></extra>",
         "legendgroup": "Jim Butcher",
         "marker": {
          "color": "#19d3f3"
         },
         "name": "Jim Butcher",
         "offsetgroup": "Jim Butcher",
         "orientation": "h",
         "showlegend": true,
         "textposition": "auto",
         "type": "bar",
         "x": [
          23
         ],
         "xaxis": "x",
         "y": [
          "Jim Butcher"
         ],
         "yaxis": "y"
        },
        {
         "alignmentgroup": "True",
         "hovertemplate": "value=%{y}<br>count=%{x}<extra></extra>",
         "legendgroup": "Patricia Cornwell",
         "marker": {
          "color": "#FF6692"
         },
         "name": "Patricia Cornwell",
         "offsetgroup": "Patricia Cornwell",
         "orientation": "h",
         "showlegend": true,
         "textposition": "auto",
         "type": "bar",
         "x": [
          23
         ],
         "xaxis": "x",
         "y": [
          "Patricia Cornwell"
         ],
         "yaxis": "y"
        },
        {
         "alignmentgroup": "True",
         "hovertemplate": "value=%{y}<br>count=%{x}<extra></extra>",
         "legendgroup": "John Grisham",
         "marker": {
          "color": "#B6E880"
         },
         "name": "John Grisham",
         "offsetgroup": "John Grisham",
         "orientation": "h",
         "showlegend": true,
         "textposition": "auto",
         "type": "bar",
         "x": [
          24
         ],
         "xaxis": "x",
         "y": [
          "John Grisham"
         ],
         "yaxis": "y"
        },
        {
         "alignmentgroup": "True",
         "hovertemplate": "value=%{y}<br>count=%{x}<extra></extra>",
         "legendgroup": "Michael Connelly",
         "marker": {
          "color": "#FF97FF"
         },
         "name": "Michael Connelly",
         "offsetgroup": "Michael Connelly",
         "orientation": "h",
         "showlegend": true,
         "textposition": "auto",
         "type": "bar",
         "x": [
          26
         ],
         "xaxis": "x",
         "y": [
          "Michael Connelly"
         ],
         "yaxis": "y"
        },
        {
         "alignmentgroup": "True",
         "hovertemplate": "value=%{y}<br>count=%{x}<extra></extra>",
         "legendgroup": "Meg Cabot",
         "marker": {
          "color": "#FECB52"
         },
         "name": "Meg Cabot",
         "offsetgroup": "Meg Cabot",
         "orientation": "h",
         "showlegend": true,
         "textposition": "auto",
         "type": "bar",
         "x": [
          26
         ],
         "xaxis": "x",
         "y": [
          "Meg Cabot"
         ],
         "yaxis": "y"
        },
        {
         "alignmentgroup": "True",
         "hovertemplate": "value=%{y}<br>count=%{x}<extra></extra>",
         "legendgroup": "Janet Evanovich",
         "marker": {
          "color": "#636efa"
         },
         "name": "Janet Evanovich",
         "offsetgroup": "Janet Evanovich",
         "orientation": "h",
         "showlegend": true,
         "textposition": "auto",
         "type": "bar",
         "x": [
          27
         ],
         "xaxis": "x",
         "y": [
          "Janet Evanovich"
         ],
         "yaxis": "y"
        },
        {
         "alignmentgroup": "True",
         "hovertemplate": "value=%{y}<br>count=%{x}<extra></extra>",
         "legendgroup": "Laurell K. Hamilton",
         "marker": {
          "color": "#EF553B"
         },
         "name": "Laurell K. Hamilton",
         "offsetgroup": "Laurell K. Hamilton",
         "orientation": "h",
         "showlegend": true,
         "textposition": "auto",
         "type": "bar",
         "x": [
          29
         ],
         "xaxis": "x",
         "y": [
          "Laurell K. Hamilton"
         ],
         "yaxis": "y"
        },
        {
         "alignmentgroup": "True",
         "hovertemplate": "value=%{y}<br>count=%{x}<extra></extra>",
         "legendgroup": "David Baldacci",
         "marker": {
          "color": "#00cc96"
         },
         "name": "David Baldacci",
         "offsetgroup": "David Baldacci",
         "orientation": "h",
         "showlegend": true,
         "textposition": "auto",
         "type": "bar",
         "x": [
          30
         ],
         "xaxis": "x",
         "y": [
          "David Baldacci"
         ],
         "yaxis": "y"
        },
        {
         "alignmentgroup": "True",
         "hovertemplate": "value=%{y}<br>count=%{x}<extra></extra>",
         "legendgroup": "James Patterson",
         "marker": {
          "color": "#ab63fa"
         },
         "name": "James Patterson",
         "offsetgroup": "James Patterson",
         "orientation": "h",
         "showlegend": true,
         "textposition": "auto",
         "type": "bar",
         "x": [
          32
         ],
         "xaxis": "x",
         "y": [
          "James Patterson"
         ],
         "yaxis": "y"
        },
        {
         "alignmentgroup": "True",
         "hovertemplate": "value=%{y}<br>count=%{x}<extra></extra>",
         "legendgroup": "J.D. Robb",
         "marker": {
          "color": "#FFA15A"
         },
         "name": "J.D. Robb",
         "offsetgroup": "J.D. Robb",
         "orientation": "h",
         "showlegend": true,
         "textposition": "auto",
         "type": "bar",
         "x": [
          33
         ],
         "xaxis": "x",
         "y": [
          "J.D. Robb"
         ],
         "yaxis": "y"
        },
        {
         "alignmentgroup": "True",
         "hovertemplate": "value=%{y}<br>count=%{x}<extra></extra>",
         "legendgroup": "Dean Koontz",
         "marker": {
          "color": "#19d3f3"
         },
         "name": "Dean Koontz",
         "offsetgroup": "Dean Koontz",
         "orientation": "h",
         "showlegend": true,
         "textposition": "auto",
         "type": "bar",
         "x": [
          34
         ],
         "xaxis": "x",
         "y": [
          "Dean Koontz"
         ],
         "yaxis": "y"
        },
        {
         "alignmentgroup": "True",
         "hovertemplate": "value=%{y}<br>count=%{x}<extra></extra>",
         "legendgroup": "Agatha Christie",
         "marker": {
          "color": "#FF6692"
         },
         "name": "Agatha Christie",
         "offsetgroup": "Agatha Christie",
         "orientation": "h",
         "showlegend": true,
         "textposition": "auto",
         "type": "bar",
         "x": [
          37
         ],
         "xaxis": "x",
         "y": [
          "Agatha Christie"
         ],
         "yaxis": "y"
        },
        {
         "alignmentgroup": "True",
         "hovertemplate": "value=%{y}<br>count=%{x}<extra></extra>",
         "legendgroup": "Terry Pratchett",
         "marker": {
          "color": "#B6E880"
         },
         "name": "Terry Pratchett",
         "offsetgroup": "Terry Pratchett",
         "orientation": "h",
         "showlegend": true,
         "textposition": "auto",
         "type": "bar",
         "x": [
          38
         ],
         "xaxis": "x",
         "y": [
          "Terry Pratchett"
         ],
         "yaxis": "y"
        },
        {
         "alignmentgroup": "True",
         "hovertemplate": "value=%{y}<br>count=%{x}<extra></extra>",
         "legendgroup": "Stephen King",
         "marker": {
          "color": "#FF97FF"
         },
         "name": "Stephen King",
         "offsetgroup": "Stephen King",
         "orientation": "h",
         "showlegend": true,
         "textposition": "auto",
         "type": "bar",
         "x": [
          51
         ],
         "xaxis": "x",
         "y": [
          "Stephen King"
         ],
         "yaxis": "y"
        },
        {
         "alignmentgroup": "True",
         "hovertemplate": "value=%{y}<br>count=%{x}<extra></extra>",
         "legendgroup": "Nora Roberts",
         "marker": {
          "color": "#FECB52"
         },
         "name": "Nora Roberts",
         "offsetgroup": "Nora Roberts",
         "orientation": "h",
         "showlegend": true,
         "textposition": "auto",
         "type": "bar",
         "x": [
          54
         ],
         "xaxis": "x",
         "y": [
          "Nora Roberts"
         ],
         "yaxis": "y"
        }
       ],
       "layout": {
        "barmode": "relative",
        "height": 700,
        "legend": {
         "title": {
          "text": "value"
         },
         "tracegroupgap": 0
        },
        "template": {
         "data": {
          "bar": [
           {
            "error_x": {
             "color": "#2a3f5f"
            },
            "error_y": {
             "color": "#2a3f5f"
            },
            "marker": {
             "line": {
              "color": "#E5ECF6",
              "width": 0.5
             }
            },
            "type": "bar"
           }
          ],
          "barpolar": [
           {
            "marker": {
             "line": {
              "color": "#E5ECF6",
              "width": 0.5
             }
            },
            "type": "barpolar"
           }
          ],
          "carpet": [
           {
            "aaxis": {
             "endlinecolor": "#2a3f5f",
             "gridcolor": "white",
             "linecolor": "white",
             "minorgridcolor": "white",
             "startlinecolor": "#2a3f5f"
            },
            "baxis": {
             "endlinecolor": "#2a3f5f",
             "gridcolor": "white",
             "linecolor": "white",
             "minorgridcolor": "white",
             "startlinecolor": "#2a3f5f"
            },
            "type": "carpet"
           }
          ],
          "choropleth": [
           {
            "colorbar": {
             "outlinewidth": 0,
             "ticks": ""
            },
            "type": "choropleth"
           }
          ],
          "contour": [
           {
            "colorbar": {
             "outlinewidth": 0,
             "ticks": ""
            },
            "colorscale": [
             [
              0,
              "#0d0887"
             ],
             [
              0.1111111111111111,
              "#46039f"
             ],
             [
              0.2222222222222222,
              "#7201a8"
             ],
             [
              0.3333333333333333,
              "#9c179e"
             ],
             [
              0.4444444444444444,
              "#bd3786"
             ],
             [
              0.5555555555555556,
              "#d8576b"
             ],
             [
              0.6666666666666666,
              "#ed7953"
             ],
             [
              0.7777777777777778,
              "#fb9f3a"
             ],
             [
              0.8888888888888888,
              "#fdca26"
             ],
             [
              1,
              "#f0f921"
             ]
            ],
            "type": "contour"
           }
          ],
          "contourcarpet": [
           {
            "colorbar": {
             "outlinewidth": 0,
             "ticks": ""
            },
            "type": "contourcarpet"
           }
          ],
          "heatmap": [
           {
            "colorbar": {
             "outlinewidth": 0,
             "ticks": ""
            },
            "colorscale": [
             [
              0,
              "#0d0887"
             ],
             [
              0.1111111111111111,
              "#46039f"
             ],
             [
              0.2222222222222222,
              "#7201a8"
             ],
             [
              0.3333333333333333,
              "#9c179e"
             ],
             [
              0.4444444444444444,
              "#bd3786"
             ],
             [
              0.5555555555555556,
              "#d8576b"
             ],
             [
              0.6666666666666666,
              "#ed7953"
             ],
             [
              0.7777777777777778,
              "#fb9f3a"
             ],
             [
              0.8888888888888888,
              "#fdca26"
             ],
             [
              1,
              "#f0f921"
             ]
            ],
            "type": "heatmap"
           }
          ],
          "heatmapgl": [
           {
            "colorbar": {
             "outlinewidth": 0,
             "ticks": ""
            },
            "colorscale": [
             [
              0,
              "#0d0887"
             ],
             [
              0.1111111111111111,
              "#46039f"
             ],
             [
              0.2222222222222222,
              "#7201a8"
             ],
             [
              0.3333333333333333,
              "#9c179e"
             ],
             [
              0.4444444444444444,
              "#bd3786"
             ],
             [
              0.5555555555555556,
              "#d8576b"
             ],
             [
              0.6666666666666666,
              "#ed7953"
             ],
             [
              0.7777777777777778,
              "#fb9f3a"
             ],
             [
              0.8888888888888888,
              "#fdca26"
             ],
             [
              1,
              "#f0f921"
             ]
            ],
            "type": "heatmapgl"
           }
          ],
          "histogram": [
           {
            "marker": {
             "colorbar": {
              "outlinewidth": 0,
              "ticks": ""
             }
            },
            "type": "histogram"
           }
          ],
          "histogram2d": [
           {
            "colorbar": {
             "outlinewidth": 0,
             "ticks": ""
            },
            "colorscale": [
             [
              0,
              "#0d0887"
             ],
             [
              0.1111111111111111,
              "#46039f"
             ],
             [
              0.2222222222222222,
              "#7201a8"
             ],
             [
              0.3333333333333333,
              "#9c179e"
             ],
             [
              0.4444444444444444,
              "#bd3786"
             ],
             [
              0.5555555555555556,
              "#d8576b"
             ],
             [
              0.6666666666666666,
              "#ed7953"
             ],
             [
              0.7777777777777778,
              "#fb9f3a"
             ],
             [
              0.8888888888888888,
              "#fdca26"
             ],
             [
              1,
              "#f0f921"
             ]
            ],
            "type": "histogram2d"
           }
          ],
          "histogram2dcontour": [
           {
            "colorbar": {
             "outlinewidth": 0,
             "ticks": ""
            },
            "colorscale": [
             [
              0,
              "#0d0887"
             ],
             [
              0.1111111111111111,
              "#46039f"
             ],
             [
              0.2222222222222222,
              "#7201a8"
             ],
             [
              0.3333333333333333,
              "#9c179e"
             ],
             [
              0.4444444444444444,
              "#bd3786"
             ],
             [
              0.5555555555555556,
              "#d8576b"
             ],
             [
              0.6666666666666666,
              "#ed7953"
             ],
             [
              0.7777777777777778,
              "#fb9f3a"
             ],
             [
              0.8888888888888888,
              "#fdca26"
             ],
             [
              1,
              "#f0f921"
             ]
            ],
            "type": "histogram2dcontour"
           }
          ],
          "mesh3d": [
           {
            "colorbar": {
             "outlinewidth": 0,
             "ticks": ""
            },
            "type": "mesh3d"
           }
          ],
          "parcoords": [
           {
            "line": {
             "colorbar": {
              "outlinewidth": 0,
              "ticks": ""
             }
            },
            "type": "parcoords"
           }
          ],
          "pie": [
           {
            "automargin": true,
            "type": "pie"
           }
          ],
          "scatter": [
           {
            "marker": {
             "colorbar": {
              "outlinewidth": 0,
              "ticks": ""
             }
            },
            "type": "scatter"
           }
          ],
          "scatter3d": [
           {
            "line": {
             "colorbar": {
              "outlinewidth": 0,
              "ticks": ""
             }
            },
            "marker": {
             "colorbar": {
              "outlinewidth": 0,
              "ticks": ""
             }
            },
            "type": "scatter3d"
           }
          ],
          "scattercarpet": [
           {
            "marker": {
             "colorbar": {
              "outlinewidth": 0,
              "ticks": ""
             }
            },
            "type": "scattercarpet"
           }
          ],
          "scattergeo": [
           {
            "marker": {
             "colorbar": {
              "outlinewidth": 0,
              "ticks": ""
             }
            },
            "type": "scattergeo"
           }
          ],
          "scattergl": [
           {
            "marker": {
             "colorbar": {
              "outlinewidth": 0,
              "ticks": ""
             }
            },
            "type": "scattergl"
           }
          ],
          "scattermapbox": [
           {
            "marker": {
             "colorbar": {
              "outlinewidth": 0,
              "ticks": ""
             }
            },
            "type": "scattermapbox"
           }
          ],
          "scatterpolar": [
           {
            "marker": {
             "colorbar": {
              "outlinewidth": 0,
              "ticks": ""
             }
            },
            "type": "scatterpolar"
           }
          ],
          "scatterpolargl": [
           {
            "marker": {
             "colorbar": {
              "outlinewidth": 0,
              "ticks": ""
             }
            },
            "type": "scatterpolargl"
           }
          ],
          "scatterternary": [
           {
            "marker": {
             "colorbar": {
              "outlinewidth": 0,
              "ticks": ""
             }
            },
            "type": "scatterternary"
           }
          ],
          "surface": [
           {
            "colorbar": {
             "outlinewidth": 0,
             "ticks": ""
            },
            "colorscale": [
             [
              0,
              "#0d0887"
             ],
             [
              0.1111111111111111,
              "#46039f"
             ],
             [
              0.2222222222222222,
              "#7201a8"
             ],
             [
              0.3333333333333333,
              "#9c179e"
             ],
             [
              0.4444444444444444,
              "#bd3786"
             ],
             [
              0.5555555555555556,
              "#d8576b"
             ],
             [
              0.6666666666666666,
              "#ed7953"
             ],
             [
              0.7777777777777778,
              "#fb9f3a"
             ],
             [
              0.8888888888888888,
              "#fdca26"
             ],
             [
              1,
              "#f0f921"
             ]
            ],
            "type": "surface"
           }
          ],
          "table": [
           {
            "cells": {
             "fill": {
              "color": "#EBF0F8"
             },
             "line": {
              "color": "white"
             }
            },
            "header": {
             "fill": {
              "color": "#C8D4E3"
             },
             "line": {
              "color": "white"
             }
            },
            "type": "table"
           }
          ]
         },
         "layout": {
          "annotationdefaults": {
           "arrowcolor": "#2a3f5f",
           "arrowhead": 0,
           "arrowwidth": 1
          },
          "coloraxis": {
           "colorbar": {
            "outlinewidth": 0,
            "ticks": ""
           }
          },
          "colorscale": {
           "diverging": [
            [
             0,
             "#8e0152"
            ],
            [
             0.1,
             "#c51b7d"
            ],
            [
             0.2,
             "#de77ae"
            ],
            [
             0.3,
             "#f1b6da"
            ],
            [
             0.4,
             "#fde0ef"
            ],
            [
             0.5,
             "#f7f7f7"
            ],
            [
             0.6,
             "#e6f5d0"
            ],
            [
             0.7,
             "#b8e186"
            ],
            [
             0.8,
             "#7fbc41"
            ],
            [
             0.9,
             "#4d9221"
            ],
            [
             1,
             "#276419"
            ]
           ],
           "sequential": [
            [
             0,
             "#0d0887"
            ],
            [
             0.1111111111111111,
             "#46039f"
            ],
            [
             0.2222222222222222,
             "#7201a8"
            ],
            [
             0.3333333333333333,
             "#9c179e"
            ],
            [
             0.4444444444444444,
             "#bd3786"
            ],
            [
             0.5555555555555556,
             "#d8576b"
            ],
            [
             0.6666666666666666,
             "#ed7953"
            ],
            [
             0.7777777777777778,
             "#fb9f3a"
            ],
            [
             0.8888888888888888,
             "#fdca26"
            ],
            [
             1,
             "#f0f921"
            ]
           ],
           "sequentialminus": [
            [
             0,
             "#0d0887"
            ],
            [
             0.1111111111111111,
             "#46039f"
            ],
            [
             0.2222222222222222,
             "#7201a8"
            ],
            [
             0.3333333333333333,
             "#9c179e"
            ],
            [
             0.4444444444444444,
             "#bd3786"
            ],
            [
             0.5555555555555556,
             "#d8576b"
            ],
            [
             0.6666666666666666,
             "#ed7953"
            ],
            [
             0.7777777777777778,
             "#fb9f3a"
            ],
            [
             0.8888888888888888,
             "#fdca26"
            ],
            [
             1,
             "#f0f921"
            ]
           ]
          },
          "colorway": [
           "#636efa",
           "#EF553B",
           "#00cc96",
           "#ab63fa",
           "#FFA15A",
           "#19d3f3",
           "#FF6692",
           "#B6E880",
           "#FF97FF",
           "#FECB52"
          ],
          "font": {
           "color": "#2a3f5f"
          },
          "geo": {
           "bgcolor": "white",
           "lakecolor": "white",
           "landcolor": "#E5ECF6",
           "showlakes": true,
           "showland": true,
           "subunitcolor": "white"
          },
          "hoverlabel": {
           "align": "left"
          },
          "hovermode": "closest",
          "mapbox": {
           "style": "light"
          },
          "paper_bgcolor": "white",
          "plot_bgcolor": "#E5ECF6",
          "polar": {
           "angularaxis": {
            "gridcolor": "white",
            "linecolor": "white",
            "ticks": ""
           },
           "bgcolor": "#E5ECF6",
           "radialaxis": {
            "gridcolor": "white",
            "linecolor": "white",
            "ticks": ""
           }
          },
          "scene": {
           "xaxis": {
            "backgroundcolor": "#E5ECF6",
            "gridcolor": "white",
            "gridwidth": 2,
            "linecolor": "white",
            "showbackground": true,
            "ticks": "",
            "zerolinecolor": "white"
           },
           "yaxis": {
            "backgroundcolor": "#E5ECF6",
            "gridcolor": "white",
            "gridwidth": 2,
            "linecolor": "white",
            "showbackground": true,
            "ticks": "",
            "zerolinecolor": "white"
           },
           "zaxis": {
            "backgroundcolor": "#E5ECF6",
            "gridcolor": "white",
            "gridwidth": 2,
            "linecolor": "white",
            "showbackground": true,
            "ticks": "",
            "zerolinecolor": "white"
           }
          },
          "shapedefaults": {
           "line": {
            "color": "#2a3f5f"
           }
          },
          "ternary": {
           "aaxis": {
            "gridcolor": "white",
            "linecolor": "white",
            "ticks": ""
           },
           "baxis": {
            "gridcolor": "white",
            "linecolor": "white",
            "ticks": ""
           },
           "bgcolor": "#E5ECF6",
           "caxis": {
            "gridcolor": "white",
            "linecolor": "white",
            "ticks": ""
           }
          },
          "title": {
           "x": 0.05
          },
          "xaxis": {
           "automargin": true,
           "gridcolor": "white",
           "linecolor": "white",
           "ticks": "",
           "title": {
            "standoff": 15
           },
           "zerolinecolor": "white",
           "zerolinewidth": 2
          },
          "yaxis": {
           "automargin": true,
           "gridcolor": "white",
           "linecolor": "white",
           "ticks": "",
           "title": {
            "standoff": 15
           },
           "zerolinecolor": "white",
           "zerolinewidth": 2
          }
         }
        },
        "title": {
         "text": "Top Authors"
        },
        "width": 1000,
        "xaxis": {
         "anchor": "y",
         "domain": [
          0,
          1
         ],
         "title": {
          "text": "count"
         }
        },
        "yaxis": {
         "anchor": "x",
         "categoryarray": [
          "Nora Roberts",
          "Stephen King",
          "Terry Pratchett",
          "Agatha Christie",
          "Dean Koontz",
          "J.D. Robb",
          "James Patterson",
          "David Baldacci",
          "Laurell K. Hamilton",
          "Janet Evanovich",
          "Meg Cabot",
          "Michael Connelly",
          "John Grisham",
          "Patricia Cornwell",
          "Jim Butcher",
          "Sherrilyn Kenyon",
          "Harlan Coben",
          "Tamora Pierce",
          "Anne Rice",
          "John Sandford",
          "Sue Grafton",
          "Rick Riordan",
          "R.A. Salvatore",
          "Jodi Picoult",
          "Orson Scott Card",
          "Richelle Mead",
          "Charlaine Harris",
          "Lee Child",
          "J.R. Ward",
          "C.S. Lewis",
          "Brandon Sanderson",
          "Dr. Seuss",
          "Nicholas Sparks",
          "Terry Brooks",
          "Robin Hobb",
          "Kurt Vonnegut Jr.",
          "Douglas Preston, Lincoln Child",
          "Isaac Asimov",
          "Karen Marie Moning",
          "Sophie Kinsella",
          "Jeffrey Archer",
          "Ken Follett",
          "Carl Hiaasen",
          "Lisa Gardner",
          "Sidney Sheldon",
          "James Rollins",
          "Lemony Snicket, Brett Helquist",
          "Christopher Moore",
          "Vince Flynn",
          "Bernard Cornwell"
         ],
         "categoryorder": "array",
         "domain": [
          0,
          1
         ],
         "title": {
          "text": "value"
         }
        }
       }
      },
      "text/html": [
       "<div>                            <div id=\"9f773538-40d7-4b32-bf43-b692553e8b93\" class=\"plotly-graph-div\" style=\"height:700px; width:1000px;\"></div>            <script type=\"text/javascript\">                require([\"plotly\"], function(Plotly) {                    window.PLOTLYENV=window.PLOTLYENV || {};                                    if (document.getElementById(\"9f773538-40d7-4b32-bf43-b692553e8b93\")) {                    Plotly.newPlot(                        \"9f773538-40d7-4b32-bf43-b692553e8b93\",                        [{\"alignmentgroup\": \"True\", \"hovertemplate\": \"value=%{y}<br>count=%{x}<extra></extra>\", \"legendgroup\": \"Bernard Cornwell\", \"marker\": {\"color\": \"#636efa\"}, \"name\": \"Bernard Cornwell\", \"offsetgroup\": \"Bernard Cornwell\", \"orientation\": \"h\", \"showlegend\": true, \"textposition\": \"auto\", \"type\": \"bar\", \"x\": [14], \"xaxis\": \"x\", \"y\": [\"Bernard Cornwell\"], \"yaxis\": \"y\"}, {\"alignmentgroup\": \"True\", \"hovertemplate\": \"value=%{y}<br>count=%{x}<extra></extra>\", \"legendgroup\": \"Vince Flynn\", \"marker\": {\"color\": \"#EF553B\"}, \"name\": \"Vince Flynn\", \"offsetgroup\": \"Vince Flynn\", \"orientation\": \"h\", \"showlegend\": true, \"textposition\": \"auto\", \"type\": \"bar\", \"x\": [14], \"xaxis\": \"x\", \"y\": [\"Vince Flynn\"], \"yaxis\": \"y\"}, {\"alignmentgroup\": \"True\", \"hovertemplate\": \"value=%{y}<br>count=%{x}<extra></extra>\", \"legendgroup\": \"Christopher Moore\", \"marker\": {\"color\": \"#00cc96\"}, \"name\": \"Christopher Moore\", \"offsetgroup\": \"Christopher Moore\", \"orientation\": \"h\", \"showlegend\": true, \"textposition\": \"auto\", \"type\": \"bar\", \"x\": [14], \"xaxis\": \"x\", \"y\": [\"Christopher Moore\"], \"yaxis\": \"y\"}, {\"alignmentgroup\": \"True\", \"hovertemplate\": \"value=%{y}<br>count=%{x}<extra></extra>\", \"legendgroup\": \"Lemony Snicket, Brett Helquist\", \"marker\": {\"color\": \"#ab63fa\"}, \"name\": \"Lemony Snicket, Brett Helquist\", \"offsetgroup\": \"Lemony Snicket, Brett Helquist\", \"orientation\": \"h\", \"showlegend\": true, \"textposition\": \"auto\", \"type\": \"bar\", \"x\": [14], \"xaxis\": \"x\", \"y\": [\"Lemony Snicket, Brett Helquist\"], \"yaxis\": \"y\"}, {\"alignmentgroup\": \"True\", \"hovertemplate\": \"value=%{y}<br>count=%{x}<extra></extra>\", \"legendgroup\": \"James Rollins\", \"marker\": {\"color\": \"#FFA15A\"}, \"name\": \"James Rollins\", \"offsetgroup\": \"James Rollins\", \"orientation\": \"h\", \"showlegend\": true, \"textposition\": \"auto\", \"type\": \"bar\", \"x\": [14], \"xaxis\": \"x\", \"y\": [\"James Rollins\"], \"yaxis\": \"y\"}, {\"alignmentgroup\": \"True\", \"hovertemplate\": \"value=%{y}<br>count=%{x}<extra></extra>\", \"legendgroup\": \"Sidney Sheldon\", \"marker\": {\"color\": \"#19d3f3\"}, \"name\": \"Sidney Sheldon\", \"offsetgroup\": \"Sidney Sheldon\", \"orientation\": \"h\", \"showlegend\": true, \"textposition\": \"auto\", \"type\": \"bar\", \"x\": [14], \"xaxis\": \"x\", \"y\": [\"Sidney Sheldon\"], \"yaxis\": \"y\"}, {\"alignmentgroup\": \"True\", \"hovertemplate\": \"value=%{y}<br>count=%{x}<extra></extra>\", \"legendgroup\": \"Lisa Gardner\", \"marker\": {\"color\": \"#FF6692\"}, \"name\": \"Lisa Gardner\", \"offsetgroup\": \"Lisa Gardner\", \"orientation\": \"h\", \"showlegend\": true, \"textposition\": \"auto\", \"type\": \"bar\", \"x\": [14], \"xaxis\": \"x\", \"y\": [\"Lisa Gardner\"], \"yaxis\": \"y\"}, {\"alignmentgroup\": \"True\", \"hovertemplate\": \"value=%{y}<br>count=%{x}<extra></extra>\", \"legendgroup\": \"Carl Hiaasen\", \"marker\": {\"color\": \"#B6E880\"}, \"name\": \"Carl Hiaasen\", \"offsetgroup\": \"Carl Hiaasen\", \"orientation\": \"h\", \"showlegend\": true, \"textposition\": \"auto\", \"type\": \"bar\", \"x\": [15], \"xaxis\": \"x\", \"y\": [\"Carl Hiaasen\"], \"yaxis\": \"y\"}, {\"alignmentgroup\": \"True\", \"hovertemplate\": \"value=%{y}<br>count=%{x}<extra></extra>\", \"legendgroup\": \"Ken Follett\", \"marker\": {\"color\": \"#FF97FF\"}, \"name\": \"Ken Follett\", \"offsetgroup\": \"Ken Follett\", \"orientation\": \"h\", \"showlegend\": true, \"textposition\": \"auto\", \"type\": \"bar\", \"x\": [15], \"xaxis\": \"x\", \"y\": [\"Ken Follett\"], \"yaxis\": \"y\"}, {\"alignmentgroup\": \"True\", \"hovertemplate\": \"value=%{y}<br>count=%{x}<extra></extra>\", \"legendgroup\": \"Jeffrey Archer\", \"marker\": {\"color\": \"#FECB52\"}, \"name\": \"Jeffrey Archer\", \"offsetgroup\": \"Jeffrey Archer\", \"orientation\": \"h\", \"showlegend\": true, \"textposition\": \"auto\", \"type\": \"bar\", \"x\": [15], \"xaxis\": \"x\", \"y\": [\"Jeffrey Archer\"], \"yaxis\": \"y\"}, {\"alignmentgroup\": \"True\", \"hovertemplate\": \"value=%{y}<br>count=%{x}<extra></extra>\", \"legendgroup\": \"Sophie Kinsella\", \"marker\": {\"color\": \"#636efa\"}, \"name\": \"Sophie Kinsella\", \"offsetgroup\": \"Sophie Kinsella\", \"orientation\": \"h\", \"showlegend\": true, \"textposition\": \"auto\", \"type\": \"bar\", \"x\": [15], \"xaxis\": \"x\", \"y\": [\"Sophie Kinsella\"], \"yaxis\": \"y\"}, {\"alignmentgroup\": \"True\", \"hovertemplate\": \"value=%{y}<br>count=%{x}<extra></extra>\", \"legendgroup\": \"Karen Marie Moning\", \"marker\": {\"color\": \"#EF553B\"}, \"name\": \"Karen Marie Moning\", \"offsetgroup\": \"Karen Marie Moning\", \"orientation\": \"h\", \"showlegend\": true, \"textposition\": \"auto\", \"type\": \"bar\", \"x\": [15], \"xaxis\": \"x\", \"y\": [\"Karen Marie Moning\"], \"yaxis\": \"y\"}, {\"alignmentgroup\": \"True\", \"hovertemplate\": \"value=%{y}<br>count=%{x}<extra></extra>\", \"legendgroup\": \"Isaac Asimov\", \"marker\": {\"color\": \"#00cc96\"}, \"name\": \"Isaac Asimov\", \"offsetgroup\": \"Isaac Asimov\", \"orientation\": \"h\", \"showlegend\": true, \"textposition\": \"auto\", \"type\": \"bar\", \"x\": [15], \"xaxis\": \"x\", \"y\": [\"Isaac Asimov\"], \"yaxis\": \"y\"}, {\"alignmentgroup\": \"True\", \"hovertemplate\": \"value=%{y}<br>count=%{x}<extra></extra>\", \"legendgroup\": \"Douglas Preston, Lincoln Child\", \"marker\": {\"color\": \"#ab63fa\"}, \"name\": \"Douglas Preston, Lincoln Child\", \"offsetgroup\": \"Douglas Preston, Lincoln Child\", \"orientation\": \"h\", \"showlegend\": true, \"textposition\": \"auto\", \"type\": \"bar\", \"x\": [16], \"xaxis\": \"x\", \"y\": [\"Douglas Preston, Lincoln Child\"], \"yaxis\": \"y\"}, {\"alignmentgroup\": \"True\", \"hovertemplate\": \"value=%{y}<br>count=%{x}<extra></extra>\", \"legendgroup\": \"Kurt Vonnegut Jr.\", \"marker\": {\"color\": \"#FFA15A\"}, \"name\": \"Kurt Vonnegut Jr.\", \"offsetgroup\": \"Kurt Vonnegut Jr.\", \"orientation\": \"h\", \"showlegend\": true, \"textposition\": \"auto\", \"type\": \"bar\", \"x\": [16], \"xaxis\": \"x\", \"y\": [\"Kurt Vonnegut Jr.\"], \"yaxis\": \"y\"}, {\"alignmentgroup\": \"True\", \"hovertemplate\": \"value=%{y}<br>count=%{x}<extra></extra>\", \"legendgroup\": \"Robin Hobb\", \"marker\": {\"color\": \"#19d3f3\"}, \"name\": \"Robin Hobb\", \"offsetgroup\": \"Robin Hobb\", \"orientation\": \"h\", \"showlegend\": true, \"textposition\": \"auto\", \"type\": \"bar\", \"x\": [16], \"xaxis\": \"x\", \"y\": [\"Robin Hobb\"], \"yaxis\": \"y\"}, {\"alignmentgroup\": \"True\", \"hovertemplate\": \"value=%{y}<br>count=%{x}<extra></extra>\", \"legendgroup\": \"Terry Brooks\", \"marker\": {\"color\": \"#FF6692\"}, \"name\": \"Terry Brooks\", \"offsetgroup\": \"Terry Brooks\", \"orientation\": \"h\", \"showlegend\": true, \"textposition\": \"auto\", \"type\": \"bar\", \"x\": [16], \"xaxis\": \"x\", \"y\": [\"Terry Brooks\"], \"yaxis\": \"y\"}, {\"alignmentgroup\": \"True\", \"hovertemplate\": \"value=%{y}<br>count=%{x}<extra></extra>\", \"legendgroup\": \"Nicholas Sparks\", \"marker\": {\"color\": \"#B6E880\"}, \"name\": \"Nicholas Sparks\", \"offsetgroup\": \"Nicholas Sparks\", \"orientation\": \"h\", \"showlegend\": true, \"textposition\": \"auto\", \"type\": \"bar\", \"x\": [16], \"xaxis\": \"x\", \"y\": [\"Nicholas Sparks\"], \"yaxis\": \"y\"}, {\"alignmentgroup\": \"True\", \"hovertemplate\": \"value=%{y}<br>count=%{x}<extra></extra>\", \"legendgroup\": \"Dr. Seuss\", \"marker\": {\"color\": \"#FF97FF\"}, \"name\": \"Dr. Seuss\", \"offsetgroup\": \"Dr. Seuss\", \"orientation\": \"h\", \"showlegend\": true, \"textposition\": \"auto\", \"type\": \"bar\", \"x\": [16], \"xaxis\": \"x\", \"y\": [\"Dr. Seuss\"], \"yaxis\": \"y\"}, {\"alignmentgroup\": \"True\", \"hovertemplate\": \"value=%{y}<br>count=%{x}<extra></extra>\", \"legendgroup\": \"Brandon Sanderson\", \"marker\": {\"color\": \"#FECB52\"}, \"name\": \"Brandon Sanderson\", \"offsetgroup\": \"Brandon Sanderson\", \"orientation\": \"h\", \"showlegend\": true, \"textposition\": \"auto\", \"type\": \"bar\", \"x\": [16], \"xaxis\": \"x\", \"y\": [\"Brandon Sanderson\"], \"yaxis\": \"y\"}, {\"alignmentgroup\": \"True\", \"hovertemplate\": \"value=%{y}<br>count=%{x}<extra></extra>\", \"legendgroup\": \"C.S. Lewis\", \"marker\": {\"color\": \"#636efa\"}, \"name\": \"C.S. Lewis\", \"offsetgroup\": \"C.S. Lewis\", \"orientation\": \"h\", \"showlegend\": true, \"textposition\": \"auto\", \"type\": \"bar\", \"x\": [17], \"xaxis\": \"x\", \"y\": [\"C.S. Lewis\"], \"yaxis\": \"y\"}, {\"alignmentgroup\": \"True\", \"hovertemplate\": \"value=%{y}<br>count=%{x}<extra></extra>\", \"legendgroup\": \"J.R. Ward\", \"marker\": {\"color\": \"#EF553B\"}, \"name\": \"J.R. Ward\", \"offsetgroup\": \"J.R. Ward\", \"orientation\": \"h\", \"showlegend\": true, \"textposition\": \"auto\", \"type\": \"bar\", \"x\": [17], \"xaxis\": \"x\", \"y\": [\"J.R. Ward\"], \"yaxis\": \"y\"}, {\"alignmentgroup\": \"True\", \"hovertemplate\": \"value=%{y}<br>count=%{x}<extra></extra>\", \"legendgroup\": \"Lee Child\", \"marker\": {\"color\": \"#00cc96\"}, \"name\": \"Lee Child\", \"offsetgroup\": \"Lee Child\", \"orientation\": \"h\", \"showlegend\": true, \"textposition\": \"auto\", \"type\": \"bar\", \"x\": [17], \"xaxis\": \"x\", \"y\": [\"Lee Child\"], \"yaxis\": \"y\"}, {\"alignmentgroup\": \"True\", \"hovertemplate\": \"value=%{y}<br>count=%{x}<extra></extra>\", \"legendgroup\": \"Charlaine Harris\", \"marker\": {\"color\": \"#ab63fa\"}, \"name\": \"Charlaine Harris\", \"offsetgroup\": \"Charlaine Harris\", \"orientation\": \"h\", \"showlegend\": true, \"textposition\": \"auto\", \"type\": \"bar\", \"x\": [18], \"xaxis\": \"x\", \"y\": [\"Charlaine Harris\"], \"yaxis\": \"y\"}, {\"alignmentgroup\": \"True\", \"hovertemplate\": \"value=%{y}<br>count=%{x}<extra></extra>\", \"legendgroup\": \"Richelle Mead\", \"marker\": {\"color\": \"#FFA15A\"}, \"name\": \"Richelle Mead\", \"offsetgroup\": \"Richelle Mead\", \"orientation\": \"h\", \"showlegend\": true, \"textposition\": \"auto\", \"type\": \"bar\", \"x\": [18], \"xaxis\": \"x\", \"y\": [\"Richelle Mead\"], \"yaxis\": \"y\"}, {\"alignmentgroup\": \"True\", \"hovertemplate\": \"value=%{y}<br>count=%{x}<extra></extra>\", \"legendgroup\": \"Orson Scott Card\", \"marker\": {\"color\": \"#19d3f3\"}, \"name\": \"Orson Scott Card\", \"offsetgroup\": \"Orson Scott Card\", \"orientation\": \"h\", \"showlegend\": true, \"textposition\": \"auto\", \"type\": \"bar\", \"x\": [19], \"xaxis\": \"x\", \"y\": [\"Orson Scott Card\"], \"yaxis\": \"y\"}, {\"alignmentgroup\": \"True\", \"hovertemplate\": \"value=%{y}<br>count=%{x}<extra></extra>\", \"legendgroup\": \"Jodi Picoult\", \"marker\": {\"color\": \"#FF6692\"}, \"name\": \"Jodi Picoult\", \"offsetgroup\": \"Jodi Picoult\", \"orientation\": \"h\", \"showlegend\": true, \"textposition\": \"auto\", \"type\": \"bar\", \"x\": [19], \"xaxis\": \"x\", \"y\": [\"Jodi Picoult\"], \"yaxis\": \"y\"}, {\"alignmentgroup\": \"True\", \"hovertemplate\": \"value=%{y}<br>count=%{x}<extra></extra>\", \"legendgroup\": \"R.A. Salvatore\", \"marker\": {\"color\": \"#B6E880\"}, \"name\": \"R.A. Salvatore\", \"offsetgroup\": \"R.A. Salvatore\", \"orientation\": \"h\", \"showlegend\": true, \"textposition\": \"auto\", \"type\": \"bar\", \"x\": [19], \"xaxis\": \"x\", \"y\": [\"R.A. Salvatore\"], \"yaxis\": \"y\"}, {\"alignmentgroup\": \"True\", \"hovertemplate\": \"value=%{y}<br>count=%{x}<extra></extra>\", \"legendgroup\": \"Rick Riordan\", \"marker\": {\"color\": \"#FF97FF\"}, \"name\": \"Rick Riordan\", \"offsetgroup\": \"Rick Riordan\", \"orientation\": \"h\", \"showlegend\": true, \"textposition\": \"auto\", \"type\": \"bar\", \"x\": [19], \"xaxis\": \"x\", \"y\": [\"Rick Riordan\"], \"yaxis\": \"y\"}, {\"alignmentgroup\": \"True\", \"hovertemplate\": \"value=%{y}<br>count=%{x}<extra></extra>\", \"legendgroup\": \"Sue Grafton\", \"marker\": {\"color\": \"#FECB52\"}, \"name\": \"Sue Grafton\", \"offsetgroup\": \"Sue Grafton\", \"orientation\": \"h\", \"showlegend\": true, \"textposition\": \"auto\", \"type\": \"bar\", \"x\": [20], \"xaxis\": \"x\", \"y\": [\"Sue Grafton\"], \"yaxis\": \"y\"}, {\"alignmentgroup\": \"True\", \"hovertemplate\": \"value=%{y}<br>count=%{x}<extra></extra>\", \"legendgroup\": \"John Sandford\", \"marker\": {\"color\": \"#636efa\"}, \"name\": \"John Sandford\", \"offsetgroup\": \"John Sandford\", \"orientation\": \"h\", \"showlegend\": true, \"textposition\": \"auto\", \"type\": \"bar\", \"x\": [20], \"xaxis\": \"x\", \"y\": [\"John Sandford\"], \"yaxis\": \"y\"}, {\"alignmentgroup\": \"True\", \"hovertemplate\": \"value=%{y}<br>count=%{x}<extra></extra>\", \"legendgroup\": \"Anne Rice\", \"marker\": {\"color\": \"#EF553B\"}, \"name\": \"Anne Rice\", \"offsetgroup\": \"Anne Rice\", \"orientation\": \"h\", \"showlegend\": true, \"textposition\": \"auto\", \"type\": \"bar\", \"x\": [21], \"xaxis\": \"x\", \"y\": [\"Anne Rice\"], \"yaxis\": \"y\"}, {\"alignmentgroup\": \"True\", \"hovertemplate\": \"value=%{y}<br>count=%{x}<extra></extra>\", \"legendgroup\": \"Tamora Pierce\", \"marker\": {\"color\": \"#00cc96\"}, \"name\": \"Tamora Pierce\", \"offsetgroup\": \"Tamora Pierce\", \"orientation\": \"h\", \"showlegend\": true, \"textposition\": \"auto\", \"type\": \"bar\", \"x\": [21], \"xaxis\": \"x\", \"y\": [\"Tamora Pierce\"], \"yaxis\": \"y\"}, {\"alignmentgroup\": \"True\", \"hovertemplate\": \"value=%{y}<br>count=%{x}<extra></extra>\", \"legendgroup\": \"Harlan Coben\", \"marker\": {\"color\": \"#ab63fa\"}, \"name\": \"Harlan Coben\", \"offsetgroup\": \"Harlan Coben\", \"orientation\": \"h\", \"showlegend\": true, \"textposition\": \"auto\", \"type\": \"bar\", \"x\": [23], \"xaxis\": \"x\", \"y\": [\"Harlan Coben\"], \"yaxis\": \"y\"}, {\"alignmentgroup\": \"True\", \"hovertemplate\": \"value=%{y}<br>count=%{x}<extra></extra>\", \"legendgroup\": \"Sherrilyn Kenyon\", \"marker\": {\"color\": \"#FFA15A\"}, \"name\": \"Sherrilyn Kenyon\", \"offsetgroup\": \"Sherrilyn Kenyon\", \"orientation\": \"h\", \"showlegend\": true, \"textposition\": \"auto\", \"type\": \"bar\", \"x\": [23], \"xaxis\": \"x\", \"y\": [\"Sherrilyn Kenyon\"], \"yaxis\": \"y\"}, {\"alignmentgroup\": \"True\", \"hovertemplate\": \"value=%{y}<br>count=%{x}<extra></extra>\", \"legendgroup\": \"Jim Butcher\", \"marker\": {\"color\": \"#19d3f3\"}, \"name\": \"Jim Butcher\", \"offsetgroup\": \"Jim Butcher\", \"orientation\": \"h\", \"showlegend\": true, \"textposition\": \"auto\", \"type\": \"bar\", \"x\": [23], \"xaxis\": \"x\", \"y\": [\"Jim Butcher\"], \"yaxis\": \"y\"}, {\"alignmentgroup\": \"True\", \"hovertemplate\": \"value=%{y}<br>count=%{x}<extra></extra>\", \"legendgroup\": \"Patricia Cornwell\", \"marker\": {\"color\": \"#FF6692\"}, \"name\": \"Patricia Cornwell\", \"offsetgroup\": \"Patricia Cornwell\", \"orientation\": \"h\", \"showlegend\": true, \"textposition\": \"auto\", \"type\": \"bar\", \"x\": [23], \"xaxis\": \"x\", \"y\": [\"Patricia Cornwell\"], \"yaxis\": \"y\"}, {\"alignmentgroup\": \"True\", \"hovertemplate\": \"value=%{y}<br>count=%{x}<extra></extra>\", \"legendgroup\": \"John Grisham\", \"marker\": {\"color\": \"#B6E880\"}, \"name\": \"John Grisham\", \"offsetgroup\": \"John Grisham\", \"orientation\": \"h\", \"showlegend\": true, \"textposition\": \"auto\", \"type\": \"bar\", \"x\": [24], \"xaxis\": \"x\", \"y\": [\"John Grisham\"], \"yaxis\": \"y\"}, {\"alignmentgroup\": \"True\", \"hovertemplate\": \"value=%{y}<br>count=%{x}<extra></extra>\", \"legendgroup\": \"Michael Connelly\", \"marker\": {\"color\": \"#FF97FF\"}, \"name\": \"Michael Connelly\", \"offsetgroup\": \"Michael Connelly\", \"orientation\": \"h\", \"showlegend\": true, \"textposition\": \"auto\", \"type\": \"bar\", \"x\": [26], \"xaxis\": \"x\", \"y\": [\"Michael Connelly\"], \"yaxis\": \"y\"}, {\"alignmentgroup\": \"True\", \"hovertemplate\": \"value=%{y}<br>count=%{x}<extra></extra>\", \"legendgroup\": \"Meg Cabot\", \"marker\": {\"color\": \"#FECB52\"}, \"name\": \"Meg Cabot\", \"offsetgroup\": \"Meg Cabot\", \"orientation\": \"h\", \"showlegend\": true, \"textposition\": \"auto\", \"type\": \"bar\", \"x\": [26], \"xaxis\": \"x\", \"y\": [\"Meg Cabot\"], \"yaxis\": \"y\"}, {\"alignmentgroup\": \"True\", \"hovertemplate\": \"value=%{y}<br>count=%{x}<extra></extra>\", \"legendgroup\": \"Janet Evanovich\", \"marker\": {\"color\": \"#636efa\"}, \"name\": \"Janet Evanovich\", \"offsetgroup\": \"Janet Evanovich\", \"orientation\": \"h\", \"showlegend\": true, \"textposition\": \"auto\", \"type\": \"bar\", \"x\": [27], \"xaxis\": \"x\", \"y\": [\"Janet Evanovich\"], \"yaxis\": \"y\"}, {\"alignmentgroup\": \"True\", \"hovertemplate\": \"value=%{y}<br>count=%{x}<extra></extra>\", \"legendgroup\": \"Laurell K. Hamilton\", \"marker\": {\"color\": \"#EF553B\"}, \"name\": \"Laurell K. Hamilton\", \"offsetgroup\": \"Laurell K. Hamilton\", \"orientation\": \"h\", \"showlegend\": true, \"textposition\": \"auto\", \"type\": \"bar\", \"x\": [29], \"xaxis\": \"x\", \"y\": [\"Laurell K. Hamilton\"], \"yaxis\": \"y\"}, {\"alignmentgroup\": \"True\", \"hovertemplate\": \"value=%{y}<br>count=%{x}<extra></extra>\", \"legendgroup\": \"David Baldacci\", \"marker\": {\"color\": \"#00cc96\"}, \"name\": \"David Baldacci\", \"offsetgroup\": \"David Baldacci\", \"orientation\": \"h\", \"showlegend\": true, \"textposition\": \"auto\", \"type\": \"bar\", \"x\": [30], \"xaxis\": \"x\", \"y\": [\"David Baldacci\"], \"yaxis\": \"y\"}, {\"alignmentgroup\": \"True\", \"hovertemplate\": \"value=%{y}<br>count=%{x}<extra></extra>\", \"legendgroup\": \"James Patterson\", \"marker\": {\"color\": \"#ab63fa\"}, \"name\": \"James Patterson\", \"offsetgroup\": \"James Patterson\", \"orientation\": \"h\", \"showlegend\": true, \"textposition\": \"auto\", \"type\": \"bar\", \"x\": [32], \"xaxis\": \"x\", \"y\": [\"James Patterson\"], \"yaxis\": \"y\"}, {\"alignmentgroup\": \"True\", \"hovertemplate\": \"value=%{y}<br>count=%{x}<extra></extra>\", \"legendgroup\": \"J.D. Robb\", \"marker\": {\"color\": \"#FFA15A\"}, \"name\": \"J.D. Robb\", \"offsetgroup\": \"J.D. Robb\", \"orientation\": \"h\", \"showlegend\": true, \"textposition\": \"auto\", \"type\": \"bar\", \"x\": [33], \"xaxis\": \"x\", \"y\": [\"J.D. Robb\"], \"yaxis\": \"y\"}, {\"alignmentgroup\": \"True\", \"hovertemplate\": \"value=%{y}<br>count=%{x}<extra></extra>\", \"legendgroup\": \"Dean Koontz\", \"marker\": {\"color\": \"#19d3f3\"}, \"name\": \"Dean Koontz\", \"offsetgroup\": \"Dean Koontz\", \"orientation\": \"h\", \"showlegend\": true, \"textposition\": \"auto\", \"type\": \"bar\", \"x\": [34], \"xaxis\": \"x\", \"y\": [\"Dean Koontz\"], \"yaxis\": \"y\"}, {\"alignmentgroup\": \"True\", \"hovertemplate\": \"value=%{y}<br>count=%{x}<extra></extra>\", \"legendgroup\": \"Agatha Christie\", \"marker\": {\"color\": \"#FF6692\"}, \"name\": \"Agatha Christie\", \"offsetgroup\": \"Agatha Christie\", \"orientation\": \"h\", \"showlegend\": true, \"textposition\": \"auto\", \"type\": \"bar\", \"x\": [37], \"xaxis\": \"x\", \"y\": [\"Agatha Christie\"], \"yaxis\": \"y\"}, {\"alignmentgroup\": \"True\", \"hovertemplate\": \"value=%{y}<br>count=%{x}<extra></extra>\", \"legendgroup\": \"Terry Pratchett\", \"marker\": {\"color\": \"#B6E880\"}, \"name\": \"Terry Pratchett\", \"offsetgroup\": \"Terry Pratchett\", \"orientation\": \"h\", \"showlegend\": true, \"textposition\": \"auto\", \"type\": \"bar\", \"x\": [38], \"xaxis\": \"x\", \"y\": [\"Terry Pratchett\"], \"yaxis\": \"y\"}, {\"alignmentgroup\": \"True\", \"hovertemplate\": \"value=%{y}<br>count=%{x}<extra></extra>\", \"legendgroup\": \"Stephen King\", \"marker\": {\"color\": \"#FF97FF\"}, \"name\": \"Stephen King\", \"offsetgroup\": \"Stephen King\", \"orientation\": \"h\", \"showlegend\": true, \"textposition\": \"auto\", \"type\": \"bar\", \"x\": [51], \"xaxis\": \"x\", \"y\": [\"Stephen King\"], \"yaxis\": \"y\"}, {\"alignmentgroup\": \"True\", \"hovertemplate\": \"value=%{y}<br>count=%{x}<extra></extra>\", \"legendgroup\": \"Nora Roberts\", \"marker\": {\"color\": \"#FECB52\"}, \"name\": \"Nora Roberts\", \"offsetgroup\": \"Nora Roberts\", \"orientation\": \"h\", \"showlegend\": true, \"textposition\": \"auto\", \"type\": \"bar\", \"x\": [54], \"xaxis\": \"x\", \"y\": [\"Nora Roberts\"], \"yaxis\": \"y\"}],                        {\"barmode\": \"relative\", \"height\": 700, \"legend\": {\"title\": {\"text\": \"value\"}, \"tracegroupgap\": 0}, \"template\": {\"data\": {\"bar\": [{\"error_x\": {\"color\": \"#2a3f5f\"}, \"error_y\": {\"color\": \"#2a3f5f\"}, \"marker\": {\"line\": {\"color\": \"#E5ECF6\", \"width\": 0.5}}, \"type\": \"bar\"}], \"barpolar\": [{\"marker\": {\"line\": {\"color\": \"#E5ECF6\", \"width\": 0.5}}, \"type\": \"barpolar\"}], \"carpet\": [{\"aaxis\": {\"endlinecolor\": \"#2a3f5f\", \"gridcolor\": \"white\", \"linecolor\": \"white\", \"minorgridcolor\": \"white\", \"startlinecolor\": \"#2a3f5f\"}, \"baxis\": {\"endlinecolor\": \"#2a3f5f\", \"gridcolor\": \"white\", \"linecolor\": \"white\", \"minorgridcolor\": \"white\", \"startlinecolor\": \"#2a3f5f\"}, \"type\": \"carpet\"}], \"choropleth\": [{\"colorbar\": {\"outlinewidth\": 0, \"ticks\": \"\"}, \"type\": \"choropleth\"}], \"contour\": [{\"colorbar\": {\"outlinewidth\": 0, \"ticks\": \"\"}, \"colorscale\": [[0.0, \"#0d0887\"], [0.1111111111111111, \"#46039f\"], [0.2222222222222222, \"#7201a8\"], [0.3333333333333333, \"#9c179e\"], [0.4444444444444444, \"#bd3786\"], [0.5555555555555556, \"#d8576b\"], [0.6666666666666666, \"#ed7953\"], [0.7777777777777778, \"#fb9f3a\"], [0.8888888888888888, \"#fdca26\"], [1.0, \"#f0f921\"]], \"type\": \"contour\"}], \"contourcarpet\": [{\"colorbar\": {\"outlinewidth\": 0, \"ticks\": \"\"}, \"type\": \"contourcarpet\"}], \"heatmap\": [{\"colorbar\": {\"outlinewidth\": 0, \"ticks\": \"\"}, \"colorscale\": [[0.0, \"#0d0887\"], [0.1111111111111111, \"#46039f\"], [0.2222222222222222, \"#7201a8\"], [0.3333333333333333, \"#9c179e\"], [0.4444444444444444, \"#bd3786\"], [0.5555555555555556, \"#d8576b\"], [0.6666666666666666, \"#ed7953\"], [0.7777777777777778, \"#fb9f3a\"], [0.8888888888888888, \"#fdca26\"], [1.0, \"#f0f921\"]], \"type\": \"heatmap\"}], \"heatmapgl\": [{\"colorbar\": {\"outlinewidth\": 0, \"ticks\": \"\"}, \"colorscale\": [[0.0, \"#0d0887\"], [0.1111111111111111, \"#46039f\"], [0.2222222222222222, \"#7201a8\"], [0.3333333333333333, \"#9c179e\"], [0.4444444444444444, \"#bd3786\"], [0.5555555555555556, \"#d8576b\"], [0.6666666666666666, \"#ed7953\"], [0.7777777777777778, \"#fb9f3a\"], [0.8888888888888888, \"#fdca26\"], [1.0, \"#f0f921\"]], \"type\": \"heatmapgl\"}], \"histogram\": [{\"marker\": {\"colorbar\": {\"outlinewidth\": 0, \"ticks\": \"\"}}, \"type\": \"histogram\"}], \"histogram2d\": [{\"colorbar\": {\"outlinewidth\": 0, \"ticks\": \"\"}, \"colorscale\": [[0.0, \"#0d0887\"], [0.1111111111111111, \"#46039f\"], [0.2222222222222222, \"#7201a8\"], [0.3333333333333333, \"#9c179e\"], [0.4444444444444444, \"#bd3786\"], [0.5555555555555556, \"#d8576b\"], [0.6666666666666666, \"#ed7953\"], [0.7777777777777778, \"#fb9f3a\"], [0.8888888888888888, \"#fdca26\"], [1.0, \"#f0f921\"]], \"type\": \"histogram2d\"}], \"histogram2dcontour\": [{\"colorbar\": {\"outlinewidth\": 0, \"ticks\": \"\"}, \"colorscale\": [[0.0, \"#0d0887\"], [0.1111111111111111, \"#46039f\"], [0.2222222222222222, \"#7201a8\"], [0.3333333333333333, \"#9c179e\"], [0.4444444444444444, \"#bd3786\"], [0.5555555555555556, \"#d8576b\"], [0.6666666666666666, \"#ed7953\"], [0.7777777777777778, \"#fb9f3a\"], [0.8888888888888888, \"#fdca26\"], [1.0, \"#f0f921\"]], \"type\": \"histogram2dcontour\"}], \"mesh3d\": [{\"colorbar\": {\"outlinewidth\": 0, \"ticks\": \"\"}, \"type\": \"mesh3d\"}], \"parcoords\": [{\"line\": {\"colorbar\": {\"outlinewidth\": 0, \"ticks\": \"\"}}, \"type\": \"parcoords\"}], \"pie\": [{\"automargin\": true, \"type\": \"pie\"}], \"scatter\": [{\"marker\": {\"colorbar\": {\"outlinewidth\": 0, \"ticks\": \"\"}}, \"type\": \"scatter\"}], \"scatter3d\": [{\"line\": {\"colorbar\": {\"outlinewidth\": 0, \"ticks\": \"\"}}, \"marker\": {\"colorbar\": {\"outlinewidth\": 0, \"ticks\": \"\"}}, \"type\": \"scatter3d\"}], \"scattercarpet\": [{\"marker\": {\"colorbar\": {\"outlinewidth\": 0, \"ticks\": \"\"}}, \"type\": \"scattercarpet\"}], \"scattergeo\": [{\"marker\": {\"colorbar\": {\"outlinewidth\": 0, \"ticks\": \"\"}}, \"type\": \"scattergeo\"}], \"scattergl\": [{\"marker\": {\"colorbar\": {\"outlinewidth\": 0, \"ticks\": \"\"}}, \"type\": \"scattergl\"}], \"scattermapbox\": [{\"marker\": {\"colorbar\": {\"outlinewidth\": 0, \"ticks\": \"\"}}, \"type\": \"scattermapbox\"}], \"scatterpolar\": [{\"marker\": {\"colorbar\": {\"outlinewidth\": 0, \"ticks\": \"\"}}, \"type\": \"scatterpolar\"}], \"scatterpolargl\": [{\"marker\": {\"colorbar\": {\"outlinewidth\": 0, \"ticks\": \"\"}}, \"type\": \"scatterpolargl\"}], \"scatterternary\": [{\"marker\": {\"colorbar\": {\"outlinewidth\": 0, \"ticks\": \"\"}}, \"type\": \"scatterternary\"}], \"surface\": [{\"colorbar\": {\"outlinewidth\": 0, \"ticks\": \"\"}, \"colorscale\": [[0.0, \"#0d0887\"], [0.1111111111111111, \"#46039f\"], [0.2222222222222222, \"#7201a8\"], [0.3333333333333333, \"#9c179e\"], [0.4444444444444444, \"#bd3786\"], [0.5555555555555556, \"#d8576b\"], [0.6666666666666666, \"#ed7953\"], [0.7777777777777778, \"#fb9f3a\"], [0.8888888888888888, \"#fdca26\"], [1.0, \"#f0f921\"]], \"type\": \"surface\"}], \"table\": [{\"cells\": {\"fill\": {\"color\": \"#EBF0F8\"}, \"line\": {\"color\": \"white\"}}, \"header\": {\"fill\": {\"color\": \"#C8D4E3\"}, \"line\": {\"color\": \"white\"}}, \"type\": \"table\"}]}, \"layout\": {\"annotationdefaults\": {\"arrowcolor\": \"#2a3f5f\", \"arrowhead\": 0, \"arrowwidth\": 1}, \"coloraxis\": {\"colorbar\": {\"outlinewidth\": 0, \"ticks\": \"\"}}, \"colorscale\": {\"diverging\": [[0, \"#8e0152\"], [0.1, \"#c51b7d\"], [0.2, \"#de77ae\"], [0.3, \"#f1b6da\"], [0.4, \"#fde0ef\"], [0.5, \"#f7f7f7\"], [0.6, \"#e6f5d0\"], [0.7, \"#b8e186\"], [0.8, \"#7fbc41\"], [0.9, \"#4d9221\"], [1, \"#276419\"]], \"sequential\": [[0.0, \"#0d0887\"], [0.1111111111111111, \"#46039f\"], [0.2222222222222222, \"#7201a8\"], [0.3333333333333333, \"#9c179e\"], [0.4444444444444444, \"#bd3786\"], [0.5555555555555556, \"#d8576b\"], [0.6666666666666666, \"#ed7953\"], [0.7777777777777778, \"#fb9f3a\"], [0.8888888888888888, \"#fdca26\"], [1.0, \"#f0f921\"]], \"sequentialminus\": [[0.0, \"#0d0887\"], [0.1111111111111111, \"#46039f\"], [0.2222222222222222, \"#7201a8\"], [0.3333333333333333, \"#9c179e\"], [0.4444444444444444, \"#bd3786\"], [0.5555555555555556, \"#d8576b\"], [0.6666666666666666, \"#ed7953\"], [0.7777777777777778, \"#fb9f3a\"], [0.8888888888888888, \"#fdca26\"], [1.0, \"#f0f921\"]]}, \"colorway\": [\"#636efa\", \"#EF553B\", \"#00cc96\", \"#ab63fa\", \"#FFA15A\", \"#19d3f3\", \"#FF6692\", \"#B6E880\", \"#FF97FF\", \"#FECB52\"], \"font\": {\"color\": \"#2a3f5f\"}, \"geo\": {\"bgcolor\": \"white\", \"lakecolor\": \"white\", \"landcolor\": \"#E5ECF6\", \"showlakes\": true, \"showland\": true, \"subunitcolor\": \"white\"}, \"hoverlabel\": {\"align\": \"left\"}, \"hovermode\": \"closest\", \"mapbox\": {\"style\": \"light\"}, \"paper_bgcolor\": \"white\", \"plot_bgcolor\": \"#E5ECF6\", \"polar\": {\"angularaxis\": {\"gridcolor\": \"white\", \"linecolor\": \"white\", \"ticks\": \"\"}, \"bgcolor\": \"#E5ECF6\", \"radialaxis\": {\"gridcolor\": \"white\", \"linecolor\": \"white\", \"ticks\": \"\"}}, \"scene\": {\"xaxis\": {\"backgroundcolor\": \"#E5ECF6\", \"gridcolor\": \"white\", \"gridwidth\": 2, \"linecolor\": \"white\", \"showbackground\": true, \"ticks\": \"\", \"zerolinecolor\": \"white\"}, \"yaxis\": {\"backgroundcolor\": \"#E5ECF6\", \"gridcolor\": \"white\", \"gridwidth\": 2, \"linecolor\": \"white\", \"showbackground\": true, \"ticks\": \"\", \"zerolinecolor\": \"white\"}, \"zaxis\": {\"backgroundcolor\": \"#E5ECF6\", \"gridcolor\": \"white\", \"gridwidth\": 2, \"linecolor\": \"white\", \"showbackground\": true, \"ticks\": \"\", \"zerolinecolor\": \"white\"}}, \"shapedefaults\": {\"line\": {\"color\": \"#2a3f5f\"}}, \"ternary\": {\"aaxis\": {\"gridcolor\": \"white\", \"linecolor\": \"white\", \"ticks\": \"\"}, \"baxis\": {\"gridcolor\": \"white\", \"linecolor\": \"white\", \"ticks\": \"\"}, \"bgcolor\": \"#E5ECF6\", \"caxis\": {\"gridcolor\": \"white\", \"linecolor\": \"white\", \"ticks\": \"\"}}, \"title\": {\"x\": 0.05}, \"xaxis\": {\"automargin\": true, \"gridcolor\": \"white\", \"linecolor\": \"white\", \"ticks\": \"\", \"title\": {\"standoff\": 15}, \"zerolinecolor\": \"white\", \"zerolinewidth\": 2}, \"yaxis\": {\"automargin\": true, \"gridcolor\": \"white\", \"linecolor\": \"white\", \"ticks\": \"\", \"title\": {\"standoff\": 15}, \"zerolinecolor\": \"white\", \"zerolinewidth\": 2}}}, \"title\": {\"text\": \"Top Authors\"}, \"width\": 1000, \"xaxis\": {\"anchor\": \"y\", \"domain\": [0.0, 1.0], \"title\": {\"text\": \"count\"}}, \"yaxis\": {\"anchor\": \"x\", \"categoryarray\": [\"Nora Roberts\", \"Stephen King\", \"Terry Pratchett\", \"Agatha Christie\", \"Dean Koontz\", \"J.D. Robb\", \"James Patterson\", \"David Baldacci\", \"Laurell K. Hamilton\", \"Janet Evanovich\", \"Meg Cabot\", \"Michael Connelly\", \"John Grisham\", \"Patricia Cornwell\", \"Jim Butcher\", \"Sherrilyn Kenyon\", \"Harlan Coben\", \"Tamora Pierce\", \"Anne Rice\", \"John Sandford\", \"Sue Grafton\", \"Rick Riordan\", \"R.A. Salvatore\", \"Jodi Picoult\", \"Orson Scott Card\", \"Richelle Mead\", \"Charlaine Harris\", \"Lee Child\", \"J.R. Ward\", \"C.S. Lewis\", \"Brandon Sanderson\", \"Dr. Seuss\", \"Nicholas Sparks\", \"Terry Brooks\", \"Robin Hobb\", \"Kurt Vonnegut Jr.\", \"Douglas Preston, Lincoln Child\", \"Isaac Asimov\", \"Karen Marie Moning\", \"Sophie Kinsella\", \"Jeffrey Archer\", \"Ken Follett\", \"Carl Hiaasen\", \"Lisa Gardner\", \"Sidney Sheldon\", \"James Rollins\", \"Lemony Snicket, Brett Helquist\", \"Christopher Moore\", \"Vince Flynn\", \"Bernard Cornwell\"], \"categoryorder\": \"array\", \"domain\": [0.0, 1.0], \"title\": {\"text\": \"value\"}}},                        {\"responsive\": true}                    ).then(function(){\n",
       "                            \n",
       "var gd = document.getElementById('9f773538-40d7-4b32-bf43-b692553e8b93');\n",
       "var x = new MutationObserver(function (mutations, observer) {{\n",
       "        var display = window.getComputedStyle(gd).display;\n",
       "        if (!display || display === 'none') {{\n",
       "            console.log([gd, 'removed!']);\n",
       "            Plotly.purge(gd);\n",
       "            observer.disconnect();\n",
       "        }}\n",
       "}});\n",
       "\n",
       "// Listen for the removal of the full notebook cells\n",
       "var notebookContainer = gd.closest('#notebook-container');\n",
       "if (notebookContainer) {{\n",
       "    x.observe(notebookContainer, {childList: true});\n",
       "}}\n",
       "\n",
       "// Listen for the clearing of the current output cell\n",
       "var outputEl = gd.closest('.output');\n",
       "if (outputEl) {{\n",
       "    x.observe(outputEl, {childList: true});\n",
       "}}\n",
       "\n",
       "                        })                };                });            </script>        </div>"
      ]
     },
     "metadata": {},
     "output_type": "display_data"
    }
   ],
   "source": [
    "top_author_counts = books_data['authors'].value_counts().reset_index()\n",
    "top_author_counts.columns = ['value', 'count']\n",
    "top_author_counts['value'] = top_author_counts['value']\n",
    "top_author_counts = top_author_counts.sort_values('count')\n",
    "fig3 = px.bar(top_author_counts.tail(50), x=\"count\", y=\"value\", title='Top Authors', orientation='h', color='value',\n",
    "             width=1000, height=700)\n",
    "fig3.show()"
   ]
  },
  {
   "cell_type": "code",
   "execution_count": 32,
   "metadata": {},
   "outputs": [
    {
     "data": {
      "text/plain": [
       "'https://plotly.com/~yashaswi2092/9/'"
      ]
     },
     "execution_count": 32,
     "metadata": {},
     "output_type": "execute_result"
    }
   ],
   "source": [
    "#Importing the graph in plotly dashboard\n",
    "py.plot(fig3, filename = 'top_authors', auto_open = True)"
   ]
  },
  {
   "cell_type": "code",
   "execution_count": 33,
   "metadata": {},
   "outputs": [
    {
     "data": {
      "text/plain": [
       "'<iframe id=\"igraph\" scrolling=\"no\" style=\"border:none;\" seamless=\"seamless\" src=\"https://plotly.com/~yashaswi2092/9.embed\" height=\"525\" width=\"100%\"></iframe>'"
      ]
     },
     "execution_count": 33,
     "metadata": {},
     "output_type": "execute_result"
    }
   ],
   "source": [
    "tls.get_embed('https://plotly.com/~yashaswi2092/9/')"
   ]
  },
  {
   "cell_type": "markdown",
   "metadata": {},
   "source": [
    "## Rating Distribution"
   ]
  },
  {
   "cell_type": "code",
   "execution_count": 47,
   "metadata": {},
   "outputs": [
    {
     "data": {
      "application/vnd.plotly.v1+json": {
       "config": {
        "linkText": "Export to plot.ly",
        "plotlyServerURL": "https://plot.ly",
        "showLink": true
       },
       "data": [
        {
         "marker": {
          "color": "rgba(55, 128, 191, 0.6)",
          "line": {
           "color": "rgba(55, 128, 191, 1.0)",
           "width": 1
          }
         },
         "name": "rating",
         "orientation": "v",
         "text": "",
         "type": "bar",
         "x": [
          0,
          8,
          10,
          7,
          9,
          5,
          6,
          4,
          3,
          2,
          1
         ],
         "y": [
          404591,
          55157,
          44943,
          40795,
          36018,
          29765,
          19863,
          4809,
          3233,
          1538,
          1019
         ]
        }
       ],
       "layout": {
        "legend": {
         "bgcolor": "#F5F6F9",
         "font": {
          "color": "#4D5663"
         }
        },
        "paper_bgcolor": "#F5F6F9",
        "plot_bgcolor": "#F5F6F9",
        "template": {
         "data": {
          "bar": [
           {
            "error_x": {
             "color": "#2a3f5f"
            },
            "error_y": {
             "color": "#2a3f5f"
            },
            "marker": {
             "line": {
              "color": "#E5ECF6",
              "width": 0.5
             }
            },
            "type": "bar"
           }
          ],
          "barpolar": [
           {
            "marker": {
             "line": {
              "color": "#E5ECF6",
              "width": 0.5
             }
            },
            "type": "barpolar"
           }
          ],
          "carpet": [
           {
            "aaxis": {
             "endlinecolor": "#2a3f5f",
             "gridcolor": "white",
             "linecolor": "white",
             "minorgridcolor": "white",
             "startlinecolor": "#2a3f5f"
            },
            "baxis": {
             "endlinecolor": "#2a3f5f",
             "gridcolor": "white",
             "linecolor": "white",
             "minorgridcolor": "white",
             "startlinecolor": "#2a3f5f"
            },
            "type": "carpet"
           }
          ],
          "choropleth": [
           {
            "colorbar": {
             "outlinewidth": 0,
             "ticks": ""
            },
            "type": "choropleth"
           }
          ],
          "contour": [
           {
            "colorbar": {
             "outlinewidth": 0,
             "ticks": ""
            },
            "colorscale": [
             [
              0,
              "#0d0887"
             ],
             [
              0.1111111111111111,
              "#46039f"
             ],
             [
              0.2222222222222222,
              "#7201a8"
             ],
             [
              0.3333333333333333,
              "#9c179e"
             ],
             [
              0.4444444444444444,
              "#bd3786"
             ],
             [
              0.5555555555555556,
              "#d8576b"
             ],
             [
              0.6666666666666666,
              "#ed7953"
             ],
             [
              0.7777777777777778,
              "#fb9f3a"
             ],
             [
              0.8888888888888888,
              "#fdca26"
             ],
             [
              1,
              "#f0f921"
             ]
            ],
            "type": "contour"
           }
          ],
          "contourcarpet": [
           {
            "colorbar": {
             "outlinewidth": 0,
             "ticks": ""
            },
            "type": "contourcarpet"
           }
          ],
          "heatmap": [
           {
            "colorbar": {
             "outlinewidth": 0,
             "ticks": ""
            },
            "colorscale": [
             [
              0,
              "#0d0887"
             ],
             [
              0.1111111111111111,
              "#46039f"
             ],
             [
              0.2222222222222222,
              "#7201a8"
             ],
             [
              0.3333333333333333,
              "#9c179e"
             ],
             [
              0.4444444444444444,
              "#bd3786"
             ],
             [
              0.5555555555555556,
              "#d8576b"
             ],
             [
              0.6666666666666666,
              "#ed7953"
             ],
             [
              0.7777777777777778,
              "#fb9f3a"
             ],
             [
              0.8888888888888888,
              "#fdca26"
             ],
             [
              1,
              "#f0f921"
             ]
            ],
            "type": "heatmap"
           }
          ],
          "heatmapgl": [
           {
            "colorbar": {
             "outlinewidth": 0,
             "ticks": ""
            },
            "colorscale": [
             [
              0,
              "#0d0887"
             ],
             [
              0.1111111111111111,
              "#46039f"
             ],
             [
              0.2222222222222222,
              "#7201a8"
             ],
             [
              0.3333333333333333,
              "#9c179e"
             ],
             [
              0.4444444444444444,
              "#bd3786"
             ],
             [
              0.5555555555555556,
              "#d8576b"
             ],
             [
              0.6666666666666666,
              "#ed7953"
             ],
             [
              0.7777777777777778,
              "#fb9f3a"
             ],
             [
              0.8888888888888888,
              "#fdca26"
             ],
             [
              1,
              "#f0f921"
             ]
            ],
            "type": "heatmapgl"
           }
          ],
          "histogram": [
           {
            "marker": {
             "colorbar": {
              "outlinewidth": 0,
              "ticks": ""
             }
            },
            "type": "histogram"
           }
          ],
          "histogram2d": [
           {
            "colorbar": {
             "outlinewidth": 0,
             "ticks": ""
            },
            "colorscale": [
             [
              0,
              "#0d0887"
             ],
             [
              0.1111111111111111,
              "#46039f"
             ],
             [
              0.2222222222222222,
              "#7201a8"
             ],
             [
              0.3333333333333333,
              "#9c179e"
             ],
             [
              0.4444444444444444,
              "#bd3786"
             ],
             [
              0.5555555555555556,
              "#d8576b"
             ],
             [
              0.6666666666666666,
              "#ed7953"
             ],
             [
              0.7777777777777778,
              "#fb9f3a"
             ],
             [
              0.8888888888888888,
              "#fdca26"
             ],
             [
              1,
              "#f0f921"
             ]
            ],
            "type": "histogram2d"
           }
          ],
          "histogram2dcontour": [
           {
            "colorbar": {
             "outlinewidth": 0,
             "ticks": ""
            },
            "colorscale": [
             [
              0,
              "#0d0887"
             ],
             [
              0.1111111111111111,
              "#46039f"
             ],
             [
              0.2222222222222222,
              "#7201a8"
             ],
             [
              0.3333333333333333,
              "#9c179e"
             ],
             [
              0.4444444444444444,
              "#bd3786"
             ],
             [
              0.5555555555555556,
              "#d8576b"
             ],
             [
              0.6666666666666666,
              "#ed7953"
             ],
             [
              0.7777777777777778,
              "#fb9f3a"
             ],
             [
              0.8888888888888888,
              "#fdca26"
             ],
             [
              1,
              "#f0f921"
             ]
            ],
            "type": "histogram2dcontour"
           }
          ],
          "mesh3d": [
           {
            "colorbar": {
             "outlinewidth": 0,
             "ticks": ""
            },
            "type": "mesh3d"
           }
          ],
          "parcoords": [
           {
            "line": {
             "colorbar": {
              "outlinewidth": 0,
              "ticks": ""
             }
            },
            "type": "parcoords"
           }
          ],
          "pie": [
           {
            "automargin": true,
            "type": "pie"
           }
          ],
          "scatter": [
           {
            "marker": {
             "colorbar": {
              "outlinewidth": 0,
              "ticks": ""
             }
            },
            "type": "scatter"
           }
          ],
          "scatter3d": [
           {
            "line": {
             "colorbar": {
              "outlinewidth": 0,
              "ticks": ""
             }
            },
            "marker": {
             "colorbar": {
              "outlinewidth": 0,
              "ticks": ""
             }
            },
            "type": "scatter3d"
           }
          ],
          "scattercarpet": [
           {
            "marker": {
             "colorbar": {
              "outlinewidth": 0,
              "ticks": ""
             }
            },
            "type": "scattercarpet"
           }
          ],
          "scattergeo": [
           {
            "marker": {
             "colorbar": {
              "outlinewidth": 0,
              "ticks": ""
             }
            },
            "type": "scattergeo"
           }
          ],
          "scattergl": [
           {
            "marker": {
             "colorbar": {
              "outlinewidth": 0,
              "ticks": ""
             }
            },
            "type": "scattergl"
           }
          ],
          "scattermapbox": [
           {
            "marker": {
             "colorbar": {
              "outlinewidth": 0,
              "ticks": ""
             }
            },
            "type": "scattermapbox"
           }
          ],
          "scatterpolar": [
           {
            "marker": {
             "colorbar": {
              "outlinewidth": 0,
              "ticks": ""
             }
            },
            "type": "scatterpolar"
           }
          ],
          "scatterpolargl": [
           {
            "marker": {
             "colorbar": {
              "outlinewidth": 0,
              "ticks": ""
             }
            },
            "type": "scatterpolargl"
           }
          ],
          "scatterternary": [
           {
            "marker": {
             "colorbar": {
              "outlinewidth": 0,
              "ticks": ""
             }
            },
            "type": "scatterternary"
           }
          ],
          "surface": [
           {
            "colorbar": {
             "outlinewidth": 0,
             "ticks": ""
            },
            "colorscale": [
             [
              0,
              "#0d0887"
             ],
             [
              0.1111111111111111,
              "#46039f"
             ],
             [
              0.2222222222222222,
              "#7201a8"
             ],
             [
              0.3333333333333333,
              "#9c179e"
             ],
             [
              0.4444444444444444,
              "#bd3786"
             ],
             [
              0.5555555555555556,
              "#d8576b"
             ],
             [
              0.6666666666666666,
              "#ed7953"
             ],
             [
              0.7777777777777778,
              "#fb9f3a"
             ],
             [
              0.8888888888888888,
              "#fdca26"
             ],
             [
              1,
              "#f0f921"
             ]
            ],
            "type": "surface"
           }
          ],
          "table": [
           {
            "cells": {
             "fill": {
              "color": "#EBF0F8"
             },
             "line": {
              "color": "white"
             }
            },
            "header": {
             "fill": {
              "color": "#C8D4E3"
             },
             "line": {
              "color": "white"
             }
            },
            "type": "table"
           }
          ]
         },
         "layout": {
          "annotationdefaults": {
           "arrowcolor": "#2a3f5f",
           "arrowhead": 0,
           "arrowwidth": 1
          },
          "coloraxis": {
           "colorbar": {
            "outlinewidth": 0,
            "ticks": ""
           }
          },
          "colorscale": {
           "diverging": [
            [
             0,
             "#8e0152"
            ],
            [
             0.1,
             "#c51b7d"
            ],
            [
             0.2,
             "#de77ae"
            ],
            [
             0.3,
             "#f1b6da"
            ],
            [
             0.4,
             "#fde0ef"
            ],
            [
             0.5,
             "#f7f7f7"
            ],
            [
             0.6,
             "#e6f5d0"
            ],
            [
             0.7,
             "#b8e186"
            ],
            [
             0.8,
             "#7fbc41"
            ],
            [
             0.9,
             "#4d9221"
            ],
            [
             1,
             "#276419"
            ]
           ],
           "sequential": [
            [
             0,
             "#0d0887"
            ],
            [
             0.1111111111111111,
             "#46039f"
            ],
            [
             0.2222222222222222,
             "#7201a8"
            ],
            [
             0.3333333333333333,
             "#9c179e"
            ],
            [
             0.4444444444444444,
             "#bd3786"
            ],
            [
             0.5555555555555556,
             "#d8576b"
            ],
            [
             0.6666666666666666,
             "#ed7953"
            ],
            [
             0.7777777777777778,
             "#fb9f3a"
            ],
            [
             0.8888888888888888,
             "#fdca26"
            ],
            [
             1,
             "#f0f921"
            ]
           ],
           "sequentialminus": [
            [
             0,
             "#0d0887"
            ],
            [
             0.1111111111111111,
             "#46039f"
            ],
            [
             0.2222222222222222,
             "#7201a8"
            ],
            [
             0.3333333333333333,
             "#9c179e"
            ],
            [
             0.4444444444444444,
             "#bd3786"
            ],
            [
             0.5555555555555556,
             "#d8576b"
            ],
            [
             0.6666666666666666,
             "#ed7953"
            ],
            [
             0.7777777777777778,
             "#fb9f3a"
            ],
            [
             0.8888888888888888,
             "#fdca26"
            ],
            [
             1,
             "#f0f921"
            ]
           ]
          },
          "colorway": [
           "#636efa",
           "#EF553B",
           "#00cc96",
           "#ab63fa",
           "#FFA15A",
           "#19d3f3",
           "#FF6692",
           "#B6E880",
           "#FF97FF",
           "#FECB52"
          ],
          "font": {
           "color": "#2a3f5f"
          },
          "geo": {
           "bgcolor": "white",
           "lakecolor": "white",
           "landcolor": "#E5ECF6",
           "showlakes": true,
           "showland": true,
           "subunitcolor": "white"
          },
          "hoverlabel": {
           "align": "left"
          },
          "hovermode": "closest",
          "mapbox": {
           "style": "light"
          },
          "paper_bgcolor": "white",
          "plot_bgcolor": "#E5ECF6",
          "polar": {
           "angularaxis": {
            "gridcolor": "white",
            "linecolor": "white",
            "ticks": ""
           },
           "bgcolor": "#E5ECF6",
           "radialaxis": {
            "gridcolor": "white",
            "linecolor": "white",
            "ticks": ""
           }
          },
          "scene": {
           "xaxis": {
            "backgroundcolor": "#E5ECF6",
            "gridcolor": "white",
            "gridwidth": 2,
            "linecolor": "white",
            "showbackground": true,
            "ticks": "",
            "zerolinecolor": "white"
           },
           "yaxis": {
            "backgroundcolor": "#E5ECF6",
            "gridcolor": "white",
            "gridwidth": 2,
            "linecolor": "white",
            "showbackground": true,
            "ticks": "",
            "zerolinecolor": "white"
           },
           "zaxis": {
            "backgroundcolor": "#E5ECF6",
            "gridcolor": "white",
            "gridwidth": 2,
            "linecolor": "white",
            "showbackground": true,
            "ticks": "",
            "zerolinecolor": "white"
           }
          },
          "shapedefaults": {
           "line": {
            "color": "#2a3f5f"
           }
          },
          "ternary": {
           "aaxis": {
            "gridcolor": "white",
            "linecolor": "white",
            "ticks": ""
           },
           "baxis": {
            "gridcolor": "white",
            "linecolor": "white",
            "ticks": ""
           },
           "bgcolor": "#E5ECF6",
           "caxis": {
            "gridcolor": "white",
            "linecolor": "white",
            "ticks": ""
           }
          },
          "title": {
           "x": 0.05
          },
          "xaxis": {
           "automargin": true,
           "gridcolor": "white",
           "linecolor": "white",
           "ticks": "",
           "title": {
            "standoff": 15
           },
           "zerolinecolor": "white",
           "zerolinewidth": 2
          },
          "yaxis": {
           "automargin": true,
           "gridcolor": "white",
           "linecolor": "white",
           "ticks": "",
           "title": {
            "standoff": 15
           },
           "zerolinecolor": "white",
           "zerolinewidth": 2
          }
         }
        },
        "title": {
         "font": {
          "color": "#4D5663"
         },
         "text": "Rating Distribution"
        },
        "xaxis": {
         "gridcolor": "#E1E5ED",
         "showgrid": true,
         "tickfont": {
          "color": "#4D5663"
         },
         "title": {
          "font": {
           "color": "#4D5663"
          },
          "text": "Rating"
         },
         "zerolinecolor": "#E1E5ED"
        },
        "yaxis": {
         "gridcolor": "#E1E5ED",
         "showgrid": true,
         "tickfont": {
          "color": "#4D5663"
         },
         "title": {
          "font": {
           "color": "#4D5663"
          },
          "text": "Counts"
         },
         "zerolinecolor": "#E1E5ED"
        }
       }
      },
      "text/html": [
       "<div>                            <div id=\"db1d8bd9-4a30-42c7-9acf-9b654d46d2f5\" class=\"plotly-graph-div\" style=\"height:525px; width:100%;\"></div>            <script type=\"text/javascript\">                require([\"plotly\"], function(Plotly) {                    window.PLOTLYENV=window.PLOTLYENV || {};\n",
       "                    window.PLOTLYENV.BASE_URL='https://plot.ly';                                    if (document.getElementById(\"db1d8bd9-4a30-42c7-9acf-9b654d46d2f5\")) {                    Plotly.newPlot(                        \"db1d8bd9-4a30-42c7-9acf-9b654d46d2f5\",                        [{\"marker\": {\"color\": \"rgba(55, 128, 191, 0.6)\", \"line\": {\"color\": \"rgba(55, 128, 191, 1.0)\", \"width\": 1}}, \"name\": \"rating\", \"orientation\": \"v\", \"text\": \"\", \"type\": \"bar\", \"x\": [0, 8, 10, 7, 9, 5, 6, 4, 3, 2, 1], \"y\": [404591, 55157, 44943, 40795, 36018, 29765, 19863, 4809, 3233, 1538, 1019]}],                        {\"legend\": {\"bgcolor\": \"#F5F6F9\", \"font\": {\"color\": \"#4D5663\"}}, \"paper_bgcolor\": \"#F5F6F9\", \"plot_bgcolor\": \"#F5F6F9\", \"template\": {\"data\": {\"bar\": [{\"error_x\": {\"color\": \"#2a3f5f\"}, \"error_y\": {\"color\": \"#2a3f5f\"}, \"marker\": {\"line\": {\"color\": \"#E5ECF6\", \"width\": 0.5}}, \"type\": \"bar\"}], \"barpolar\": [{\"marker\": {\"line\": {\"color\": \"#E5ECF6\", \"width\": 0.5}}, \"type\": \"barpolar\"}], \"carpet\": [{\"aaxis\": {\"endlinecolor\": \"#2a3f5f\", \"gridcolor\": \"white\", \"linecolor\": \"white\", \"minorgridcolor\": \"white\", \"startlinecolor\": \"#2a3f5f\"}, \"baxis\": {\"endlinecolor\": \"#2a3f5f\", \"gridcolor\": \"white\", \"linecolor\": \"white\", \"minorgridcolor\": \"white\", \"startlinecolor\": \"#2a3f5f\"}, \"type\": \"carpet\"}], \"choropleth\": [{\"colorbar\": {\"outlinewidth\": 0, \"ticks\": \"\"}, \"type\": \"choropleth\"}], \"contour\": [{\"colorbar\": {\"outlinewidth\": 0, \"ticks\": \"\"}, \"colorscale\": [[0.0, \"#0d0887\"], [0.1111111111111111, \"#46039f\"], [0.2222222222222222, \"#7201a8\"], [0.3333333333333333, \"#9c179e\"], [0.4444444444444444, \"#bd3786\"], [0.5555555555555556, \"#d8576b\"], [0.6666666666666666, \"#ed7953\"], [0.7777777777777778, \"#fb9f3a\"], [0.8888888888888888, \"#fdca26\"], [1.0, \"#f0f921\"]], \"type\": \"contour\"}], \"contourcarpet\": [{\"colorbar\": {\"outlinewidth\": 0, \"ticks\": \"\"}, \"type\": \"contourcarpet\"}], \"heatmap\": [{\"colorbar\": {\"outlinewidth\": 0, \"ticks\": \"\"}, \"colorscale\": [[0.0, \"#0d0887\"], [0.1111111111111111, \"#46039f\"], [0.2222222222222222, \"#7201a8\"], [0.3333333333333333, \"#9c179e\"], [0.4444444444444444, \"#bd3786\"], [0.5555555555555556, \"#d8576b\"], [0.6666666666666666, \"#ed7953\"], [0.7777777777777778, \"#fb9f3a\"], [0.8888888888888888, \"#fdca26\"], [1.0, \"#f0f921\"]], \"type\": \"heatmap\"}], \"heatmapgl\": [{\"colorbar\": {\"outlinewidth\": 0, \"ticks\": \"\"}, \"colorscale\": [[0.0, \"#0d0887\"], [0.1111111111111111, \"#46039f\"], [0.2222222222222222, \"#7201a8\"], [0.3333333333333333, \"#9c179e\"], [0.4444444444444444, \"#bd3786\"], [0.5555555555555556, \"#d8576b\"], [0.6666666666666666, \"#ed7953\"], [0.7777777777777778, \"#fb9f3a\"], [0.8888888888888888, \"#fdca26\"], [1.0, \"#f0f921\"]], \"type\": \"heatmapgl\"}], \"histogram\": [{\"marker\": {\"colorbar\": {\"outlinewidth\": 0, \"ticks\": \"\"}}, \"type\": \"histogram\"}], \"histogram2d\": [{\"colorbar\": {\"outlinewidth\": 0, \"ticks\": \"\"}, \"colorscale\": [[0.0, \"#0d0887\"], [0.1111111111111111, \"#46039f\"], [0.2222222222222222, \"#7201a8\"], [0.3333333333333333, \"#9c179e\"], [0.4444444444444444, \"#bd3786\"], [0.5555555555555556, \"#d8576b\"], [0.6666666666666666, \"#ed7953\"], [0.7777777777777778, \"#fb9f3a\"], [0.8888888888888888, \"#fdca26\"], [1.0, \"#f0f921\"]], \"type\": \"histogram2d\"}], \"histogram2dcontour\": [{\"colorbar\": {\"outlinewidth\": 0, \"ticks\": \"\"}, \"colorscale\": [[0.0, \"#0d0887\"], [0.1111111111111111, \"#46039f\"], [0.2222222222222222, \"#7201a8\"], [0.3333333333333333, \"#9c179e\"], [0.4444444444444444, \"#bd3786\"], [0.5555555555555556, \"#d8576b\"], [0.6666666666666666, \"#ed7953\"], [0.7777777777777778, \"#fb9f3a\"], [0.8888888888888888, \"#fdca26\"], [1.0, \"#f0f921\"]], \"type\": \"histogram2dcontour\"}], \"mesh3d\": [{\"colorbar\": {\"outlinewidth\": 0, \"ticks\": \"\"}, \"type\": \"mesh3d\"}], \"parcoords\": [{\"line\": {\"colorbar\": {\"outlinewidth\": 0, \"ticks\": \"\"}}, \"type\": \"parcoords\"}], \"pie\": [{\"automargin\": true, \"type\": \"pie\"}], \"scatter\": [{\"marker\": {\"colorbar\": {\"outlinewidth\": 0, \"ticks\": \"\"}}, \"type\": \"scatter\"}], \"scatter3d\": [{\"line\": {\"colorbar\": {\"outlinewidth\": 0, \"ticks\": \"\"}}, \"marker\": {\"colorbar\": {\"outlinewidth\": 0, \"ticks\": \"\"}}, \"type\": \"scatter3d\"}], \"scattercarpet\": [{\"marker\": {\"colorbar\": {\"outlinewidth\": 0, \"ticks\": \"\"}}, \"type\": \"scattercarpet\"}], \"scattergeo\": [{\"marker\": {\"colorbar\": {\"outlinewidth\": 0, \"ticks\": \"\"}}, \"type\": \"scattergeo\"}], \"scattergl\": [{\"marker\": {\"colorbar\": {\"outlinewidth\": 0, \"ticks\": \"\"}}, \"type\": \"scattergl\"}], \"scattermapbox\": [{\"marker\": {\"colorbar\": {\"outlinewidth\": 0, \"ticks\": \"\"}}, \"type\": \"scattermapbox\"}], \"scatterpolar\": [{\"marker\": {\"colorbar\": {\"outlinewidth\": 0, \"ticks\": \"\"}}, \"type\": \"scatterpolar\"}], \"scatterpolargl\": [{\"marker\": {\"colorbar\": {\"outlinewidth\": 0, \"ticks\": \"\"}}, \"type\": \"scatterpolargl\"}], \"scatterternary\": [{\"marker\": {\"colorbar\": {\"outlinewidth\": 0, \"ticks\": \"\"}}, \"type\": \"scatterternary\"}], \"surface\": [{\"colorbar\": {\"outlinewidth\": 0, \"ticks\": \"\"}, \"colorscale\": [[0.0, \"#0d0887\"], [0.1111111111111111, \"#46039f\"], [0.2222222222222222, \"#7201a8\"], [0.3333333333333333, \"#9c179e\"], [0.4444444444444444, \"#bd3786\"], [0.5555555555555556, \"#d8576b\"], [0.6666666666666666, \"#ed7953\"], [0.7777777777777778, \"#fb9f3a\"], [0.8888888888888888, \"#fdca26\"], [1.0, \"#f0f921\"]], \"type\": \"surface\"}], \"table\": [{\"cells\": {\"fill\": {\"color\": \"#EBF0F8\"}, \"line\": {\"color\": \"white\"}}, \"header\": {\"fill\": {\"color\": \"#C8D4E3\"}, \"line\": {\"color\": \"white\"}}, \"type\": \"table\"}]}, \"layout\": {\"annotationdefaults\": {\"arrowcolor\": \"#2a3f5f\", \"arrowhead\": 0, \"arrowwidth\": 1}, \"coloraxis\": {\"colorbar\": {\"outlinewidth\": 0, \"ticks\": \"\"}}, \"colorscale\": {\"diverging\": [[0, \"#8e0152\"], [0.1, \"#c51b7d\"], [0.2, \"#de77ae\"], [0.3, \"#f1b6da\"], [0.4, \"#fde0ef\"], [0.5, \"#f7f7f7\"], [0.6, \"#e6f5d0\"], [0.7, \"#b8e186\"], [0.8, \"#7fbc41\"], [0.9, \"#4d9221\"], [1, \"#276419\"]], \"sequential\": [[0.0, \"#0d0887\"], [0.1111111111111111, \"#46039f\"], [0.2222222222222222, \"#7201a8\"], [0.3333333333333333, \"#9c179e\"], [0.4444444444444444, \"#bd3786\"], [0.5555555555555556, \"#d8576b\"], [0.6666666666666666, \"#ed7953\"], [0.7777777777777778, \"#fb9f3a\"], [0.8888888888888888, \"#fdca26\"], [1.0, \"#f0f921\"]], \"sequentialminus\": [[0.0, \"#0d0887\"], [0.1111111111111111, \"#46039f\"], [0.2222222222222222, \"#7201a8\"], [0.3333333333333333, \"#9c179e\"], [0.4444444444444444, \"#bd3786\"], [0.5555555555555556, \"#d8576b\"], [0.6666666666666666, \"#ed7953\"], [0.7777777777777778, \"#fb9f3a\"], [0.8888888888888888, \"#fdca26\"], [1.0, \"#f0f921\"]]}, \"colorway\": [\"#636efa\", \"#EF553B\", \"#00cc96\", \"#ab63fa\", \"#FFA15A\", \"#19d3f3\", \"#FF6692\", \"#B6E880\", \"#FF97FF\", \"#FECB52\"], \"font\": {\"color\": \"#2a3f5f\"}, \"geo\": {\"bgcolor\": \"white\", \"lakecolor\": \"white\", \"landcolor\": \"#E5ECF6\", \"showlakes\": true, \"showland\": true, \"subunitcolor\": \"white\"}, \"hoverlabel\": {\"align\": \"left\"}, \"hovermode\": \"closest\", \"mapbox\": {\"style\": \"light\"}, \"paper_bgcolor\": \"white\", \"plot_bgcolor\": \"#E5ECF6\", \"polar\": {\"angularaxis\": {\"gridcolor\": \"white\", \"linecolor\": \"white\", \"ticks\": \"\"}, \"bgcolor\": \"#E5ECF6\", \"radialaxis\": {\"gridcolor\": \"white\", \"linecolor\": \"white\", \"ticks\": \"\"}}, \"scene\": {\"xaxis\": {\"backgroundcolor\": \"#E5ECF6\", \"gridcolor\": \"white\", \"gridwidth\": 2, \"linecolor\": \"white\", \"showbackground\": true, \"ticks\": \"\", \"zerolinecolor\": \"white\"}, \"yaxis\": {\"backgroundcolor\": \"#E5ECF6\", \"gridcolor\": \"white\", \"gridwidth\": 2, \"linecolor\": \"white\", \"showbackground\": true, \"ticks\": \"\", \"zerolinecolor\": \"white\"}, \"zaxis\": {\"backgroundcolor\": \"#E5ECF6\", \"gridcolor\": \"white\", \"gridwidth\": 2, \"linecolor\": \"white\", \"showbackground\": true, \"ticks\": \"\", \"zerolinecolor\": \"white\"}}, \"shapedefaults\": {\"line\": {\"color\": \"#2a3f5f\"}}, \"ternary\": {\"aaxis\": {\"gridcolor\": \"white\", \"linecolor\": \"white\", \"ticks\": \"\"}, \"baxis\": {\"gridcolor\": \"white\", \"linecolor\": \"white\", \"ticks\": \"\"}, \"bgcolor\": \"#E5ECF6\", \"caxis\": {\"gridcolor\": \"white\", \"linecolor\": \"white\", \"ticks\": \"\"}}, \"title\": {\"x\": 0.05}, \"xaxis\": {\"automargin\": true, \"gridcolor\": \"white\", \"linecolor\": \"white\", \"ticks\": \"\", \"title\": {\"standoff\": 15}, \"zerolinecolor\": \"white\", \"zerolinewidth\": 2}, \"yaxis\": {\"automargin\": true, \"gridcolor\": \"white\", \"linecolor\": \"white\", \"ticks\": \"\", \"title\": {\"standoff\": 15}, \"zerolinecolor\": \"white\", \"zerolinewidth\": 2}}}, \"title\": {\"font\": {\"color\": \"#4D5663\"}, \"text\": \"Rating Distribution\"}, \"xaxis\": {\"gridcolor\": \"#E1E5ED\", \"showgrid\": true, \"tickfont\": {\"color\": \"#4D5663\"}, \"title\": {\"font\": {\"color\": \"#4D5663\"}, \"text\": \"Rating\"}, \"zerolinecolor\": \"#E1E5ED\"}, \"yaxis\": {\"gridcolor\": \"#E1E5ED\", \"showgrid\": true, \"tickfont\": {\"color\": \"#4D5663\"}, \"title\": {\"font\": {\"color\": \"#4D5663\"}, \"text\": \"Counts\"}, \"zerolinecolor\": \"#E1E5ED\"}},                        {\"showLink\": true, \"linkText\": \"Export to plot.ly\", \"plotlyServerURL\": \"https://plot.ly\", \"responsive\": true}                    ).then(function(){\n",
       "                            \n",
       "var gd = document.getElementById('db1d8bd9-4a30-42c7-9acf-9b654d46d2f5');\n",
       "var x = new MutationObserver(function (mutations, observer) {{\n",
       "        var display = window.getComputedStyle(gd).display;\n",
       "        if (!display || display === 'none') {{\n",
       "            console.log([gd, 'removed!']);\n",
       "            Plotly.purge(gd);\n",
       "            observer.disconnect();\n",
       "        }}\n",
       "}});\n",
       "\n",
       "// Listen for the removal of the full notebook cells\n",
       "var notebookContainer = gd.closest('#notebook-container');\n",
       "if (notebookContainer) {{\n",
       "    x.observe(notebookContainer, {childList: true});\n",
       "}}\n",
       "\n",
       "// Listen for the clearing of the current output cell\n",
       "var outputEl = gd.closest('.output');\n",
       "if (outputEl) {{\n",
       "    x.observe(outputEl, {childList: true});\n",
       "}}\n",
       "\n",
       "                        })                };                });            </script>        </div>"
      ]
     },
     "metadata": {},
     "output_type": "display_data"
    }
   ],
   "source": [
    "merge_data['rating'].value_counts().iplot(kind='bar',\n",
    "                                         xTitle='Rating',\n",
    "                                         yTitle='Counts',\n",
    "                                         title='Rating Distribution',\n",
    "                                         color='blue')\n"
   ]
  },
  {
   "cell_type": "markdown",
   "metadata": {},
   "source": [
    "## WordClouds"
   ]
  },
  {
   "cell_type": "code",
   "execution_count": 38,
   "metadata": {},
   "outputs": [],
   "source": [
    "stop_words=set(STOPWORDS)\n",
    "author_string = \" \".join(books_data['authors'])\n",
    "title_string = \" \".join(books_data['original_title'])\n",
    "cross_author_string = \" \".join(merge_data['book_author'].astype(str))\n",
    "cross_title_string = \" \".join(merge_data['book_title'].astype(str))\n",
    "cross_publisher_string = \" \".join(merge_data['publisher'].astype(str))"
   ]
  },
  {
   "cell_type": "code",
   "execution_count": 39,
   "metadata": {},
   "outputs": [
    {
     "data": {
      "image/png": "[encoded data removed]",
      "text/plain": [
       "<Figure size 1152x576 with 1 Axes>"
      ]
     },
     "metadata": {
      "needs_background": "light"
     },
     "output_type": "display_data"
    }
   ],
   "source": [
    "def wordcloud(string):\n",
    "    wc = WordCloud(width=800,height=500,mask=None,random_state=21, max_font_size=110,stopwords=stop_words).generate(string)\n",
    "    fig=plt.figure(figsize=(16,8))\n",
    "    plt.axis('off')\n",
    "    plt.imshow(wc)\n",
    "\n",
    "fig6 = wordcloud(title_string)"
   ]
  },
  {
   "cell_type": "code",
   "execution_count": 41,
   "metadata": {},
   "outputs": [
    {
     "ename": "PlotlyError",
     "evalue": "The `figure_or_data` positional argument must be `dict`-like, `list`-like, or an instance of plotly.graph_objs.Figure",
     "output_type": "error",
     "traceback": [
      "\u001b[1;31m---------------------------------------------------------------------------\u001b[0m",
      "\u001b[1;31mPlotlyError\u001b[0m                               Traceback (most recent call last)",
      "\u001b[1;32m<ipython-input-41-0446ec27a430>\u001b[0m in \u001b[0;36m<module>\u001b[1;34m\u001b[0m\n\u001b[0;32m      1\u001b[0m \u001b[1;31m#Importing the graph in plotly dashboard\u001b[0m\u001b[1;33m\u001b[0m\u001b[1;33m\u001b[0m\u001b[1;33m\u001b[0m\u001b[0m\n\u001b[1;32m----> 2\u001b[1;33m \u001b[0mpy\u001b[0m\u001b[1;33m.\u001b[0m\u001b[0mplot\u001b[0m\u001b[1;33m(\u001b[0m\u001b[0mfig6\u001b[0m\u001b[1;33m,\u001b[0m \u001b[0mfilename\u001b[0m \u001b[1;33m=\u001b[0m \u001b[1;34m'top_words'\u001b[0m\u001b[1;33m,\u001b[0m \u001b[0mauto_open\u001b[0m \u001b[1;33m=\u001b[0m \u001b[1;32mTrue\u001b[0m\u001b[1;33m)\u001b[0m\u001b[1;33m\u001b[0m\u001b[1;33m\u001b[0m\u001b[0m\n\u001b[0m",
      "\u001b[1;32m~\\Anaconda3\\lib\\site-packages\\chart_studio\\plotly\\plotly.py\u001b[0m in \u001b[0;36mplot\u001b[1;34m(figure_or_data, validate, **plot_options)\u001b[0m\n\u001b[0;32m    195\u001b[0m     \u001b[1;32mimport\u001b[0m \u001b[0mplotly\u001b[0m\u001b[1;33m.\u001b[0m\u001b[0mtools\u001b[0m\u001b[1;33m\u001b[0m\u001b[1;33m\u001b[0m\u001b[0m\n\u001b[0;32m    196\u001b[0m \u001b[1;33m\u001b[0m\u001b[0m\n\u001b[1;32m--> 197\u001b[1;33m     \u001b[0mfigure\u001b[0m \u001b[1;33m=\u001b[0m \u001b[0mplotly\u001b[0m\u001b[1;33m.\u001b[0m\u001b[0mtools\u001b[0m\u001b[1;33m.\u001b[0m\u001b[0mreturn_figure_from_figure_or_data\u001b[0m\u001b[1;33m(\u001b[0m\u001b[0mfigure_or_data\u001b[0m\u001b[1;33m,\u001b[0m \u001b[0mvalidate\u001b[0m\u001b[1;33m)\u001b[0m\u001b[1;33m\u001b[0m\u001b[1;33m\u001b[0m\u001b[0m\n\u001b[0m\u001b[0;32m    198\u001b[0m     \u001b[1;32mfor\u001b[0m \u001b[0mentry\u001b[0m \u001b[1;32min\u001b[0m \u001b[0mfigure\u001b[0m\u001b[1;33m[\u001b[0m\u001b[1;34m\"data\"\u001b[0m\u001b[1;33m]\u001b[0m\u001b[1;33m:\u001b[0m\u001b[1;33m\u001b[0m\u001b[1;33m\u001b[0m\u001b[0m\n\u001b[0;32m    199\u001b[0m         \u001b[1;32mif\u001b[0m \u001b[1;33m(\u001b[0m\u001b[1;34m\"type\"\u001b[0m \u001b[1;32min\u001b[0m \u001b[0mentry\u001b[0m\u001b[1;33m)\u001b[0m \u001b[1;32mand\u001b[0m \u001b[1;33m(\u001b[0m\u001b[0mentry\u001b[0m\u001b[1;33m[\u001b[0m\u001b[1;34m\"type\"\u001b[0m\u001b[1;33m]\u001b[0m \u001b[1;33m==\u001b[0m \u001b[1;34m\"scattergl\"\u001b[0m\u001b[1;33m)\u001b[0m\u001b[1;33m:\u001b[0m\u001b[1;33m\u001b[0m\u001b[1;33m\u001b[0m\u001b[0m\n",
      "\u001b[1;32m~\\Anaconda3\\lib\\site-packages\\plotly\\tools.py\u001b[0m in \u001b[0;36mreturn_figure_from_figure_or_data\u001b[1;34m(figure_or_data, validate_figure)\u001b[0m\n\u001b[0;32m    543\u001b[0m     \u001b[1;32melse\u001b[0m\u001b[1;33m:\u001b[0m\u001b[1;33m\u001b[0m\u001b[1;33m\u001b[0m\u001b[0m\n\u001b[0;32m    544\u001b[0m         raise exceptions.PlotlyError(\n\u001b[1;32m--> 545\u001b[1;33m             \u001b[1;34m\"The `figure_or_data` positional \"\u001b[0m\u001b[1;33m\u001b[0m\u001b[1;33m\u001b[0m\u001b[0m\n\u001b[0m\u001b[0;32m    546\u001b[0m             \u001b[1;34m\"argument must be \"\u001b[0m\u001b[1;33m\u001b[0m\u001b[1;33m\u001b[0m\u001b[0m\n\u001b[0;32m    547\u001b[0m             \u001b[1;34m\"`dict`-like, `list`-like, or an instance of plotly.graph_objs.Figure\"\u001b[0m\u001b[1;33m\u001b[0m\u001b[1;33m\u001b[0m\u001b[0m\n",
      "\u001b[1;31mPlotlyError\u001b[0m: The `figure_or_data` positional argument must be `dict`-like, `list`-like, or an instance of plotly.graph_objs.Figure"
     ]
    }
   ],
   "source": [
    "#Importing the graph in plotly dashboard\n",
    "py.plot(fig6, filename = 'top_words', auto_open = True)"
   ]
  },
  {
   "cell_type": "code",
   "execution_count": null,
   "metadata": {},
   "outputs": [],
   "source": []
  }
 ],
 "metadata": {
  "kernelspec": {
   "display_name": "Python 3",
   "language": "python",
   "name": "python3"
  },
  "language_info": {
   "codemirror_mode": {
    "name": "ipython",
    "version": 3
   },
   "file_extension": ".py",
   "mimetype": "text/x-python",
   "name": "python",
   "nbconvert_exporter": "python",
   "pygments_lexer": "ipython3",
   "version": "3.7.4"
  }
 },
 "nbformat": 4,
 "nbformat_minor": 2
}
